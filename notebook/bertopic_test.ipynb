{
 "cells": [
  {
   "cell_type": "code",
   "execution_count": 4,
   "metadata": {
    "collapsed": true,
    "ExecuteTime": {
     "end_time": "2023-06-04T17:16:51.401292400Z",
     "start_time": "2023-06-04T17:16:50.918293Z"
    }
   },
   "outputs": [
    {
     "name": "stdout",
     "output_type": "stream",
     "text": [
      "['a concept of multi valued cognitive maps is introduced in this paper the concept expands the fuzzy one however all variables and weights are not linearly ordered in the concept but are only partially ordered such an approach allows us to operate in cognitive maps with partially ordered linguistic variables directly without vague fuzzification defuzzification methods hence we may consider more subtle differences in degrees of experts uncertainty than in the fuzzy case we prove the convergence of such cognitive maps and give two simple computational examples which demonstrate using such a partially ordered uncertainty degree scale compared to the fuzzy case'\n",
      " 'in this paper we investigate the fixed time synchronization for fuzzy inertial neural networks with time varying coefficients and time delays the fuzzy inertial neural networks are transformed into two forms of first order differential systems and then two kinds of different controllers of time variable are designed in these schemes a series of novel criteria are proposed to ensure the fixed time synchronization for the drive response fuzzy inertial neural networks via state feedback control methods sufficient conditions of delay dependent and delay independent are obtained in terms of algebraic inequalities not the matrix inequalities moreover these new criteria allow the derivative of the lyapunov function can be positive but not negative definite as the earlier work and the algebraic conditions become easy to be tested under the new criteria finally two examples are added to illustrate effectiveness of the results we obtained meanwhile a new image encryption algorithm is proposed based on the synchronization of drive response networks and the effectiveness of this algorithm is also demonstrated'\n",
      " 'for most bayesian inference problems that are of interest solving for the model parameter posterior probability distribution remains to be the main challenge a typical technique entails using markov chain monte carlo mcmc in order to obtain an approximation of the posterior distribution however one drawback of mcmc is that it usually requires solving the forward problem multiple times which could be infeasible if the forward model is computationally expensive in this paper a computationally cheap surrogate model is developed using the adaptive neuro fuzzy inference system with a fuzzy c means initialization anfis fcm the optimal number of fuzzy rules is chosen via a proposed algorithm based on the pairing frequency clustering validity index the effectiveness of the anfis fcm model is tested on inferring reaction rate parameters in a node network toy problem which mimics idealized combustion reaction networks using multiple error measures it is shown that the developed anfis fcm model is capable of constructing accurate surrogate models at a minimal computational cost'\n",
      " ...\n",
      " 'in the recent past numerous models and methods have been suggested to solve the vectormaximum problem most of these approaches center their attention on linear programming problems with several objective functions apart from these approaches the theory of fuzzy sets has been employed to formulate and solve fuzzy linear programming problems this paper presents the application of fuzzy linear programming approaches to the linear vectormaximum problem it shows that solutions obtained by fuzzy linear programming are always efficient solutions it also shows the consequences of using different ways of combining individual objective functions in order to determine an optimal compromise solution'\n",
      " 'the complexity of experience acquired through our senses and as interpreted by our mind is fuzzy and must remain so as long as the meaning of things change as they are embedded in larger or different contexts to relate them to new ideas and new experiences here we give a method for measuring the relativity of fuzziness by structuring the functions of a system hierarchically in a multiple objective framework the method is based on computing the principal eigenvector of a positive matrix with reciprocal entries i e aji aij the eigenvector provides an estimate for an assumed underlying ratio scale for a single property the scale provides a measure of the grade of membership of elements in a fuzzy set according to that property and the departure of the eigenvalue from the dimension of the matrix serves as a measure of departure from consistency for a number of properties the principle of hierarchical composition enables us to compose the eigenvectors into a priority vector which measures the fuzziness of the elements in the lowest level of the hierarchy with respect to the relative dominance of the purposes or properties represented in the hierarchy'\n",
      " 'when r is a fuzzy relation between the elements of a finite set x the fuzzy subsets a of x such that r a a max min composition are called eigen fuzzy sets in this paper we describe algorithms for the determination of the greatest eigen fuzzy set associated with a given fuzzy relation thinking of medical diagnosis applications']\n"
     ]
    }
   ],
   "source": [
    "import re\n",
    "import pandas as pd\n",
    "import numpy as np\n",
    "\n",
    "# Prepare data\n",
    "trump = pd.read_csv('dataset\\\\fsas\\\\fsas_full_utf8_dated.csv')\n",
    "trump.abstract = trump.apply(lambda row: re.sub(r\"http\\S+\", \"\", row.abstract).lower(), 1)\n",
    "trump.abstract = trump.apply(lambda row: \" \".join(filter(lambda x: x[0] != \"@\", row.abstract.split())), 1)\n",
    "trump.abstract = trump.apply(lambda row: \" \".join(re.sub(\"[^a-zA-Z]+\", \" \", row.abstract).split()), 1)\n",
    "# trump = trump.loc[(trump.isRetweet == \"f\") & (trump.abstract != \"\"), :]\n",
    "timestamps = trump.date.to_list()\n",
    "abstracts = trump.abstract.to_list()\n",
    "\n",
    "arr_multi = np.array(abstracts)\n",
    "print(arr_multi)"
   ]
  },
  {
   "cell_type": "code",
   "execution_count": 5,
   "outputs": [
    {
     "data": {
      "text/plain": "Batches:   0%|          | 0/269 [00:00<?, ?it/s]",
      "application/vnd.jupyter.widget-view+json": {
       "version_major": 2,
       "version_minor": 0,
       "model_id": "71e3fedd8d99456c9f871aac33fb1374"
      }
     },
     "metadata": {},
     "output_type": "display_data"
    },
    {
     "name": "stderr",
     "output_type": "stream",
     "text": [
      "2023-06-05 02:18:45,622 - BERTopic - Transformed documents to Embeddings\n",
      "2023-06-05 02:18:52,199 - BERTopic - Reduced dimensionality\n",
      "2023-06-05 02:18:52,394 - BERTopic - Clustered reduced embeddings\n"
     ]
    }
   ],
   "source": [
    "from bertopic import BERTopic\n",
    "\n",
    "topic_model = BERTopic(verbose=True)\n",
    "topics, probs = topic_model.fit_transform(abstracts)"
   ],
   "metadata": {
    "collapsed": false,
    "ExecuteTime": {
     "end_time": "2023-06-04T17:18:53.351292200Z",
     "start_time": "2023-06-04T17:16:51.402792600Z"
    }
   }
  },
  {
   "cell_type": "code",
   "execution_count": 6,
   "outputs": [
    {
     "name": "stderr",
     "output_type": "stream",
     "text": [
      "20it [00:02,  9.12it/s]\n"
     ]
    }
   ],
   "source": [
    "topics_over_time = topic_model.topics_over_time(abstracts, timestamps, nr_bins=20)"
   ],
   "metadata": {
    "collapsed": false,
    "ExecuteTime": {
     "end_time": "2023-06-04T17:18:55.674292300Z",
     "start_time": "2023-06-04T17:18:53.351292200Z"
    }
   }
  },
  {
   "cell_type": "code",
   "execution_count": 8,
   "outputs": [
    {
     "data": {
      "application/vnd.plotly.v1+json": {
       "data": [
        {
         "hoverinfo": "text",
         "hovertext": [
          "<b>Topic 0</b><br>Words: decision, team, alternatives, preference, nondominated",
          "<b>Topic 0</b><br>Words: preference, alternatives, decision, relations, leadership",
          "<b>Topic 0</b><br>Words: choice, decision, criteria, stresses, preference",
          "<b>Topic 0</b><br>Words: alternatives, preference, decision, making, utilities",
          "<b>Topic 0</b><br>Words: alternatives, decision, preference, utility, making",
          "<b>Topic 0</b><br>Words: choice, choices, nondomination, cim, decision",
          "<b>Topic 0</b><br>Words: preference, decision, social, choice, alternatives",
          "<b>Topic 0</b><br>Words: preference, decision, alternatives, rationality, criteria",
          "<b>Topic 0</b><br>Words: preference, decision, ranking, alternatives, making",
          "<b>Topic 0</b><br>Words: preference, decision, alternatives, ranking, making",
          "<b>Topic 0</b><br>Words: preference, decision, alternatives, making, choice",
          "<b>Topic 0</b><br>Words: voter, preference, majority, inexact, decision",
          "<b>Topic 0</b><br>Words: preference, transitivity, decision, alternatives, madm",
          "<b>Topic 0</b><br>Words: preference, decision, linguistic, choice, owa",
          "<b>Topic 0</b><br>Words: reciprocal, transitivity, monotonicity, choice, monotone",
          "<b>Topic 0</b><br>Words: preference, reciprocal, consistency, relations, consensus",
          "<b>Topic 0</b><br>Words: preference, reciprocal, decision, consensus, consistency",
          "<b>Topic 0</b><br>Words: consistency, preference, decision, ranking, reciprocal",
          "<b>Topic 0</b><br>Words: preference, decision, bilateral, consistency, alternatives",
          "<b>Topic 0</b><br>Words: preference, consistency, decision, alternatives, reciprocal"
         ],
         "marker": {
          "color": "#E69F00"
         },
         "mode": "lines",
         "name": "0_preference_decision_alternatives_makin...",
         "x": [
          "1977-12-15T10:39:21.600000",
          "1980-04-07T19:12:00",
          "1982-07-14T14:24:00",
          "1984-10-19T09:36:00",
          "1987-01-25T04:48:00",
          "1989-05-02T00:00:00",
          "1991-08-07T19:12:00",
          "1993-11-12T14:24:00",
          "1996-02-18T09:36:00",
          "1998-05-26T04:48:00",
          "2000-08-31T00:00:00",
          "2002-12-06T19:12:00",
          "2005-03-13T14:24:00",
          "2007-06-19T09:36:00",
          "2009-09-24T04:48:00",
          "2011-12-31T00:00:00",
          "2014-04-06T19:12:00",
          "2016-07-12T14:24:00",
          "2018-10-18T09:36:00",
          "2021-01-23T04:48:00"
         ],
         "y": [
          9,
          12,
          9,
          15,
          18,
          7,
          26,
          32,
          33,
          31,
          33,
          15,
          19,
          12,
          4,
          11,
          22,
          15,
          12,
          22
         ],
         "type": "scatter"
        },
        {
         "hoverinfo": "text",
         "hovertext": [
          "<b>Topic 1</b><br>Words: possibility, probability, conditional, distribution, possibilities",
          "<b>Topic 1</b><br>Words: probability, measure, possibility, postulate, complement",
          "<b>Topic 1</b><br>Words: probability, possibility, probabilistic, certainty, measures",
          "<b>Topic 1</b><br>Words: probability, possibility, measure, events, certainty",
          "<b>Topic 1</b><br>Words: possibility, probability, events, measure, measures",
          "<b>Topic 1</b><br>Words: possibility, measures, probability, measure, complement",
          "<b>Topic 1</b><br>Words: possibility, probability, measures, measure, events",
          "<b>Topic 1</b><br>Words: uncertainty, possibility, fcds, conditional, scale",
          "<b>Topic 1</b><br>Words: possibility, probability, events, measure, probabilities",
          "<b>Topic 1</b><br>Words: possibility, conditional, conditioning, probability, measures",
          "<b>Topic 1</b><br>Words: belief, possibility, probability, conditional, distribution",
          "<b>Topic 1</b><br>Words: possibility, conditional, probability, possibilistic, theory",
          "<b>Topic 1</b><br>Words: probability, possibility, belief, distribution, conditional",
          "<b>Topic 1</b><br>Words: possibility, probability, belief, conditional, negotiation",
          "<b>Topic 1</b><br>Words: agreement, possibility, quantity, interactivity, conflict",
          "<b>Topic 1</b><br>Words: possibility, probability, possibilistic, semantics, fifty",
          "<b>Topic 1</b><br>Words: conditional, possibility, probability, implied, possibilistic",
          "<b>Topic 1</b><br>Words: possibility, conditioning, coherent, probability, conditional",
          "<b>Topic 1</b><br>Words: conflict, possibility, pyt, ev, consistency",
          "<b>Topic 1</b><br>Words: possibility, probability, probabilities, belief, conditional"
         ],
         "marker": {
          "color": "#56B4E9"
         },
         "mode": "lines",
         "name": "1_possibility_probability_conditional_me...",
         "x": [
          "1977-12-15T10:39:21.600000",
          "1980-04-07T19:12:00",
          "1982-07-14T14:24:00",
          "1984-10-19T09:36:00",
          "1987-01-25T04:48:00",
          "1989-05-02T00:00:00",
          "1991-08-07T19:12:00",
          "1993-11-12T14:24:00",
          "1996-02-18T09:36:00",
          "1998-05-26T04:48:00",
          "2000-08-31T00:00:00",
          "2002-12-06T19:12:00",
          "2005-03-13T14:24:00",
          "2007-06-19T09:36:00",
          "2009-09-24T04:48:00",
          "2011-12-31T00:00:00",
          "2014-04-06T19:12:00",
          "2016-07-12T14:24:00",
          "2018-10-18T09:36:00",
          "2021-01-23T04:48:00"
         ],
         "y": [
          6,
          6,
          10,
          5,
          15,
          14,
          17,
          11,
          13,
          12,
          7,
          11,
          17,
          13,
          5,
          8,
          6,
          5,
          3,
          11
         ],
         "type": "scatter"
        },
        {
         "hoverinfo": "text",
         "hovertext": [
          "<b>Topic 2</b><br>Words: dunn, ruspini, presentation, numerous, hard",
          "<b>Topic 2</b><br>Words: proportion, entry, exponent, validity, clustering",
          "<b>Topic 2</b><br>Words: clustering, geometrical, algorithms, ellipsoidal, concentrations",
          "<b>Topic 2</b><br>Words: clustering, groups, discriminant, ratio, variance",
          "<b>Topic 2</b><br>Words: clusters, clustering, sequencing, part, cluster",
          "<b>Topic 2</b><br>Words: clustering, fidelity, dunn, isodata, classes",
          "<b>Topic 2</b><br>Words: clustering, percentile, fcm, cluster, subspaces",
          "<b>Topic 2</b><br>Words: clustering, cluster, algorithm, imaginative, ht",
          "<b>Topic 2</b><br>Words: clustering, cluster, data, typical, mixtures",
          "<b>Topic 2</b><br>Words: clustering, cluster, center, data, means",
          "<b>Topic 2</b><br>Words: clustering, cluster, algorithm, clusters, fcm",
          "<b>Topic 2</b><br>Words: clustering, data, fcm, clusters, algorithm",
          "<b>Topic 2</b><br>Words: clustering, clusters, cluster, algorithm, data",
          "<b>Topic 2</b><br>Words: clustering, clusters, data, cluster, algorithm",
          "<b>Topic 2</b><br>Words: clustering, cluster, algorithm, clusters, dbscan",
          "<b>Topic 2</b><br>Words: clustering, cluster, clusters, consensus, conjecturable",
          "<b>Topic 2</b><br>Words: clustering, cluster, fjp, algorithm, data",
          "<b>Topic 2</b><br>Words: clustering, cluster, clusters, algorithm, means",
          "<b>Topic 2</b><br>Words: clustering, clusters, cluster, medoids, data",
          "<b>Topic 2</b><br>Words: clustering, clusters, data, cluster, boundary"
         ],
         "marker": {
          "color": "#009E73"
         },
         "mode": "lines",
         "name": "2_clustering_cluster_clusters_algorithm",
         "x": [
          "1977-12-15T10:39:21.600000",
          "1980-04-07T19:12:00",
          "1982-07-14T14:24:00",
          "1984-10-19T09:36:00",
          "1987-01-25T04:48:00",
          "1989-05-02T00:00:00",
          "1991-08-07T19:12:00",
          "1993-11-12T14:24:00",
          "1996-02-18T09:36:00",
          "1998-05-26T04:48:00",
          "2000-08-31T00:00:00",
          "2002-12-06T19:12:00",
          "2005-03-13T14:24:00",
          "2007-06-19T09:36:00",
          "2009-09-24T04:48:00",
          "2011-12-31T00:00:00",
          "2014-04-06T19:12:00",
          "2016-07-12T14:24:00",
          "2018-10-18T09:36:00",
          "2021-01-23T04:48:00"
         ],
         "y": [
          1,
          1,
          1,
          3,
          3,
          5,
          5,
          7,
          5,
          11,
          15,
          14,
          11,
          11,
          12,
          9,
          12,
          12,
          9,
          7
         ],
         "type": "scatter"
        },
        {
         "hoverinfo": "text",
         "hovertext": [
          "<b>Topic 3</b><br>Words: subgroup, semiprimality, subgroups, group, semigroup",
          "<b>Topic 3</b><br>Words: subgroups, subgroup, products, anthony, product",
          "<b>Topic 3</b><br>Words: semidirect, subgroups, subgroup, product, sherwood",
          "<b>Topic 3</b><br>Words: subgroups, product, group, pointwise, direct",
          "<b>Topic 3</b><br>Words: subgroups, subgroup, group, anti, level",
          "<b>Topic 3</b><br>Words: subgroup, subgroups, group, cyclic, groups",
          "<b>Topic 3</b><br>Words: subgroups, subgroup, group, normal, asaad",
          "<b>Topic 3</b><br>Words: subgroups, group, subgroup, congruence, semigroup",
          "<b>Topic 3</b><br>Words: subgroup, subgroups, group, congruences, semigroup",
          "<b>Topic 3</b><br>Words: subgroups, group, subgroup, semigroup, groups",
          "<b>Topic 3</b><br>Words: subgroups, subgroup, keychain, zpn, primes",
          "<b>Topic 3</b><br>Words: subgroups, equivalence, makamba, murali, discusses",
          "<b>Topic 3</b><br>Words: join, subgroups, hypergroupoid, hyperstructures, hypergroups",
          "<b>Topic 3</b><br>Words: subgroups, ary, join, hypergroups, groupoid",
          "<b>Topic 3</b><br>Words: group, mi, subgroups, groups, subgroup",
          "<b>Topic 3</b><br>Words: mi, group, groups, subgroups, hol",
          "<b>Topic 3</b><br>Words: subgroups, group, subgroup, groups, annihilator",
          "<b>Topic 3</b><br>Words: subgroup, subgroups, aggregation, group, proven"
         ],
         "marker": {
          "color": "#F0E442"
         },
         "mode": "lines",
         "name": "3_subgroups_subgroup_group_groups",
         "x": [
          "1980-04-07T19:12:00",
          "1982-07-14T14:24:00",
          "1984-10-19T09:36:00",
          "1987-01-25T04:48:00",
          "1989-05-02T00:00:00",
          "1991-08-07T19:12:00",
          "1993-11-12T14:24:00",
          "1996-02-18T09:36:00",
          "1998-05-26T04:48:00",
          "2000-08-31T00:00:00",
          "2002-12-06T19:12:00",
          "2005-03-13T14:24:00",
          "2007-06-19T09:36:00",
          "2009-09-24T04:48:00",
          "2014-04-06T19:12:00",
          "2016-07-12T14:24:00",
          "2018-10-18T09:36:00",
          "2021-01-23T04:48:00"
         ],
         "y": [
          2,
          2,
          1,
          2,
          5,
          26,
          25,
          27,
          20,
          9,
          5,
          1,
          3,
          3,
          4,
          1,
          5,
          1
         ],
         "type": "scatter"
        },
        {
         "hoverinfo": "text",
         "hovertext": [
          "<b>Topic 4</b><br>Words: bzmvdm, algebra, algebras, mv, sharp",
          "<b>Topic 4</b><br>Words: bl, filter, implicative, algebras, valuation",
          "<b>Topic 4</b><br>Words: algebras, effect, modular, algebra, heyting",
          "<b>Topic 4</b><br>Words: algebras, bl, effect, filters, algebra",
          "<b>Topic 4</b><br>Words: algebras, algebra, mv, effect, pseudo",
          "<b>Topic 4</b><br>Words: algebras, algebra, filters, eq, mv",
          "<b>Topic 4</b><br>Words: algebras, mv, mtl, algebra, filters",
          "<b>Topic 4</b><br>Words: algebras, mv, filters, algebra, bl",
          "<b>Topic 4</b><br>Words: algebras, mv, algebra, derivations, bl",
          "<b>Topic 4</b><br>Words: algebras, algebra, mv, residuated, emv",
          "<b>Topic 4</b><br>Words: algebras, mv, algebra, bl, residuated"
         ],
         "marker": {
          "color": "#D55E00"
         },
         "mode": "lines",
         "name": "4_algebras_mv_algebra_bl",
         "x": [
          "1998-05-26T04:48:00",
          "2000-08-31T00:00:00",
          "2002-12-06T19:12:00",
          "2005-03-13T14:24:00",
          "2007-06-19T09:36:00",
          "2009-09-24T04:48:00",
          "2011-12-31T00:00:00",
          "2014-04-06T19:12:00",
          "2016-07-12T14:24:00",
          "2018-10-18T09:36:00",
          "2021-01-23T04:48:00"
         ],
         "y": [
          2,
          4,
          5,
          5,
          11,
          10,
          15,
          25,
          15,
          22,
          20
         ],
         "type": "scatter"
        },
        {
         "hoverinfo": "text",
         "hovertext": [
          "<b>Topic 5</b><br>Words: convergency, thedynamic, modelling, apart, eigenvectors",
          "<b>Topic 5</b><br>Words: combinatorial, solutions, all, equation, characterized",
          "<b>Topic 5</b><br>Words: equations, relation, relational, solutions, card",
          "<b>Topic 5</b><br>Words: equations, solution, equation, relation, perturbation",
          "<b>Topic 5</b><br>Words: equations, tolerances, solution, equation, solutions",
          "<b>Topic 5</b><br>Words: equations, inverses, solution, relational, equation",
          "<b>Topic 5</b><br>Words: equations, solution, vl, bilinear, solutions",
          "<b>Topic 5</b><br>Words: equations, relational, solution, solutions, equation",
          "<b>Topic 5</b><br>Words: equations, relational, composition, solutions, solution",
          "<b>Topic 5</b><br>Words: equations, perturbation, solution, equation, solutions",
          "<b>Topic 5</b><br>Words: equations, solution, compression, equation, relation",
          "<b>Topic 5</b><br>Words: equations, solution, solutions, equation, implication",
          "<b>Topic 5</b><br>Words: solution, equations, unattainable, solutions, relational",
          "<b>Topic 5</b><br>Words: equations, solutions, equation, composition, minimal",
          "<b>Topic 5</b><br>Words: unattainable, solution, attainable, equations, join",
          "<b>Topic 5</b><br>Words: solutions, equations, solution, greatest, relational",
          "<b>Topic 5</b><br>Words: equations, relational, solutions, minimal, solution",
          "<b>Topic 5</b><br>Words: solutions, subeigenvectors, supereigenvectors, equations, solution",
          "<b>Topic 5</b><br>Words: solutions, fls, solution, equations, matrix",
          "<b>Topic 5</b><br>Words: equations, solution, bipolar, solutions, relation"
         ],
         "marker": {
          "color": "#0072B2"
         },
         "mode": "lines",
         "name": "5_equations_solution_solutions_relationa...",
         "x": [
          "1977-12-15T10:39:21.600000",
          "1980-04-07T19:12:00",
          "1982-07-14T14:24:00",
          "1984-10-19T09:36:00",
          "1987-01-25T04:48:00",
          "1989-05-02T00:00:00",
          "1991-08-07T19:12:00",
          "1993-11-12T14:24:00",
          "1996-02-18T09:36:00",
          "1998-05-26T04:48:00",
          "2000-08-31T00:00:00",
          "2002-12-06T19:12:00",
          "2005-03-13T14:24:00",
          "2007-06-19T09:36:00",
          "2009-09-24T04:48:00",
          "2011-12-31T00:00:00",
          "2014-04-06T19:12:00",
          "2016-07-12T14:24:00",
          "2018-10-18T09:36:00",
          "2021-01-23T04:48:00"
         ],
         "y": [
          1,
          1,
          7,
          13,
          11,
          11,
          11,
          10,
          6,
          4,
          6,
          4,
          5,
          6,
          2,
          5,
          2,
          3,
          6,
          4
         ],
         "type": "scatter"
        },
        {
         "hoverinfo": "text",
         "hovertext": [
          "<b>Topic 6</b><br>Words: bd, distributional, accumulation, ad, derived",
          "<b>Topic 6</b><br>Words: menger, copulas, copula, compact, imaoka",
          "<b>Topic 6</b><br>Words: concavity, schur, copulas, property, satisfying",
          "<b>Topic 6</b><br>Words: copulas, copula, quasi, flipping, transformations",
          "<b>Topic 6</b><br>Words: copulas, conic, quasi, copula, bivariate",
          "<b>Topic 6</b><br>Words: copulas, copula, quasi, diagonal, aggregation",
          "<b>Topic 6</b><br>Words: copulas, copula, diagonal, tail, dependence",
          "<b>Topic 6</b><br>Words: copulas, copula, diagonal, dependence, transformations",
          "<b>Topic 6</b><br>Words: copulas, copula, rmm, bivariate, quasi",
          "<b>Topic 6</b><br>Words: copulas, copula, quasi, bivariate, multivariate"
         ],
         "marker": {
          "color": "#CC79A7"
         },
         "mode": "lines",
         "name": "6_copulas_copula_quasi_diagonal",
         "x": [
          "1993-11-12T14:24:00",
          "2002-12-06T19:12:00",
          "2005-03-13T14:24:00",
          "2007-06-19T09:36:00",
          "2009-09-24T04:48:00",
          "2011-12-31T00:00:00",
          "2014-04-06T19:12:00",
          "2016-07-12T14:24:00",
          "2018-10-18T09:36:00",
          "2021-01-23T04:48:00"
         ],
         "y": [
          1,
          2,
          1,
          9,
          5,
          20,
          19,
          12,
          22,
          27
         ],
         "type": "scatter"
        },
        {
         "hoverinfo": "text",
         "hovertext": [
          "<b>Topic 7</b><br>Words: adaptive, tracking, controller, control, law",
          "<b>Topic 7</b><br>Words: tracking, adaptive, control, unknown, uncertainties",
          "<b>Topic 7</b><br>Words: adaptive, tracking, control, scheme, unknown",
          "<b>Topic 7</b><br>Words: adaptive, tracking, control, nonlinear, unknown",
          "<b>Topic 7</b><br>Words: adaptive, control, tracking, unknown, controller",
          "<b>Topic 7</b><br>Words: adaptive, tracking, control, unknown, nonlinear",
          "<b>Topic 7</b><br>Words: adaptive, tracking, control, nonlinear, unknown",
          "<b>Topic 7</b><br>Words: adaptive, unknown, tracking, control, loop",
          "<b>Topic 7</b><br>Words: adaptive, tracking, control, unknown, feedback",
          "<b>Topic 7</b><br>Words: adaptive, tracking, unknown, control, nonlinear",
          "<b>Topic 7</b><br>Words: adaptive, tracking, control, unknown, nonlinear",
          "<b>Topic 7</b><br>Words: switching, subsystem, zeno, mismatched, adaptive"
         ],
         "marker": {
          "color": "#E69F00"
         },
         "mode": "lines",
         "name": "7_adaptive_tracking_control_unknown",
         "x": [
          "1996-02-18T09:36:00",
          "1998-05-26T04:48:00",
          "2000-08-31T00:00:00",
          "2002-12-06T19:12:00",
          "2005-03-13T14:24:00",
          "2007-06-19T09:36:00",
          "2009-09-24T04:48:00",
          "2011-12-31T00:00:00",
          "2014-04-06T19:12:00",
          "2016-07-12T14:24:00",
          "2018-10-18T09:36:00",
          "2021-01-23T04:48:00"
         ],
         "y": [
          4,
          4,
          8,
          11,
          10,
          8,
          12,
          4,
          14,
          18,
          16,
          1
         ],
         "type": "scatter"
        },
        {
         "hoverinfo": "text",
         "hovertext": [
          "<b>Topic 8</b><br>Words: random, stationary, hausdorf, limiting, expectation",
          "<b>Topic 8</b><br>Words: random, variables, celebrated, birkhoff, sequence",
          "<b>Topic 8</b><br>Words: random, fev, domain, variables, variable",
          "<b>Topic 8</b><br>Words: random, variables, excitation, variable, slln",
          "<b>Topic 8</b><br>Words: random, banach, stochastic, variables, subsets",
          "<b>Topic 8</b><br>Words: random, convergence, sn, variables, xnk",
          "<b>Topic 8</b><br>Words: random, stochastic, differential, response, domain",
          "<b>Topic 8</b><br>Words: random, variable, stochastic, ecn, variables",
          "<b>Topic 8</b><br>Words: random, variables, convergence, stochastic, strong",
          "<b>Topic 8</b><br>Words: random, variables, markov, sub, fc",
          "<b>Topic 8</b><br>Words: random, stochastic, variables, brownian, space",
          "<b>Topic 8</b><br>Words: random, complex, statistical, variables, variable",
          "<b>Topic 8</b><br>Words: random, nucleation, stochastic, growth, interpretation",
          "<b>Topic 8</b><br>Words: random, stochastic, frv, aumann, variables",
          "<b>Topic 8</b><br>Words: random, bootstrap, expected, variables, tests",
          "<b>Topic 8</b><br>Words: population, density, growth, carrying, random",
          "<b>Topic 8</b><br>Words: random, variables, stochastic, convergence, depth"
         ],
         "marker": {
          "color": "#56B4E9"
         },
         "mode": "lines",
         "name": "8_random_variables_stochastic_variable",
         "x": [
          "1980-04-07T19:12:00",
          "1982-07-14T14:24:00",
          "1987-01-25T04:48:00",
          "1989-05-02T00:00:00",
          "1991-08-07T19:12:00",
          "1993-11-12T14:24:00",
          "1996-02-18T09:36:00",
          "1998-05-26T04:48:00",
          "2000-08-31T00:00:00",
          "2002-12-06T19:12:00",
          "2005-03-13T14:24:00",
          "2007-06-19T09:36:00",
          "2009-09-24T04:48:00",
          "2011-12-31T00:00:00",
          "2014-04-06T19:12:00",
          "2016-07-12T14:24:00",
          "2021-01-23T04:48:00"
         ],
         "y": [
          2,
          2,
          5,
          6,
          5,
          4,
          9,
          14,
          17,
          8,
          11,
          5,
          3,
          7,
          3,
          1,
          6
         ],
         "type": "scatter"
        },
        {
         "hoverinfo": "text",
         "hovertext": [
          "<b>Topic 9</b><br>Words: algebra, sets, my, operations, sphere",
          "<b>Topic 9</b><br>Words: sets, universes, union, grade, conectives",
          "<b>Topic 9</b><br>Words: code, neuron, crayfish, abdominal, codewords",
          "<b>Topic 9</b><br>Words: semicardinals, notion, cardinality, characterization, theory",
          "<b>Topic 9</b><br>Words: twofold, sets, set, many, theory",
          "<b>Topic 9</b><br>Words: decomposable, pseudomeasure, mstf, sets, set",
          "<b>Topic 9</b><br>Words: sets, set, code, theory, indicators",
          "<b>Topic 9</b><br>Words: hypergraph, graded, gcf, fst, set",
          "<b>Topic 9</b><br>Words: giertz, colorings, proximities, hypergraphs, bellman",
          "<b>Topic 9</b><br>Words: union, intersecting, hypergraphs, intersection, decomposition",
          "<b>Topic 9</b><br>Words: sets, flcounts, fgcounts, fecounts, finite",
          "<b>Topic 9</b><br>Words: inclusion, dougherty, sinha, sets, mappings",
          "<b>Topic 9</b><br>Words: subsets, set, biopolymers, sets, nucleic",
          "<b>Topic 9</b><br>Words: rigid, sets, collection, set, uniqueness",
          "<b>Topic 9</b><br>Words: nested, sets, set, subsets, multivariate",
          "<b>Topic 9</b><br>Words: polar, polarity, multi, perturbation, sets",
          "<b>Topic 9</b><br>Words: personal, pioneers, accomplishments, kiyoji, lasting",
          "<b>Topic 9</b><br>Words: mathematics, sets, supported, finitely, cardinal",
          "<b>Topic 9</b><br>Words: inclusion, domain, sets, operands, variable",
          "<b>Topic 9</b><br>Words: disjunction, ndez, hern, conjunction, duality"
         ],
         "marker": {
          "color": "#009E73"
         },
         "mode": "lines",
         "name": "9_sets_set_theory_inclusion",
         "x": [
          "1977-12-15T10:39:21.600000",
          "1980-04-07T19:12:00",
          "1982-07-14T14:24:00",
          "1984-10-19T09:36:00",
          "1987-01-25T04:48:00",
          "1989-05-02T00:00:00",
          "1991-08-07T19:12:00",
          "1993-11-12T14:24:00",
          "1996-02-18T09:36:00",
          "1998-05-26T04:48:00",
          "2000-08-31T00:00:00",
          "2002-12-06T19:12:00",
          "2005-03-13T14:24:00",
          "2007-06-19T09:36:00",
          "2009-09-24T04:48:00",
          "2011-12-31T00:00:00",
          "2014-04-06T19:12:00",
          "2016-07-12T14:24:00",
          "2018-10-18T09:36:00",
          "2021-01-23T04:48:00"
         ],
         "y": [
          3,
          5,
          3,
          4,
          7,
          7,
          15,
          5,
          6,
          8,
          5,
          3,
          7,
          4,
          4,
          4,
          1,
          3,
          6,
          1
         ],
         "type": "scatter"
        }
       ],
       "layout": {
        "template": {
         "data": {
          "barpolar": [
           {
            "marker": {
             "line": {
              "color": "white",
              "width": 0.5
             },
             "pattern": {
              "fillmode": "overlay",
              "size": 10,
              "solidity": 0.2
             }
            },
            "type": "barpolar"
           }
          ],
          "bar": [
           {
            "error_x": {
             "color": "rgb(36,36,36)"
            },
            "error_y": {
             "color": "rgb(36,36,36)"
            },
            "marker": {
             "line": {
              "color": "white",
              "width": 0.5
             },
             "pattern": {
              "fillmode": "overlay",
              "size": 10,
              "solidity": 0.2
             }
            },
            "type": "bar"
           }
          ],
          "carpet": [
           {
            "aaxis": {
             "endlinecolor": "rgb(36,36,36)",
             "gridcolor": "white",
             "linecolor": "white",
             "minorgridcolor": "white",
             "startlinecolor": "rgb(36,36,36)"
            },
            "baxis": {
             "endlinecolor": "rgb(36,36,36)",
             "gridcolor": "white",
             "linecolor": "white",
             "minorgridcolor": "white",
             "startlinecolor": "rgb(36,36,36)"
            },
            "type": "carpet"
           }
          ],
          "choropleth": [
           {
            "colorbar": {
             "outlinewidth": 1,
             "tickcolor": "rgb(36,36,36)",
             "ticks": "outside"
            },
            "type": "choropleth"
           }
          ],
          "contourcarpet": [
           {
            "colorbar": {
             "outlinewidth": 1,
             "tickcolor": "rgb(36,36,36)",
             "ticks": "outside"
            },
            "type": "contourcarpet"
           }
          ],
          "contour": [
           {
            "colorbar": {
             "outlinewidth": 1,
             "tickcolor": "rgb(36,36,36)",
             "ticks": "outside"
            },
            "colorscale": [
             [
              0.0,
              "#440154"
             ],
             [
              0.1111111111111111,
              "#482878"
             ],
             [
              0.2222222222222222,
              "#3e4989"
             ],
             [
              0.3333333333333333,
              "#31688e"
             ],
             [
              0.4444444444444444,
              "#26828e"
             ],
             [
              0.5555555555555556,
              "#1f9e89"
             ],
             [
              0.6666666666666666,
              "#35b779"
             ],
             [
              0.7777777777777778,
              "#6ece58"
             ],
             [
              0.8888888888888888,
              "#b5de2b"
             ],
             [
              1.0,
              "#fde725"
             ]
            ],
            "type": "contour"
           }
          ],
          "heatmapgl": [
           {
            "colorbar": {
             "outlinewidth": 1,
             "tickcolor": "rgb(36,36,36)",
             "ticks": "outside"
            },
            "colorscale": [
             [
              0.0,
              "#440154"
             ],
             [
              0.1111111111111111,
              "#482878"
             ],
             [
              0.2222222222222222,
              "#3e4989"
             ],
             [
              0.3333333333333333,
              "#31688e"
             ],
             [
              0.4444444444444444,
              "#26828e"
             ],
             [
              0.5555555555555556,
              "#1f9e89"
             ],
             [
              0.6666666666666666,
              "#35b779"
             ],
             [
              0.7777777777777778,
              "#6ece58"
             ],
             [
              0.8888888888888888,
              "#b5de2b"
             ],
             [
              1.0,
              "#fde725"
             ]
            ],
            "type": "heatmapgl"
           }
          ],
          "heatmap": [
           {
            "colorbar": {
             "outlinewidth": 1,
             "tickcolor": "rgb(36,36,36)",
             "ticks": "outside"
            },
            "colorscale": [
             [
              0.0,
              "#440154"
             ],
             [
              0.1111111111111111,
              "#482878"
             ],
             [
              0.2222222222222222,
              "#3e4989"
             ],
             [
              0.3333333333333333,
              "#31688e"
             ],
             [
              0.4444444444444444,
              "#26828e"
             ],
             [
              0.5555555555555556,
              "#1f9e89"
             ],
             [
              0.6666666666666666,
              "#35b779"
             ],
             [
              0.7777777777777778,
              "#6ece58"
             ],
             [
              0.8888888888888888,
              "#b5de2b"
             ],
             [
              1.0,
              "#fde725"
             ]
            ],
            "type": "heatmap"
           }
          ],
          "histogram2dcontour": [
           {
            "colorbar": {
             "outlinewidth": 1,
             "tickcolor": "rgb(36,36,36)",
             "ticks": "outside"
            },
            "colorscale": [
             [
              0.0,
              "#440154"
             ],
             [
              0.1111111111111111,
              "#482878"
             ],
             [
              0.2222222222222222,
              "#3e4989"
             ],
             [
              0.3333333333333333,
              "#31688e"
             ],
             [
              0.4444444444444444,
              "#26828e"
             ],
             [
              0.5555555555555556,
              "#1f9e89"
             ],
             [
              0.6666666666666666,
              "#35b779"
             ],
             [
              0.7777777777777778,
              "#6ece58"
             ],
             [
              0.8888888888888888,
              "#b5de2b"
             ],
             [
              1.0,
              "#fde725"
             ]
            ],
            "type": "histogram2dcontour"
           }
          ],
          "histogram2d": [
           {
            "colorbar": {
             "outlinewidth": 1,
             "tickcolor": "rgb(36,36,36)",
             "ticks": "outside"
            },
            "colorscale": [
             [
              0.0,
              "#440154"
             ],
             [
              0.1111111111111111,
              "#482878"
             ],
             [
              0.2222222222222222,
              "#3e4989"
             ],
             [
              0.3333333333333333,
              "#31688e"
             ],
             [
              0.4444444444444444,
              "#26828e"
             ],
             [
              0.5555555555555556,
              "#1f9e89"
             ],
             [
              0.6666666666666666,
              "#35b779"
             ],
             [
              0.7777777777777778,
              "#6ece58"
             ],
             [
              0.8888888888888888,
              "#b5de2b"
             ],
             [
              1.0,
              "#fde725"
             ]
            ],
            "type": "histogram2d"
           }
          ],
          "histogram": [
           {
            "marker": {
             "line": {
              "color": "white",
              "width": 0.6
             }
            },
            "type": "histogram"
           }
          ],
          "mesh3d": [
           {
            "colorbar": {
             "outlinewidth": 1,
             "tickcolor": "rgb(36,36,36)",
             "ticks": "outside"
            },
            "type": "mesh3d"
           }
          ],
          "parcoords": [
           {
            "line": {
             "colorbar": {
              "outlinewidth": 1,
              "tickcolor": "rgb(36,36,36)",
              "ticks": "outside"
             }
            },
            "type": "parcoords"
           }
          ],
          "pie": [
           {
            "automargin": true,
            "type": "pie"
           }
          ],
          "scatter3d": [
           {
            "line": {
             "colorbar": {
              "outlinewidth": 1,
              "tickcolor": "rgb(36,36,36)",
              "ticks": "outside"
             }
            },
            "marker": {
             "colorbar": {
              "outlinewidth": 1,
              "tickcolor": "rgb(36,36,36)",
              "ticks": "outside"
             }
            },
            "type": "scatter3d"
           }
          ],
          "scattercarpet": [
           {
            "marker": {
             "colorbar": {
              "outlinewidth": 1,
              "tickcolor": "rgb(36,36,36)",
              "ticks": "outside"
             }
            },
            "type": "scattercarpet"
           }
          ],
          "scattergeo": [
           {
            "marker": {
             "colorbar": {
              "outlinewidth": 1,
              "tickcolor": "rgb(36,36,36)",
              "ticks": "outside"
             }
            },
            "type": "scattergeo"
           }
          ],
          "scattergl": [
           {
            "marker": {
             "colorbar": {
              "outlinewidth": 1,
              "tickcolor": "rgb(36,36,36)",
              "ticks": "outside"
             }
            },
            "type": "scattergl"
           }
          ],
          "scattermapbox": [
           {
            "marker": {
             "colorbar": {
              "outlinewidth": 1,
              "tickcolor": "rgb(36,36,36)",
              "ticks": "outside"
             }
            },
            "type": "scattermapbox"
           }
          ],
          "scatterpolargl": [
           {
            "marker": {
             "colorbar": {
              "outlinewidth": 1,
              "tickcolor": "rgb(36,36,36)",
              "ticks": "outside"
             }
            },
            "type": "scatterpolargl"
           }
          ],
          "scatterpolar": [
           {
            "marker": {
             "colorbar": {
              "outlinewidth": 1,
              "tickcolor": "rgb(36,36,36)",
              "ticks": "outside"
             }
            },
            "type": "scatterpolar"
           }
          ],
          "scatter": [
           {
            "fillpattern": {
             "fillmode": "overlay",
             "size": 10,
             "solidity": 0.2
            },
            "type": "scatter"
           }
          ],
          "scatterternary": [
           {
            "marker": {
             "colorbar": {
              "outlinewidth": 1,
              "tickcolor": "rgb(36,36,36)",
              "ticks": "outside"
             }
            },
            "type": "scatterternary"
           }
          ],
          "surface": [
           {
            "colorbar": {
             "outlinewidth": 1,
             "tickcolor": "rgb(36,36,36)",
             "ticks": "outside"
            },
            "colorscale": [
             [
              0.0,
              "#440154"
             ],
             [
              0.1111111111111111,
              "#482878"
             ],
             [
              0.2222222222222222,
              "#3e4989"
             ],
             [
              0.3333333333333333,
              "#31688e"
             ],
             [
              0.4444444444444444,
              "#26828e"
             ],
             [
              0.5555555555555556,
              "#1f9e89"
             ],
             [
              0.6666666666666666,
              "#35b779"
             ],
             [
              0.7777777777777778,
              "#6ece58"
             ],
             [
              0.8888888888888888,
              "#b5de2b"
             ],
             [
              1.0,
              "#fde725"
             ]
            ],
            "type": "surface"
           }
          ],
          "table": [
           {
            "cells": {
             "fill": {
              "color": "rgb(237,237,237)"
             },
             "line": {
              "color": "white"
             }
            },
            "header": {
             "fill": {
              "color": "rgb(217,217,217)"
             },
             "line": {
              "color": "white"
             }
            },
            "type": "table"
           }
          ]
         },
         "layout": {
          "annotationdefaults": {
           "arrowhead": 0,
           "arrowwidth": 1
          },
          "autotypenumbers": "strict",
          "coloraxis": {
           "colorbar": {
            "outlinewidth": 1,
            "tickcolor": "rgb(36,36,36)",
            "ticks": "outside"
           }
          },
          "colorscale": {
           "diverging": [
            [
             0.0,
             "rgb(103,0,31)"
            ],
            [
             0.1,
             "rgb(178,24,43)"
            ],
            [
             0.2,
             "rgb(214,96,77)"
            ],
            [
             0.3,
             "rgb(244,165,130)"
            ],
            [
             0.4,
             "rgb(253,219,199)"
            ],
            [
             0.5,
             "rgb(247,247,247)"
            ],
            [
             0.6,
             "rgb(209,229,240)"
            ],
            [
             0.7,
             "rgb(146,197,222)"
            ],
            [
             0.8,
             "rgb(67,147,195)"
            ],
            [
             0.9,
             "rgb(33,102,172)"
            ],
            [
             1.0,
             "rgb(5,48,97)"
            ]
           ],
           "sequential": [
            [
             0.0,
             "#440154"
            ],
            [
             0.1111111111111111,
             "#482878"
            ],
            [
             0.2222222222222222,
             "#3e4989"
            ],
            [
             0.3333333333333333,
             "#31688e"
            ],
            [
             0.4444444444444444,
             "#26828e"
            ],
            [
             0.5555555555555556,
             "#1f9e89"
            ],
            [
             0.6666666666666666,
             "#35b779"
            ],
            [
             0.7777777777777778,
             "#6ece58"
            ],
            [
             0.8888888888888888,
             "#b5de2b"
            ],
            [
             1.0,
             "#fde725"
            ]
           ],
           "sequentialminus": [
            [
             0.0,
             "#440154"
            ],
            [
             0.1111111111111111,
             "#482878"
            ],
            [
             0.2222222222222222,
             "#3e4989"
            ],
            [
             0.3333333333333333,
             "#31688e"
            ],
            [
             0.4444444444444444,
             "#26828e"
            ],
            [
             0.5555555555555556,
             "#1f9e89"
            ],
            [
             0.6666666666666666,
             "#35b779"
            ],
            [
             0.7777777777777778,
             "#6ece58"
            ],
            [
             0.8888888888888888,
             "#b5de2b"
            ],
            [
             1.0,
             "#fde725"
            ]
           ]
          },
          "colorway": [
           "#1F77B4",
           "#FF7F0E",
           "#2CA02C",
           "#D62728",
           "#9467BD",
           "#8C564B",
           "#E377C2",
           "#7F7F7F",
           "#BCBD22",
           "#17BECF"
          ],
          "font": {
           "color": "rgb(36,36,36)"
          },
          "geo": {
           "bgcolor": "white",
           "lakecolor": "white",
           "landcolor": "white",
           "showlakes": true,
           "showland": true,
           "subunitcolor": "white"
          },
          "hoverlabel": {
           "align": "left"
          },
          "hovermode": "closest",
          "mapbox": {
           "style": "light"
          },
          "paper_bgcolor": "white",
          "plot_bgcolor": "white",
          "polar": {
           "angularaxis": {
            "gridcolor": "rgb(232,232,232)",
            "linecolor": "rgb(36,36,36)",
            "showgrid": false,
            "showline": true,
            "ticks": "outside"
           },
           "bgcolor": "white",
           "radialaxis": {
            "gridcolor": "rgb(232,232,232)",
            "linecolor": "rgb(36,36,36)",
            "showgrid": false,
            "showline": true,
            "ticks": "outside"
           }
          },
          "scene": {
           "xaxis": {
            "backgroundcolor": "white",
            "gridcolor": "rgb(232,232,232)",
            "gridwidth": 2,
            "linecolor": "rgb(36,36,36)",
            "showbackground": true,
            "showgrid": false,
            "showline": true,
            "ticks": "outside",
            "zeroline": false,
            "zerolinecolor": "rgb(36,36,36)"
           },
           "yaxis": {
            "backgroundcolor": "white",
            "gridcolor": "rgb(232,232,232)",
            "gridwidth": 2,
            "linecolor": "rgb(36,36,36)",
            "showbackground": true,
            "showgrid": false,
            "showline": true,
            "ticks": "outside",
            "zeroline": false,
            "zerolinecolor": "rgb(36,36,36)"
           },
           "zaxis": {
            "backgroundcolor": "white",
            "gridcolor": "rgb(232,232,232)",
            "gridwidth": 2,
            "linecolor": "rgb(36,36,36)",
            "showbackground": true,
            "showgrid": false,
            "showline": true,
            "ticks": "outside",
            "zeroline": false,
            "zerolinecolor": "rgb(36,36,36)"
           }
          },
          "shapedefaults": {
           "fillcolor": "black",
           "line": {
            "width": 0
           },
           "opacity": 0.3
          },
          "ternary": {
           "aaxis": {
            "gridcolor": "rgb(232,232,232)",
            "linecolor": "rgb(36,36,36)",
            "showgrid": false,
            "showline": true,
            "ticks": "outside"
           },
           "baxis": {
            "gridcolor": "rgb(232,232,232)",
            "linecolor": "rgb(36,36,36)",
            "showgrid": false,
            "showline": true,
            "ticks": "outside"
           },
           "bgcolor": "white",
           "caxis": {
            "gridcolor": "rgb(232,232,232)",
            "linecolor": "rgb(36,36,36)",
            "showgrid": false,
            "showline": true,
            "ticks": "outside"
           }
          },
          "title": {
           "x": 0.05
          },
          "xaxis": {
           "automargin": true,
           "gridcolor": "rgb(232,232,232)",
           "linecolor": "rgb(36,36,36)",
           "showgrid": false,
           "showline": true,
           "ticks": "outside",
           "title": {
            "standoff": 15
           },
           "zeroline": false,
           "zerolinecolor": "rgb(36,36,36)"
          },
          "yaxis": {
           "automargin": true,
           "gridcolor": "rgb(232,232,232)",
           "linecolor": "rgb(36,36,36)",
           "showgrid": false,
           "showline": true,
           "ticks": "outside",
           "title": {
            "standoff": 15
           },
           "zeroline": false,
           "zerolinecolor": "rgb(36,36,36)"
          }
         }
        },
        "xaxis": {
         "showgrid": true
        },
        "yaxis": {
         "showgrid": true,
         "title": {
          "text": "Frequency"
         }
        },
        "title": {
         "font": {
          "size": 22,
          "color": "Black"
         },
         "text": "<b>Topics over Time</b>",
         "y": 0.95,
         "x": 0.4,
         "xanchor": "center",
         "yanchor": "top"
        },
        "hoverlabel": {
         "font": {
          "size": 16,
          "family": "Rockwell"
         },
         "bgcolor": "white"
        },
        "width": 1250,
        "height": 450,
        "legend": {
         "title": {
          "text": "<b>Global Topic Representation"
         }
        }
       },
       "config": {
        "plotlyServerURL": "https://plot.ly"
       }
      },
      "text/html": "<div>                            <div id=\"4fa792f5-fc0c-4a74-bb1e-c6103f7a053e\" class=\"plotly-graph-div\" style=\"height:450px; width:1250px;\"></div>            <script type=\"text/javascript\">                require([\"plotly\"], function(Plotly) {                    window.PLOTLYENV=window.PLOTLYENV || {};                                    if (document.getElementById(\"4fa792f5-fc0c-4a74-bb1e-c6103f7a053e\")) {                    Plotly.newPlot(                        \"4fa792f5-fc0c-4a74-bb1e-c6103f7a053e\",                        [{\"hoverinfo\":\"text\",\"hovertext\":[\"<b>Topic 0</b><br>Words: decision, team, alternatives, preference, nondominated\",\"<b>Topic 0</b><br>Words: preference, alternatives, decision, relations, leadership\",\"<b>Topic 0</b><br>Words: choice, decision, criteria, stresses, preference\",\"<b>Topic 0</b><br>Words: alternatives, preference, decision, making, utilities\",\"<b>Topic 0</b><br>Words: alternatives, decision, preference, utility, making\",\"<b>Topic 0</b><br>Words: choice, choices, nondomination, cim, decision\",\"<b>Topic 0</b><br>Words: preference, decision, social, choice, alternatives\",\"<b>Topic 0</b><br>Words: preference, decision, alternatives, rationality, criteria\",\"<b>Topic 0</b><br>Words: preference, decision, ranking, alternatives, making\",\"<b>Topic 0</b><br>Words: preference, decision, alternatives, ranking, making\",\"<b>Topic 0</b><br>Words: preference, decision, alternatives, making, choice\",\"<b>Topic 0</b><br>Words: voter, preference, majority, inexact, decision\",\"<b>Topic 0</b><br>Words: preference, transitivity, decision, alternatives, madm\",\"<b>Topic 0</b><br>Words: preference, decision, linguistic, choice, owa\",\"<b>Topic 0</b><br>Words: reciprocal, transitivity, monotonicity, choice, monotone\",\"<b>Topic 0</b><br>Words: preference, reciprocal, consistency, relations, consensus\",\"<b>Topic 0</b><br>Words: preference, reciprocal, decision, consensus, consistency\",\"<b>Topic 0</b><br>Words: consistency, preference, decision, ranking, reciprocal\",\"<b>Topic 0</b><br>Words: preference, decision, bilateral, consistency, alternatives\",\"<b>Topic 0</b><br>Words: preference, consistency, decision, alternatives, reciprocal\"],\"marker\":{\"color\":\"#E69F00\"},\"mode\":\"lines\",\"name\":\"0_preference_decision_alternatives_makin...\",\"x\":[\"1977-12-15T10:39:21.600000\",\"1980-04-07T19:12:00\",\"1982-07-14T14:24:00\",\"1984-10-19T09:36:00\",\"1987-01-25T04:48:00\",\"1989-05-02T00:00:00\",\"1991-08-07T19:12:00\",\"1993-11-12T14:24:00\",\"1996-02-18T09:36:00\",\"1998-05-26T04:48:00\",\"2000-08-31T00:00:00\",\"2002-12-06T19:12:00\",\"2005-03-13T14:24:00\",\"2007-06-19T09:36:00\",\"2009-09-24T04:48:00\",\"2011-12-31T00:00:00\",\"2014-04-06T19:12:00\",\"2016-07-12T14:24:00\",\"2018-10-18T09:36:00\",\"2021-01-23T04:48:00\"],\"y\":[9,12,9,15,18,7,26,32,33,31,33,15,19,12,4,11,22,15,12,22],\"type\":\"scatter\"},{\"hoverinfo\":\"text\",\"hovertext\":[\"<b>Topic 1</b><br>Words: possibility, probability, conditional, distribution, possibilities\",\"<b>Topic 1</b><br>Words: probability, measure, possibility, postulate, complement\",\"<b>Topic 1</b><br>Words: probability, possibility, probabilistic, certainty, measures\",\"<b>Topic 1</b><br>Words: probability, possibility, measure, events, certainty\",\"<b>Topic 1</b><br>Words: possibility, probability, events, measure, measures\",\"<b>Topic 1</b><br>Words: possibility, measures, probability, measure, complement\",\"<b>Topic 1</b><br>Words: possibility, probability, measures, measure, events\",\"<b>Topic 1</b><br>Words: uncertainty, possibility, fcds, conditional, scale\",\"<b>Topic 1</b><br>Words: possibility, probability, events, measure, probabilities\",\"<b>Topic 1</b><br>Words: possibility, conditional, conditioning, probability, measures\",\"<b>Topic 1</b><br>Words: belief, possibility, probability, conditional, distribution\",\"<b>Topic 1</b><br>Words: possibility, conditional, probability, possibilistic, theory\",\"<b>Topic 1</b><br>Words: probability, possibility, belief, distribution, conditional\",\"<b>Topic 1</b><br>Words: possibility, probability, belief, conditional, negotiation\",\"<b>Topic 1</b><br>Words: agreement, possibility, quantity, interactivity, conflict\",\"<b>Topic 1</b><br>Words: possibility, probability, possibilistic, semantics, fifty\",\"<b>Topic 1</b><br>Words: conditional, possibility, probability, implied, possibilistic\",\"<b>Topic 1</b><br>Words: possibility, conditioning, coherent, probability, conditional\",\"<b>Topic 1</b><br>Words: conflict, possibility, pyt, ev, consistency\",\"<b>Topic 1</b><br>Words: possibility, probability, probabilities, belief, conditional\"],\"marker\":{\"color\":\"#56B4E9\"},\"mode\":\"lines\",\"name\":\"1_possibility_probability_conditional_me...\",\"x\":[\"1977-12-15T10:39:21.600000\",\"1980-04-07T19:12:00\",\"1982-07-14T14:24:00\",\"1984-10-19T09:36:00\",\"1987-01-25T04:48:00\",\"1989-05-02T00:00:00\",\"1991-08-07T19:12:00\",\"1993-11-12T14:24:00\",\"1996-02-18T09:36:00\",\"1998-05-26T04:48:00\",\"2000-08-31T00:00:00\",\"2002-12-06T19:12:00\",\"2005-03-13T14:24:00\",\"2007-06-19T09:36:00\",\"2009-09-24T04:48:00\",\"2011-12-31T00:00:00\",\"2014-04-06T19:12:00\",\"2016-07-12T14:24:00\",\"2018-10-18T09:36:00\",\"2021-01-23T04:48:00\"],\"y\":[6,6,10,5,15,14,17,11,13,12,7,11,17,13,5,8,6,5,3,11],\"type\":\"scatter\"},{\"hoverinfo\":\"text\",\"hovertext\":[\"<b>Topic 2</b><br>Words: dunn, ruspini, presentation, numerous, hard\",\"<b>Topic 2</b><br>Words: proportion, entry, exponent, validity, clustering\",\"<b>Topic 2</b><br>Words: clustering, geometrical, algorithms, ellipsoidal, concentrations\",\"<b>Topic 2</b><br>Words: clustering, groups, discriminant, ratio, variance\",\"<b>Topic 2</b><br>Words: clusters, clustering, sequencing, part, cluster\",\"<b>Topic 2</b><br>Words: clustering, fidelity, dunn, isodata, classes\",\"<b>Topic 2</b><br>Words: clustering, percentile, fcm, cluster, subspaces\",\"<b>Topic 2</b><br>Words: clustering, cluster, algorithm, imaginative, ht\",\"<b>Topic 2</b><br>Words: clustering, cluster, data, typical, mixtures\",\"<b>Topic 2</b><br>Words: clustering, cluster, center, data, means\",\"<b>Topic 2</b><br>Words: clustering, cluster, algorithm, clusters, fcm\",\"<b>Topic 2</b><br>Words: clustering, data, fcm, clusters, algorithm\",\"<b>Topic 2</b><br>Words: clustering, clusters, cluster, algorithm, data\",\"<b>Topic 2</b><br>Words: clustering, clusters, data, cluster, algorithm\",\"<b>Topic 2</b><br>Words: clustering, cluster, algorithm, clusters, dbscan\",\"<b>Topic 2</b><br>Words: clustering, cluster, clusters, consensus, conjecturable\",\"<b>Topic 2</b><br>Words: clustering, cluster, fjp, algorithm, data\",\"<b>Topic 2</b><br>Words: clustering, cluster, clusters, algorithm, means\",\"<b>Topic 2</b><br>Words: clustering, clusters, cluster, medoids, data\",\"<b>Topic 2</b><br>Words: clustering, clusters, data, cluster, boundary\"],\"marker\":{\"color\":\"#009E73\"},\"mode\":\"lines\",\"name\":\"2_clustering_cluster_clusters_algorithm\",\"x\":[\"1977-12-15T10:39:21.600000\",\"1980-04-07T19:12:00\",\"1982-07-14T14:24:00\",\"1984-10-19T09:36:00\",\"1987-01-25T04:48:00\",\"1989-05-02T00:00:00\",\"1991-08-07T19:12:00\",\"1993-11-12T14:24:00\",\"1996-02-18T09:36:00\",\"1998-05-26T04:48:00\",\"2000-08-31T00:00:00\",\"2002-12-06T19:12:00\",\"2005-03-13T14:24:00\",\"2007-06-19T09:36:00\",\"2009-09-24T04:48:00\",\"2011-12-31T00:00:00\",\"2014-04-06T19:12:00\",\"2016-07-12T14:24:00\",\"2018-10-18T09:36:00\",\"2021-01-23T04:48:00\"],\"y\":[1,1,1,3,3,5,5,7,5,11,15,14,11,11,12,9,12,12,9,7],\"type\":\"scatter\"},{\"hoverinfo\":\"text\",\"hovertext\":[\"<b>Topic 3</b><br>Words: subgroup, semiprimality, subgroups, group, semigroup\",\"<b>Topic 3</b><br>Words: subgroups, subgroup, products, anthony, product\",\"<b>Topic 3</b><br>Words: semidirect, subgroups, subgroup, product, sherwood\",\"<b>Topic 3</b><br>Words: subgroups, product, group, pointwise, direct\",\"<b>Topic 3</b><br>Words: subgroups, subgroup, group, anti, level\",\"<b>Topic 3</b><br>Words: subgroup, subgroups, group, cyclic, groups\",\"<b>Topic 3</b><br>Words: subgroups, subgroup, group, normal, asaad\",\"<b>Topic 3</b><br>Words: subgroups, group, subgroup, congruence, semigroup\",\"<b>Topic 3</b><br>Words: subgroup, subgroups, group, congruences, semigroup\",\"<b>Topic 3</b><br>Words: subgroups, group, subgroup, semigroup, groups\",\"<b>Topic 3</b><br>Words: subgroups, subgroup, keychain, zpn, primes\",\"<b>Topic 3</b><br>Words: subgroups, equivalence, makamba, murali, discusses\",\"<b>Topic 3</b><br>Words: join, subgroups, hypergroupoid, hyperstructures, hypergroups\",\"<b>Topic 3</b><br>Words: subgroups, ary, join, hypergroups, groupoid\",\"<b>Topic 3</b><br>Words: group, mi, subgroups, groups, subgroup\",\"<b>Topic 3</b><br>Words: mi, group, groups, subgroups, hol\",\"<b>Topic 3</b><br>Words: subgroups, group, subgroup, groups, annihilator\",\"<b>Topic 3</b><br>Words: subgroup, subgroups, aggregation, group, proven\"],\"marker\":{\"color\":\"#F0E442\"},\"mode\":\"lines\",\"name\":\"3_subgroups_subgroup_group_groups\",\"x\":[\"1980-04-07T19:12:00\",\"1982-07-14T14:24:00\",\"1984-10-19T09:36:00\",\"1987-01-25T04:48:00\",\"1989-05-02T00:00:00\",\"1991-08-07T19:12:00\",\"1993-11-12T14:24:00\",\"1996-02-18T09:36:00\",\"1998-05-26T04:48:00\",\"2000-08-31T00:00:00\",\"2002-12-06T19:12:00\",\"2005-03-13T14:24:00\",\"2007-06-19T09:36:00\",\"2009-09-24T04:48:00\",\"2014-04-06T19:12:00\",\"2016-07-12T14:24:00\",\"2018-10-18T09:36:00\",\"2021-01-23T04:48:00\"],\"y\":[2,2,1,2,5,26,25,27,20,9,5,1,3,3,4,1,5,1],\"type\":\"scatter\"},{\"hoverinfo\":\"text\",\"hovertext\":[\"<b>Topic 4</b><br>Words: bzmvdm, algebra, algebras, mv, sharp\",\"<b>Topic 4</b><br>Words: bl, filter, implicative, algebras, valuation\",\"<b>Topic 4</b><br>Words: algebras, effect, modular, algebra, heyting\",\"<b>Topic 4</b><br>Words: algebras, bl, effect, filters, algebra\",\"<b>Topic 4</b><br>Words: algebras, algebra, mv, effect, pseudo\",\"<b>Topic 4</b><br>Words: algebras, algebra, filters, eq, mv\",\"<b>Topic 4</b><br>Words: algebras, mv, mtl, algebra, filters\",\"<b>Topic 4</b><br>Words: algebras, mv, filters, algebra, bl\",\"<b>Topic 4</b><br>Words: algebras, mv, algebra, derivations, bl\",\"<b>Topic 4</b><br>Words: algebras, algebra, mv, residuated, emv\",\"<b>Topic 4</b><br>Words: algebras, mv, algebra, bl, residuated\"],\"marker\":{\"color\":\"#D55E00\"},\"mode\":\"lines\",\"name\":\"4_algebras_mv_algebra_bl\",\"x\":[\"1998-05-26T04:48:00\",\"2000-08-31T00:00:00\",\"2002-12-06T19:12:00\",\"2005-03-13T14:24:00\",\"2007-06-19T09:36:00\",\"2009-09-24T04:48:00\",\"2011-12-31T00:00:00\",\"2014-04-06T19:12:00\",\"2016-07-12T14:24:00\",\"2018-10-18T09:36:00\",\"2021-01-23T04:48:00\"],\"y\":[2,4,5,5,11,10,15,25,15,22,20],\"type\":\"scatter\"},{\"hoverinfo\":\"text\",\"hovertext\":[\"<b>Topic 5</b><br>Words: convergency, thedynamic, modelling, apart, eigenvectors\",\"<b>Topic 5</b><br>Words: combinatorial, solutions, all, equation, characterized\",\"<b>Topic 5</b><br>Words: equations, relation, relational, solutions, card\",\"<b>Topic 5</b><br>Words: equations, solution, equation, relation, perturbation\",\"<b>Topic 5</b><br>Words: equations, tolerances, solution, equation, solutions\",\"<b>Topic 5</b><br>Words: equations, inverses, solution, relational, equation\",\"<b>Topic 5</b><br>Words: equations, solution, vl, bilinear, solutions\",\"<b>Topic 5</b><br>Words: equations, relational, solution, solutions, equation\",\"<b>Topic 5</b><br>Words: equations, relational, composition, solutions, solution\",\"<b>Topic 5</b><br>Words: equations, perturbation, solution, equation, solutions\",\"<b>Topic 5</b><br>Words: equations, solution, compression, equation, relation\",\"<b>Topic 5</b><br>Words: equations, solution, solutions, equation, implication\",\"<b>Topic 5</b><br>Words: solution, equations, unattainable, solutions, relational\",\"<b>Topic 5</b><br>Words: equations, solutions, equation, composition, minimal\",\"<b>Topic 5</b><br>Words: unattainable, solution, attainable, equations, join\",\"<b>Topic 5</b><br>Words: solutions, equations, solution, greatest, relational\",\"<b>Topic 5</b><br>Words: equations, relational, solutions, minimal, solution\",\"<b>Topic 5</b><br>Words: solutions, subeigenvectors, supereigenvectors, equations, solution\",\"<b>Topic 5</b><br>Words: solutions, fls, solution, equations, matrix\",\"<b>Topic 5</b><br>Words: equations, solution, bipolar, solutions, relation\"],\"marker\":{\"color\":\"#0072B2\"},\"mode\":\"lines\",\"name\":\"5_equations_solution_solutions_relationa...\",\"x\":[\"1977-12-15T10:39:21.600000\",\"1980-04-07T19:12:00\",\"1982-07-14T14:24:00\",\"1984-10-19T09:36:00\",\"1987-01-25T04:48:00\",\"1989-05-02T00:00:00\",\"1991-08-07T19:12:00\",\"1993-11-12T14:24:00\",\"1996-02-18T09:36:00\",\"1998-05-26T04:48:00\",\"2000-08-31T00:00:00\",\"2002-12-06T19:12:00\",\"2005-03-13T14:24:00\",\"2007-06-19T09:36:00\",\"2009-09-24T04:48:00\",\"2011-12-31T00:00:00\",\"2014-04-06T19:12:00\",\"2016-07-12T14:24:00\",\"2018-10-18T09:36:00\",\"2021-01-23T04:48:00\"],\"y\":[1,1,7,13,11,11,11,10,6,4,6,4,5,6,2,5,2,3,6,4],\"type\":\"scatter\"},{\"hoverinfo\":\"text\",\"hovertext\":[\"<b>Topic 6</b><br>Words: bd, distributional, accumulation, ad, derived\",\"<b>Topic 6</b><br>Words: menger, copulas, copula, compact, imaoka\",\"<b>Topic 6</b><br>Words: concavity, schur, copulas, property, satisfying\",\"<b>Topic 6</b><br>Words: copulas, copula, quasi, flipping, transformations\",\"<b>Topic 6</b><br>Words: copulas, conic, quasi, copula, bivariate\",\"<b>Topic 6</b><br>Words: copulas, copula, quasi, diagonal, aggregation\",\"<b>Topic 6</b><br>Words: copulas, copula, diagonal, tail, dependence\",\"<b>Topic 6</b><br>Words: copulas, copula, diagonal, dependence, transformations\",\"<b>Topic 6</b><br>Words: copulas, copula, rmm, bivariate, quasi\",\"<b>Topic 6</b><br>Words: copulas, copula, quasi, bivariate, multivariate\"],\"marker\":{\"color\":\"#CC79A7\"},\"mode\":\"lines\",\"name\":\"6_copulas_copula_quasi_diagonal\",\"x\":[\"1993-11-12T14:24:00\",\"2002-12-06T19:12:00\",\"2005-03-13T14:24:00\",\"2007-06-19T09:36:00\",\"2009-09-24T04:48:00\",\"2011-12-31T00:00:00\",\"2014-04-06T19:12:00\",\"2016-07-12T14:24:00\",\"2018-10-18T09:36:00\",\"2021-01-23T04:48:00\"],\"y\":[1,2,1,9,5,20,19,12,22,27],\"type\":\"scatter\"},{\"hoverinfo\":\"text\",\"hovertext\":[\"<b>Topic 7</b><br>Words: adaptive, tracking, controller, control, law\",\"<b>Topic 7</b><br>Words: tracking, adaptive, control, unknown, uncertainties\",\"<b>Topic 7</b><br>Words: adaptive, tracking, control, scheme, unknown\",\"<b>Topic 7</b><br>Words: adaptive, tracking, control, nonlinear, unknown\",\"<b>Topic 7</b><br>Words: adaptive, control, tracking, unknown, controller\",\"<b>Topic 7</b><br>Words: adaptive, tracking, control, unknown, nonlinear\",\"<b>Topic 7</b><br>Words: adaptive, tracking, control, nonlinear, unknown\",\"<b>Topic 7</b><br>Words: adaptive, unknown, tracking, control, loop\",\"<b>Topic 7</b><br>Words: adaptive, tracking, control, unknown, feedback\",\"<b>Topic 7</b><br>Words: adaptive, tracking, unknown, control, nonlinear\",\"<b>Topic 7</b><br>Words: adaptive, tracking, control, unknown, nonlinear\",\"<b>Topic 7</b><br>Words: switching, subsystem, zeno, mismatched, adaptive\"],\"marker\":{\"color\":\"#E69F00\"},\"mode\":\"lines\",\"name\":\"7_adaptive_tracking_control_unknown\",\"x\":[\"1996-02-18T09:36:00\",\"1998-05-26T04:48:00\",\"2000-08-31T00:00:00\",\"2002-12-06T19:12:00\",\"2005-03-13T14:24:00\",\"2007-06-19T09:36:00\",\"2009-09-24T04:48:00\",\"2011-12-31T00:00:00\",\"2014-04-06T19:12:00\",\"2016-07-12T14:24:00\",\"2018-10-18T09:36:00\",\"2021-01-23T04:48:00\"],\"y\":[4,4,8,11,10,8,12,4,14,18,16,1],\"type\":\"scatter\"},{\"hoverinfo\":\"text\",\"hovertext\":[\"<b>Topic 8</b><br>Words: random, stationary, hausdorf, limiting, expectation\",\"<b>Topic 8</b><br>Words: random, variables, celebrated, birkhoff, sequence\",\"<b>Topic 8</b><br>Words: random, fev, domain, variables, variable\",\"<b>Topic 8</b><br>Words: random, variables, excitation, variable, slln\",\"<b>Topic 8</b><br>Words: random, banach, stochastic, variables, subsets\",\"<b>Topic 8</b><br>Words: random, convergence, sn, variables, xnk\",\"<b>Topic 8</b><br>Words: random, stochastic, differential, response, domain\",\"<b>Topic 8</b><br>Words: random, variable, stochastic, ecn, variables\",\"<b>Topic 8</b><br>Words: random, variables, convergence, stochastic, strong\",\"<b>Topic 8</b><br>Words: random, variables, markov, sub, fc\",\"<b>Topic 8</b><br>Words: random, stochastic, variables, brownian, space\",\"<b>Topic 8</b><br>Words: random, complex, statistical, variables, variable\",\"<b>Topic 8</b><br>Words: random, nucleation, stochastic, growth, interpretation\",\"<b>Topic 8</b><br>Words: random, stochastic, frv, aumann, variables\",\"<b>Topic 8</b><br>Words: random, bootstrap, expected, variables, tests\",\"<b>Topic 8</b><br>Words: population, density, growth, carrying, random\",\"<b>Topic 8</b><br>Words: random, variables, stochastic, convergence, depth\"],\"marker\":{\"color\":\"#56B4E9\"},\"mode\":\"lines\",\"name\":\"8_random_variables_stochastic_variable\",\"x\":[\"1980-04-07T19:12:00\",\"1982-07-14T14:24:00\",\"1987-01-25T04:48:00\",\"1989-05-02T00:00:00\",\"1991-08-07T19:12:00\",\"1993-11-12T14:24:00\",\"1996-02-18T09:36:00\",\"1998-05-26T04:48:00\",\"2000-08-31T00:00:00\",\"2002-12-06T19:12:00\",\"2005-03-13T14:24:00\",\"2007-06-19T09:36:00\",\"2009-09-24T04:48:00\",\"2011-12-31T00:00:00\",\"2014-04-06T19:12:00\",\"2016-07-12T14:24:00\",\"2021-01-23T04:48:00\"],\"y\":[2,2,5,6,5,4,9,14,17,8,11,5,3,7,3,1,6],\"type\":\"scatter\"},{\"hoverinfo\":\"text\",\"hovertext\":[\"<b>Topic 9</b><br>Words: algebra, sets, my, operations, sphere\",\"<b>Topic 9</b><br>Words: sets, universes, union, grade, conectives\",\"<b>Topic 9</b><br>Words: code, neuron, crayfish, abdominal, codewords\",\"<b>Topic 9</b><br>Words: semicardinals, notion, cardinality, characterization, theory\",\"<b>Topic 9</b><br>Words: twofold, sets, set, many, theory\",\"<b>Topic 9</b><br>Words: decomposable, pseudomeasure, mstf, sets, set\",\"<b>Topic 9</b><br>Words: sets, set, code, theory, indicators\",\"<b>Topic 9</b><br>Words: hypergraph, graded, gcf, fst, set\",\"<b>Topic 9</b><br>Words: giertz, colorings, proximities, hypergraphs, bellman\",\"<b>Topic 9</b><br>Words: union, intersecting, hypergraphs, intersection, decomposition\",\"<b>Topic 9</b><br>Words: sets, flcounts, fgcounts, fecounts, finite\",\"<b>Topic 9</b><br>Words: inclusion, dougherty, sinha, sets, mappings\",\"<b>Topic 9</b><br>Words: subsets, set, biopolymers, sets, nucleic\",\"<b>Topic 9</b><br>Words: rigid, sets, collection, set, uniqueness\",\"<b>Topic 9</b><br>Words: nested, sets, set, subsets, multivariate\",\"<b>Topic 9</b><br>Words: polar, polarity, multi, perturbation, sets\",\"<b>Topic 9</b><br>Words: personal, pioneers, accomplishments, kiyoji, lasting\",\"<b>Topic 9</b><br>Words: mathematics, sets, supported, finitely, cardinal\",\"<b>Topic 9</b><br>Words: inclusion, domain, sets, operands, variable\",\"<b>Topic 9</b><br>Words: disjunction, ndez, hern, conjunction, duality\"],\"marker\":{\"color\":\"#009E73\"},\"mode\":\"lines\",\"name\":\"9_sets_set_theory_inclusion\",\"x\":[\"1977-12-15T10:39:21.600000\",\"1980-04-07T19:12:00\",\"1982-07-14T14:24:00\",\"1984-10-19T09:36:00\",\"1987-01-25T04:48:00\",\"1989-05-02T00:00:00\",\"1991-08-07T19:12:00\",\"1993-11-12T14:24:00\",\"1996-02-18T09:36:00\",\"1998-05-26T04:48:00\",\"2000-08-31T00:00:00\",\"2002-12-06T19:12:00\",\"2005-03-13T14:24:00\",\"2007-06-19T09:36:00\",\"2009-09-24T04:48:00\",\"2011-12-31T00:00:00\",\"2014-04-06T19:12:00\",\"2016-07-12T14:24:00\",\"2018-10-18T09:36:00\",\"2021-01-23T04:48:00\"],\"y\":[3,5,3,4,7,7,15,5,6,8,5,3,7,4,4,4,1,3,6,1],\"type\":\"scatter\"}],                        {\"template\":{\"data\":{\"barpolar\":[{\"marker\":{\"line\":{\"color\":\"white\",\"width\":0.5},\"pattern\":{\"fillmode\":\"overlay\",\"size\":10,\"solidity\":0.2}},\"type\":\"barpolar\"}],\"bar\":[{\"error_x\":{\"color\":\"rgb(36,36,36)\"},\"error_y\":{\"color\":\"rgb(36,36,36)\"},\"marker\":{\"line\":{\"color\":\"white\",\"width\":0.5},\"pattern\":{\"fillmode\":\"overlay\",\"size\":10,\"solidity\":0.2}},\"type\":\"bar\"}],\"carpet\":[{\"aaxis\":{\"endlinecolor\":\"rgb(36,36,36)\",\"gridcolor\":\"white\",\"linecolor\":\"white\",\"minorgridcolor\":\"white\",\"startlinecolor\":\"rgb(36,36,36)\"},\"baxis\":{\"endlinecolor\":\"rgb(36,36,36)\",\"gridcolor\":\"white\",\"linecolor\":\"white\",\"minorgridcolor\":\"white\",\"startlinecolor\":\"rgb(36,36,36)\"},\"type\":\"carpet\"}],\"choropleth\":[{\"colorbar\":{\"outlinewidth\":1,\"tickcolor\":\"rgb(36,36,36)\",\"ticks\":\"outside\"},\"type\":\"choropleth\"}],\"contourcarpet\":[{\"colorbar\":{\"outlinewidth\":1,\"tickcolor\":\"rgb(36,36,36)\",\"ticks\":\"outside\"},\"type\":\"contourcarpet\"}],\"contour\":[{\"colorbar\":{\"outlinewidth\":1,\"tickcolor\":\"rgb(36,36,36)\",\"ticks\":\"outside\"},\"colorscale\":[[0.0,\"#440154\"],[0.1111111111111111,\"#482878\"],[0.2222222222222222,\"#3e4989\"],[0.3333333333333333,\"#31688e\"],[0.4444444444444444,\"#26828e\"],[0.5555555555555556,\"#1f9e89\"],[0.6666666666666666,\"#35b779\"],[0.7777777777777778,\"#6ece58\"],[0.8888888888888888,\"#b5de2b\"],[1.0,\"#fde725\"]],\"type\":\"contour\"}],\"heatmapgl\":[{\"colorbar\":{\"outlinewidth\":1,\"tickcolor\":\"rgb(36,36,36)\",\"ticks\":\"outside\"},\"colorscale\":[[0.0,\"#440154\"],[0.1111111111111111,\"#482878\"],[0.2222222222222222,\"#3e4989\"],[0.3333333333333333,\"#31688e\"],[0.4444444444444444,\"#26828e\"],[0.5555555555555556,\"#1f9e89\"],[0.6666666666666666,\"#35b779\"],[0.7777777777777778,\"#6ece58\"],[0.8888888888888888,\"#b5de2b\"],[1.0,\"#fde725\"]],\"type\":\"heatmapgl\"}],\"heatmap\":[{\"colorbar\":{\"outlinewidth\":1,\"tickcolor\":\"rgb(36,36,36)\",\"ticks\":\"outside\"},\"colorscale\":[[0.0,\"#440154\"],[0.1111111111111111,\"#482878\"],[0.2222222222222222,\"#3e4989\"],[0.3333333333333333,\"#31688e\"],[0.4444444444444444,\"#26828e\"],[0.5555555555555556,\"#1f9e89\"],[0.6666666666666666,\"#35b779\"],[0.7777777777777778,\"#6ece58\"],[0.8888888888888888,\"#b5de2b\"],[1.0,\"#fde725\"]],\"type\":\"heatmap\"}],\"histogram2dcontour\":[{\"colorbar\":{\"outlinewidth\":1,\"tickcolor\":\"rgb(36,36,36)\",\"ticks\":\"outside\"},\"colorscale\":[[0.0,\"#440154\"],[0.1111111111111111,\"#482878\"],[0.2222222222222222,\"#3e4989\"],[0.3333333333333333,\"#31688e\"],[0.4444444444444444,\"#26828e\"],[0.5555555555555556,\"#1f9e89\"],[0.6666666666666666,\"#35b779\"],[0.7777777777777778,\"#6ece58\"],[0.8888888888888888,\"#b5de2b\"],[1.0,\"#fde725\"]],\"type\":\"histogram2dcontour\"}],\"histogram2d\":[{\"colorbar\":{\"outlinewidth\":1,\"tickcolor\":\"rgb(36,36,36)\",\"ticks\":\"outside\"},\"colorscale\":[[0.0,\"#440154\"],[0.1111111111111111,\"#482878\"],[0.2222222222222222,\"#3e4989\"],[0.3333333333333333,\"#31688e\"],[0.4444444444444444,\"#26828e\"],[0.5555555555555556,\"#1f9e89\"],[0.6666666666666666,\"#35b779\"],[0.7777777777777778,\"#6ece58\"],[0.8888888888888888,\"#b5de2b\"],[1.0,\"#fde725\"]],\"type\":\"histogram2d\"}],\"histogram\":[{\"marker\":{\"line\":{\"color\":\"white\",\"width\":0.6}},\"type\":\"histogram\"}],\"mesh3d\":[{\"colorbar\":{\"outlinewidth\":1,\"tickcolor\":\"rgb(36,36,36)\",\"ticks\":\"outside\"},\"type\":\"mesh3d\"}],\"parcoords\":[{\"line\":{\"colorbar\":{\"outlinewidth\":1,\"tickcolor\":\"rgb(36,36,36)\",\"ticks\":\"outside\"}},\"type\":\"parcoords\"}],\"pie\":[{\"automargin\":true,\"type\":\"pie\"}],\"scatter3d\":[{\"line\":{\"colorbar\":{\"outlinewidth\":1,\"tickcolor\":\"rgb(36,36,36)\",\"ticks\":\"outside\"}},\"marker\":{\"colorbar\":{\"outlinewidth\":1,\"tickcolor\":\"rgb(36,36,36)\",\"ticks\":\"outside\"}},\"type\":\"scatter3d\"}],\"scattercarpet\":[{\"marker\":{\"colorbar\":{\"outlinewidth\":1,\"tickcolor\":\"rgb(36,36,36)\",\"ticks\":\"outside\"}},\"type\":\"scattercarpet\"}],\"scattergeo\":[{\"marker\":{\"colorbar\":{\"outlinewidth\":1,\"tickcolor\":\"rgb(36,36,36)\",\"ticks\":\"outside\"}},\"type\":\"scattergeo\"}],\"scattergl\":[{\"marker\":{\"colorbar\":{\"outlinewidth\":1,\"tickcolor\":\"rgb(36,36,36)\",\"ticks\":\"outside\"}},\"type\":\"scattergl\"}],\"scattermapbox\":[{\"marker\":{\"colorbar\":{\"outlinewidth\":1,\"tickcolor\":\"rgb(36,36,36)\",\"ticks\":\"outside\"}},\"type\":\"scattermapbox\"}],\"scatterpolargl\":[{\"marker\":{\"colorbar\":{\"outlinewidth\":1,\"tickcolor\":\"rgb(36,36,36)\",\"ticks\":\"outside\"}},\"type\":\"scatterpolargl\"}],\"scatterpolar\":[{\"marker\":{\"colorbar\":{\"outlinewidth\":1,\"tickcolor\":\"rgb(36,36,36)\",\"ticks\":\"outside\"}},\"type\":\"scatterpolar\"}],\"scatter\":[{\"fillpattern\":{\"fillmode\":\"overlay\",\"size\":10,\"solidity\":0.2},\"type\":\"scatter\"}],\"scatterternary\":[{\"marker\":{\"colorbar\":{\"outlinewidth\":1,\"tickcolor\":\"rgb(36,36,36)\",\"ticks\":\"outside\"}},\"type\":\"scatterternary\"}],\"surface\":[{\"colorbar\":{\"outlinewidth\":1,\"tickcolor\":\"rgb(36,36,36)\",\"ticks\":\"outside\"},\"colorscale\":[[0.0,\"#440154\"],[0.1111111111111111,\"#482878\"],[0.2222222222222222,\"#3e4989\"],[0.3333333333333333,\"#31688e\"],[0.4444444444444444,\"#26828e\"],[0.5555555555555556,\"#1f9e89\"],[0.6666666666666666,\"#35b779\"],[0.7777777777777778,\"#6ece58\"],[0.8888888888888888,\"#b5de2b\"],[1.0,\"#fde725\"]],\"type\":\"surface\"}],\"table\":[{\"cells\":{\"fill\":{\"color\":\"rgb(237,237,237)\"},\"line\":{\"color\":\"white\"}},\"header\":{\"fill\":{\"color\":\"rgb(217,217,217)\"},\"line\":{\"color\":\"white\"}},\"type\":\"table\"}]},\"layout\":{\"annotationdefaults\":{\"arrowhead\":0,\"arrowwidth\":1},\"autotypenumbers\":\"strict\",\"coloraxis\":{\"colorbar\":{\"outlinewidth\":1,\"tickcolor\":\"rgb(36,36,36)\",\"ticks\":\"outside\"}},\"colorscale\":{\"diverging\":[[0.0,\"rgb(103,0,31)\"],[0.1,\"rgb(178,24,43)\"],[0.2,\"rgb(214,96,77)\"],[0.3,\"rgb(244,165,130)\"],[0.4,\"rgb(253,219,199)\"],[0.5,\"rgb(247,247,247)\"],[0.6,\"rgb(209,229,240)\"],[0.7,\"rgb(146,197,222)\"],[0.8,\"rgb(67,147,195)\"],[0.9,\"rgb(33,102,172)\"],[1.0,\"rgb(5,48,97)\"]],\"sequential\":[[0.0,\"#440154\"],[0.1111111111111111,\"#482878\"],[0.2222222222222222,\"#3e4989\"],[0.3333333333333333,\"#31688e\"],[0.4444444444444444,\"#26828e\"],[0.5555555555555556,\"#1f9e89\"],[0.6666666666666666,\"#35b779\"],[0.7777777777777778,\"#6ece58\"],[0.8888888888888888,\"#b5de2b\"],[1.0,\"#fde725\"]],\"sequentialminus\":[[0.0,\"#440154\"],[0.1111111111111111,\"#482878\"],[0.2222222222222222,\"#3e4989\"],[0.3333333333333333,\"#31688e\"],[0.4444444444444444,\"#26828e\"],[0.5555555555555556,\"#1f9e89\"],[0.6666666666666666,\"#35b779\"],[0.7777777777777778,\"#6ece58\"],[0.8888888888888888,\"#b5de2b\"],[1.0,\"#fde725\"]]},\"colorway\":[\"#1F77B4\",\"#FF7F0E\",\"#2CA02C\",\"#D62728\",\"#9467BD\",\"#8C564B\",\"#E377C2\",\"#7F7F7F\",\"#BCBD22\",\"#17BECF\"],\"font\":{\"color\":\"rgb(36,36,36)\"},\"geo\":{\"bgcolor\":\"white\",\"lakecolor\":\"white\",\"landcolor\":\"white\",\"showlakes\":true,\"showland\":true,\"subunitcolor\":\"white\"},\"hoverlabel\":{\"align\":\"left\"},\"hovermode\":\"closest\",\"mapbox\":{\"style\":\"light\"},\"paper_bgcolor\":\"white\",\"plot_bgcolor\":\"white\",\"polar\":{\"angularaxis\":{\"gridcolor\":\"rgb(232,232,232)\",\"linecolor\":\"rgb(36,36,36)\",\"showgrid\":false,\"showline\":true,\"ticks\":\"outside\"},\"bgcolor\":\"white\",\"radialaxis\":{\"gridcolor\":\"rgb(232,232,232)\",\"linecolor\":\"rgb(36,36,36)\",\"showgrid\":false,\"showline\":true,\"ticks\":\"outside\"}},\"scene\":{\"xaxis\":{\"backgroundcolor\":\"white\",\"gridcolor\":\"rgb(232,232,232)\",\"gridwidth\":2,\"linecolor\":\"rgb(36,36,36)\",\"showbackground\":true,\"showgrid\":false,\"showline\":true,\"ticks\":\"outside\",\"zeroline\":false,\"zerolinecolor\":\"rgb(36,36,36)\"},\"yaxis\":{\"backgroundcolor\":\"white\",\"gridcolor\":\"rgb(232,232,232)\",\"gridwidth\":2,\"linecolor\":\"rgb(36,36,36)\",\"showbackground\":true,\"showgrid\":false,\"showline\":true,\"ticks\":\"outside\",\"zeroline\":false,\"zerolinecolor\":\"rgb(36,36,36)\"},\"zaxis\":{\"backgroundcolor\":\"white\",\"gridcolor\":\"rgb(232,232,232)\",\"gridwidth\":2,\"linecolor\":\"rgb(36,36,36)\",\"showbackground\":true,\"showgrid\":false,\"showline\":true,\"ticks\":\"outside\",\"zeroline\":false,\"zerolinecolor\":\"rgb(36,36,36)\"}},\"shapedefaults\":{\"fillcolor\":\"black\",\"line\":{\"width\":0},\"opacity\":0.3},\"ternary\":{\"aaxis\":{\"gridcolor\":\"rgb(232,232,232)\",\"linecolor\":\"rgb(36,36,36)\",\"showgrid\":false,\"showline\":true,\"ticks\":\"outside\"},\"baxis\":{\"gridcolor\":\"rgb(232,232,232)\",\"linecolor\":\"rgb(36,36,36)\",\"showgrid\":false,\"showline\":true,\"ticks\":\"outside\"},\"bgcolor\":\"white\",\"caxis\":{\"gridcolor\":\"rgb(232,232,232)\",\"linecolor\":\"rgb(36,36,36)\",\"showgrid\":false,\"showline\":true,\"ticks\":\"outside\"}},\"title\":{\"x\":0.05},\"xaxis\":{\"automargin\":true,\"gridcolor\":\"rgb(232,232,232)\",\"linecolor\":\"rgb(36,36,36)\",\"showgrid\":false,\"showline\":true,\"ticks\":\"outside\",\"title\":{\"standoff\":15},\"zeroline\":false,\"zerolinecolor\":\"rgb(36,36,36)\"},\"yaxis\":{\"automargin\":true,\"gridcolor\":\"rgb(232,232,232)\",\"linecolor\":\"rgb(36,36,36)\",\"showgrid\":false,\"showline\":true,\"ticks\":\"outside\",\"title\":{\"standoff\":15},\"zeroline\":false,\"zerolinecolor\":\"rgb(36,36,36)\"}}},\"xaxis\":{\"showgrid\":true},\"yaxis\":{\"showgrid\":true,\"title\":{\"text\":\"Frequency\"}},\"title\":{\"font\":{\"size\":22,\"color\":\"Black\"},\"text\":\"<b>Topics over Time</b>\",\"y\":0.95,\"x\":0.4,\"xanchor\":\"center\",\"yanchor\":\"top\"},\"hoverlabel\":{\"font\":{\"size\":16,\"family\":\"Rockwell\"},\"bgcolor\":\"white\"},\"width\":1250,\"height\":450,\"legend\":{\"title\":{\"text\":\"<b>Global Topic Representation\"}}},                        {\"responsive\": true}                    ).then(function(){\n                            \nvar gd = document.getElementById('4fa792f5-fc0c-4a74-bb1e-c6103f7a053e');\nvar x = new MutationObserver(function (mutations, observer) {{\n        var display = window.getComputedStyle(gd).display;\n        if (!display || display === 'none') {{\n            console.log([gd, 'removed!']);\n            Plotly.purge(gd);\n            observer.disconnect();\n        }}\n}});\n\n// Listen for the removal of the full notebook cells\nvar notebookContainer = gd.closest('#notebook-container');\nif (notebookContainer) {{\n    x.observe(notebookContainer, {childList: true});\n}}\n\n// Listen for the clearing of the current output cell\nvar outputEl = gd.closest('.output');\nif (outputEl) {{\n    x.observe(outputEl, {childList: true});\n}}\n\n                        })                };                });            </script>        </div>"
     },
     "metadata": {},
     "output_type": "display_data"
    }
   ],
   "source": [
    "topic_model.visualize_topics_over_time(topics_over_time, top_n_topics=10)"
   ],
   "metadata": {
    "collapsed": false,
    "ExecuteTime": {
     "end_time": "2023-06-04T17:34:54.346718700Z",
     "start_time": "2023-06-04T17:34:54.290718200Z"
    }
   }
  },
  {
   "cell_type": "code",
   "execution_count": null,
   "outputs": [],
   "source": [],
   "metadata": {
    "collapsed": false
   }
  }
 ],
 "metadata": {
  "kernelspec": {
   "display_name": "Python 3",
   "language": "python",
   "name": "python3"
  },
  "language_info": {
   "codemirror_mode": {
    "name": "ipython",
    "version": 2
   },
   "file_extension": ".py",
   "mimetype": "text/x-python",
   "name": "python",
   "nbconvert_exporter": "python",
   "pygments_lexer": "ipython2",
   "version": "2.7.6"
  }
 },
 "nbformat": 4,
 "nbformat_minor": 0
}
