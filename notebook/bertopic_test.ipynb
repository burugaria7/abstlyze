{
 "cells": [
  {
   "cell_type": "code",
   "execution_count": 1,
   "metadata": {
    "collapsed": true,
    "ExecuteTime": {
     "end_time": "2023-06-19T16:38:32.083226200Z",
     "start_time": "2023-06-19T16:38:30.954726500Z"
    }
   },
   "outputs": [
    {
     "name": "stdout",
     "output_type": "stream",
     "text": [
      "['a concept of multi valued cognitive maps is introduced in this paper the concept expands the fuzzy one however all variables and weights are not linearly ordered in the concept but are only partially ordered such an approach allows us to operate in cognitive maps with partially ordered linguistic variables directly without vague fuzzification defuzzification methods hence we may consider more subtle differences in degrees of experts uncertainty than in the fuzzy case we prove the convergence of such cognitive maps and give two simple computational examples which demonstrate using such a partially ordered uncertainty degree scale compared to the fuzzy case'\n",
      " 'in this paper we investigate the fixed time synchronization for fuzzy inertial neural networks with time varying coefficients and time delays the fuzzy inertial neural networks are transformed into two forms of first order differential systems and then two kinds of different controllers of time variable are designed in these schemes a series of novel criteria are proposed to ensure the fixed time synchronization for the drive response fuzzy inertial neural networks via state feedback control methods sufficient conditions of delay dependent and delay independent are obtained in terms of algebraic inequalities not the matrix inequalities moreover these new criteria allow the derivative of the lyapunov function can be positive but not negative definite as the earlier work and the algebraic conditions become easy to be tested under the new criteria finally two examples are added to illustrate effectiveness of the results we obtained meanwhile a new image encryption algorithm is proposed based on the synchronization of drive response networks and the effectiveness of this algorithm is also demonstrated'\n",
      " 'for most bayesian inference problems that are of interest solving for the model parameter posterior probability distribution remains to be the main challenge a typical technique entails using markov chain monte carlo mcmc in order to obtain an approximation of the posterior distribution however one drawback of mcmc is that it usually requires solving the forward problem multiple times which could be infeasible if the forward model is computationally expensive in this paper a computationally cheap surrogate model is developed using the adaptive neuro fuzzy inference system with a fuzzy c means initialization anfis fcm the optimal number of fuzzy rules is chosen via a proposed algorithm based on the pairing frequency clustering validity index the effectiveness of the anfis fcm model is tested on inferring reaction rate parameters in a node network toy problem which mimics idealized combustion reaction networks using multiple error measures it is shown that the developed anfis fcm model is capable of constructing accurate surrogate models at a minimal computational cost'\n",
      " ...\n",
      " 'in the recent past numerous models and methods have been suggested to solve the vectormaximum problem most of these approaches center their attention on linear programming problems with several objective functions apart from these approaches the theory of fuzzy sets has been employed to formulate and solve fuzzy linear programming problems this paper presents the application of fuzzy linear programming approaches to the linear vectormaximum problem it shows that solutions obtained by fuzzy linear programming are always efficient solutions it also shows the consequences of using different ways of combining individual objective functions in order to determine an optimal compromise solution'\n",
      " 'the complexity of experience acquired through our senses and as interpreted by our mind is fuzzy and must remain so as long as the meaning of things change as they are embedded in larger or different contexts to relate them to new ideas and new experiences here we give a method for measuring the relativity of fuzziness by structuring the functions of a system hierarchically in a multiple objective framework the method is based on computing the principal eigenvector of a positive matrix with reciprocal entries i e aji aij the eigenvector provides an estimate for an assumed underlying ratio scale for a single property the scale provides a measure of the grade of membership of elements in a fuzzy set according to that property and the departure of the eigenvalue from the dimension of the matrix serves as a measure of departure from consistency for a number of properties the principle of hierarchical composition enables us to compose the eigenvectors into a priority vector which measures the fuzziness of the elements in the lowest level of the hierarchy with respect to the relative dominance of the purposes or properties represented in the hierarchy'\n",
      " 'when r is a fuzzy relation between the elements of a finite set x the fuzzy subsets a of x such that r a a max min composition are called eigen fuzzy sets in this paper we describe algorithms for the determination of the greatest eigen fuzzy set associated with a given fuzzy relation thinking of medical diagnosis applications']\n"
     ]
    }
   ],
   "source": [
    "import re\n",
    "import pandas as pd\n",
    "import numpy as np\n",
    "\n",
    "# Prepare data\n",
    "trump = pd.read_csv('dataset\\\\fsas\\\\fsas_full_utf8_dated.csv')\n",
    "trump.abstract = trump.apply(lambda row: re.sub(r\"http\\S+\", \"\", row.abstract).lower(), 1)\n",
    "trump.abstract = trump.apply(lambda row: \" \".join(filter(lambda x: x[0] != \"@\", row.abstract.split())), 1)\n",
    "trump.abstract = trump.apply(lambda row: \" \".join(re.sub(\"[^a-zA-Z]+\", \" \", row.abstract).split()), 1)\n",
    "# trump = trump.loc[(trump.isRetweet == \"f\") & (trump.abstract != \"\"), :]\n",
    "timestamps = trump.date.to_list()\n",
    "abstracts = trump.abstract.to_list()\n",
    "\n",
    "arr_multi = np.array(abstracts)\n",
    "print(arr_multi)"
   ]
  },
  {
   "cell_type": "code",
   "execution_count": 2,
   "outputs": [
    {
     "name": "stderr",
     "output_type": "stream",
     "text": [
      "C:\\Users\\Re\\Documents\\GitHub\\abstlyze\\venv\\lib\\site-packages\\umap\\distances.py:1063: NumbaDeprecationWarning: \u001B[1mThe 'nopython' keyword argument was not supplied to the 'numba.jit' decorator. The implicit default value for this argument is currently False, but it will be changed to True in Numba 0.59.0. See https://numba.readthedocs.io/en/stable/reference/deprecation.html#deprecation-of-object-mode-fall-back-behaviour-when-using-jit for details.\u001B[0m\n",
      "  @numba.jit()\n",
      "C:\\Users\\Re\\Documents\\GitHub\\abstlyze\\venv\\lib\\site-packages\\umap\\distances.py:1071: NumbaDeprecationWarning: \u001B[1mThe 'nopython' keyword argument was not supplied to the 'numba.jit' decorator. The implicit default value for this argument is currently False, but it will be changed to True in Numba 0.59.0. See https://numba.readthedocs.io/en/stable/reference/deprecation.html#deprecation-of-object-mode-fall-back-behaviour-when-using-jit for details.\u001B[0m\n",
      "  @numba.jit()\n",
      "C:\\Users\\Re\\Documents\\GitHub\\abstlyze\\venv\\lib\\site-packages\\umap\\distances.py:1086: NumbaDeprecationWarning: \u001B[1mThe 'nopython' keyword argument was not supplied to the 'numba.jit' decorator. The implicit default value for this argument is currently False, but it will be changed to True in Numba 0.59.0. See https://numba.readthedocs.io/en/stable/reference/deprecation.html#deprecation-of-object-mode-fall-back-behaviour-when-using-jit for details.\u001B[0m\n",
      "  @numba.jit()\n",
      "C:\\Users\\Re\\Documents\\GitHub\\abstlyze\\venv\\lib\\site-packages\\umap\\umap_.py:660: NumbaDeprecationWarning: \u001B[1mThe 'nopython' keyword argument was not supplied to the 'numba.jit' decorator. The implicit default value for this argument is currently False, but it will be changed to True in Numba 0.59.0. See https://numba.readthedocs.io/en/stable/reference/deprecation.html#deprecation-of-object-mode-fall-back-behaviour-when-using-jit for details.\u001B[0m\n",
      "  @numba.jit()\n"
     ]
    },
    {
     "data": {
      "text/plain": "Batches:   0%|          | 0/269 [00:00<?, ?it/s]",
      "application/vnd.jupyter.widget-view+json": {
       "version_major": 2,
       "version_minor": 0,
       "model_id": "88de7d071337493ab0a887a401f37326"
      }
     },
     "metadata": {},
     "output_type": "display_data"
    },
    {
     "name": "stderr",
     "output_type": "stream",
     "text": [
      "2023-06-20 01:40:36,365 - BERTopic - Transformed documents to Embeddings\n",
      "2023-06-20 01:40:55,977 - BERTopic - Reduced dimensionality\n",
      "2023-06-20 01:40:56,167 - BERTopic - Clustered reduced embeddings\n"
     ]
    }
   ],
   "source": [
    "from bertopic import BERTopic\n",
    "\n",
    "topic_model = BERTopic(verbose=True)\n",
    "topics, probs = topic_model.fit_transform(abstracts)"
   ],
   "metadata": {
    "collapsed": false,
    "ExecuteTime": {
     "end_time": "2023-06-19T16:40:57.177726100Z",
     "start_time": "2023-06-19T16:38:32.084226100Z"
    }
   }
  },
  {
   "cell_type": "code",
   "execution_count": 9,
   "outputs": [],
   "source": [
    "nr_bins = 30"
   ],
   "metadata": {
    "collapsed": false,
    "ExecuteTime": {
     "end_time": "2023-06-19T16:59:23.870900900Z",
     "start_time": "2023-06-19T16:59:23.852901500Z"
    }
   }
  },
  {
   "cell_type": "code",
   "execution_count": 3,
   "outputs": [
    {
     "name": "stderr",
     "output_type": "stream",
     "text": [
      "30it [00:02, 12.18it/s]\n"
     ]
    }
   ],
   "source": [
    "\n",
    "topics_over_time = topic_model.topics_over_time(abstracts, timestamps, nr_bins=nr_bins)"
   ],
   "metadata": {
    "collapsed": false,
    "ExecuteTime": {
     "end_time": "2023-06-19T16:40:59.703726300Z",
     "start_time": "2023-06-19T16:40:57.178226Z"
    }
   }
  },
  {
   "cell_type": "code",
   "execution_count": 12,
   "outputs": [
    {
     "data": {
      "application/vnd.plotly.v1+json": {
       "data": [
        {
         "hoverinfo": "text",
         "hovertext": [
          "<b>Topic 0</b><br>Words: decision, alternatives, preference, team, making",
          "<b>Topic 0</b><br>Words: decision, alternatives, unanimity, team, group",
          "<b>Topic 0</b><br>Words: preference, decision, leadership, nonfuzzy, evaluations",
          "<b>Topic 0</b><br>Words: choice, consensus, criteria, credit, decision",
          "<b>Topic 0</b><br>Words: stresses, alternatives, preference, acceptability, criteria",
          "<b>Topic 0</b><br>Words: preference, alternatives, decision, utilities, making",
          "<b>Topic 0</b><br>Words: preference, decision, alternatives, utility, making",
          "<b>Topic 0</b><br>Words: alternatives, decision, choices, calculated, weights",
          "<b>Topic 0</b><br>Words: choice, nondomination, cim, decision, criteria",
          "<b>Topic 0</b><br>Words: preference, decision, social, choice, alternatives",
          "<b>Topic 0</b><br>Words: ahp, preference, decision, rationality, alternatives",
          "<b>Topic 0</b><br>Words: preference, decision, alternatives, relation, choice",
          "<b>Topic 0</b><br>Words: preference, decision, ranking, making, alternatives",
          "<b>Topic 0</b><br>Words: preference, decision, alternatives, choice, ranking",
          "<b>Topic 0</b><br>Words: preference, alternatives, decision, ranking, linguistic",
          "<b>Topic 0</b><br>Words: preference, decision, alternatives, criteria, making",
          "<b>Topic 0</b><br>Words: preference, decision, alternatives, choice, making",
          "<b>Topic 0</b><br>Words: voter, inexact, majority, benign, outputs",
          "<b>Topic 0</b><br>Words: preference, transitivity, alternatives, decision, madm",
          "<b>Topic 0</b><br>Words: preference, decision, reciprocity, herrera, weights",
          "<b>Topic 0</b><br>Words: preference, decision, topsis, consistency, choice",
          "<b>Topic 0</b><br>Words: transitivity, reciprocal, inconsistency, rankings, classifier",
          "<b>Topic 0</b><br>Words: preference, duplex, reciprocal, alternatives, outranking",
          "<b>Topic 0</b><br>Words: reciprocal, preference, consensus, consistency, relations",
          "<b>Topic 0</b><br>Words: preference, decision, reciprocal, consistency, consensus",
          "<b>Topic 0</b><br>Words: preference, consistency, pcm, reciprocal, consensus",
          "<b>Topic 0</b><br>Words: consistency, preference, reciprocal, ranking, decision",
          "<b>Topic 0</b><br>Words: preference, decision, alternatives, consistency, making",
          "<b>Topic 0</b><br>Words: preference, consistency, decision, reciprocal, alternatives",
          "<b>Topic 0</b><br>Words: consistency, preference, elicit, decision, inconsistency"
         ],
         "marker": {
          "color": "#E69F00"
         },
         "mode": "lines",
         "name": "0_preference_decision_alternatives_makin...",
         "x": [
          "1977-12-15T10:39:21.600000",
          "1979-07-06T20:48:00",
          "1981-01-08T17:36:00",
          "1982-07-14T14:24:00",
          "1984-01-17T11:12:00",
          "1985-07-22T08:00:00",
          "1987-01-25T04:48:00",
          "1988-07-30T01:36:00",
          "1990-02-01T22:24:00",
          "1991-08-07T19:12:00",
          "1993-02-09T16:00:00",
          "1994-08-15T12:48:00",
          "1996-02-18T09:36:00",
          "1997-08-23T06:24:00",
          "1999-02-26T03:12:00",
          "2000-08-31T00:00:00",
          "2002-03-05T20:48:00",
          "2003-09-08T17:36:00",
          "2005-03-13T14:24:00",
          "2006-09-16T11:12:00",
          "2008-03-21T08:00:00",
          "2009-09-24T04:48:00",
          "2011-03-30T01:36:00",
          "2012-10-01T22:24:00",
          "2014-04-06T19:12:00",
          "2015-10-10T16:00:00",
          "2017-04-14T12:48:00",
          "2018-10-18T09:36:00",
          "2020-04-22T06:24:00",
          "2021-10-26T03:12:00"
         ],
         "y": [
          8,
          6,
          8,
          6,
          6,
          12,
          13,
          5,
          6,
          21,
          14,
          22,
          26,
          18,
          19,
          20,
          20,
          6,
          16,
          7,
          8,
          3,
          5,
          6,
          17,
          7,
          12,
          9,
          13,
          11
         ],
         "type": "scatter"
        },
        {
         "hoverinfo": "text",
         "hovertext": [
          "<b>Topic 1</b><br>Words: possibility, probability, conditional, distribution, possibilities",
          "<b>Topic 1</b><br>Words: probability, space, probabilistic, measurable, measurability",
          "<b>Topic 1</b><br>Words: measure, postulate, complement, possibility, event",
          "<b>Topic 1</b><br>Words: possibility, probability, measures, certainty, probabilistic",
          "<b>Topic 1</b><br>Words: subset, hirota, probabilistic, probability, representation",
          "<b>Topic 1</b><br>Words: probability, events, measure, possibility, certainty",
          "<b>Topic 1</b><br>Words: possibility, probability, measures, measure, distribution",
          "<b>Topic 1</b><br>Words: possibility, labor, events, probability, manufacturing",
          "<b>Topic 1</b><br>Words: possibility, measures, probability, measure, complement",
          "<b>Topic 1</b><br>Words: possibility, programme, probability, measures, measure",
          "<b>Topic 1</b><br>Words: possibility, scale, measure, probability, semiconormed",
          "<b>Topic 1</b><br>Words: uncertainty, fcds, conditional, principles, probability",
          "<b>Topic 1</b><br>Words: probability, probabilities, events, possibility, theory",
          "<b>Topic 1</b><br>Words: possibility, probability, measures, distribution, conditional",
          "<b>Topic 1</b><br>Words: possibility, conditioning, independence, distributions, measures",
          "<b>Topic 1</b><br>Words: ample, probability, belief, possibility, theory",
          "<b>Topic 1</b><br>Words: possibility, necessity, measures, belief, measure",
          "<b>Topic 1</b><br>Words: possibility, probability, conditional, fusion, theory",
          "<b>Topic 1</b><br>Words: probability, possibility, measures, belief, probabilities",
          "<b>Topic 1</b><br>Words: possibility, belief, probability, negotiation, sources",
          "<b>Topic 1</b><br>Words: possibility, probability, dempster, conditional, combination",
          "<b>Topic 1</b><br>Words: agreement, quantity, conflict, belief, prioritized",
          "<b>Topic 1</b><br>Words: merge, coherence, coreferent, conditional, possibility",
          "<b>Topic 1</b><br>Words: probability, fifty, possibility, judgment, bayesian",
          "<b>Topic 1</b><br>Words: conditional, implied, strike, volatility, price",
          "<b>Topic 1</b><br>Words: probability, measures, conditional, possibility, neo",
          "<b>Topic 1</b><br>Words: possibility, coherent, conditioning, gambles, probability",
          "<b>Topic 1</b><br>Words: conflict, possibility, pyt, ev, consistency",
          "<b>Topic 1</b><br>Words: nl, probabilities, models, sure, possibility",
          "<b>Topic 1</b><br>Words: possibility, probability, belief, conditional, probabilities"
         ],
         "marker": {
          "color": "#56B4E9"
         },
         "mode": "lines",
         "name": "1_possibility_probability_conditional_me...",
         "x": [
          "1977-12-15T10:39:21.600000",
          "1979-07-06T20:48:00",
          "1981-01-08T17:36:00",
          "1982-07-14T14:24:00",
          "1984-01-17T11:12:00",
          "1985-07-22T08:00:00",
          "1987-01-25T04:48:00",
          "1988-07-30T01:36:00",
          "1990-02-01T22:24:00",
          "1991-08-07T19:12:00",
          "1993-02-09T16:00:00",
          "1994-08-15T12:48:00",
          "1996-02-18T09:36:00",
          "1997-08-23T06:24:00",
          "1999-02-26T03:12:00",
          "2000-08-31T00:00:00",
          "2002-03-05T20:48:00",
          "2003-09-08T17:36:00",
          "2005-03-13T14:24:00",
          "2006-09-16T11:12:00",
          "2008-03-21T08:00:00",
          "2009-09-24T04:48:00",
          "2011-03-30T01:36:00",
          "2012-10-01T22:24:00",
          "2014-04-06T19:12:00",
          "2015-10-10T16:00:00",
          "2017-04-14T12:48:00",
          "2018-10-18T09:36:00",
          "2020-04-22T06:24:00",
          "2021-10-26T03:12:00"
         ],
         "y": [
          6,
          3,
          4,
          10,
          2,
          4,
          10,
          7,
          11,
          10,
          6,
          8,
          6,
          10,
          9,
          5,
          6,
          6,
          13,
          9,
          8,
          1,
          3,
          5,
          2,
          4,
          3,
          2,
          2,
          10
         ],
         "type": "scatter"
        },
        {
         "hoverinfo": "text",
         "hovertext": [
          "<b>Topic 2</b><br>Words: dunn, ruspini, presentation, numerous, hard",
          "<b>Topic 2</b><br>Words: proportion, entry, exponent, validity, clustering",
          "<b>Topic 2</b><br>Words: clustering, geometrical, algorithms, ellipsoidal, concentrations",
          "<b>Topic 2</b><br>Words: concluding, run, iris, inherent, briefly",
          "<b>Topic 2</b><br>Words: groups, discriminant, clustering, ratio, variance",
          "<b>Topic 2</b><br>Words: recurring, offering, constantly, brought, definite",
          "<b>Topic 2</b><br>Words: clustering, fidelity, classes, distance, clusters",
          "<b>Topic 2</b><br>Words: clustering, dunn, isodata, bezdek, hard",
          "<b>Topic 2</b><br>Words: percentile, cluster, distinguished, dissimilarity, clustering",
          "<b>Topic 2</b><br>Words: clustering, fcm, algorithm, cluster, ht",
          "<b>Topic 2</b><br>Words: clustering, imaginative, traits, students, subpopulations",
          "<b>Topic 2</b><br>Words: clustering, typical, guiding, cluster, value",
          "<b>Topic 2</b><br>Words: clustering, mixtures, means, mises, directional",
          "<b>Topic 2</b><br>Words: clustering, cluster, center, data, hard",
          "<b>Topic 2</b><br>Words: clustering, cluster, algorithm, clusters, distance",
          "<b>Topic 2</b><br>Words: clustering, cluster, fcm, incident, clusters",
          "<b>Topic 2</b><br>Words: clustering, data, clusters, cluster, algorithm",
          "<b>Topic 2</b><br>Words: clustering, clusters, cluster, algorithm, data",
          "<b>Topic 2</b><br>Words: clustering, cluster, fkp, clusters, algorithm",
          "<b>Topic 2</b><br>Words: clustering, data, clusters, means, kernelized",
          "<b>Topic 2</b><br>Words: clustering, cluster, clusters, dbscan, algorithm",
          "<b>Topic 2</b><br>Words: clustering, cluster, consensus, data, fmmdd",
          "<b>Topic 2</b><br>Words: clustering, cluster, clusters, conjecturable, kmeans",
          "<b>Topic 2</b><br>Words: fjp, clustering, bipartite, algorithm, cluster",
          "<b>Topic 2</b><br>Words: clustering, cluster, data, clusters, algorithm",
          "<b>Topic 2</b><br>Words: clustering, cluster, clusters, algorithm, data",
          "<b>Topic 2</b><br>Words: clustering, peripheral, points, central, cluster",
          "<b>Topic 2</b><br>Words: clustering, clusters, cluster, data, medoids",
          "<b>Topic 2</b><br>Words: clustering, clusters, cluster, nodes, wsn"
         ],
         "marker": {
          "color": "#009E73"
         },
         "mode": "lines",
         "name": "2_clustering_cluster_clusters_data",
         "x": [
          "1977-12-15T10:39:21.600000",
          "1981-01-08T17:36:00",
          "1982-07-14T14:24:00",
          "1984-01-17T11:12:00",
          "1985-07-22T08:00:00",
          "1987-01-25T04:48:00",
          "1988-07-30T01:36:00",
          "1990-02-01T22:24:00",
          "1991-08-07T19:12:00",
          "1993-02-09T16:00:00",
          "1994-08-15T12:48:00",
          "1996-02-18T09:36:00",
          "1997-08-23T06:24:00",
          "1999-02-26T03:12:00",
          "2000-08-31T00:00:00",
          "2002-03-05T20:48:00",
          "2003-09-08T17:36:00",
          "2005-03-13T14:24:00",
          "2006-09-16T11:12:00",
          "2008-03-21T08:00:00",
          "2009-09-24T04:48:00",
          "2011-03-30T01:36:00",
          "2012-10-01T22:24:00",
          "2014-04-06T19:12:00",
          "2015-10-10T16:00:00",
          "2017-04-14T12:48:00",
          "2018-10-18T09:36:00",
          "2020-04-22T06:24:00",
          "2021-10-26T03:12:00"
         ],
         "y": [
          1,
          1,
          1,
          1,
          2,
          1,
          4,
          3,
          2,
          5,
          4,
          3,
          4,
          9,
          11,
          10,
          11,
          9,
          10,
          6,
          11,
          4,
          7,
          4,
          12,
          10,
          3,
          9,
          4
         ],
         "type": "scatter"
        },
        {
         "hoverinfo": "text",
         "hovertext": [
          "<b>Topic 3</b><br>Words: bz, poset, orthocomplementations, brouwer, algebras",
          "<b>Topic 3</b><br>Words: bzmvdm, algebra, algebras, mv, sharp",
          "<b>Topic 3</b><br>Words: valuation, faithful, effect, algebra, modular",
          "<b>Topic 3</b><br>Words: algebras, modular, bl, heyting, effect",
          "<b>Topic 3</b><br>Words: wpbl, algebras, negations, weak, algebra",
          "<b>Topic 3</b><br>Words: effect, algebras, sharp, algebra, jauch",
          "<b>Topic 3</b><br>Words: algebras, bl, effect, mv, algebra",
          "<b>Topic 3</b><br>Words: algebras, algebra, divisible, residuated, mv",
          "<b>Topic 3</b><br>Words: algebras, algebra, filter, stone, filters",
          "<b>Topic 3</b><br>Words: algebras, filters, mtl, mv, algebra",
          "<b>Topic 3</b><br>Words: algebras, mv, algebra, bl, mtl",
          "<b>Topic 3</b><br>Words: algebras, mv, filters, algebra, bl",
          "<b>Topic 3</b><br>Words: algebras, mv, algebra, bl, derivations",
          "<b>Topic 3</b><br>Words: algebras, monadic, effect, hyper, algebra",
          "<b>Topic 3</b><br>Words: algebras, algebra, mv, residuated, emv",
          "<b>Topic 3</b><br>Words: algebras, mv, bl, algebra, lattice",
          "<b>Topic 3</b><br>Words: algebras, mv, algebra, perfect, eq"
         ],
         "marker": {
          "color": "#F0E442"
         },
         "mode": "lines",
         "name": "3_algebras_mv_algebra_bl",
         "x": [
          "1988-07-30T01:36:00",
          "1999-02-26T03:12:00",
          "2000-08-31T00:00:00",
          "2002-03-05T20:48:00",
          "2003-09-08T17:36:00",
          "2005-03-13T14:24:00",
          "2006-09-16T11:12:00",
          "2008-03-21T08:00:00",
          "2009-09-24T04:48:00",
          "2011-03-30T01:36:00",
          "2012-10-01T22:24:00",
          "2014-04-06T19:12:00",
          "2015-10-10T16:00:00",
          "2017-04-14T12:48:00",
          "2018-10-18T09:36:00",
          "2020-04-22T06:24:00",
          "2021-10-26T03:12:00"
         ],
         "y": [
          1,
          2,
          2,
          4,
          2,
          3,
          6,
          5,
          6,
          8,
          11,
          18,
          18,
          6,
          16,
          15,
          14
         ],
         "type": "scatter"
        },
        {
         "hoverinfo": "text",
         "hovertext": [
          "<b>Topic 4</b><br>Words: subgroup, subgroups, group, inequality, generated",
          "<b>Topic 4</b><br>Words: subgroups, subgroup, products, anthony, product",
          "<b>Topic 4</b><br>Words: semidirect, subgroups, subgroup, product, sherwood",
          "<b>Topic 4</b><br>Words: subgroups, product, group, pointwise, direct",
          "<b>Topic 4</b><br>Words: subgroups, group, sessa, das, sherwood",
          "<b>Topic 4</b><br>Words: subgroups, subgroup, anti, group, level",
          "<b>Topic 4</b><br>Words: subgroups, subgroup, group, product, groups",
          "<b>Topic 4</b><br>Words: subgroup, subgroups, group, quasinormal, divisible",
          "<b>Topic 4</b><br>Words: subgroups, subgroup, group, groups, asaad",
          "<b>Topic 4</b><br>Words: subgroups, group, subgroup, gl, groups",
          "<b>Topic 4</b><br>Words: group, subgroups, subgroup, normal, px",
          "<b>Topic 4</b><br>Words: subgroup, subgroups, group, notion, tl",
          "<b>Topic 4</b><br>Words: subgroups, group, subgroup, subgroupoids, groups",
          "<b>Topic 4</b><br>Words: keychain, subgroups, subgroup, distinct, bhakat",
          "<b>Topic 4</b><br>Words: subgroups, subgroup, group, cartesian, zqm",
          "<b>Topic 4</b><br>Words: subgroups, equivalence, makamba, murali, discusses",
          "<b>Topic 4</b><br>Words: join, subgroups, hypergroupoid, group, hyperstructures",
          "<b>Topic 4</b><br>Words: ary, join, hypergroups, groupoid, canonical",
          "<b>Topic 4</b><br>Words: subgroups, operation, cartesian, chon, necessary",
          "<b>Topic 4</b><br>Words: skeleton, group, construction, groups, subgroups",
          "<b>Topic 4</b><br>Words: group, mi, subgroups, groups, subgroup",
          "<b>Topic 4</b><br>Words: mi, group, subgroups, groups, subgroup",
          "<b>Topic 4</b><br>Words: subgroups, group, annihilator, subgroup, equivalence",
          "<b>Topic 4</b><br>Words: subgroup, subgroups, aggregation, group, proven",
          "<b>Topic 4</b><br>Words: rubinstein, kasher, group, subgroups, herself"
         ],
         "marker": {
          "color": "#D55E00"
         },
         "mode": "lines",
         "name": "4_subgroups_subgroup_group_groups",
         "x": [
          "1981-01-08T17:36:00",
          "1982-07-14T14:24:00",
          "1985-07-22T08:00:00",
          "1987-01-25T04:48:00",
          "1988-07-30T01:36:00",
          "1990-02-01T22:24:00",
          "1991-08-07T19:12:00",
          "1993-02-09T16:00:00",
          "1994-08-15T12:48:00",
          "1996-02-18T09:36:00",
          "1997-08-23T06:24:00",
          "1999-02-26T03:12:00",
          "2000-08-31T00:00:00",
          "2002-03-05T20:48:00",
          "2003-09-08T17:36:00",
          "2005-03-13T14:24:00",
          "2008-03-21T08:00:00",
          "2009-09-24T04:48:00",
          "2011-03-30T01:36:00",
          "2014-04-06T19:12:00",
          "2015-10-10T16:00:00",
          "2017-04-14T12:48:00",
          "2018-10-18T09:36:00",
          "2020-04-22T06:24:00",
          "2021-10-26T03:12:00"
         ],
         "y": [
          1,
          2,
          1,
          2,
          2,
          3,
          15,
          21,
          12,
          17,
          12,
          10,
          8,
          2,
          3,
          1,
          3,
          2,
          1,
          1,
          3,
          2,
          4,
          1,
          1
         ],
         "type": "scatter"
        },
        {
         "hoverinfo": "text",
         "hovertext": [
          "<b>Topic 5</b><br>Words: convergency, thedynamic, modelling, apart, eigenvectors",
          "<b>Topic 5</b><br>Words: solutions, combinatorial, incorrect, relation, correct",
          "<b>Topic 5</b><br>Words: equations, relational, equation, relation, reconstructable",
          "<b>Topic 5</b><br>Words: equations, relation, solution, composite, card",
          "<b>Topic 5</b><br>Words: equations, perturbation, solution, equation, card",
          "<b>Topic 5</b><br>Words: tolerances, equations, equation, solution, solutions",
          "<b>Topic 5</b><br>Words: inverses, equations, solution, brouwerian, ai",
          "<b>Topic 5</b><br>Words: equations, solution, relational, equation, solutions",
          "<b>Topic 5</b><br>Words: equations, solution, bilinear, relation, solutions",
          "<b>Topic 5</b><br>Words: vl, solution, relational, equations, widest",
          "<b>Topic 5</b><br>Words: equations, solution, solutions, relational, equation",
          "<b>Topic 5</b><br>Words: equations, relational, solvability, solutions, solving",
          "<b>Topic 5</b><br>Words: solution, composition, relational, equations, max",
          "<b>Topic 5</b><br>Words: equations, perturbation, matrix, solution, equation",
          "<b>Topic 5</b><br>Words: equations, solution, compression, equation, relation",
          "<b>Topic 5</b><br>Words: aij, inf, column, brouwerian, composite",
          "<b>Topic 5</b><br>Words: solution, implication, solutions, equations, equation",
          "<b>Topic 5</b><br>Words: solution, equations, decomposable, relation, essential",
          "<b>Topic 5</b><br>Words: solutions, equations, brouwerian, minimal, solution",
          "<b>Topic 5</b><br>Words: equations, composition, markovskii, solutions, equation",
          "<b>Topic 5</b><br>Words: unattainable, solution, attainable, equations, join",
          "<b>Topic 5</b><br>Words: solutions, greatest, equations, weakly, computing",
          "<b>Topic 5</b><br>Words: solutions, solution, equations, inf, lattices",
          "<b>Topic 5</b><br>Words: equations, relational, solutions, minimal, solution",
          "<b>Topic 5</b><br>Words: minimal, solvable, solutions, frameworks, compute",
          "<b>Topic 5</b><br>Words: supereigenvectors, subeigenvectors, solutions, solution, equations",
          "<b>Topic 5</b><br>Words: fls, solution, solutions, pre, matrix",
          "<b>Topic 5</b><br>Words: bipolar, equations, solutions, solution, relation",
          "<b>Topic 5</b><br>Words: equations, solutions, solution, dual, sup"
         ],
         "marker": {
          "color": "#0072B2"
         },
         "mode": "lines",
         "name": "5_equations_solution_solutions_equation",
         "x": [
          "1979-07-06T20:48:00",
          "1981-01-08T17:36:00",
          "1982-07-14T14:24:00",
          "1984-01-17T11:12:00",
          "1985-07-22T08:00:00",
          "1987-01-25T04:48:00",
          "1988-07-30T01:36:00",
          "1990-02-01T22:24:00",
          "1991-08-07T19:12:00",
          "1993-02-09T16:00:00",
          "1994-08-15T12:48:00",
          "1996-02-18T09:36:00",
          "1997-08-23T06:24:00",
          "1999-02-26T03:12:00",
          "2000-08-31T00:00:00",
          "2002-03-05T20:48:00",
          "2003-09-08T17:36:00",
          "2005-03-13T14:24:00",
          "2006-09-16T11:12:00",
          "2008-03-21T08:00:00",
          "2009-09-24T04:48:00",
          "2011-03-30T01:36:00",
          "2012-10-01T22:24:00",
          "2014-04-06T19:12:00",
          "2015-10-10T16:00:00",
          "2017-04-14T12:48:00",
          "2018-10-18T09:36:00",
          "2020-04-22T06:24:00",
          "2021-10-26T03:12:00"
         ],
         "y": [
          1,
          2,
          4,
          8,
          8,
          7,
          6,
          7,
          8,
          7,
          7,
          4,
          4,
          4,
          6,
          1,
          2,
          4,
          4,
          3,
          2,
          2,
          2,
          2,
          1,
          2,
          4,
          4,
          3
         ],
         "type": "scatter"
        },
        {
         "hoverinfo": "text",
         "hovertext": [
          "<b>Topic 6</b><br>Words: distributions, ply, gaussian, exact, approximations",
          "<b>Topic 6</b><br>Words: approximants, distributions, ply, noted, iff",
          "<b>Topic 6</b><br>Words: menger, copulas, copula, compact, imaoka",
          "<b>Topic 6</b><br>Words: copulas, semilinear, concavity, aug, cuadras",
          "<b>Topic 6</b><br>Words: copulas, copula, quasi, flipping, transformations",
          "<b>Topic 6</b><br>Words: copulas, conic, quasi, copula, irreducible",
          "<b>Topic 6</b><br>Words: copulas, aggregation, copula, submeasures, flipping",
          "<b>Topic 6</b><br>Words: copula, copulas, quasi, diagonal, trivariate",
          "<b>Topic 6</b><br>Words: copulas, copula, diagonal, tail, aggregation",
          "<b>Topic 6</b><br>Words: copulas, copula, diagonal, tail, dependence",
          "<b>Topic 6</b><br>Words: copulas, copula, diagonal, transformations, bivariate",
          "<b>Topic 6</b><br>Words: copulas, copula, capacity, bivariate, diagonal",
          "<b>Topic 6</b><br>Words: copulas, copula, quasi, rmm, bivariate",
          "<b>Topic 6</b><br>Words: copulas, copula, multivariate, bivariate, quasi"
         ],
         "marker": {
          "color": "#CC79A7"
         },
         "mode": "lines",
         "name": "6_copulas_copula_quasi_diagonal",
         "x": [
          "1985-07-22T08:00:00",
          "1988-07-30T01:36:00",
          "2003-09-08T17:36:00",
          "2006-09-16T11:12:00",
          "2008-03-21T08:00:00",
          "2009-09-24T04:48:00",
          "2011-03-30T01:36:00",
          "2012-10-01T22:24:00",
          "2014-04-06T19:12:00",
          "2015-10-10T16:00:00",
          "2017-04-14T12:48:00",
          "2018-10-18T09:36:00",
          "2020-04-22T06:24:00",
          "2021-10-26T03:12:00"
         ],
         "y": [
          1,
          1,
          2,
          2,
          8,
          4,
          8,
          13,
          12,
          10,
          9,
          13,
          17,
          19
         ],
         "type": "scatter"
        }
       ],
       "layout": {
        "template": {
         "data": {
          "barpolar": [
           {
            "marker": {
             "line": {
              "color": "white",
              "width": 0.5
             },
             "pattern": {
              "fillmode": "overlay",
              "size": 10,
              "solidity": 0.2
             }
            },
            "type": "barpolar"
           }
          ],
          "bar": [
           {
            "error_x": {
             "color": "rgb(36,36,36)"
            },
            "error_y": {
             "color": "rgb(36,36,36)"
            },
            "marker": {
             "line": {
              "color": "white",
              "width": 0.5
             },
             "pattern": {
              "fillmode": "overlay",
              "size": 10,
              "solidity": 0.2
             }
            },
            "type": "bar"
           }
          ],
          "carpet": [
           {
            "aaxis": {
             "endlinecolor": "rgb(36,36,36)",
             "gridcolor": "white",
             "linecolor": "white",
             "minorgridcolor": "white",
             "startlinecolor": "rgb(36,36,36)"
            },
            "baxis": {
             "endlinecolor": "rgb(36,36,36)",
             "gridcolor": "white",
             "linecolor": "white",
             "minorgridcolor": "white",
             "startlinecolor": "rgb(36,36,36)"
            },
            "type": "carpet"
           }
          ],
          "choropleth": [
           {
            "colorbar": {
             "outlinewidth": 1,
             "tickcolor": "rgb(36,36,36)",
             "ticks": "outside"
            },
            "type": "choropleth"
           }
          ],
          "contourcarpet": [
           {
            "colorbar": {
             "outlinewidth": 1,
             "tickcolor": "rgb(36,36,36)",
             "ticks": "outside"
            },
            "type": "contourcarpet"
           }
          ],
          "contour": [
           {
            "colorbar": {
             "outlinewidth": 1,
             "tickcolor": "rgb(36,36,36)",
             "ticks": "outside"
            },
            "colorscale": [
             [
              0.0,
              "#440154"
             ],
             [
              0.1111111111111111,
              "#482878"
             ],
             [
              0.2222222222222222,
              "#3e4989"
             ],
             [
              0.3333333333333333,
              "#31688e"
             ],
             [
              0.4444444444444444,
              "#26828e"
             ],
             [
              0.5555555555555556,
              "#1f9e89"
             ],
             [
              0.6666666666666666,
              "#35b779"
             ],
             [
              0.7777777777777778,
              "#6ece58"
             ],
             [
              0.8888888888888888,
              "#b5de2b"
             ],
             [
              1.0,
              "#fde725"
             ]
            ],
            "type": "contour"
           }
          ],
          "heatmapgl": [
           {
            "colorbar": {
             "outlinewidth": 1,
             "tickcolor": "rgb(36,36,36)",
             "ticks": "outside"
            },
            "colorscale": [
             [
              0.0,
              "#440154"
             ],
             [
              0.1111111111111111,
              "#482878"
             ],
             [
              0.2222222222222222,
              "#3e4989"
             ],
             [
              0.3333333333333333,
              "#31688e"
             ],
             [
              0.4444444444444444,
              "#26828e"
             ],
             [
              0.5555555555555556,
              "#1f9e89"
             ],
             [
              0.6666666666666666,
              "#35b779"
             ],
             [
              0.7777777777777778,
              "#6ece58"
             ],
             [
              0.8888888888888888,
              "#b5de2b"
             ],
             [
              1.0,
              "#fde725"
             ]
            ],
            "type": "heatmapgl"
           }
          ],
          "heatmap": [
           {
            "colorbar": {
             "outlinewidth": 1,
             "tickcolor": "rgb(36,36,36)",
             "ticks": "outside"
            },
            "colorscale": [
             [
              0.0,
              "#440154"
             ],
             [
              0.1111111111111111,
              "#482878"
             ],
             [
              0.2222222222222222,
              "#3e4989"
             ],
             [
              0.3333333333333333,
              "#31688e"
             ],
             [
              0.4444444444444444,
              "#26828e"
             ],
             [
              0.5555555555555556,
              "#1f9e89"
             ],
             [
              0.6666666666666666,
              "#35b779"
             ],
             [
              0.7777777777777778,
              "#6ece58"
             ],
             [
              0.8888888888888888,
              "#b5de2b"
             ],
             [
              1.0,
              "#fde725"
             ]
            ],
            "type": "heatmap"
           }
          ],
          "histogram2dcontour": [
           {
            "colorbar": {
             "outlinewidth": 1,
             "tickcolor": "rgb(36,36,36)",
             "ticks": "outside"
            },
            "colorscale": [
             [
              0.0,
              "#440154"
             ],
             [
              0.1111111111111111,
              "#482878"
             ],
             [
              0.2222222222222222,
              "#3e4989"
             ],
             [
              0.3333333333333333,
              "#31688e"
             ],
             [
              0.4444444444444444,
              "#26828e"
             ],
             [
              0.5555555555555556,
              "#1f9e89"
             ],
             [
              0.6666666666666666,
              "#35b779"
             ],
             [
              0.7777777777777778,
              "#6ece58"
             ],
             [
              0.8888888888888888,
              "#b5de2b"
             ],
             [
              1.0,
              "#fde725"
             ]
            ],
            "type": "histogram2dcontour"
           }
          ],
          "histogram2d": [
           {
            "colorbar": {
             "outlinewidth": 1,
             "tickcolor": "rgb(36,36,36)",
             "ticks": "outside"
            },
            "colorscale": [
             [
              0.0,
              "#440154"
             ],
             [
              0.1111111111111111,
              "#482878"
             ],
             [
              0.2222222222222222,
              "#3e4989"
             ],
             [
              0.3333333333333333,
              "#31688e"
             ],
             [
              0.4444444444444444,
              "#26828e"
             ],
             [
              0.5555555555555556,
              "#1f9e89"
             ],
             [
              0.6666666666666666,
              "#35b779"
             ],
             [
              0.7777777777777778,
              "#6ece58"
             ],
             [
              0.8888888888888888,
              "#b5de2b"
             ],
             [
              1.0,
              "#fde725"
             ]
            ],
            "type": "histogram2d"
           }
          ],
          "histogram": [
           {
            "marker": {
             "line": {
              "color": "white",
              "width": 0.6
             }
            },
            "type": "histogram"
           }
          ],
          "mesh3d": [
           {
            "colorbar": {
             "outlinewidth": 1,
             "tickcolor": "rgb(36,36,36)",
             "ticks": "outside"
            },
            "type": "mesh3d"
           }
          ],
          "parcoords": [
           {
            "line": {
             "colorbar": {
              "outlinewidth": 1,
              "tickcolor": "rgb(36,36,36)",
              "ticks": "outside"
             }
            },
            "type": "parcoords"
           }
          ],
          "pie": [
           {
            "automargin": true,
            "type": "pie"
           }
          ],
          "scatter3d": [
           {
            "line": {
             "colorbar": {
              "outlinewidth": 1,
              "tickcolor": "rgb(36,36,36)",
              "ticks": "outside"
             }
            },
            "marker": {
             "colorbar": {
              "outlinewidth": 1,
              "tickcolor": "rgb(36,36,36)",
              "ticks": "outside"
             }
            },
            "type": "scatter3d"
           }
          ],
          "scattercarpet": [
           {
            "marker": {
             "colorbar": {
              "outlinewidth": 1,
              "tickcolor": "rgb(36,36,36)",
              "ticks": "outside"
             }
            },
            "type": "scattercarpet"
           }
          ],
          "scattergeo": [
           {
            "marker": {
             "colorbar": {
              "outlinewidth": 1,
              "tickcolor": "rgb(36,36,36)",
              "ticks": "outside"
             }
            },
            "type": "scattergeo"
           }
          ],
          "scattergl": [
           {
            "marker": {
             "colorbar": {
              "outlinewidth": 1,
              "tickcolor": "rgb(36,36,36)",
              "ticks": "outside"
             }
            },
            "type": "scattergl"
           }
          ],
          "scattermapbox": [
           {
            "marker": {
             "colorbar": {
              "outlinewidth": 1,
              "tickcolor": "rgb(36,36,36)",
              "ticks": "outside"
             }
            },
            "type": "scattermapbox"
           }
          ],
          "scatterpolargl": [
           {
            "marker": {
             "colorbar": {
              "outlinewidth": 1,
              "tickcolor": "rgb(36,36,36)",
              "ticks": "outside"
             }
            },
            "type": "scatterpolargl"
           }
          ],
          "scatterpolar": [
           {
            "marker": {
             "colorbar": {
              "outlinewidth": 1,
              "tickcolor": "rgb(36,36,36)",
              "ticks": "outside"
             }
            },
            "type": "scatterpolar"
           }
          ],
          "scatter": [
           {
            "fillpattern": {
             "fillmode": "overlay",
             "size": 10,
             "solidity": 0.2
            },
            "type": "scatter"
           }
          ],
          "scatterternary": [
           {
            "marker": {
             "colorbar": {
              "outlinewidth": 1,
              "tickcolor": "rgb(36,36,36)",
              "ticks": "outside"
             }
            },
            "type": "scatterternary"
           }
          ],
          "surface": [
           {
            "colorbar": {
             "outlinewidth": 1,
             "tickcolor": "rgb(36,36,36)",
             "ticks": "outside"
            },
            "colorscale": [
             [
              0.0,
              "#440154"
             ],
             [
              0.1111111111111111,
              "#482878"
             ],
             [
              0.2222222222222222,
              "#3e4989"
             ],
             [
              0.3333333333333333,
              "#31688e"
             ],
             [
              0.4444444444444444,
              "#26828e"
             ],
             [
              0.5555555555555556,
              "#1f9e89"
             ],
             [
              0.6666666666666666,
              "#35b779"
             ],
             [
              0.7777777777777778,
              "#6ece58"
             ],
             [
              0.8888888888888888,
              "#b5de2b"
             ],
             [
              1.0,
              "#fde725"
             ]
            ],
            "type": "surface"
           }
          ],
          "table": [
           {
            "cells": {
             "fill": {
              "color": "rgb(237,237,237)"
             },
             "line": {
              "color": "white"
             }
            },
            "header": {
             "fill": {
              "color": "rgb(217,217,217)"
             },
             "line": {
              "color": "white"
             }
            },
            "type": "table"
           }
          ]
         },
         "layout": {
          "annotationdefaults": {
           "arrowhead": 0,
           "arrowwidth": 1
          },
          "autotypenumbers": "strict",
          "coloraxis": {
           "colorbar": {
            "outlinewidth": 1,
            "tickcolor": "rgb(36,36,36)",
            "ticks": "outside"
           }
          },
          "colorscale": {
           "diverging": [
            [
             0.0,
             "rgb(103,0,31)"
            ],
            [
             0.1,
             "rgb(178,24,43)"
            ],
            [
             0.2,
             "rgb(214,96,77)"
            ],
            [
             0.3,
             "rgb(244,165,130)"
            ],
            [
             0.4,
             "rgb(253,219,199)"
            ],
            [
             0.5,
             "rgb(247,247,247)"
            ],
            [
             0.6,
             "rgb(209,229,240)"
            ],
            [
             0.7,
             "rgb(146,197,222)"
            ],
            [
             0.8,
             "rgb(67,147,195)"
            ],
            [
             0.9,
             "rgb(33,102,172)"
            ],
            [
             1.0,
             "rgb(5,48,97)"
            ]
           ],
           "sequential": [
            [
             0.0,
             "#440154"
            ],
            [
             0.1111111111111111,
             "#482878"
            ],
            [
             0.2222222222222222,
             "#3e4989"
            ],
            [
             0.3333333333333333,
             "#31688e"
            ],
            [
             0.4444444444444444,
             "#26828e"
            ],
            [
             0.5555555555555556,
             "#1f9e89"
            ],
            [
             0.6666666666666666,
             "#35b779"
            ],
            [
             0.7777777777777778,
             "#6ece58"
            ],
            [
             0.8888888888888888,
             "#b5de2b"
            ],
            [
             1.0,
             "#fde725"
            ]
           ],
           "sequentialminus": [
            [
             0.0,
             "#440154"
            ],
            [
             0.1111111111111111,
             "#482878"
            ],
            [
             0.2222222222222222,
             "#3e4989"
            ],
            [
             0.3333333333333333,
             "#31688e"
            ],
            [
             0.4444444444444444,
             "#26828e"
            ],
            [
             0.5555555555555556,
             "#1f9e89"
            ],
            [
             0.6666666666666666,
             "#35b779"
            ],
            [
             0.7777777777777778,
             "#6ece58"
            ],
            [
             0.8888888888888888,
             "#b5de2b"
            ],
            [
             1.0,
             "#fde725"
            ]
           ]
          },
          "colorway": [
           "#1F77B4",
           "#FF7F0E",
           "#2CA02C",
           "#D62728",
           "#9467BD",
           "#8C564B",
           "#E377C2",
           "#7F7F7F",
           "#BCBD22",
           "#17BECF"
          ],
          "font": {
           "color": "rgb(36,36,36)"
          },
          "geo": {
           "bgcolor": "white",
           "lakecolor": "white",
           "landcolor": "white",
           "showlakes": true,
           "showland": true,
           "subunitcolor": "white"
          },
          "hoverlabel": {
           "align": "left"
          },
          "hovermode": "closest",
          "mapbox": {
           "style": "light"
          },
          "paper_bgcolor": "white",
          "plot_bgcolor": "white",
          "polar": {
           "angularaxis": {
            "gridcolor": "rgb(232,232,232)",
            "linecolor": "rgb(36,36,36)",
            "showgrid": false,
            "showline": true,
            "ticks": "outside"
           },
           "bgcolor": "white",
           "radialaxis": {
            "gridcolor": "rgb(232,232,232)",
            "linecolor": "rgb(36,36,36)",
            "showgrid": false,
            "showline": true,
            "ticks": "outside"
           }
          },
          "scene": {
           "xaxis": {
            "backgroundcolor": "white",
            "gridcolor": "rgb(232,232,232)",
            "gridwidth": 2,
            "linecolor": "rgb(36,36,36)",
            "showbackground": true,
            "showgrid": false,
            "showline": true,
            "ticks": "outside",
            "zeroline": false,
            "zerolinecolor": "rgb(36,36,36)"
           },
           "yaxis": {
            "backgroundcolor": "white",
            "gridcolor": "rgb(232,232,232)",
            "gridwidth": 2,
            "linecolor": "rgb(36,36,36)",
            "showbackground": true,
            "showgrid": false,
            "showline": true,
            "ticks": "outside",
            "zeroline": false,
            "zerolinecolor": "rgb(36,36,36)"
           },
           "zaxis": {
            "backgroundcolor": "white",
            "gridcolor": "rgb(232,232,232)",
            "gridwidth": 2,
            "linecolor": "rgb(36,36,36)",
            "showbackground": true,
            "showgrid": false,
            "showline": true,
            "ticks": "outside",
            "zeroline": false,
            "zerolinecolor": "rgb(36,36,36)"
           }
          },
          "shapedefaults": {
           "fillcolor": "black",
           "line": {
            "width": 0
           },
           "opacity": 0.3
          },
          "ternary": {
           "aaxis": {
            "gridcolor": "rgb(232,232,232)",
            "linecolor": "rgb(36,36,36)",
            "showgrid": false,
            "showline": true,
            "ticks": "outside"
           },
           "baxis": {
            "gridcolor": "rgb(232,232,232)",
            "linecolor": "rgb(36,36,36)",
            "showgrid": false,
            "showline": true,
            "ticks": "outside"
           },
           "bgcolor": "white",
           "caxis": {
            "gridcolor": "rgb(232,232,232)",
            "linecolor": "rgb(36,36,36)",
            "showgrid": false,
            "showline": true,
            "ticks": "outside"
           }
          },
          "title": {
           "x": 0.05
          },
          "xaxis": {
           "automargin": true,
           "gridcolor": "rgb(232,232,232)",
           "linecolor": "rgb(36,36,36)",
           "showgrid": false,
           "showline": true,
           "ticks": "outside",
           "title": {
            "standoff": 15
           },
           "zeroline": false,
           "zerolinecolor": "rgb(36,36,36)"
          },
          "yaxis": {
           "automargin": true,
           "gridcolor": "rgb(232,232,232)",
           "linecolor": "rgb(36,36,36)",
           "showgrid": false,
           "showline": true,
           "ticks": "outside",
           "title": {
            "standoff": 15
           },
           "zeroline": false,
           "zerolinecolor": "rgb(36,36,36)"
          }
         }
        },
        "xaxis": {
         "showgrid": true
        },
        "yaxis": {
         "showgrid": true,
         "title": {
          "text": "Frequency"
         }
        },
        "title": {
         "font": {
          "size": 22,
          "color": "Black"
         },
         "text": "<b>Topics over Time</b>",
         "y": 0.95,
         "x": 0.4,
         "xanchor": "center",
         "yanchor": "top"
        },
        "hoverlabel": {
         "font": {
          "size": 16,
          "family": "Rockwell"
         },
         "bgcolor": "white"
        },
        "width": 1250,
        "height": 450,
        "legend": {
         "title": {
          "text": "<b>Global Topic Representation"
         }
        }
       },
       "config": {
        "plotlyServerURL": "https://plot.ly"
       }
      },
      "text/html": "<div>                            <div id=\"7e148e63-a1ee-4446-b32f-14b64ee0eaa6\" class=\"plotly-graph-div\" style=\"height:450px; width:1250px;\"></div>            <script type=\"text/javascript\">                require([\"plotly\"], function(Plotly) {                    window.PLOTLYENV=window.PLOTLYENV || {};                                    if (document.getElementById(\"7e148e63-a1ee-4446-b32f-14b64ee0eaa6\")) {                    Plotly.newPlot(                        \"7e148e63-a1ee-4446-b32f-14b64ee0eaa6\",                        [{\"hoverinfo\":\"text\",\"hovertext\":[\"<b>Topic 0</b><br>Words: decision, alternatives, preference, team, making\",\"<b>Topic 0</b><br>Words: decision, alternatives, unanimity, team, group\",\"<b>Topic 0</b><br>Words: preference, decision, leadership, nonfuzzy, evaluations\",\"<b>Topic 0</b><br>Words: choice, consensus, criteria, credit, decision\",\"<b>Topic 0</b><br>Words: stresses, alternatives, preference, acceptability, criteria\",\"<b>Topic 0</b><br>Words: preference, alternatives, decision, utilities, making\",\"<b>Topic 0</b><br>Words: preference, decision, alternatives, utility, making\",\"<b>Topic 0</b><br>Words: alternatives, decision, choices, calculated, weights\",\"<b>Topic 0</b><br>Words: choice, nondomination, cim, decision, criteria\",\"<b>Topic 0</b><br>Words: preference, decision, social, choice, alternatives\",\"<b>Topic 0</b><br>Words: ahp, preference, decision, rationality, alternatives\",\"<b>Topic 0</b><br>Words: preference, decision, alternatives, relation, choice\",\"<b>Topic 0</b><br>Words: preference, decision, ranking, making, alternatives\",\"<b>Topic 0</b><br>Words: preference, decision, alternatives, choice, ranking\",\"<b>Topic 0</b><br>Words: preference, alternatives, decision, ranking, linguistic\",\"<b>Topic 0</b><br>Words: preference, decision, alternatives, criteria, making\",\"<b>Topic 0</b><br>Words: preference, decision, alternatives, choice, making\",\"<b>Topic 0</b><br>Words: voter, inexact, majority, benign, outputs\",\"<b>Topic 0</b><br>Words: preference, transitivity, alternatives, decision, madm\",\"<b>Topic 0</b><br>Words: preference, decision, reciprocity, herrera, weights\",\"<b>Topic 0</b><br>Words: preference, decision, topsis, consistency, choice\",\"<b>Topic 0</b><br>Words: transitivity, reciprocal, inconsistency, rankings, classifier\",\"<b>Topic 0</b><br>Words: preference, duplex, reciprocal, alternatives, outranking\",\"<b>Topic 0</b><br>Words: reciprocal, preference, consensus, consistency, relations\",\"<b>Topic 0</b><br>Words: preference, decision, reciprocal, consistency, consensus\",\"<b>Topic 0</b><br>Words: preference, consistency, pcm, reciprocal, consensus\",\"<b>Topic 0</b><br>Words: consistency, preference, reciprocal, ranking, decision\",\"<b>Topic 0</b><br>Words: preference, decision, alternatives, consistency, making\",\"<b>Topic 0</b><br>Words: preference, consistency, decision, reciprocal, alternatives\",\"<b>Topic 0</b><br>Words: consistency, preference, elicit, decision, inconsistency\"],\"marker\":{\"color\":\"#E69F00\"},\"mode\":\"lines\",\"name\":\"0_preference_decision_alternatives_makin...\",\"x\":[\"1977-12-15T10:39:21.600000\",\"1979-07-06T20:48:00\",\"1981-01-08T17:36:00\",\"1982-07-14T14:24:00\",\"1984-01-17T11:12:00\",\"1985-07-22T08:00:00\",\"1987-01-25T04:48:00\",\"1988-07-30T01:36:00\",\"1990-02-01T22:24:00\",\"1991-08-07T19:12:00\",\"1993-02-09T16:00:00\",\"1994-08-15T12:48:00\",\"1996-02-18T09:36:00\",\"1997-08-23T06:24:00\",\"1999-02-26T03:12:00\",\"2000-08-31T00:00:00\",\"2002-03-05T20:48:00\",\"2003-09-08T17:36:00\",\"2005-03-13T14:24:00\",\"2006-09-16T11:12:00\",\"2008-03-21T08:00:00\",\"2009-09-24T04:48:00\",\"2011-03-30T01:36:00\",\"2012-10-01T22:24:00\",\"2014-04-06T19:12:00\",\"2015-10-10T16:00:00\",\"2017-04-14T12:48:00\",\"2018-10-18T09:36:00\",\"2020-04-22T06:24:00\",\"2021-10-26T03:12:00\"],\"y\":[8,6,8,6,6,12,13,5,6,21,14,22,26,18,19,20,20,6,16,7,8,3,5,6,17,7,12,9,13,11],\"type\":\"scatter\"},{\"hoverinfo\":\"text\",\"hovertext\":[\"<b>Topic 1</b><br>Words: possibility, probability, conditional, distribution, possibilities\",\"<b>Topic 1</b><br>Words: probability, space, probabilistic, measurable, measurability\",\"<b>Topic 1</b><br>Words: measure, postulate, complement, possibility, event\",\"<b>Topic 1</b><br>Words: possibility, probability, measures, certainty, probabilistic\",\"<b>Topic 1</b><br>Words: subset, hirota, probabilistic, probability, representation\",\"<b>Topic 1</b><br>Words: probability, events, measure, possibility, certainty\",\"<b>Topic 1</b><br>Words: possibility, probability, measures, measure, distribution\",\"<b>Topic 1</b><br>Words: possibility, labor, events, probability, manufacturing\",\"<b>Topic 1</b><br>Words: possibility, measures, probability, measure, complement\",\"<b>Topic 1</b><br>Words: possibility, programme, probability, measures, measure\",\"<b>Topic 1</b><br>Words: possibility, scale, measure, probability, semiconormed\",\"<b>Topic 1</b><br>Words: uncertainty, fcds, conditional, principles, probability\",\"<b>Topic 1</b><br>Words: probability, probabilities, events, possibility, theory\",\"<b>Topic 1</b><br>Words: possibility, probability, measures, distribution, conditional\",\"<b>Topic 1</b><br>Words: possibility, conditioning, independence, distributions, measures\",\"<b>Topic 1</b><br>Words: ample, probability, belief, possibility, theory\",\"<b>Topic 1</b><br>Words: possibility, necessity, measures, belief, measure\",\"<b>Topic 1</b><br>Words: possibility, probability, conditional, fusion, theory\",\"<b>Topic 1</b><br>Words: probability, possibility, measures, belief, probabilities\",\"<b>Topic 1</b><br>Words: possibility, belief, probability, negotiation, sources\",\"<b>Topic 1</b><br>Words: possibility, probability, dempster, conditional, combination\",\"<b>Topic 1</b><br>Words: agreement, quantity, conflict, belief, prioritized\",\"<b>Topic 1</b><br>Words: merge, coherence, coreferent, conditional, possibility\",\"<b>Topic 1</b><br>Words: probability, fifty, possibility, judgment, bayesian\",\"<b>Topic 1</b><br>Words: conditional, implied, strike, volatility, price\",\"<b>Topic 1</b><br>Words: probability, measures, conditional, possibility, neo\",\"<b>Topic 1</b><br>Words: possibility, coherent, conditioning, gambles, probability\",\"<b>Topic 1</b><br>Words: conflict, possibility, pyt, ev, consistency\",\"<b>Topic 1</b><br>Words: nl, probabilities, models, sure, possibility\",\"<b>Topic 1</b><br>Words: possibility, probability, belief, conditional, probabilities\"],\"marker\":{\"color\":\"#56B4E9\"},\"mode\":\"lines\",\"name\":\"1_possibility_probability_conditional_me...\",\"x\":[\"1977-12-15T10:39:21.600000\",\"1979-07-06T20:48:00\",\"1981-01-08T17:36:00\",\"1982-07-14T14:24:00\",\"1984-01-17T11:12:00\",\"1985-07-22T08:00:00\",\"1987-01-25T04:48:00\",\"1988-07-30T01:36:00\",\"1990-02-01T22:24:00\",\"1991-08-07T19:12:00\",\"1993-02-09T16:00:00\",\"1994-08-15T12:48:00\",\"1996-02-18T09:36:00\",\"1997-08-23T06:24:00\",\"1999-02-26T03:12:00\",\"2000-08-31T00:00:00\",\"2002-03-05T20:48:00\",\"2003-09-08T17:36:00\",\"2005-03-13T14:24:00\",\"2006-09-16T11:12:00\",\"2008-03-21T08:00:00\",\"2009-09-24T04:48:00\",\"2011-03-30T01:36:00\",\"2012-10-01T22:24:00\",\"2014-04-06T19:12:00\",\"2015-10-10T16:00:00\",\"2017-04-14T12:48:00\",\"2018-10-18T09:36:00\",\"2020-04-22T06:24:00\",\"2021-10-26T03:12:00\"],\"y\":[6,3,4,10,2,4,10,7,11,10,6,8,6,10,9,5,6,6,13,9,8,1,3,5,2,4,3,2,2,10],\"type\":\"scatter\"},{\"hoverinfo\":\"text\",\"hovertext\":[\"<b>Topic 2</b><br>Words: dunn, ruspini, presentation, numerous, hard\",\"<b>Topic 2</b><br>Words: proportion, entry, exponent, validity, clustering\",\"<b>Topic 2</b><br>Words: clustering, geometrical, algorithms, ellipsoidal, concentrations\",\"<b>Topic 2</b><br>Words: concluding, run, iris, inherent, briefly\",\"<b>Topic 2</b><br>Words: groups, discriminant, clustering, ratio, variance\",\"<b>Topic 2</b><br>Words: recurring, offering, constantly, brought, definite\",\"<b>Topic 2</b><br>Words: clustering, fidelity, classes, distance, clusters\",\"<b>Topic 2</b><br>Words: clustering, dunn, isodata, bezdek, hard\",\"<b>Topic 2</b><br>Words: percentile, cluster, distinguished, dissimilarity, clustering\",\"<b>Topic 2</b><br>Words: clustering, fcm, algorithm, cluster, ht\",\"<b>Topic 2</b><br>Words: clustering, imaginative, traits, students, subpopulations\",\"<b>Topic 2</b><br>Words: clustering, typical, guiding, cluster, value\",\"<b>Topic 2</b><br>Words: clustering, mixtures, means, mises, directional\",\"<b>Topic 2</b><br>Words: clustering, cluster, center, data, hard\",\"<b>Topic 2</b><br>Words: clustering, cluster, algorithm, clusters, distance\",\"<b>Topic 2</b><br>Words: clustering, cluster, fcm, incident, clusters\",\"<b>Topic 2</b><br>Words: clustering, data, clusters, cluster, algorithm\",\"<b>Topic 2</b><br>Words: clustering, clusters, cluster, algorithm, data\",\"<b>Topic 2</b><br>Words: clustering, cluster, fkp, clusters, algorithm\",\"<b>Topic 2</b><br>Words: clustering, data, clusters, means, kernelized\",\"<b>Topic 2</b><br>Words: clustering, cluster, clusters, dbscan, algorithm\",\"<b>Topic 2</b><br>Words: clustering, cluster, consensus, data, fmmdd\",\"<b>Topic 2</b><br>Words: clustering, cluster, clusters, conjecturable, kmeans\",\"<b>Topic 2</b><br>Words: fjp, clustering, bipartite, algorithm, cluster\",\"<b>Topic 2</b><br>Words: clustering, cluster, data, clusters, algorithm\",\"<b>Topic 2</b><br>Words: clustering, cluster, clusters, algorithm, data\",\"<b>Topic 2</b><br>Words: clustering, peripheral, points, central, cluster\",\"<b>Topic 2</b><br>Words: clustering, clusters, cluster, data, medoids\",\"<b>Topic 2</b><br>Words: clustering, clusters, cluster, nodes, wsn\"],\"marker\":{\"color\":\"#009E73\"},\"mode\":\"lines\",\"name\":\"2_clustering_cluster_clusters_data\",\"x\":[\"1977-12-15T10:39:21.600000\",\"1981-01-08T17:36:00\",\"1982-07-14T14:24:00\",\"1984-01-17T11:12:00\",\"1985-07-22T08:00:00\",\"1987-01-25T04:48:00\",\"1988-07-30T01:36:00\",\"1990-02-01T22:24:00\",\"1991-08-07T19:12:00\",\"1993-02-09T16:00:00\",\"1994-08-15T12:48:00\",\"1996-02-18T09:36:00\",\"1997-08-23T06:24:00\",\"1999-02-26T03:12:00\",\"2000-08-31T00:00:00\",\"2002-03-05T20:48:00\",\"2003-09-08T17:36:00\",\"2005-03-13T14:24:00\",\"2006-09-16T11:12:00\",\"2008-03-21T08:00:00\",\"2009-09-24T04:48:00\",\"2011-03-30T01:36:00\",\"2012-10-01T22:24:00\",\"2014-04-06T19:12:00\",\"2015-10-10T16:00:00\",\"2017-04-14T12:48:00\",\"2018-10-18T09:36:00\",\"2020-04-22T06:24:00\",\"2021-10-26T03:12:00\"],\"y\":[1,1,1,1,2,1,4,3,2,5,4,3,4,9,11,10,11,9,10,6,11,4,7,4,12,10,3,9,4],\"type\":\"scatter\"},{\"hoverinfo\":\"text\",\"hovertext\":[\"<b>Topic 3</b><br>Words: bz, poset, orthocomplementations, brouwer, algebras\",\"<b>Topic 3</b><br>Words: bzmvdm, algebra, algebras, mv, sharp\",\"<b>Topic 3</b><br>Words: valuation, faithful, effect, algebra, modular\",\"<b>Topic 3</b><br>Words: algebras, modular, bl, heyting, effect\",\"<b>Topic 3</b><br>Words: wpbl, algebras, negations, weak, algebra\",\"<b>Topic 3</b><br>Words: effect, algebras, sharp, algebra, jauch\",\"<b>Topic 3</b><br>Words: algebras, bl, effect, mv, algebra\",\"<b>Topic 3</b><br>Words: algebras, algebra, divisible, residuated, mv\",\"<b>Topic 3</b><br>Words: algebras, algebra, filter, stone, filters\",\"<b>Topic 3</b><br>Words: algebras, filters, mtl, mv, algebra\",\"<b>Topic 3</b><br>Words: algebras, mv, algebra, bl, mtl\",\"<b>Topic 3</b><br>Words: algebras, mv, filters, algebra, bl\",\"<b>Topic 3</b><br>Words: algebras, mv, algebra, bl, derivations\",\"<b>Topic 3</b><br>Words: algebras, monadic, effect, hyper, algebra\",\"<b>Topic 3</b><br>Words: algebras, algebra, mv, residuated, emv\",\"<b>Topic 3</b><br>Words: algebras, mv, bl, algebra, lattice\",\"<b>Topic 3</b><br>Words: algebras, mv, algebra, perfect, eq\"],\"marker\":{\"color\":\"#F0E442\"},\"mode\":\"lines\",\"name\":\"3_algebras_mv_algebra_bl\",\"x\":[\"1988-07-30T01:36:00\",\"1999-02-26T03:12:00\",\"2000-08-31T00:00:00\",\"2002-03-05T20:48:00\",\"2003-09-08T17:36:00\",\"2005-03-13T14:24:00\",\"2006-09-16T11:12:00\",\"2008-03-21T08:00:00\",\"2009-09-24T04:48:00\",\"2011-03-30T01:36:00\",\"2012-10-01T22:24:00\",\"2014-04-06T19:12:00\",\"2015-10-10T16:00:00\",\"2017-04-14T12:48:00\",\"2018-10-18T09:36:00\",\"2020-04-22T06:24:00\",\"2021-10-26T03:12:00\"],\"y\":[1,2,2,4,2,3,6,5,6,8,11,18,18,6,16,15,14],\"type\":\"scatter\"},{\"hoverinfo\":\"text\",\"hovertext\":[\"<b>Topic 4</b><br>Words: subgroup, subgroups, group, inequality, generated\",\"<b>Topic 4</b><br>Words: subgroups, subgroup, products, anthony, product\",\"<b>Topic 4</b><br>Words: semidirect, subgroups, subgroup, product, sherwood\",\"<b>Topic 4</b><br>Words: subgroups, product, group, pointwise, direct\",\"<b>Topic 4</b><br>Words: subgroups, group, sessa, das, sherwood\",\"<b>Topic 4</b><br>Words: subgroups, subgroup, anti, group, level\",\"<b>Topic 4</b><br>Words: subgroups, subgroup, group, product, groups\",\"<b>Topic 4</b><br>Words: subgroup, subgroups, group, quasinormal, divisible\",\"<b>Topic 4</b><br>Words: subgroups, subgroup, group, groups, asaad\",\"<b>Topic 4</b><br>Words: subgroups, group, subgroup, gl, groups\",\"<b>Topic 4</b><br>Words: group, subgroups, subgroup, normal, px\",\"<b>Topic 4</b><br>Words: subgroup, subgroups, group, notion, tl\",\"<b>Topic 4</b><br>Words: subgroups, group, subgroup, subgroupoids, groups\",\"<b>Topic 4</b><br>Words: keychain, subgroups, subgroup, distinct, bhakat\",\"<b>Topic 4</b><br>Words: subgroups, subgroup, group, cartesian, zqm\",\"<b>Topic 4</b><br>Words: subgroups, equivalence, makamba, murali, discusses\",\"<b>Topic 4</b><br>Words: join, subgroups, hypergroupoid, group, hyperstructures\",\"<b>Topic 4</b><br>Words: ary, join, hypergroups, groupoid, canonical\",\"<b>Topic 4</b><br>Words: subgroups, operation, cartesian, chon, necessary\",\"<b>Topic 4</b><br>Words: skeleton, group, construction, groups, subgroups\",\"<b>Topic 4</b><br>Words: group, mi, subgroups, groups, subgroup\",\"<b>Topic 4</b><br>Words: mi, group, subgroups, groups, subgroup\",\"<b>Topic 4</b><br>Words: subgroups, group, annihilator, subgroup, equivalence\",\"<b>Topic 4</b><br>Words: subgroup, subgroups, aggregation, group, proven\",\"<b>Topic 4</b><br>Words: rubinstein, kasher, group, subgroups, herself\"],\"marker\":{\"color\":\"#D55E00\"},\"mode\":\"lines\",\"name\":\"4_subgroups_subgroup_group_groups\",\"x\":[\"1981-01-08T17:36:00\",\"1982-07-14T14:24:00\",\"1985-07-22T08:00:00\",\"1987-01-25T04:48:00\",\"1988-07-30T01:36:00\",\"1990-02-01T22:24:00\",\"1991-08-07T19:12:00\",\"1993-02-09T16:00:00\",\"1994-08-15T12:48:00\",\"1996-02-18T09:36:00\",\"1997-08-23T06:24:00\",\"1999-02-26T03:12:00\",\"2000-08-31T00:00:00\",\"2002-03-05T20:48:00\",\"2003-09-08T17:36:00\",\"2005-03-13T14:24:00\",\"2008-03-21T08:00:00\",\"2009-09-24T04:48:00\",\"2011-03-30T01:36:00\",\"2014-04-06T19:12:00\",\"2015-10-10T16:00:00\",\"2017-04-14T12:48:00\",\"2018-10-18T09:36:00\",\"2020-04-22T06:24:00\",\"2021-10-26T03:12:00\"],\"y\":[1,2,1,2,2,3,15,21,12,17,12,10,8,2,3,1,3,2,1,1,3,2,4,1,1],\"type\":\"scatter\"},{\"hoverinfo\":\"text\",\"hovertext\":[\"<b>Topic 5</b><br>Words: convergency, thedynamic, modelling, apart, eigenvectors\",\"<b>Topic 5</b><br>Words: solutions, combinatorial, incorrect, relation, correct\",\"<b>Topic 5</b><br>Words: equations, relational, equation, relation, reconstructable\",\"<b>Topic 5</b><br>Words: equations, relation, solution, composite, card\",\"<b>Topic 5</b><br>Words: equations, perturbation, solution, equation, card\",\"<b>Topic 5</b><br>Words: tolerances, equations, equation, solution, solutions\",\"<b>Topic 5</b><br>Words: inverses, equations, solution, brouwerian, ai\",\"<b>Topic 5</b><br>Words: equations, solution, relational, equation, solutions\",\"<b>Topic 5</b><br>Words: equations, solution, bilinear, relation, solutions\",\"<b>Topic 5</b><br>Words: vl, solution, relational, equations, widest\",\"<b>Topic 5</b><br>Words: equations, solution, solutions, relational, equation\",\"<b>Topic 5</b><br>Words: equations, relational, solvability, solutions, solving\",\"<b>Topic 5</b><br>Words: solution, composition, relational, equations, max\",\"<b>Topic 5</b><br>Words: equations, perturbation, matrix, solution, equation\",\"<b>Topic 5</b><br>Words: equations, solution, compression, equation, relation\",\"<b>Topic 5</b><br>Words: aij, inf, column, brouwerian, composite\",\"<b>Topic 5</b><br>Words: solution, implication, solutions, equations, equation\",\"<b>Topic 5</b><br>Words: solution, equations, decomposable, relation, essential\",\"<b>Topic 5</b><br>Words: solutions, equations, brouwerian, minimal, solution\",\"<b>Topic 5</b><br>Words: equations, composition, markovskii, solutions, equation\",\"<b>Topic 5</b><br>Words: unattainable, solution, attainable, equations, join\",\"<b>Topic 5</b><br>Words: solutions, greatest, equations, weakly, computing\",\"<b>Topic 5</b><br>Words: solutions, solution, equations, inf, lattices\",\"<b>Topic 5</b><br>Words: equations, relational, solutions, minimal, solution\",\"<b>Topic 5</b><br>Words: minimal, solvable, solutions, frameworks, compute\",\"<b>Topic 5</b><br>Words: supereigenvectors, subeigenvectors, solutions, solution, equations\",\"<b>Topic 5</b><br>Words: fls, solution, solutions, pre, matrix\",\"<b>Topic 5</b><br>Words: bipolar, equations, solutions, solution, relation\",\"<b>Topic 5</b><br>Words: equations, solutions, solution, dual, sup\"],\"marker\":{\"color\":\"#0072B2\"},\"mode\":\"lines\",\"name\":\"5_equations_solution_solutions_equation\",\"x\":[\"1979-07-06T20:48:00\",\"1981-01-08T17:36:00\",\"1982-07-14T14:24:00\",\"1984-01-17T11:12:00\",\"1985-07-22T08:00:00\",\"1987-01-25T04:48:00\",\"1988-07-30T01:36:00\",\"1990-02-01T22:24:00\",\"1991-08-07T19:12:00\",\"1993-02-09T16:00:00\",\"1994-08-15T12:48:00\",\"1996-02-18T09:36:00\",\"1997-08-23T06:24:00\",\"1999-02-26T03:12:00\",\"2000-08-31T00:00:00\",\"2002-03-05T20:48:00\",\"2003-09-08T17:36:00\",\"2005-03-13T14:24:00\",\"2006-09-16T11:12:00\",\"2008-03-21T08:00:00\",\"2009-09-24T04:48:00\",\"2011-03-30T01:36:00\",\"2012-10-01T22:24:00\",\"2014-04-06T19:12:00\",\"2015-10-10T16:00:00\",\"2017-04-14T12:48:00\",\"2018-10-18T09:36:00\",\"2020-04-22T06:24:00\",\"2021-10-26T03:12:00\"],\"y\":[1,2,4,8,8,7,6,7,8,7,7,4,4,4,6,1,2,4,4,3,2,2,2,2,1,2,4,4,3],\"type\":\"scatter\"},{\"hoverinfo\":\"text\",\"hovertext\":[\"<b>Topic 6</b><br>Words: distributions, ply, gaussian, exact, approximations\",\"<b>Topic 6</b><br>Words: approximants, distributions, ply, noted, iff\",\"<b>Topic 6</b><br>Words: menger, copulas, copula, compact, imaoka\",\"<b>Topic 6</b><br>Words: copulas, semilinear, concavity, aug, cuadras\",\"<b>Topic 6</b><br>Words: copulas, copula, quasi, flipping, transformations\",\"<b>Topic 6</b><br>Words: copulas, conic, quasi, copula, irreducible\",\"<b>Topic 6</b><br>Words: copulas, aggregation, copula, submeasures, flipping\",\"<b>Topic 6</b><br>Words: copula, copulas, quasi, diagonal, trivariate\",\"<b>Topic 6</b><br>Words: copulas, copula, diagonal, tail, aggregation\",\"<b>Topic 6</b><br>Words: copulas, copula, diagonal, tail, dependence\",\"<b>Topic 6</b><br>Words: copulas, copula, diagonal, transformations, bivariate\",\"<b>Topic 6</b><br>Words: copulas, copula, capacity, bivariate, diagonal\",\"<b>Topic 6</b><br>Words: copulas, copula, quasi, rmm, bivariate\",\"<b>Topic 6</b><br>Words: copulas, copula, multivariate, bivariate, quasi\"],\"marker\":{\"color\":\"#CC79A7\"},\"mode\":\"lines\",\"name\":\"6_copulas_copula_quasi_diagonal\",\"x\":[\"1985-07-22T08:00:00\",\"1988-07-30T01:36:00\",\"2003-09-08T17:36:00\",\"2006-09-16T11:12:00\",\"2008-03-21T08:00:00\",\"2009-09-24T04:48:00\",\"2011-03-30T01:36:00\",\"2012-10-01T22:24:00\",\"2014-04-06T19:12:00\",\"2015-10-10T16:00:00\",\"2017-04-14T12:48:00\",\"2018-10-18T09:36:00\",\"2020-04-22T06:24:00\",\"2021-10-26T03:12:00\"],\"y\":[1,1,2,2,8,4,8,13,12,10,9,13,17,19],\"type\":\"scatter\"}],                        {\"template\":{\"data\":{\"barpolar\":[{\"marker\":{\"line\":{\"color\":\"white\",\"width\":0.5},\"pattern\":{\"fillmode\":\"overlay\",\"size\":10,\"solidity\":0.2}},\"type\":\"barpolar\"}],\"bar\":[{\"error_x\":{\"color\":\"rgb(36,36,36)\"},\"error_y\":{\"color\":\"rgb(36,36,36)\"},\"marker\":{\"line\":{\"color\":\"white\",\"width\":0.5},\"pattern\":{\"fillmode\":\"overlay\",\"size\":10,\"solidity\":0.2}},\"type\":\"bar\"}],\"carpet\":[{\"aaxis\":{\"endlinecolor\":\"rgb(36,36,36)\",\"gridcolor\":\"white\",\"linecolor\":\"white\",\"minorgridcolor\":\"white\",\"startlinecolor\":\"rgb(36,36,36)\"},\"baxis\":{\"endlinecolor\":\"rgb(36,36,36)\",\"gridcolor\":\"white\",\"linecolor\":\"white\",\"minorgridcolor\":\"white\",\"startlinecolor\":\"rgb(36,36,36)\"},\"type\":\"carpet\"}],\"choropleth\":[{\"colorbar\":{\"outlinewidth\":1,\"tickcolor\":\"rgb(36,36,36)\",\"ticks\":\"outside\"},\"type\":\"choropleth\"}],\"contourcarpet\":[{\"colorbar\":{\"outlinewidth\":1,\"tickcolor\":\"rgb(36,36,36)\",\"ticks\":\"outside\"},\"type\":\"contourcarpet\"}],\"contour\":[{\"colorbar\":{\"outlinewidth\":1,\"tickcolor\":\"rgb(36,36,36)\",\"ticks\":\"outside\"},\"colorscale\":[[0.0,\"#440154\"],[0.1111111111111111,\"#482878\"],[0.2222222222222222,\"#3e4989\"],[0.3333333333333333,\"#31688e\"],[0.4444444444444444,\"#26828e\"],[0.5555555555555556,\"#1f9e89\"],[0.6666666666666666,\"#35b779\"],[0.7777777777777778,\"#6ece58\"],[0.8888888888888888,\"#b5de2b\"],[1.0,\"#fde725\"]],\"type\":\"contour\"}],\"heatmapgl\":[{\"colorbar\":{\"outlinewidth\":1,\"tickcolor\":\"rgb(36,36,36)\",\"ticks\":\"outside\"},\"colorscale\":[[0.0,\"#440154\"],[0.1111111111111111,\"#482878\"],[0.2222222222222222,\"#3e4989\"],[0.3333333333333333,\"#31688e\"],[0.4444444444444444,\"#26828e\"],[0.5555555555555556,\"#1f9e89\"],[0.6666666666666666,\"#35b779\"],[0.7777777777777778,\"#6ece58\"],[0.8888888888888888,\"#b5de2b\"],[1.0,\"#fde725\"]],\"type\":\"heatmapgl\"}],\"heatmap\":[{\"colorbar\":{\"outlinewidth\":1,\"tickcolor\":\"rgb(36,36,36)\",\"ticks\":\"outside\"},\"colorscale\":[[0.0,\"#440154\"],[0.1111111111111111,\"#482878\"],[0.2222222222222222,\"#3e4989\"],[0.3333333333333333,\"#31688e\"],[0.4444444444444444,\"#26828e\"],[0.5555555555555556,\"#1f9e89\"],[0.6666666666666666,\"#35b779\"],[0.7777777777777778,\"#6ece58\"],[0.8888888888888888,\"#b5de2b\"],[1.0,\"#fde725\"]],\"type\":\"heatmap\"}],\"histogram2dcontour\":[{\"colorbar\":{\"outlinewidth\":1,\"tickcolor\":\"rgb(36,36,36)\",\"ticks\":\"outside\"},\"colorscale\":[[0.0,\"#440154\"],[0.1111111111111111,\"#482878\"],[0.2222222222222222,\"#3e4989\"],[0.3333333333333333,\"#31688e\"],[0.4444444444444444,\"#26828e\"],[0.5555555555555556,\"#1f9e89\"],[0.6666666666666666,\"#35b779\"],[0.7777777777777778,\"#6ece58\"],[0.8888888888888888,\"#b5de2b\"],[1.0,\"#fde725\"]],\"type\":\"histogram2dcontour\"}],\"histogram2d\":[{\"colorbar\":{\"outlinewidth\":1,\"tickcolor\":\"rgb(36,36,36)\",\"ticks\":\"outside\"},\"colorscale\":[[0.0,\"#440154\"],[0.1111111111111111,\"#482878\"],[0.2222222222222222,\"#3e4989\"],[0.3333333333333333,\"#31688e\"],[0.4444444444444444,\"#26828e\"],[0.5555555555555556,\"#1f9e89\"],[0.6666666666666666,\"#35b779\"],[0.7777777777777778,\"#6ece58\"],[0.8888888888888888,\"#b5de2b\"],[1.0,\"#fde725\"]],\"type\":\"histogram2d\"}],\"histogram\":[{\"marker\":{\"line\":{\"color\":\"white\",\"width\":0.6}},\"type\":\"histogram\"}],\"mesh3d\":[{\"colorbar\":{\"outlinewidth\":1,\"tickcolor\":\"rgb(36,36,36)\",\"ticks\":\"outside\"},\"type\":\"mesh3d\"}],\"parcoords\":[{\"line\":{\"colorbar\":{\"outlinewidth\":1,\"tickcolor\":\"rgb(36,36,36)\",\"ticks\":\"outside\"}},\"type\":\"parcoords\"}],\"pie\":[{\"automargin\":true,\"type\":\"pie\"}],\"scatter3d\":[{\"line\":{\"colorbar\":{\"outlinewidth\":1,\"tickcolor\":\"rgb(36,36,36)\",\"ticks\":\"outside\"}},\"marker\":{\"colorbar\":{\"outlinewidth\":1,\"tickcolor\":\"rgb(36,36,36)\",\"ticks\":\"outside\"}},\"type\":\"scatter3d\"}],\"scattercarpet\":[{\"marker\":{\"colorbar\":{\"outlinewidth\":1,\"tickcolor\":\"rgb(36,36,36)\",\"ticks\":\"outside\"}},\"type\":\"scattercarpet\"}],\"scattergeo\":[{\"marker\":{\"colorbar\":{\"outlinewidth\":1,\"tickcolor\":\"rgb(36,36,36)\",\"ticks\":\"outside\"}},\"type\":\"scattergeo\"}],\"scattergl\":[{\"marker\":{\"colorbar\":{\"outlinewidth\":1,\"tickcolor\":\"rgb(36,36,36)\",\"ticks\":\"outside\"}},\"type\":\"scattergl\"}],\"scattermapbox\":[{\"marker\":{\"colorbar\":{\"outlinewidth\":1,\"tickcolor\":\"rgb(36,36,36)\",\"ticks\":\"outside\"}},\"type\":\"scattermapbox\"}],\"scatterpolargl\":[{\"marker\":{\"colorbar\":{\"outlinewidth\":1,\"tickcolor\":\"rgb(36,36,36)\",\"ticks\":\"outside\"}},\"type\":\"scatterpolargl\"}],\"scatterpolar\":[{\"marker\":{\"colorbar\":{\"outlinewidth\":1,\"tickcolor\":\"rgb(36,36,36)\",\"ticks\":\"outside\"}},\"type\":\"scatterpolar\"}],\"scatter\":[{\"fillpattern\":{\"fillmode\":\"overlay\",\"size\":10,\"solidity\":0.2},\"type\":\"scatter\"}],\"scatterternary\":[{\"marker\":{\"colorbar\":{\"outlinewidth\":1,\"tickcolor\":\"rgb(36,36,36)\",\"ticks\":\"outside\"}},\"type\":\"scatterternary\"}],\"surface\":[{\"colorbar\":{\"outlinewidth\":1,\"tickcolor\":\"rgb(36,36,36)\",\"ticks\":\"outside\"},\"colorscale\":[[0.0,\"#440154\"],[0.1111111111111111,\"#482878\"],[0.2222222222222222,\"#3e4989\"],[0.3333333333333333,\"#31688e\"],[0.4444444444444444,\"#26828e\"],[0.5555555555555556,\"#1f9e89\"],[0.6666666666666666,\"#35b779\"],[0.7777777777777778,\"#6ece58\"],[0.8888888888888888,\"#b5de2b\"],[1.0,\"#fde725\"]],\"type\":\"surface\"}],\"table\":[{\"cells\":{\"fill\":{\"color\":\"rgb(237,237,237)\"},\"line\":{\"color\":\"white\"}},\"header\":{\"fill\":{\"color\":\"rgb(217,217,217)\"},\"line\":{\"color\":\"white\"}},\"type\":\"table\"}]},\"layout\":{\"annotationdefaults\":{\"arrowhead\":0,\"arrowwidth\":1},\"autotypenumbers\":\"strict\",\"coloraxis\":{\"colorbar\":{\"outlinewidth\":1,\"tickcolor\":\"rgb(36,36,36)\",\"ticks\":\"outside\"}},\"colorscale\":{\"diverging\":[[0.0,\"rgb(103,0,31)\"],[0.1,\"rgb(178,24,43)\"],[0.2,\"rgb(214,96,77)\"],[0.3,\"rgb(244,165,130)\"],[0.4,\"rgb(253,219,199)\"],[0.5,\"rgb(247,247,247)\"],[0.6,\"rgb(209,229,240)\"],[0.7,\"rgb(146,197,222)\"],[0.8,\"rgb(67,147,195)\"],[0.9,\"rgb(33,102,172)\"],[1.0,\"rgb(5,48,97)\"]],\"sequential\":[[0.0,\"#440154\"],[0.1111111111111111,\"#482878\"],[0.2222222222222222,\"#3e4989\"],[0.3333333333333333,\"#31688e\"],[0.4444444444444444,\"#26828e\"],[0.5555555555555556,\"#1f9e89\"],[0.6666666666666666,\"#35b779\"],[0.7777777777777778,\"#6ece58\"],[0.8888888888888888,\"#b5de2b\"],[1.0,\"#fde725\"]],\"sequentialminus\":[[0.0,\"#440154\"],[0.1111111111111111,\"#482878\"],[0.2222222222222222,\"#3e4989\"],[0.3333333333333333,\"#31688e\"],[0.4444444444444444,\"#26828e\"],[0.5555555555555556,\"#1f9e89\"],[0.6666666666666666,\"#35b779\"],[0.7777777777777778,\"#6ece58\"],[0.8888888888888888,\"#b5de2b\"],[1.0,\"#fde725\"]]},\"colorway\":[\"#1F77B4\",\"#FF7F0E\",\"#2CA02C\",\"#D62728\",\"#9467BD\",\"#8C564B\",\"#E377C2\",\"#7F7F7F\",\"#BCBD22\",\"#17BECF\"],\"font\":{\"color\":\"rgb(36,36,36)\"},\"geo\":{\"bgcolor\":\"white\",\"lakecolor\":\"white\",\"landcolor\":\"white\",\"showlakes\":true,\"showland\":true,\"subunitcolor\":\"white\"},\"hoverlabel\":{\"align\":\"left\"},\"hovermode\":\"closest\",\"mapbox\":{\"style\":\"light\"},\"paper_bgcolor\":\"white\",\"plot_bgcolor\":\"white\",\"polar\":{\"angularaxis\":{\"gridcolor\":\"rgb(232,232,232)\",\"linecolor\":\"rgb(36,36,36)\",\"showgrid\":false,\"showline\":true,\"ticks\":\"outside\"},\"bgcolor\":\"white\",\"radialaxis\":{\"gridcolor\":\"rgb(232,232,232)\",\"linecolor\":\"rgb(36,36,36)\",\"showgrid\":false,\"showline\":true,\"ticks\":\"outside\"}},\"scene\":{\"xaxis\":{\"backgroundcolor\":\"white\",\"gridcolor\":\"rgb(232,232,232)\",\"gridwidth\":2,\"linecolor\":\"rgb(36,36,36)\",\"showbackground\":true,\"showgrid\":false,\"showline\":true,\"ticks\":\"outside\",\"zeroline\":false,\"zerolinecolor\":\"rgb(36,36,36)\"},\"yaxis\":{\"backgroundcolor\":\"white\",\"gridcolor\":\"rgb(232,232,232)\",\"gridwidth\":2,\"linecolor\":\"rgb(36,36,36)\",\"showbackground\":true,\"showgrid\":false,\"showline\":true,\"ticks\":\"outside\",\"zeroline\":false,\"zerolinecolor\":\"rgb(36,36,36)\"},\"zaxis\":{\"backgroundcolor\":\"white\",\"gridcolor\":\"rgb(232,232,232)\",\"gridwidth\":2,\"linecolor\":\"rgb(36,36,36)\",\"showbackground\":true,\"showgrid\":false,\"showline\":true,\"ticks\":\"outside\",\"zeroline\":false,\"zerolinecolor\":\"rgb(36,36,36)\"}},\"shapedefaults\":{\"fillcolor\":\"black\",\"line\":{\"width\":0},\"opacity\":0.3},\"ternary\":{\"aaxis\":{\"gridcolor\":\"rgb(232,232,232)\",\"linecolor\":\"rgb(36,36,36)\",\"showgrid\":false,\"showline\":true,\"ticks\":\"outside\"},\"baxis\":{\"gridcolor\":\"rgb(232,232,232)\",\"linecolor\":\"rgb(36,36,36)\",\"showgrid\":false,\"showline\":true,\"ticks\":\"outside\"},\"bgcolor\":\"white\",\"caxis\":{\"gridcolor\":\"rgb(232,232,232)\",\"linecolor\":\"rgb(36,36,36)\",\"showgrid\":false,\"showline\":true,\"ticks\":\"outside\"}},\"title\":{\"x\":0.05},\"xaxis\":{\"automargin\":true,\"gridcolor\":\"rgb(232,232,232)\",\"linecolor\":\"rgb(36,36,36)\",\"showgrid\":false,\"showline\":true,\"ticks\":\"outside\",\"title\":{\"standoff\":15},\"zeroline\":false,\"zerolinecolor\":\"rgb(36,36,36)\"},\"yaxis\":{\"automargin\":true,\"gridcolor\":\"rgb(232,232,232)\",\"linecolor\":\"rgb(36,36,36)\",\"showgrid\":false,\"showline\":true,\"ticks\":\"outside\",\"title\":{\"standoff\":15},\"zeroline\":false,\"zerolinecolor\":\"rgb(36,36,36)\"}}},\"xaxis\":{\"showgrid\":true},\"yaxis\":{\"showgrid\":true,\"title\":{\"text\":\"Frequency\"}},\"title\":{\"font\":{\"size\":22,\"color\":\"Black\"},\"text\":\"<b>Topics over Time</b>\",\"y\":0.95,\"x\":0.4,\"xanchor\":\"center\",\"yanchor\":\"top\"},\"hoverlabel\":{\"font\":{\"size\":16,\"family\":\"Rockwell\"},\"bgcolor\":\"white\"},\"width\":1250,\"height\":450,\"legend\":{\"title\":{\"text\":\"<b>Global Topic Representation\"}}},                        {\"responsive\": true}                    ).then(function(){\n                            \nvar gd = document.getElementById('7e148e63-a1ee-4446-b32f-14b64ee0eaa6');\nvar x = new MutationObserver(function (mutations, observer) {{\n        var display = window.getComputedStyle(gd).display;\n        if (!display || display === 'none') {{\n            console.log([gd, 'removed!']);\n            Plotly.purge(gd);\n            observer.disconnect();\n        }}\n}});\n\n// Listen for the removal of the full notebook cells\nvar notebookContainer = gd.closest('#notebook-container');\nif (notebookContainer) {{\n    x.observe(notebookContainer, {childList: true});\n}}\n\n// Listen for the clearing of the current output cell\nvar outputEl = gd.closest('.output');\nif (outputEl) {{\n    x.observe(outputEl, {childList: true});\n}}\n\n                        })                };                });            </script>        </div>"
     },
     "metadata": {},
     "output_type": "display_data"
    }
   ],
   "source": [
    "top_n_topics = 7\n",
    "img = topic_model.visualize_topics_over_time(topics_over_time, top_n_topics=top_n_topics)\n",
    "img.show()\n",
    "\n",
    "file_name = \"plt\\\\plt_b_\" +  str(nr_bins) + \"_t_\" + str(top_n_topics) + \".html\"\n",
    "# img.write_image(\"test.png\")\n",
    "img.write_html(file_name)"
   ],
   "metadata": {
    "collapsed": false,
    "ExecuteTime": {
     "end_time": "2023-06-19T17:00:18.385226600Z",
     "start_time": "2023-06-19T17:00:18.322726600Z"
    }
   }
  },
  {
   "cell_type": "code",
   "execution_count": null,
   "outputs": [],
   "source": [],
   "metadata": {
    "collapsed": false
   }
  }
 ],
 "metadata": {
  "kernelspec": {
   "display_name": "Python 3",
   "language": "python",
   "name": "python3"
  },
  "language_info": {
   "codemirror_mode": {
    "name": "ipython",
    "version": 2
   },
   "file_extension": ".py",
   "mimetype": "text/x-python",
   "name": "python",
   "nbconvert_exporter": "python",
   "pygments_lexer": "ipython2",
   "version": "2.7.6"
  }
 },
 "nbformat": 4,
 "nbformat_minor": 0
}
