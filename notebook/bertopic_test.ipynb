{
 "cells": [
  {
   "cell_type": "code",
   "execution_count": 1,
   "outputs": [
    {
     "name": "stdout",
     "output_type": "stream",
     "text": [
      "['a concept of multi valued cognitive maps is introduced in this paper the concept expands the fuzzy one however all variables and weights are not linearly ordered in the concept but are only partially ordered such an approach allows us to operate in cognitive maps with partially ordered linguistic variables directly without vague fuzzification defuzzification methods hence we may consider more subtle differences in degrees of experts uncertainty than in the fuzzy case we prove the convergence of such cognitive maps and give two simple computational examples which demonstrate using such a partially ordered uncertainty degree scale compared to the fuzzy case'\n",
      " 'in this paper we investigate the fixed time synchronization for fuzzy inertial neural networks with time varying coefficients and time delays the fuzzy inertial neural networks are transformed into two forms of first order differential systems and then two kinds of different controllers of time variable are designed in these schemes a series of novel criteria are proposed to ensure the fixed time synchronization for the drive response fuzzy inertial neural networks via state feedback control methods sufficient conditions of delay dependent and delay independent are obtained in terms of algebraic inequalities not the matrix inequalities moreover these new criteria allow the derivative of the lyapunov function can be positive but not negative definite as the earlier work and the algebraic conditions become easy to be tested under the new criteria finally two examples are added to illustrate effectiveness of the results we obtained meanwhile a new image encryption algorithm is proposed based on the synchronization of drive response networks and the effectiveness of this algorithm is also demonstrated'\n",
      " 'for most bayesian inference problems that are of interest solving for the model parameter posterior probability distribution remains to be the main challenge a typical technique entails using markov chain monte carlo mcmc in order to obtain an approximation of the posterior distribution however one drawback of mcmc is that it usually requires solving the forward problem multiple times which could be infeasible if the forward model is computationally expensive in this paper a computationally cheap surrogate model is developed using the adaptive neuro fuzzy inference system with a fuzzy c means initialization anfis fcm the optimal number of fuzzy rules is chosen via a proposed algorithm based on the pairing frequency clustering validity index the effectiveness of the anfis fcm model is tested on inferring reaction rate parameters in a node network toy problem which mimics idealized combustion reaction networks using multiple error measures it is shown that the developed anfis fcm model is capable of constructing accurate surrogate models at a minimal computational cost'\n",
      " ...\n",
      " 'in the recent past numerous models and methods have been suggested to solve the vectormaximum problem most of these approaches center their attention on linear programming problems with several objective functions apart from these approaches the theory of fuzzy sets has been employed to formulate and solve fuzzy linear programming problems this paper presents the application of fuzzy linear programming approaches to the linear vectormaximum problem it shows that solutions obtained by fuzzy linear programming are always efficient solutions it also shows the consequences of using different ways of combining individual objective functions in order to determine an optimal compromise solution'\n",
      " 'the complexity of experience acquired through our senses and as interpreted by our mind is fuzzy and must remain so as long as the meaning of things change as they are embedded in larger or different contexts to relate them to new ideas and new experiences here we give a method for measuring the relativity of fuzziness by structuring the functions of a system hierarchically in a multiple objective framework the method is based on computing the principal eigenvector of a positive matrix with reciprocal entries i e aji aij the eigenvector provides an estimate for an assumed underlying ratio scale for a single property the scale provides a measure of the grade of membership of elements in a fuzzy set according to that property and the departure of the eigenvalue from the dimension of the matrix serves as a measure of departure from consistency for a number of properties the principle of hierarchical composition enables us to compose the eigenvectors into a priority vector which measures the fuzziness of the elements in the lowest level of the hierarchy with respect to the relative dominance of the purposes or properties represented in the hierarchy'\n",
      " 'when r is a fuzzy relation between the elements of a finite set x the fuzzy subsets a of x such that r a a max min composition are called eigen fuzzy sets in this paper we describe algorithms for the determination of the greatest eigen fuzzy set associated with a given fuzzy relation thinking of medical diagnosis applications']\n"
     ]
    }
   ],
   "source": [
    "import re\n",
    "import pandas as pd\n",
    "import numpy as np\n",
    "\n",
    "# Prepare data\n",
    "trump = pd.read_csv('dataset/fsas/fsas_full_utf8_dated.csv')\n",
    "trump.abstract = trump.apply(lambda row: re.sub(r\"http\\S+\", \"\", row.abstract).lower(), 1)\n",
    "trump.abstract = trump.apply(lambda row: \" \".join(filter(lambda x: x[0] != \"@\", row.abstract.split())), 1)\n",
    "trump.abstract = trump.apply(lambda row: \" \".join(re.sub(\"[^a-zA-Z]+\", \" \", row.abstract).split()), 1)\n",
    "# trump = trump.loc[(trump.isRetweet == \"f\") & (trump.abstract != \"\"), :]\n",
    "timestamps = trump.date.to_list()\n",
    "abstracts = trump.abstract.to_list()\n",
    "\n",
    "arr_multi = np.array(abstracts)\n",
    "print(arr_multi)"
   ],
   "metadata": {
    "collapsed": false,
    "ExecuteTime": {
     "end_time": "2023-06-25T18:33:46.381575100Z",
     "start_time": "2023-06-25T18:33:45.034576Z"
    }
   }
  },
  {
   "cell_type": "code",
   "execution_count": 4,
   "outputs": [
    {
     "ename": "CudaSupportError",
     "evalue": "Error at driver init: \nCall to cuInit results in CUDA_ERROR_NO_DEVICE (100):",
     "output_type": "error",
     "traceback": [
      "\u001B[0;31m---------------------------------------------------------------------------\u001B[0m",
      "\u001B[0;31mCudaSupportError\u001B[0m                          Traceback (most recent call last)",
      "Cell \u001B[0;32mIn[4], line 3\u001B[0m\n\u001B[1;32m      1\u001B[0m \u001B[38;5;28;01mfrom\u001B[39;00m \u001B[38;5;21;01mbertopic\u001B[39;00m \u001B[38;5;28;01mimport\u001B[39;00m BERTopic\n\u001B[1;32m      2\u001B[0m \u001B[38;5;28;01mfrom\u001B[39;00m \u001B[38;5;21;01msklearn\u001B[39;00m\u001B[38;5;21;01m.\u001B[39;00m\u001B[38;5;21;01mfeature_extraction\u001B[39;00m\u001B[38;5;21;01m.\u001B[39;00m\u001B[38;5;21;01mtext\u001B[39;00m \u001B[38;5;28;01mimport\u001B[39;00m CountVectorizer\n\u001B[0;32m----> 3\u001B[0m \u001B[38;5;28;01mfrom\u001B[39;00m \u001B[38;5;21;01mcuml\u001B[39;00m\u001B[38;5;21;01m.\u001B[39;00m\u001B[38;5;21;01mcluster\u001B[39;00m \u001B[38;5;28;01mimport\u001B[39;00m HDBSCAN\n\u001B[1;32m      4\u001B[0m \u001B[38;5;28;01mfrom\u001B[39;00m \u001B[38;5;21;01mcuml\u001B[39;00m\u001B[38;5;21;01m.\u001B[39;00m\u001B[38;5;21;01mmanifold\u001B[39;00m \u001B[38;5;28;01mimport\u001B[39;00m UMAP\n\u001B[1;32m      5\u001B[0m \u001B[38;5;28;01mimport\u001B[39;00m \u001B[38;5;21;01mos\u001B[39;00m\n",
      "File \u001B[0;32m~/.pyenv/versions/3.9.16/lib/python3.9/site-packages/cuml/__init__.py:17\u001B[0m\n\u001B[1;32m      1\u001B[0m \u001B[38;5;66;03m#\u001B[39;00m\n\u001B[1;32m      2\u001B[0m \u001B[38;5;66;03m# Copyright (c) 2022-2023, NVIDIA CORPORATION.\u001B[39;00m\n\u001B[1;32m      3\u001B[0m \u001B[38;5;66;03m#\u001B[39;00m\n\u001B[0;32m   (...)\u001B[0m\n\u001B[1;32m     14\u001B[0m \u001B[38;5;66;03m# limitations under the License.\u001B[39;00m\n\u001B[1;32m     15\u001B[0m \u001B[38;5;66;03m#\u001B[39;00m\n\u001B[0;32m---> 17\u001B[0m \u001B[38;5;28;01mfrom\u001B[39;00m \u001B[38;5;21;01mcuml\u001B[39;00m\u001B[38;5;21;01m.\u001B[39;00m\u001B[38;5;21;01minternals\u001B[39;00m\u001B[38;5;21;01m.\u001B[39;00m\u001B[38;5;21;01mbase\u001B[39;00m \u001B[38;5;28;01mimport\u001B[39;00m Base, UniversalBase\n\u001B[1;32m     19\u001B[0m \u001B[38;5;66;03m# GPU only packages\u001B[39;00m\n\u001B[1;32m     21\u001B[0m \u001B[38;5;28;01mimport\u001B[39;00m \u001B[38;5;21;01mcuml\u001B[39;00m\u001B[38;5;21;01m.\u001B[39;00m\u001B[38;5;21;01mcommon\u001B[39;00m\u001B[38;5;21;01m.\u001B[39;00m\u001B[38;5;21;01mcuda\u001B[39;00m \u001B[38;5;28;01mas\u001B[39;00m \u001B[38;5;21;01mcuda\u001B[39;00m\n",
      "File \u001B[0;32m~/.pyenv/versions/3.9.16/lib/python3.9/site-packages/cuml/internals/__init__.py:17\u001B[0m\n\u001B[1;32m      1\u001B[0m \u001B[38;5;66;03m#\u001B[39;00m\n\u001B[1;32m      2\u001B[0m \u001B[38;5;66;03m# Copyright (c) 2019-2023, NVIDIA CORPORATION.\u001B[39;00m\n\u001B[1;32m      3\u001B[0m \u001B[38;5;66;03m#\u001B[39;00m\n\u001B[0;32m   (...)\u001B[0m\n\u001B[1;32m     14\u001B[0m \u001B[38;5;66;03m# limitations under the License.\u001B[39;00m\n\u001B[1;32m     15\u001B[0m \u001B[38;5;66;03m#\u001B[39;00m\n\u001B[0;32m---> 17\u001B[0m \u001B[38;5;28;01mfrom\u001B[39;00m \u001B[38;5;21;01mcuml\u001B[39;00m\u001B[38;5;21;01m.\u001B[39;00m\u001B[38;5;21;01minternals\u001B[39;00m\u001B[38;5;21;01m.\u001B[39;00m\u001B[38;5;21;01mbase_helpers\u001B[39;00m \u001B[38;5;28;01mimport\u001B[39;00m BaseMetaClass, _tags_class_and_instance\n\u001B[1;32m     18\u001B[0m \u001B[38;5;28;01mfrom\u001B[39;00m \u001B[38;5;21;01mcuml\u001B[39;00m\u001B[38;5;21;01m.\u001B[39;00m\u001B[38;5;21;01minternals\u001B[39;00m\u001B[38;5;21;01m.\u001B[39;00m\u001B[38;5;21;01mapi_decorators\u001B[39;00m \u001B[38;5;28;01mimport\u001B[39;00m (\n\u001B[1;32m     19\u001B[0m     _deprecate_pos_args,\n\u001B[1;32m     20\u001B[0m     api_base_fit_transform,\n\u001B[0;32m   (...)\u001B[0m\n\u001B[1;32m     32\u001B[0m     exit_internal_api,\n\u001B[1;32m     33\u001B[0m )\n\u001B[1;32m     34\u001B[0m \u001B[38;5;28;01mfrom\u001B[39;00m \u001B[38;5;21;01mcuml\u001B[39;00m\u001B[38;5;21;01m.\u001B[39;00m\u001B[38;5;21;01minternals\u001B[39;00m\u001B[38;5;21;01m.\u001B[39;00m\u001B[38;5;21;01mapi_context_managers\u001B[39;00m \u001B[38;5;28;01mimport\u001B[39;00m (\n\u001B[1;32m     35\u001B[0m     in_internal_api,\n\u001B[1;32m     36\u001B[0m     set_api_output_dtype,\n\u001B[1;32m     37\u001B[0m     set_api_output_type,\n\u001B[1;32m     38\u001B[0m )\n",
      "File \u001B[0;32m~/.pyenv/versions/3.9.16/lib/python3.9/site-packages/cuml/internals/base_helpers.py:20\u001B[0m\n\u001B[1;32m     17\u001B[0m \u001B[38;5;28;01mfrom\u001B[39;00m \u001B[38;5;21;01minspect\u001B[39;00m \u001B[38;5;28;01mimport\u001B[39;00m Parameter, signature\n\u001B[1;32m     18\u001B[0m \u001B[38;5;28;01mimport\u001B[39;00m \u001B[38;5;21;01mtyping\u001B[39;00m\n\u001B[0;32m---> 20\u001B[0m \u001B[38;5;28;01mfrom\u001B[39;00m \u001B[38;5;21;01mcuml\u001B[39;00m\u001B[38;5;21;01m.\u001B[39;00m\u001B[38;5;21;01minternals\u001B[39;00m\u001B[38;5;21;01m.\u001B[39;00m\u001B[38;5;21;01mapi_decorators\u001B[39;00m \u001B[38;5;28;01mimport\u001B[39;00m (\n\u001B[1;32m     21\u001B[0m     api_base_return_generic,\n\u001B[1;32m     22\u001B[0m     api_base_return_array,\n\u001B[1;32m     23\u001B[0m     api_base_return_sparse_array,\n\u001B[1;32m     24\u001B[0m     api_base_return_any,\n\u001B[1;32m     25\u001B[0m     api_return_any,\n\u001B[1;32m     26\u001B[0m     _deprecate_pos_args,\n\u001B[1;32m     27\u001B[0m )\n\u001B[1;32m     28\u001B[0m \u001B[38;5;28;01mfrom\u001B[39;00m \u001B[38;5;21;01mcuml\u001B[39;00m\u001B[38;5;21;01m.\u001B[39;00m\u001B[38;5;21;01minternals\u001B[39;00m\u001B[38;5;21;01m.\u001B[39;00m\u001B[38;5;21;01marray\u001B[39;00m \u001B[38;5;28;01mimport\u001B[39;00m CumlArray\n\u001B[1;32m     29\u001B[0m \u001B[38;5;28;01mfrom\u001B[39;00m \u001B[38;5;21;01mcuml\u001B[39;00m\u001B[38;5;21;01m.\u001B[39;00m\u001B[38;5;21;01minternals\u001B[39;00m\u001B[38;5;21;01m.\u001B[39;00m\u001B[38;5;21;01marray_sparse\u001B[39;00m \u001B[38;5;28;01mimport\u001B[39;00m SparseCumlArray\n",
      "File \u001B[0;32m~/.pyenv/versions/3.9.16/lib/python3.9/site-packages/cuml/internals/api_decorators.py:24\u001B[0m\n\u001B[1;32m     21\u001B[0m \u001B[38;5;28;01mimport\u001B[39;00m \u001B[38;5;21;01mwarnings\u001B[39;00m\n\u001B[1;32m     23\u001B[0m \u001B[38;5;66;03m# TODO: Try to resolve circular import that makes this necessary:\u001B[39;00m\n\u001B[0;32m---> 24\u001B[0m \u001B[38;5;28;01mfrom\u001B[39;00m \u001B[38;5;21;01mcuml\u001B[39;00m\u001B[38;5;21;01m.\u001B[39;00m\u001B[38;5;21;01minternals\u001B[39;00m \u001B[38;5;28;01mimport\u001B[39;00m input_utils \u001B[38;5;28;01mas\u001B[39;00m iu\n\u001B[1;32m     25\u001B[0m \u001B[38;5;28;01mfrom\u001B[39;00m \u001B[38;5;21;01mcuml\u001B[39;00m\u001B[38;5;21;01m.\u001B[39;00m\u001B[38;5;21;01minternals\u001B[39;00m\u001B[38;5;21;01m.\u001B[39;00m\u001B[38;5;21;01mapi_context_managers\u001B[39;00m \u001B[38;5;28;01mimport\u001B[39;00m BaseReturnAnyCM\n\u001B[1;32m     26\u001B[0m \u001B[38;5;28;01mfrom\u001B[39;00m \u001B[38;5;21;01mcuml\u001B[39;00m\u001B[38;5;21;01m.\u001B[39;00m\u001B[38;5;21;01minternals\u001B[39;00m\u001B[38;5;21;01m.\u001B[39;00m\u001B[38;5;21;01mapi_context_managers\u001B[39;00m \u001B[38;5;28;01mimport\u001B[39;00m BaseReturnArrayCM\n",
      "File \u001B[0;32m~/.pyenv/versions/3.9.16/lib/python3.9/site-packages/cuml/internals/input_utils.py:19\u001B[0m\n\u001B[1;32m      1\u001B[0m \u001B[38;5;66;03m#\u001B[39;00m\n\u001B[1;32m      2\u001B[0m \u001B[38;5;66;03m# Copyright (c) 2019-2023, NVIDIA CORPORATION.\u001B[39;00m\n\u001B[1;32m      3\u001B[0m \u001B[38;5;66;03m#\u001B[39;00m\n\u001B[0;32m   (...)\u001B[0m\n\u001B[1;32m     14\u001B[0m \u001B[38;5;66;03m# limitations under the License.\u001B[39;00m\n\u001B[1;32m     15\u001B[0m \u001B[38;5;66;03m#\u001B[39;00m\n\u001B[1;32m     17\u001B[0m \u001B[38;5;28;01mfrom\u001B[39;00m \u001B[38;5;21;01mcollections\u001B[39;00m \u001B[38;5;28;01mimport\u001B[39;00m namedtuple\n\u001B[0;32m---> 19\u001B[0m \u001B[38;5;28;01mfrom\u001B[39;00m \u001B[38;5;21;01mcuml\u001B[39;00m\u001B[38;5;21;01m.\u001B[39;00m\u001B[38;5;21;01minternals\u001B[39;00m\u001B[38;5;21;01m.\u001B[39;00m\u001B[38;5;21;01marray\u001B[39;00m \u001B[38;5;28;01mimport\u001B[39;00m CumlArray\n\u001B[1;32m     20\u001B[0m \u001B[38;5;28;01mfrom\u001B[39;00m \u001B[38;5;21;01mcuml\u001B[39;00m\u001B[38;5;21;01m.\u001B[39;00m\u001B[38;5;21;01minternals\u001B[39;00m\u001B[38;5;21;01m.\u001B[39;00m\u001B[38;5;21;01marray_sparse\u001B[39;00m \u001B[38;5;28;01mimport\u001B[39;00m SparseCumlArray\n\u001B[1;32m     21\u001B[0m \u001B[38;5;28;01mfrom\u001B[39;00m \u001B[38;5;21;01mcuml\u001B[39;00m\u001B[38;5;21;01m.\u001B[39;00m\u001B[38;5;21;01minternals\u001B[39;00m\u001B[38;5;21;01m.\u001B[39;00m\u001B[38;5;21;01mglobal_settings\u001B[39;00m \u001B[38;5;28;01mimport\u001B[39;00m GlobalSettings\n",
      "File \u001B[0;32m~/.pyenv/versions/3.9.16/lib/python3.9/site-packages/cuml/internals/array.py:22\u001B[0m\n\u001B[1;32m     19\u001B[0m \u001B[38;5;28;01mimport\u001B[39;00m \u001B[38;5;21;01moperator\u001B[39;00m\n\u001B[1;32m     20\u001B[0m \u001B[38;5;28;01mimport\u001B[39;00m \u001B[38;5;21;01mpickle\u001B[39;00m\n\u001B[0;32m---> 22\u001B[0m \u001B[38;5;28;01mfrom\u001B[39;00m \u001B[38;5;21;01mcuml\u001B[39;00m\u001B[38;5;21;01m.\u001B[39;00m\u001B[38;5;21;01minternals\u001B[39;00m\u001B[38;5;21;01m.\u001B[39;00m\u001B[38;5;21;01mglobal_settings\u001B[39;00m \u001B[38;5;28;01mimport\u001B[39;00m GlobalSettings\n\u001B[1;32m     23\u001B[0m \u001B[38;5;28;01mfrom\u001B[39;00m \u001B[38;5;21;01mcuml\u001B[39;00m\u001B[38;5;21;01m.\u001B[39;00m\u001B[38;5;21;01minternals\u001B[39;00m\u001B[38;5;21;01m.\u001B[39;00m\u001B[38;5;21;01mlogger\u001B[39;00m \u001B[38;5;28;01mimport\u001B[39;00m debug\n\u001B[1;32m     24\u001B[0m \u001B[38;5;28;01mfrom\u001B[39;00m \u001B[38;5;21;01mcuml\u001B[39;00m\u001B[38;5;21;01m.\u001B[39;00m\u001B[38;5;21;01minternals\u001B[39;00m\u001B[38;5;21;01m.\u001B[39;00m\u001B[38;5;21;01mmem_type\u001B[39;00m \u001B[38;5;28;01mimport\u001B[39;00m MemoryType, MemoryTypeError\n",
      "File \u001B[0;32m~/.pyenv/versions/3.9.16/lib/python3.9/site-packages/cuml/internals/global_settings.py:20\u001B[0m\n\u001B[1;32m     18\u001B[0m \u001B[38;5;28;01mimport\u001B[39;00m \u001B[38;5;21;01mthreading\u001B[39;00m\n\u001B[1;32m     19\u001B[0m \u001B[38;5;28;01mfrom\u001B[39;00m \u001B[38;5;21;01mcuml\u001B[39;00m\u001B[38;5;21;01m.\u001B[39;00m\u001B[38;5;21;01minternals\u001B[39;00m\u001B[38;5;21;01m.\u001B[39;00m\u001B[38;5;21;01mavailable_devices\u001B[39;00m \u001B[38;5;28;01mimport\u001B[39;00m is_cuda_available\n\u001B[0;32m---> 20\u001B[0m \u001B[38;5;28;01mfrom\u001B[39;00m \u001B[38;5;21;01mcuml\u001B[39;00m\u001B[38;5;21;01m.\u001B[39;00m\u001B[38;5;21;01minternals\u001B[39;00m\u001B[38;5;21;01m.\u001B[39;00m\u001B[38;5;21;01mdevice_type\u001B[39;00m \u001B[38;5;28;01mimport\u001B[39;00m DeviceType\n\u001B[1;32m     21\u001B[0m \u001B[38;5;28;01mfrom\u001B[39;00m \u001B[38;5;21;01mcuml\u001B[39;00m\u001B[38;5;21;01m.\u001B[39;00m\u001B[38;5;21;01minternals\u001B[39;00m\u001B[38;5;21;01m.\u001B[39;00m\u001B[38;5;21;01mlogger\u001B[39;00m \u001B[38;5;28;01mimport\u001B[39;00m warn\n\u001B[1;32m     22\u001B[0m \u001B[38;5;28;01mfrom\u001B[39;00m \u001B[38;5;21;01mcuml\u001B[39;00m\u001B[38;5;21;01m.\u001B[39;00m\u001B[38;5;21;01minternals\u001B[39;00m\u001B[38;5;21;01m.\u001B[39;00m\u001B[38;5;21;01mmem_type\u001B[39;00m \u001B[38;5;28;01mimport\u001B[39;00m MemoryType\n",
      "File \u001B[0;32m~/.pyenv/versions/3.9.16/lib/python3.9/site-packages/cuml/internals/device_type.py:19\u001B[0m\n\u001B[1;32m      1\u001B[0m \u001B[38;5;66;03m#\u001B[39;00m\n\u001B[1;32m      2\u001B[0m \u001B[38;5;66;03m# Copyright (c) 2022-2023, NVIDIA CORPORATION.\u001B[39;00m\n\u001B[1;32m      3\u001B[0m \u001B[38;5;66;03m#\u001B[39;00m\n\u001B[0;32m   (...)\u001B[0m\n\u001B[1;32m     14\u001B[0m \u001B[38;5;66;03m# limitations under the License.\u001B[39;00m\n\u001B[1;32m     15\u001B[0m \u001B[38;5;66;03m#\u001B[39;00m\n\u001B[1;32m     18\u001B[0m \u001B[38;5;28;01mfrom\u001B[39;00m \u001B[38;5;21;01menum\u001B[39;00m \u001B[38;5;28;01mimport\u001B[39;00m Enum, auto\n\u001B[0;32m---> 19\u001B[0m \u001B[38;5;28;01mfrom\u001B[39;00m \u001B[38;5;21;01mcuml\u001B[39;00m\u001B[38;5;21;01m.\u001B[39;00m\u001B[38;5;21;01minternals\u001B[39;00m\u001B[38;5;21;01m.\u001B[39;00m\u001B[38;5;21;01mmem_type\u001B[39;00m \u001B[38;5;28;01mimport\u001B[39;00m MemoryType\n\u001B[1;32m     22\u001B[0m \u001B[38;5;28;01mclass\u001B[39;00m \u001B[38;5;21;01mDeviceTypeError\u001B[39;00m(\u001B[38;5;167;01mException\u001B[39;00m):\n\u001B[1;32m     23\u001B[0m \u001B[38;5;250m    \u001B[39m\u001B[38;5;124;03m\"\"\"An exception thrown to indicate bad device type selection\"\"\"\u001B[39;00m\n",
      "File \u001B[0;32m~/.pyenv/versions/3.9.16/lib/python3.9/site-packages/cuml/internals/mem_type.py:22\u001B[0m\n\u001B[1;32m     19\u001B[0m \u001B[38;5;28;01mfrom\u001B[39;00m \u001B[38;5;21;01mcuml\u001B[39;00m\u001B[38;5;21;01m.\u001B[39;00m\u001B[38;5;21;01minternals\u001B[39;00m\u001B[38;5;21;01m.\u001B[39;00m\u001B[38;5;21;01mdevice_support\u001B[39;00m \u001B[38;5;28;01mimport\u001B[39;00m GPU_ENABLED\n\u001B[1;32m     20\u001B[0m \u001B[38;5;28;01mfrom\u001B[39;00m \u001B[38;5;21;01mcuml\u001B[39;00m\u001B[38;5;21;01m.\u001B[39;00m\u001B[38;5;21;01minternals\u001B[39;00m\u001B[38;5;21;01m.\u001B[39;00m\u001B[38;5;21;01msafe_imports\u001B[39;00m \u001B[38;5;28;01mimport\u001B[39;00m cpu_only_import, gpu_only_import\n\u001B[0;32m---> 22\u001B[0m cudf \u001B[38;5;241m=\u001B[39m \u001B[43mgpu_only_import\u001B[49m\u001B[43m(\u001B[49m\u001B[38;5;124;43m\"\u001B[39;49m\u001B[38;5;124;43mcudf\u001B[39;49m\u001B[38;5;124;43m\"\u001B[39;49m\u001B[43m)\u001B[49m\n\u001B[1;32m     23\u001B[0m cp \u001B[38;5;241m=\u001B[39m gpu_only_import(\u001B[38;5;124m\"\u001B[39m\u001B[38;5;124mcupy\u001B[39m\u001B[38;5;124m\"\u001B[39m)\n\u001B[1;32m     24\u001B[0m cpx_sparse \u001B[38;5;241m=\u001B[39m gpu_only_import(\u001B[38;5;124m\"\u001B[39m\u001B[38;5;124mcupyx.scipy.sparse\u001B[39m\u001B[38;5;124m\"\u001B[39m)\n",
      "File \u001B[0;32m~/.pyenv/versions/3.9.16/lib/python3.9/site-packages/cuml/internals/safe_imports.py:356\u001B[0m, in \u001B[0;36mgpu_only_import\u001B[0;34m(module, alt)\u001B[0m\n\u001B[1;32m    330\u001B[0m \u001B[38;5;250m\u001B[39m\u001B[38;5;124;03m\"\"\"A function used to import modules required only in GPU installs\u001B[39;00m\n\u001B[1;32m    331\u001B[0m \n\u001B[1;32m    332\u001B[0m \u001B[38;5;124;03mThis function will attempt to import a module with the given name, but it\u001B[39;00m\n\u001B[0;32m   (...)\u001B[0m\n\u001B[1;32m    353\u001B[0m \u001B[38;5;124;03m    UnavailableMeta.\u001B[39;00m\n\u001B[1;32m    354\u001B[0m \u001B[38;5;124;03m\"\"\"\u001B[39;00m\n\u001B[1;32m    355\u001B[0m \u001B[38;5;28;01mif\u001B[39;00m GPU_ENABLED:\n\u001B[0;32m--> 356\u001B[0m     \u001B[38;5;28;01mreturn\u001B[39;00m \u001B[43mimportlib\u001B[49m\u001B[38;5;241;43m.\u001B[39;49m\u001B[43mimport_module\u001B[49m\u001B[43m(\u001B[49m\u001B[43mmodule\u001B[49m\u001B[43m)\u001B[49m\n\u001B[1;32m    357\u001B[0m \u001B[38;5;28;01melse\u001B[39;00m:\n\u001B[1;32m    358\u001B[0m     \u001B[38;5;28;01mreturn\u001B[39;00m safe_import(\n\u001B[1;32m    359\u001B[0m         module,\n\u001B[1;32m    360\u001B[0m         msg\u001B[38;5;241m=\u001B[39m\u001B[38;5;124mf\u001B[39m\u001B[38;5;124m\"\u001B[39m\u001B[38;5;132;01m{\u001B[39;00mmodule\u001B[38;5;132;01m}\u001B[39;00m\u001B[38;5;124m is not installed in non GPU-enabled installations\u001B[39m\u001B[38;5;124m\"\u001B[39m,\n\u001B[1;32m    361\u001B[0m         alt\u001B[38;5;241m=\u001B[39malt,\n\u001B[1;32m    362\u001B[0m     )\n",
      "File \u001B[0;32m~/.pyenv/versions/3.9.16/lib/python3.9/importlib/__init__.py:127\u001B[0m, in \u001B[0;36mimport_module\u001B[0;34m(name, package)\u001B[0m\n\u001B[1;32m    125\u001B[0m             \u001B[38;5;28;01mbreak\u001B[39;00m\n\u001B[1;32m    126\u001B[0m         level \u001B[38;5;241m+\u001B[39m\u001B[38;5;241m=\u001B[39m \u001B[38;5;241m1\u001B[39m\n\u001B[0;32m--> 127\u001B[0m \u001B[38;5;28;01mreturn\u001B[39;00m \u001B[43m_bootstrap\u001B[49m\u001B[38;5;241;43m.\u001B[39;49m\u001B[43m_gcd_import\u001B[49m\u001B[43m(\u001B[49m\u001B[43mname\u001B[49m\u001B[43m[\u001B[49m\u001B[43mlevel\u001B[49m\u001B[43m:\u001B[49m\u001B[43m]\u001B[49m\u001B[43m,\u001B[49m\u001B[43m \u001B[49m\u001B[43mpackage\u001B[49m\u001B[43m,\u001B[49m\u001B[43m \u001B[49m\u001B[43mlevel\u001B[49m\u001B[43m)\u001B[49m\n",
      "File \u001B[0;32m~/.pyenv/versions/3.9.16/lib/python3.9/site-packages/cudf/__init__.py:26\u001B[0m\n\u001B[1;32m     20\u001B[0m \u001B[38;5;28;01mfrom\u001B[39;00m \u001B[38;5;21;01mcudf\u001B[39;00m\u001B[38;5;21;01m.\u001B[39;00m\u001B[38;5;21;01mapi\u001B[39;00m\u001B[38;5;21;01m.\u001B[39;00m\u001B[38;5;21;01mextensions\u001B[39;00m \u001B[38;5;28;01mimport\u001B[39;00m (\n\u001B[1;32m     21\u001B[0m     register_dataframe_accessor,\n\u001B[1;32m     22\u001B[0m     register_index_accessor,\n\u001B[1;32m     23\u001B[0m     register_series_accessor,\n\u001B[1;32m     24\u001B[0m )\n\u001B[1;32m     25\u001B[0m \u001B[38;5;28;01mfrom\u001B[39;00m \u001B[38;5;21;01mcudf\u001B[39;00m\u001B[38;5;21;01m.\u001B[39;00m\u001B[38;5;21;01mapi\u001B[39;00m\u001B[38;5;21;01m.\u001B[39;00m\u001B[38;5;21;01mtypes\u001B[39;00m \u001B[38;5;28;01mimport\u001B[39;00m dtype\n\u001B[0;32m---> 26\u001B[0m \u001B[38;5;28;01mfrom\u001B[39;00m \u001B[38;5;21;01mcudf\u001B[39;00m\u001B[38;5;21;01m.\u001B[39;00m\u001B[38;5;21;01mcore\u001B[39;00m\u001B[38;5;21;01m.\u001B[39;00m\u001B[38;5;21;01malgorithms\u001B[39;00m \u001B[38;5;28;01mimport\u001B[39;00m factorize\n\u001B[1;32m     27\u001B[0m \u001B[38;5;28;01mfrom\u001B[39;00m \u001B[38;5;21;01mcudf\u001B[39;00m\u001B[38;5;21;01m.\u001B[39;00m\u001B[38;5;21;01mcore\u001B[39;00m\u001B[38;5;21;01m.\u001B[39;00m\u001B[38;5;21;01mcut\u001B[39;00m \u001B[38;5;28;01mimport\u001B[39;00m cut\n\u001B[1;32m     28\u001B[0m \u001B[38;5;28;01mfrom\u001B[39;00m \u001B[38;5;21;01mcudf\u001B[39;00m\u001B[38;5;21;01m.\u001B[39;00m\u001B[38;5;21;01mcore\u001B[39;00m\u001B[38;5;21;01m.\u001B[39;00m\u001B[38;5;21;01mdataframe\u001B[39;00m \u001B[38;5;28;01mimport\u001B[39;00m DataFrame, from_dataframe, from_pandas, merge\n",
      "File \u001B[0;32m~/.pyenv/versions/3.9.16/lib/python3.9/site-packages/cudf/core/algorithms.py:9\u001B[0m\n\u001B[1;32m      7\u001B[0m \u001B[38;5;28;01mfrom\u001B[39;00m \u001B[38;5;21;01mcudf\u001B[39;00m\u001B[38;5;21;01m.\u001B[39;00m\u001B[38;5;21;01mcore\u001B[39;00m\u001B[38;5;21;01m.\u001B[39;00m\u001B[38;5;21;01mcolumn\u001B[39;00m \u001B[38;5;28;01mimport\u001B[39;00m as_column\n\u001B[1;32m      8\u001B[0m \u001B[38;5;28;01mfrom\u001B[39;00m \u001B[38;5;21;01mcudf\u001B[39;00m\u001B[38;5;21;01m.\u001B[39;00m\u001B[38;5;21;01mcore\u001B[39;00m\u001B[38;5;21;01m.\u001B[39;00m\u001B[38;5;21;01mindex\u001B[39;00m \u001B[38;5;28;01mimport\u001B[39;00m Index, RangeIndex\n\u001B[0;32m----> 9\u001B[0m \u001B[38;5;28;01mfrom\u001B[39;00m \u001B[38;5;21;01mcudf\u001B[39;00m\u001B[38;5;21;01m.\u001B[39;00m\u001B[38;5;21;01mcore\u001B[39;00m\u001B[38;5;21;01m.\u001B[39;00m\u001B[38;5;21;01mindexed_frame\u001B[39;00m \u001B[38;5;28;01mimport\u001B[39;00m IndexedFrame\n\u001B[1;32m     10\u001B[0m \u001B[38;5;28;01mfrom\u001B[39;00m \u001B[38;5;21;01mcudf\u001B[39;00m\u001B[38;5;21;01m.\u001B[39;00m\u001B[38;5;21;01mcore\u001B[39;00m\u001B[38;5;21;01m.\u001B[39;00m\u001B[38;5;21;01mscalar\u001B[39;00m \u001B[38;5;28;01mimport\u001B[39;00m Scalar\n\u001B[1;32m     11\u001B[0m \u001B[38;5;28;01mfrom\u001B[39;00m \u001B[38;5;21;01mcudf\u001B[39;00m\u001B[38;5;21;01m.\u001B[39;00m\u001B[38;5;21;01mcore\u001B[39;00m\u001B[38;5;21;01m.\u001B[39;00m\u001B[38;5;21;01mseries\u001B[39;00m \u001B[38;5;28;01mimport\u001B[39;00m Series\n",
      "File \u001B[0;32m~/.pyenv/versions/3.9.16/lib/python3.9/site-packages/cudf/core/indexed_frame.py:59\u001B[0m\n\u001B[1;32m     57\u001B[0m \u001B[38;5;28;01mfrom\u001B[39;00m \u001B[38;5;21;01mcudf\u001B[39;00m\u001B[38;5;21;01m.\u001B[39;00m\u001B[38;5;21;01mcore\u001B[39;00m\u001B[38;5;21;01m.\u001B[39;00m\u001B[38;5;21;01mdtypes\u001B[39;00m \u001B[38;5;28;01mimport\u001B[39;00m ListDtype\n\u001B[1;32m     58\u001B[0m \u001B[38;5;28;01mfrom\u001B[39;00m \u001B[38;5;21;01mcudf\u001B[39;00m\u001B[38;5;21;01m.\u001B[39;00m\u001B[38;5;21;01mcore\u001B[39;00m\u001B[38;5;21;01m.\u001B[39;00m\u001B[38;5;21;01mframe\u001B[39;00m \u001B[38;5;28;01mimport\u001B[39;00m Frame\n\u001B[0;32m---> 59\u001B[0m \u001B[38;5;28;01mfrom\u001B[39;00m \u001B[38;5;21;01mcudf\u001B[39;00m\u001B[38;5;21;01m.\u001B[39;00m\u001B[38;5;21;01mcore\u001B[39;00m\u001B[38;5;21;01m.\u001B[39;00m\u001B[38;5;21;01mgroupby\u001B[39;00m\u001B[38;5;21;01m.\u001B[39;00m\u001B[38;5;21;01mgroupby\u001B[39;00m \u001B[38;5;28;01mimport\u001B[39;00m GroupBy\n\u001B[1;32m     60\u001B[0m \u001B[38;5;28;01mfrom\u001B[39;00m \u001B[38;5;21;01mcudf\u001B[39;00m\u001B[38;5;21;01m.\u001B[39;00m\u001B[38;5;21;01mcore\u001B[39;00m\u001B[38;5;21;01m.\u001B[39;00m\u001B[38;5;21;01mindex\u001B[39;00m \u001B[38;5;28;01mimport\u001B[39;00m Index, RangeIndex, _index_from_columns\n\u001B[1;32m     61\u001B[0m \u001B[38;5;28;01mfrom\u001B[39;00m \u001B[38;5;21;01mcudf\u001B[39;00m\u001B[38;5;21;01m.\u001B[39;00m\u001B[38;5;21;01mcore\u001B[39;00m\u001B[38;5;21;01m.\u001B[39;00m\u001B[38;5;21;01mmissing\u001B[39;00m \u001B[38;5;28;01mimport\u001B[39;00m NA\n",
      "File \u001B[0;32m~/.pyenv/versions/3.9.16/lib/python3.9/site-packages/cudf/core/groupby/__init__.py:3\u001B[0m\n\u001B[1;32m      1\u001B[0m \u001B[38;5;66;03m# Copyright (c) 2020-2023, NVIDIA CORPORATION.\u001B[39;00m\n\u001B[0;32m----> 3\u001B[0m \u001B[38;5;28;01mfrom\u001B[39;00m \u001B[38;5;21;01mcudf\u001B[39;00m\u001B[38;5;21;01m.\u001B[39;00m\u001B[38;5;21;01mcore\u001B[39;00m\u001B[38;5;21;01m.\u001B[39;00m\u001B[38;5;21;01mgroupby\u001B[39;00m\u001B[38;5;21;01m.\u001B[39;00m\u001B[38;5;21;01mgroupby\u001B[39;00m \u001B[38;5;28;01mimport\u001B[39;00m GroupBy, Grouper\n\u001B[1;32m      5\u001B[0m __all__ \u001B[38;5;241m=\u001B[39m [\n\u001B[1;32m      6\u001B[0m     \u001B[38;5;124m\"\u001B[39m\u001B[38;5;124mGroupBy\u001B[39m\u001B[38;5;124m\"\u001B[39m,\n\u001B[1;32m      7\u001B[0m     \u001B[38;5;124m\"\u001B[39m\u001B[38;5;124mGrouper\u001B[39m\u001B[38;5;124m\"\u001B[39m,\n\u001B[1;32m      8\u001B[0m ]\n",
      "File \u001B[0;32m~/.pyenv/versions/3.9.16/lib/python3.9/site-packages/cudf/core/groupby/groupby.py:28\u001B[0m\n\u001B[1;32m     26\u001B[0m \u001B[38;5;28;01mfrom\u001B[39;00m \u001B[38;5;21;01mcudf\u001B[39;00m\u001B[38;5;21;01m.\u001B[39;00m\u001B[38;5;21;01mcore\u001B[39;00m\u001B[38;5;21;01m.\u001B[39;00m\u001B[38;5;21;01mmixins\u001B[39;00m \u001B[38;5;28;01mimport\u001B[39;00m Reducible, Scannable\n\u001B[1;32m     27\u001B[0m \u001B[38;5;28;01mfrom\u001B[39;00m \u001B[38;5;21;01mcudf\u001B[39;00m\u001B[38;5;21;01m.\u001B[39;00m\u001B[38;5;21;01mcore\u001B[39;00m\u001B[38;5;21;01m.\u001B[39;00m\u001B[38;5;21;01mmultiindex\u001B[39;00m \u001B[38;5;28;01mimport\u001B[39;00m MultiIndex\n\u001B[0;32m---> 28\u001B[0m \u001B[38;5;28;01mfrom\u001B[39;00m \u001B[38;5;21;01mcudf\u001B[39;00m\u001B[38;5;21;01m.\u001B[39;00m\u001B[38;5;21;01mcore\u001B[39;00m\u001B[38;5;21;01m.\u001B[39;00m\u001B[38;5;21;01mudf\u001B[39;00m\u001B[38;5;21;01m.\u001B[39;00m\u001B[38;5;21;01mgroupby_utils\u001B[39;00m \u001B[38;5;28;01mimport\u001B[39;00m _can_be_jitted, jit_groupby_apply\n\u001B[1;32m     29\u001B[0m \u001B[38;5;28;01mfrom\u001B[39;00m \u001B[38;5;21;01mcudf\u001B[39;00m\u001B[38;5;21;01m.\u001B[39;00m\u001B[38;5;21;01mutils\u001B[39;00m\u001B[38;5;21;01m.\u001B[39;00m\u001B[38;5;21;01mutils\u001B[39;00m \u001B[38;5;28;01mimport\u001B[39;00m GetAttrGetItemMixin, _cudf_nvtx_annotate\n\u001B[1;32m     32\u001B[0m \u001B[38;5;66;03m# The three functions below return the quantiles [25%, 50%, 75%]\u001B[39;00m\n\u001B[1;32m     33\u001B[0m \u001B[38;5;66;03m# respectively, which are called in the describe() method to output\u001B[39;00m\n\u001B[1;32m     34\u001B[0m \u001B[38;5;66;03m# the summary stats of a GroupBy object\u001B[39;00m\n",
      "File \u001B[0;32m~/.pyenv/versions/3.9.16/lib/python3.9/site-packages/cudf/core/udf/groupby_utils.py:11\u001B[0m\n\u001B[1;32m      8\u001B[0m \u001B[38;5;28;01mfrom\u001B[39;00m \u001B[38;5;21;01mnumba\u001B[39;00m\u001B[38;5;21;01m.\u001B[39;00m\u001B[38;5;21;01mcuda\u001B[39;00m\u001B[38;5;21;01m.\u001B[39;00m\u001B[38;5;21;01mcudadrv\u001B[39;00m\u001B[38;5;21;01m.\u001B[39;00m\u001B[38;5;21;01mdevices\u001B[39;00m \u001B[38;5;28;01mimport\u001B[39;00m get_context\n\u001B[1;32m      9\u001B[0m \u001B[38;5;28;01mfrom\u001B[39;00m \u001B[38;5;21;01mnumba\u001B[39;00m\u001B[38;5;21;01m.\u001B[39;00m\u001B[38;5;21;01mnp\u001B[39;00m \u001B[38;5;28;01mimport\u001B[39;00m numpy_support\n\u001B[0;32m---> 11\u001B[0m \u001B[38;5;28;01mimport\u001B[39;00m \u001B[38;5;21;01mcudf\u001B[39;00m\u001B[38;5;21;01m.\u001B[39;00m\u001B[38;5;21;01mcore\u001B[39;00m\u001B[38;5;21;01m.\u001B[39;00m\u001B[38;5;21;01mudf\u001B[39;00m\u001B[38;5;21;01m.\u001B[39;00m\u001B[38;5;21;01mutils\u001B[39;00m\n\u001B[1;32m     12\u001B[0m \u001B[38;5;28;01mfrom\u001B[39;00m \u001B[38;5;21;01mcudf\u001B[39;00m\u001B[38;5;21;01m.\u001B[39;00m\u001B[38;5;21;01mcore\u001B[39;00m\u001B[38;5;21;01m.\u001B[39;00m\u001B[38;5;21;01mudf\u001B[39;00m\u001B[38;5;21;01m.\u001B[39;00m\u001B[38;5;21;01mgroupby_typing\u001B[39;00m \u001B[38;5;28;01mimport\u001B[39;00m (\n\u001B[1;32m     13\u001B[0m     SUPPORTED_GROUPBY_NUMPY_TYPES,\n\u001B[1;32m     14\u001B[0m     Group,\n\u001B[1;32m     15\u001B[0m     GroupType,\n\u001B[1;32m     16\u001B[0m )\n\u001B[1;32m     17\u001B[0m \u001B[38;5;28;01mfrom\u001B[39;00m \u001B[38;5;21;01mcudf\u001B[39;00m\u001B[38;5;21;01m.\u001B[39;00m\u001B[38;5;21;01mcore\u001B[39;00m\u001B[38;5;21;01m.\u001B[39;00m\u001B[38;5;21;01mudf\u001B[39;00m\u001B[38;5;21;01m.\u001B[39;00m\u001B[38;5;21;01mtemplates\u001B[39;00m \u001B[38;5;28;01mimport\u001B[39;00m (\n\u001B[1;32m     18\u001B[0m     group_initializer_template,\n\u001B[1;32m     19\u001B[0m     groupby_apply_kernel_template,\n\u001B[1;32m     20\u001B[0m )\n",
      "File \u001B[0;32m~/.pyenv/versions/3.9.16/lib/python3.9/site-packages/cudf/core/udf/utils.py:65\u001B[0m\n\u001B[1;32m     62\u001B[0m precompiled: cachetools\u001B[38;5;241m.\u001B[39mLRUCache \u001B[38;5;241m=\u001B[39m cachetools\u001B[38;5;241m.\u001B[39mLRUCache(maxsize\u001B[38;5;241m=\u001B[39m\u001B[38;5;241m32\u001B[39m)\n\u001B[1;32m     63\u001B[0m launch_arg_getters: Dict[Any, Any] \u001B[38;5;241m=\u001B[39m {}\n\u001B[0;32m---> 65\u001B[0m _PTX_FILE \u001B[38;5;241m=\u001B[39m \u001B[43m_get_ptx_file\u001B[49m\u001B[43m(\u001B[49m\u001B[43mos\u001B[49m\u001B[38;5;241;43m.\u001B[39;49m\u001B[43mpath\u001B[49m\u001B[38;5;241;43m.\u001B[39;49m\u001B[43mdirname\u001B[49m\u001B[43m(\u001B[49m\u001B[38;5;18;43m__file__\u001B[39;49m\u001B[43m)\u001B[49m\u001B[43m,\u001B[49m\u001B[43m \u001B[49m\u001B[38;5;124;43m\"\u001B[39;49m\u001B[38;5;124;43mshim_\u001B[39;49m\u001B[38;5;124;43m\"\u001B[39;49m\u001B[43m)\u001B[49m\n\u001B[1;32m     68\u001B[0m \u001B[38;5;129m@_cudf_nvtx_annotate\u001B[39m\n\u001B[1;32m     69\u001B[0m \u001B[38;5;28;01mdef\u001B[39;00m \u001B[38;5;21m_get_udf_return_type\u001B[39m(argty, func: Callable, args\u001B[38;5;241m=\u001B[39m()):\n\u001B[1;32m     70\u001B[0m \u001B[38;5;250m    \u001B[39m\u001B[38;5;124;03m\"\"\"\u001B[39;00m\n\u001B[1;32m     71\u001B[0m \u001B[38;5;124;03m    Get the return type of a masked UDF for a given set of argument dtypes. It\u001B[39;00m\n\u001B[1;32m     72\u001B[0m \u001B[38;5;124;03m    is assumed that the function consumes a dictionary whose keys are strings\u001B[39;00m\n\u001B[0;32m   (...)\u001B[0m\n\u001B[1;32m     80\u001B[0m \u001B[38;5;124;03m    compute the answer for that row.\u001B[39;00m\n\u001B[1;32m     81\u001B[0m \u001B[38;5;124;03m    \"\"\"\u001B[39;00m\n",
      "File \u001B[0;32m~/.pyenv/versions/3.9.16/lib/python3.9/site-packages/cudf/utils/_numba.py:34\u001B[0m, in \u001B[0;36m_get_ptx_file\u001B[0;34m(path, prefix)\u001B[0m\n\u001B[1;32m     31\u001B[0m \u001B[38;5;28;01melse\u001B[39;00m:\n\u001B[1;32m     32\u001B[0m     \u001B[38;5;28;01mfrom\u001B[39;00m \u001B[38;5;21;01mnumba\u001B[39;00m \u001B[38;5;28;01mimport\u001B[39;00m cuda\n\u001B[0;32m---> 34\u001B[0m     dev \u001B[38;5;241m=\u001B[39m \u001B[43mcuda\u001B[49m\u001B[38;5;241;43m.\u001B[39;49m\u001B[43mget_current_device\u001B[49m\u001B[43m(\u001B[49m\u001B[43m)\u001B[49m\n\u001B[1;32m     36\u001B[0m     \u001B[38;5;66;03m# Load the highest compute capability file available that is less than\u001B[39;00m\n\u001B[1;32m     37\u001B[0m     \u001B[38;5;66;03m# the current device's.\u001B[39;00m\n\u001B[1;32m     38\u001B[0m     cc \u001B[38;5;241m=\u001B[39m \u001B[38;5;28mint\u001B[39m(\u001B[38;5;124m\"\u001B[39m\u001B[38;5;124m\"\u001B[39m\u001B[38;5;241m.\u001B[39mjoin(\u001B[38;5;28mstr\u001B[39m(x) \u001B[38;5;28;01mfor\u001B[39;00m x \u001B[38;5;129;01min\u001B[39;00m dev\u001B[38;5;241m.\u001B[39mcompute_capability))\n",
      "File \u001B[0;32m~/.pyenv/versions/3.9.16/lib/python3.9/site-packages/numba/cuda/api.py:443\u001B[0m, in \u001B[0;36mget_current_device\u001B[0;34m()\u001B[0m\n\u001B[1;32m    441\u001B[0m \u001B[38;5;28;01mdef\u001B[39;00m \u001B[38;5;21mget_current_device\u001B[39m():\n\u001B[1;32m    442\u001B[0m     \u001B[38;5;124m\"\u001B[39m\u001B[38;5;124mGet current device associated with the current thread\u001B[39m\u001B[38;5;124m\"\u001B[39m\n\u001B[0;32m--> 443\u001B[0m     \u001B[38;5;28;01mreturn\u001B[39;00m \u001B[43mcurrent_context\u001B[49m\u001B[43m(\u001B[49m\u001B[43m)\u001B[49m\u001B[38;5;241m.\u001B[39mdevice\n",
      "File \u001B[0;32m~/.pyenv/versions/3.9.16/lib/python3.9/site-packages/numba/cuda/cudadrv/devices.py:220\u001B[0m, in \u001B[0;36mget_context\u001B[0;34m(devnum)\u001B[0m\n\u001B[1;32m    216\u001B[0m \u001B[38;5;28;01mdef\u001B[39;00m \u001B[38;5;21mget_context\u001B[39m(devnum\u001B[38;5;241m=\u001B[39m\u001B[38;5;28;01mNone\u001B[39;00m):\n\u001B[1;32m    217\u001B[0m \u001B[38;5;250m    \u001B[39m\u001B[38;5;124;03m\"\"\"Get the current device or use a device by device number, and\u001B[39;00m\n\u001B[1;32m    218\u001B[0m \u001B[38;5;124;03m    return the CUDA context.\u001B[39;00m\n\u001B[1;32m    219\u001B[0m \u001B[38;5;124;03m    \"\"\"\u001B[39;00m\n\u001B[0;32m--> 220\u001B[0m     \u001B[38;5;28;01mreturn\u001B[39;00m \u001B[43m_runtime\u001B[49m\u001B[38;5;241;43m.\u001B[39;49m\u001B[43mget_or_create_context\u001B[49m\u001B[43m(\u001B[49m\u001B[43mdevnum\u001B[49m\u001B[43m)\u001B[49m\n",
      "File \u001B[0;32m~/.pyenv/versions/3.9.16/lib/python3.9/site-packages/numba/cuda/cudadrv/devices.py:138\u001B[0m, in \u001B[0;36m_Runtime.get_or_create_context\u001B[0;34m(self, devnum)\u001B[0m\n\u001B[1;32m    136\u001B[0m attached_ctx \u001B[38;5;241m=\u001B[39m \u001B[38;5;28mself\u001B[39m\u001B[38;5;241m.\u001B[39m_get_attached_context()\n\u001B[1;32m    137\u001B[0m \u001B[38;5;28;01mif\u001B[39;00m attached_ctx \u001B[38;5;129;01mis\u001B[39;00m \u001B[38;5;28;01mNone\u001B[39;00m:\n\u001B[0;32m--> 138\u001B[0m     \u001B[38;5;28;01mreturn\u001B[39;00m \u001B[38;5;28;43mself\u001B[39;49m\u001B[38;5;241;43m.\u001B[39;49m\u001B[43m_get_or_create_context_uncached\u001B[49m\u001B[43m(\u001B[49m\u001B[43mdevnum\u001B[49m\u001B[43m)\u001B[49m\n\u001B[1;32m    139\u001B[0m \u001B[38;5;28;01melse\u001B[39;00m:\n\u001B[1;32m    140\u001B[0m     \u001B[38;5;28;01mreturn\u001B[39;00m attached_ctx\n",
      "File \u001B[0;32m~/.pyenv/versions/3.9.16/lib/python3.9/site-packages/numba/cuda/cudadrv/devices.py:153\u001B[0m, in \u001B[0;36m_Runtime._get_or_create_context_uncached\u001B[0;34m(self, devnum)\u001B[0m\n\u001B[1;32m    147\u001B[0m \u001B[38;5;250m\u001B[39m\u001B[38;5;124;03m\"\"\"See also ``get_or_create_context(devnum)``.\u001B[39;00m\n\u001B[1;32m    148\u001B[0m \u001B[38;5;124;03mThis version does not read the cache.\u001B[39;00m\n\u001B[1;32m    149\u001B[0m \u001B[38;5;124;03m\"\"\"\u001B[39;00m\n\u001B[1;32m    150\u001B[0m \u001B[38;5;28;01mwith\u001B[39;00m \u001B[38;5;28mself\u001B[39m\u001B[38;5;241m.\u001B[39m_lock:\n\u001B[1;32m    151\u001B[0m     \u001B[38;5;66;03m# Try to get the active context in the CUDA stack or\u001B[39;00m\n\u001B[1;32m    152\u001B[0m     \u001B[38;5;66;03m# activate GPU-0 with the primary context\u001B[39;00m\n\u001B[0;32m--> 153\u001B[0m     \u001B[38;5;28;01mwith\u001B[39;00m driver\u001B[38;5;241m.\u001B[39mget_active_context() \u001B[38;5;28;01mas\u001B[39;00m ac:\n\u001B[1;32m    154\u001B[0m         \u001B[38;5;28;01mif\u001B[39;00m \u001B[38;5;129;01mnot\u001B[39;00m ac:\n\u001B[1;32m    155\u001B[0m             \u001B[38;5;28;01mreturn\u001B[39;00m \u001B[38;5;28mself\u001B[39m\u001B[38;5;241m.\u001B[39m_activate_context_for(\u001B[38;5;241m0\u001B[39m)\n",
      "File \u001B[0;32m~/.pyenv/versions/3.9.16/lib/python3.9/site-packages/numba/cuda/cudadrv/driver.py:499\u001B[0m, in \u001B[0;36m_ActiveContext.__enter__\u001B[0;34m(self)\u001B[0m\n\u001B[1;32m    497\u001B[0m \u001B[38;5;28;01melse\u001B[39;00m:\n\u001B[1;32m    498\u001B[0m     hctx \u001B[38;5;241m=\u001B[39m drvapi\u001B[38;5;241m.\u001B[39mcu_context(\u001B[38;5;241m0\u001B[39m)\n\u001B[0;32m--> 499\u001B[0m     \u001B[43mdriver\u001B[49m\u001B[38;5;241;43m.\u001B[39;49m\u001B[43mcuCtxGetCurrent\u001B[49m(byref(hctx))\n\u001B[1;32m    500\u001B[0m     hctx \u001B[38;5;241m=\u001B[39m hctx \u001B[38;5;28;01mif\u001B[39;00m hctx\u001B[38;5;241m.\u001B[39mvalue \u001B[38;5;28;01melse\u001B[39;00m \u001B[38;5;28;01mNone\u001B[39;00m\n\u001B[1;32m    502\u001B[0m \u001B[38;5;28;01mif\u001B[39;00m hctx \u001B[38;5;129;01mis\u001B[39;00m \u001B[38;5;28;01mNone\u001B[39;00m:\n",
      "File \u001B[0;32m~/.pyenv/versions/3.9.16/lib/python3.9/site-packages/numba/cuda/cudadrv/driver.py:299\u001B[0m, in \u001B[0;36mDriver.__getattr__\u001B[0;34m(self, fname)\u001B[0m\n\u001B[1;32m    296\u001B[0m \u001B[38;5;28mself\u001B[39m\u001B[38;5;241m.\u001B[39mensure_initialized()\n\u001B[1;32m    298\u001B[0m \u001B[38;5;28;01mif\u001B[39;00m \u001B[38;5;28mself\u001B[39m\u001B[38;5;241m.\u001B[39minitialization_error \u001B[38;5;129;01mis\u001B[39;00m \u001B[38;5;129;01mnot\u001B[39;00m \u001B[38;5;28;01mNone\u001B[39;00m:\n\u001B[0;32m--> 299\u001B[0m     \u001B[38;5;28;01mraise\u001B[39;00m CudaSupportError(\u001B[38;5;124m\"\u001B[39m\u001B[38;5;124mError at driver init: \u001B[39m\u001B[38;5;130;01m\\n\u001B[39;00m\u001B[38;5;132;01m%s\u001B[39;00m\u001B[38;5;124m:\u001B[39m\u001B[38;5;124m\"\u001B[39m \u001B[38;5;241m%\u001B[39m\n\u001B[1;32m    300\u001B[0m                            \u001B[38;5;28mself\u001B[39m\u001B[38;5;241m.\u001B[39minitialization_error)\n\u001B[1;32m    302\u001B[0m \u001B[38;5;28;01mif\u001B[39;00m USE_NV_BINDING:\n\u001B[1;32m    303\u001B[0m     \u001B[38;5;28;01mreturn\u001B[39;00m \u001B[38;5;28mself\u001B[39m\u001B[38;5;241m.\u001B[39m_cuda_python_wrap_fn(fname)\n",
      "\u001B[0;31mCudaSupportError\u001B[0m: Error at driver init: \nCall to cuInit results in CUDA_ERROR_NO_DEVICE (100):"
     ]
    }
   ],
   "source": [
    "from bertopic import BERTopic\n",
    "from sklearn.feature_extraction.text import CountVectorizer\n",
    "from cuml.cluster import HDBSCAN\n",
    "from cuml.manifold import UMAP\n",
    "import os\n",
    "\n",
    "os.environ['CUDA_VISIBLE_DEVICES'] = \"0\"\n",
    "\n",
    "# Create instances of GPU-accelerated UMAP and HDBSCAN\n",
    "umap_model = UMAP(n_components=5, n_neighbors=15, min_dist=0.0)\n",
    "hdbscan_model = HDBSCAN(min_samples=10, gen_min_span_tree=True, prediction_data=True)\n",
    "\n",
    "vectorizer_model = CountVectorizer(stop_words=\"english\")\n",
    "\n",
    "topic_model = BERTopic(umap_model=umap_model, hdbscan_model=hdbscan_model, verbose=True, nr_topics=\"auto\", vectorizer_model=vectorizer_model)\n",
    "topics, probs = topic_model.fit_transform(abstracts)\n",
    "\n",
    "embedding_model = \"sentence-transformers/all-MiniLM-L6-v2\"\n",
    "topic_model.save(\"./model_dir/\", serialization=\"pytorch\", save_ctfidf=True, save_embedding_model=embedding_model)"
   ],
   "metadata": {
    "collapsed": false,
    "ExecuteTime": {
     "end_time": "2023-06-25T18:41:05.030950400Z",
     "start_time": "2023-06-25T18:41:04.266449400Z"
    }
   }
  },
  {
   "cell_type": "code",
   "execution_count": null,
   "outputs": [],
   "source": [
    "# Load from directory\n",
    "loaded_model = BERTopic.load(\"\\\\model_dir\\\\\")\n",
    "\n",
    "# Load from file\n",
    "# loaded_model = BERTopic.load(\"my_model\")"
   ],
   "metadata": {
    "collapsed": false
   }
  },
  {
   "cell_type": "code",
   "execution_count": null,
   "outputs": [],
   "source": [
    "nr_bins = 30"
   ],
   "metadata": {
    "collapsed": false
   }
  },
  {
   "cell_type": "code",
   "execution_count": null,
   "outputs": [],
   "source": [
    "\n",
    "topics_over_time = topic_model.topics_over_time(abstracts, timestamps, nr_bins=nr_bins)"
   ],
   "metadata": {
    "collapsed": false
   }
  },
  {
   "cell_type": "code",
   "execution_count": null,
   "outputs": [],
   "source": [
    "# 上位n個だけ表示\n",
    "top_n_topics = 7\n",
    "# img = topic_model.visualize_topics_over_time(topics_over_time, top_n_topics=top_n_topics, calculate_probabilities=True)\n",
    "img = topic_model.visualize_topics_over_time(topics_over_time, top_n_topics=top_n_topics)\n",
    "img.show()\n",
    "\n",
    "file_name = \"plt\\\\plt_b_\" +  str(nr_bins) + \"_t_\" + str(top_n_topics) + \".html\"\n",
    "# img.write_image(\"test.png\")\n",
    "img.write_html(file_name)"
   ],
   "metadata": {
    "collapsed": false
   }
  },
  {
   "cell_type": "code",
   "execution_count": null,
   "outputs": [],
   "source": [
    "topic_model.get_topic_info()"
   ],
   "metadata": {
    "collapsed": false
   }
  },
  {
   "cell_type": "code",
   "execution_count": null,
   "outputs": [],
   "source": [
    "topic_model.visualize_topics().show()"
   ],
   "metadata": {
    "collapsed": false
   }
  },
  {
   "cell_type": "code",
   "execution_count": null,
   "outputs": [],
   "source": [
    "from wordcloud import WordCloud\n",
    "import matplotlib.pyplot as plt\n",
    "\n",
    "def create_wordcloud(model, topic):\n",
    "    text = {word: value for word, value in model.get_topic(topic)}\n",
    "    wc = WordCloud(background_color=\"white\", max_words=1000)\n",
    "    wc.generate_from_frequencies(text)\n",
    "    plt.imshow(wc, interpolation=\"bilinear\")\n",
    "    plt.axis(\"off\")\n",
    "    plt.show()\n",
    "\n",
    "# Show wordcloud\n",
    "create_wordcloud(topic_model, topic=2)"
   ],
   "metadata": {
    "collapsed": false
   }
  },
  {
   "cell_type": "code",
   "execution_count": null,
   "outputs": [],
   "source": [],
   "metadata": {
    "collapsed": false
   }
  }
 ],
 "metadata": {
  "kernelspec": {
   "display_name": "Python 3",
   "language": "python",
   "name": "python3"
  },
  "language_info": {
   "codemirror_mode": {
    "name": "ipython",
    "version": 2
   },
   "file_extension": ".py",
   "mimetype": "text/x-python",
   "name": "python",
   "nbconvert_exporter": "python",
   "pygments_lexer": "ipython2",
   "version": "2.7.6"
  }
 },
 "nbformat": 4,
 "nbformat_minor": 0
}
