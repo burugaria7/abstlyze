{
 "cells": [
  {
   "cell_type": "code",
   "execution_count": 3,
   "metadata": {
    "collapsed": true,
    "ExecuteTime": {
     "end_time": "2023-06-26T09:40:59.385727300Z",
     "start_time": "2023-06-26T09:40:58.884727100Z"
    }
   },
   "outputs": [
    {
     "name": "stdout",
     "output_type": "stream",
     "text": [
      "['a concept of multi valued cognitive maps is introduced in this paper the concept expands the fuzzy one however all variables and weights are not linearly ordered in the concept but are only partially ordered such an approach allows us to operate in cognitive maps with partially ordered linguistic variables directly without vague fuzzification defuzzification methods hence we may consider more subtle differences in degrees of experts uncertainty than in the fuzzy case we prove the convergence of such cognitive maps and give two simple computational examples which demonstrate using such a partially ordered uncertainty degree scale compared to the fuzzy case'\n",
      " 'in this paper we investigate the fixed time synchronization for fuzzy inertial neural networks with time varying coefficients and time delays the fuzzy inertial neural networks are transformed into two forms of first order differential systems and then two kinds of different controllers of time variable are designed in these schemes a series of novel criteria are proposed to ensure the fixed time synchronization for the drive response fuzzy inertial neural networks via state feedback control methods sufficient conditions of delay dependent and delay independent are obtained in terms of algebraic inequalities not the matrix inequalities moreover these new criteria allow the derivative of the lyapunov function can be positive but not negative definite as the earlier work and the algebraic conditions become easy to be tested under the new criteria finally two examples are added to illustrate effectiveness of the results we obtained meanwhile a new image encryption algorithm is proposed based on the synchronization of drive response networks and the effectiveness of this algorithm is also demonstrated'\n",
      " 'for most bayesian inference problems that are of interest solving for the model parameter posterior probability distribution remains to be the main challenge a typical technique entails using markov chain monte carlo mcmc in order to obtain an approximation of the posterior distribution however one drawback of mcmc is that it usually requires solving the forward problem multiple times which could be infeasible if the forward model is computationally expensive in this paper a computationally cheap surrogate model is developed using the adaptive neuro fuzzy inference system with a fuzzy c means initialization anfis fcm the optimal number of fuzzy rules is chosen via a proposed algorithm based on the pairing frequency clustering validity index the effectiveness of the anfis fcm model is tested on inferring reaction rate parameters in a node network toy problem which mimics idealized combustion reaction networks using multiple error measures it is shown that the developed anfis fcm model is capable of constructing accurate surrogate models at a minimal computational cost'\n",
      " ...\n",
      " 'in the recent past numerous models and methods have been suggested to solve the vectormaximum problem most of these approaches center their attention on linear programming problems with several objective functions apart from these approaches the theory of fuzzy sets has been employed to formulate and solve fuzzy linear programming problems this paper presents the application of fuzzy linear programming approaches to the linear vectormaximum problem it shows that solutions obtained by fuzzy linear programming are always efficient solutions it also shows the consequences of using different ways of combining individual objective functions in order to determine an optimal compromise solution'\n",
      " 'the complexity of experience acquired through our senses and as interpreted by our mind is fuzzy and must remain so as long as the meaning of things change as they are embedded in larger or different contexts to relate them to new ideas and new experiences here we give a method for measuring the relativity of fuzziness by structuring the functions of a system hierarchically in a multiple objective framework the method is based on computing the principal eigenvector of a positive matrix with reciprocal entries i e aji aij the eigenvector provides an estimate for an assumed underlying ratio scale for a single property the scale provides a measure of the grade of membership of elements in a fuzzy set according to that property and the departure of the eigenvalue from the dimension of the matrix serves as a measure of departure from consistency for a number of properties the principle of hierarchical composition enables us to compose the eigenvectors into a priority vector which measures the fuzziness of the elements in the lowest level of the hierarchy with respect to the relative dominance of the purposes or properties represented in the hierarchy'\n",
      " 'when r is a fuzzy relation between the elements of a finite set x the fuzzy subsets a of x such that r a a max min composition are called eigen fuzzy sets in this paper we describe algorithms for the determination of the greatest eigen fuzzy set associated with a given fuzzy relation thinking of medical diagnosis applications']\n"
     ]
    }
   ],
   "source": [
    "import re\n",
    "import pandas as pd\n",
    "import numpy as np\n",
    "\n",
    "# Prepare data\n",
    "trump = pd.read_csv('dataset\\\\fsas\\\\fsas_full_utf8_dated.csv')\n",
    "trump.abstract = trump.apply(lambda row: re.sub(r\"http\\S+\", \"\", row.abstract).lower(), 1)\n",
    "trump.abstract = trump.apply(lambda row: \" \".join(filter(lambda x: x[0] != \"@\", row.abstract.split())), 1)\n",
    "trump.abstract = trump.apply(lambda row: \" \".join(re.sub(\"[^a-zA-Z]+\", \" \", row.abstract).split()), 1)\n",
    "# trump = trump.loc[(trump.isRetweet == \"f\") & (trump.abstract != \"\"), :]\n",
    "timestamps = trump.date.to_list()\n",
    "abstracts = trump.abstract.to_list()\n",
    "\n",
    "arr_multi = np.array(abstracts)\n",
    "print(arr_multi)"
   ]
  },
  {
   "cell_type": "code",
   "execution_count": 4,
   "outputs": [
    {
     "data": {
      "text/plain": "Batches:   0%|          | 0/269 [00:00<?, ?it/s]",
      "application/vnd.jupyter.widget-view+json": {
       "version_major": 2,
       "version_minor": 0,
       "model_id": "e18a6a04defa4c959bde9ceff0495b52"
      }
     },
     "metadata": {},
     "output_type": "display_data"
    },
    {
     "name": "stderr",
     "output_type": "stream",
     "text": [
      "2023-06-26 18:42:54,172 - BERTopic - Transformed documents to Embeddings\n",
      "2023-06-26 18:43:01,293 - BERTopic - Reduced dimensionality\n",
      "2023-06-26 18:43:01,479 - BERTopic - Clustered reduced embeddings\n",
      "2023-06-26 18:43:02,688 - BERTopic - Reduced number of topics from 161 to 81\n"
     ]
    }
   ],
   "source": [
    "from bertopic import BERTopic\n",
    "from sklearn.feature_extraction.text import CountVectorizer\n",
    "\n",
    "vectorizer_model = CountVectorizer(stop_words=\"english\")\n",
    "\n",
    "topic_model = BERTopic(verbose=True, nr_topics=\"auto\", vectorizer_model=vectorizer_model)\n",
    "topics, probs = topic_model.fit_transform(abstracts)\n",
    "\n",
    "embedding_model = \"sentence-transformers/all-MiniLM-L6-v2\"\n",
    "topic_model.save(\"\\\\model_dir\\\\\", serialization=\"pytorch\", save_ctfidf=True, save_embedding_model=embedding_model)"
   ],
   "metadata": {
    "collapsed": false,
    "ExecuteTime": {
     "end_time": "2023-06-26T09:43:02.996227100Z",
     "start_time": "2023-06-26T09:40:59.386226800Z"
    }
   }
  },
  {
   "cell_type": "code",
   "execution_count": 5,
   "outputs": [],
   "source": [
    "loaded_model = BERTopic.load(\"\\\\model_dir\\\\\")"
   ],
   "metadata": {
    "collapsed": false,
    "ExecuteTime": {
     "end_time": "2023-06-26T09:43:03.189227200Z",
     "start_time": "2023-06-26T09:43:02.997226600Z"
    }
   }
  },
  {
   "cell_type": "code",
   "execution_count": 17,
   "outputs": [],
   "source": [
    "nr_bins = 30"
   ],
   "metadata": {
    "collapsed": false,
    "ExecuteTime": {
     "end_time": "2023-06-26T09:51:05.716227200Z",
     "start_time": "2023-06-26T09:51:05.700227300Z"
    }
   }
  },
  {
   "cell_type": "code",
   "execution_count": 18,
   "outputs": [
    {
     "name": "stderr",
     "output_type": "stream",
     "text": [
      "30it [00:01, 17.33it/s]\n"
     ]
    }
   ],
   "source": [
    "topics_over_time = topic_model.topics_over_time(abstracts, timestamps, nr_bins=nr_bins)"
   ],
   "metadata": {
    "collapsed": false,
    "ExecuteTime": {
     "end_time": "2023-06-26T09:51:09.212727400Z",
     "start_time": "2023-06-26T09:51:07.411227100Z"
    }
   }
  },
  {
   "cell_type": "code",
   "execution_count": 19,
   "outputs": [
    {
     "data": {
      "application/vnd.plotly.v1+json": {
       "data": [
        {
         "hoverinfo": "text",
         "hovertext": [
          "<b>Topic 0</b><br>Words: decision, sets, team, alternatives, concept",
          "<b>Topic 0</b><br>Words: sets, fuzzy, decision, formal, implication",
          "<b>Topic 0</b><br>Words: fuzzy, relations, dynamical, metaphor, sets",
          "<b>Topic 0</b><br>Words: fuzzy, choice, criteria, sets, set",
          "<b>Topic 0</b><br>Words: fuzzy, relation, topological, vt, equations",
          "<b>Topic 0</b><br>Words: fuzzy, relation, decision, solution, topological",
          "<b>Topic 0</b><br>Words: fuzzy, decision, sets, set, utility",
          "<b>Topic 0</b><br>Words: dm, fuzzy, spaces, sets, topological",
          "<b>Topic 0</b><br>Words: fuzzy, set, sets, spaces, properties",
          "<b>Topic 0</b><br>Words: fuzzy, spaces, topological, space, sets",
          "<b>Topic 0</b><br>Words: fuzzy, spaces, topological, sets, properties",
          "<b>Topic 0</b><br>Words: fuzzy, preference, decision, properties, set",
          "<b>Topic 0</b><br>Words: fuzzy, sets, spaces, decision, preference",
          "<b>Topic 0</b><br>Words: fuzzy, numbers, spaces, sets, topological",
          "<b>Topic 0</b><br>Words: fuzzy, set, sets, paper, decision",
          "<b>Topic 0</b><br>Words: fuzzy, mappings, sets, decision, paper",
          "<b>Topic 0</b><br>Words: fuzzy, spaces, sets, uniform, mappings",
          "<b>Topic 0</b><br>Words: voter, spaces, fuzzy, aggregation, paper",
          "<b>Topic 0</b><br>Words: spaces, fuzzy, sets, logic, transitivity",
          "<b>Topic 0</b><br>Words: spaces, fuzzy, sets, connectedness, topological",
          "<b>Topic 0</b><br>Words: implications, fuzzy, spaces, interval, properties",
          "<b>Topic 0</b><br>Words: topological, spaces, metric, sets, fuzzy",
          "<b>Topic 0</b><br>Words: topological, spaces, fuzzy, solutions, relations",
          "<b>Topic 0</b><br>Words: aggregation, metric, fuzzy, reciprocal, implications",
          "<b>Topic 0</b><br>Words: preference, fuzzy, interval, decision, set",
          "<b>Topic 0</b><br>Words: fuzzy, aggregation, properties, metric, spaces",
          "<b>Topic 0</b><br>Words: aggregation, metric, fuzzy, functions, consistency",
          "<b>Topic 0</b><br>Words: implications, preference, fuzzy, set, type",
          "<b>Topic 0</b><br>Words: preference, numbers, fuzzy, functions, decision",
          "<b>Topic 0</b><br>Words: metric, choquet, fuzzy, aggregation, integral"
         ],
         "marker": {
          "color": "#E69F00"
         },
         "mode": "lines",
         "name": "0_fuzzy_spaces_sets_set",
         "x": [
          "1977-12-15T10:39:21.600000",
          "1979-07-06T20:48:00",
          "1981-01-08T17:36:00",
          "1982-07-14T14:24:00",
          "1984-01-17T11:12:00",
          "1985-07-22T08:00:00",
          "1987-01-25T04:48:00",
          "1988-07-30T01:36:00",
          "1990-02-01T22:24:00",
          "1991-08-07T19:12:00",
          "1993-02-09T16:00:00",
          "1994-08-15T12:48:00",
          "1996-02-18T09:36:00",
          "1997-08-23T06:24:00",
          "1999-02-26T03:12:00",
          "2000-08-31T00:00:00",
          "2002-03-05T20:48:00",
          "2003-09-08T17:36:00",
          "2005-03-13T14:24:00",
          "2006-09-16T11:12:00",
          "2008-03-21T08:00:00",
          "2009-09-24T04:48:00",
          "2011-03-30T01:36:00",
          "2012-10-01T22:24:00",
          "2014-04-06T19:12:00",
          "2015-10-10T16:00:00",
          "2017-04-14T12:48:00",
          "2018-10-18T09:36:00",
          "2020-04-22T06:24:00",
          "2021-10-26T03:12:00"
         ],
         "y": [
          14,
          23,
          25,
          32,
          41,
          47,
          54,
          94,
          81,
          150,
          142,
          119,
          129,
          147,
          127,
          155,
          98,
          67,
          101,
          79,
          71,
          83,
          56,
          60,
          77,
          82,
          57,
          58,
          64,
          88
         ],
         "type": "scatter"
        },
        {
         "hoverinfo": "text",
         "hovertext": [
          "<b>Topic 1</b><br>Words: subsequent, adjustment, reviewed, explicitly, identified",
          "<b>Topic 1</b><br>Words: distinguish, classes, computationally, supervised, artificial",
          "<b>Topic 1</b><br>Words: vocal, emitted, tiredness, humour, speaker",
          "<b>Topic 1</b><br>Words: classifier, utilizing, diagnostics, experimentation, medicine",
          "<b>Topic 1</b><br>Words: subclassifiers, algorithm, possibility, classification, shown",
          "<b>Topic 1</b><br>Words: speech, parsing, controller, self, organizing",
          "<b>Topic 1</b><br>Words: recognition, speech, pattern, controller, pi",
          "<b>Topic 1</b><br>Words: pad, controller, control, recognition, simple",
          "<b>Topic 1</b><br>Words: control, controller, rules, controllers, design",
          "<b>Topic 1</b><br>Words: control, controller, output, rules, learning",
          "<b>Topic 1</b><br>Words: control, controller, learning, rules, rule",
          "<b>Topic 1</b><br>Words: rules, neural, control, controller, stability",
          "<b>Topic 1</b><br>Words: control, controllers, controller, rules, learning",
          "<b>Topic 1</b><br>Words: control, learning, controller, neural, controllers",
          "<b>Topic 1</b><br>Words: control, controller, sliding, stability, controllers",
          "<b>Topic 1</b><br>Words: control, controller, learning, adaptive, systems",
          "<b>Topic 1</b><br>Words: control, rule, adaptive, learning, proposed",
          "<b>Topic 1</b><br>Words: control, stability, feedback, delay, controller",
          "<b>Topic 1</b><br>Words: stability, delay, control, conditions, systems",
          "<b>Topic 1</b><br>Words: control, controller, delay, design, systems",
          "<b>Topic 1</b><br>Words: control, nonlinear, delay, design, systems",
          "<b>Topic 1</b><br>Words: control, som, adaptive, controller, stability",
          "<b>Topic 1</b><br>Words: controller, control, drowsiness, nonlinear, feedback",
          "<b>Topic 1</b><br>Words: control, design, nonlinear, systems, adaptive",
          "<b>Topic 1</b><br>Words: control, controller, design, tracking, adaptive",
          "<b>Topic 1</b><br>Words: control, controller, design, nonlinear, feedback",
          "<b>Topic 1</b><br>Words: control, controller, systems, design, nonlinear",
          "<b>Topic 1</b><br>Words: control, pde, tracking, lyapunov, error",
          "<b>Topic 1</b><br>Words: stability, descriptions, facial, controller, multirate"
         ],
         "marker": {
          "color": "#56B4E9"
         },
         "mode": "lines",
         "name": "1_control_controller_stability_systems",
         "x": [
          "1977-12-15T10:39:21.600000",
          "1979-07-06T20:48:00",
          "1981-01-08T17:36:00",
          "1982-07-14T14:24:00",
          "1985-07-22T08:00:00",
          "1987-01-25T04:48:00",
          "1988-07-30T01:36:00",
          "1990-02-01T22:24:00",
          "1991-08-07T19:12:00",
          "1993-02-09T16:00:00",
          "1994-08-15T12:48:00",
          "1996-02-18T09:36:00",
          "1997-08-23T06:24:00",
          "1999-02-26T03:12:00",
          "2000-08-31T00:00:00",
          "2002-03-05T20:48:00",
          "2003-09-08T17:36:00",
          "2005-03-13T14:24:00",
          "2006-09-16T11:12:00",
          "2008-03-21T08:00:00",
          "2009-09-24T04:48:00",
          "2011-03-30T01:36:00",
          "2012-10-01T22:24:00",
          "2014-04-06T19:12:00",
          "2015-10-10T16:00:00",
          "2017-04-14T12:48:00",
          "2018-10-18T09:36:00",
          "2020-04-22T06:24:00",
          "2021-10-26T03:12:00"
         ],
         "y": [
          1,
          1,
          1,
          1,
          3,
          3,
          7,
          6,
          21,
          27,
          34,
          29,
          33,
          36,
          40,
          28,
          31,
          30,
          25,
          27,
          33,
          18,
          16,
          20,
          20,
          21,
          25,
          14,
          9
         ],
         "type": "scatter"
        },
        {
         "hoverinfo": "text",
         "hovertext": [
          "<b>Topic 2</b><br>Words: possibility, probability, distribution, conditional, theory",
          "<b>Topic 2</b><br>Words: probability, space, probabilistic, measurable, measurability",
          "<b>Topic 2</b><br>Words: postulate, complement, measure, subsets, event",
          "<b>Topic 2</b><br>Words: measures, possibility, probability, certainty, random",
          "<b>Topic 2</b><br>Words: subset, probability, representation, event, intersection",
          "<b>Topic 2</b><br>Words: probability, measure, events, possibility, certainty",
          "<b>Topic 2</b><br>Words: possibility, measures, evidence, measure, probability",
          "<b>Topic 2</b><br>Words: possibility, probability, events, labor, manufacturing",
          "<b>Topic 2</b><br>Words: measures, possibility, probability, measure, complement",
          "<b>Topic 2</b><br>Words: possibility, programme, probability, measure, events",
          "<b>Topic 2</b><br>Words: scale, probability, measure, measurable, possibility",
          "<b>Topic 2</b><br>Words: possibility, uncertainty, fcds, conditional, principles",
          "<b>Topic 2</b><br>Words: probability, probabilities, events, theory, possibility",
          "<b>Topic 2</b><br>Words: possibility, probability, measures, distribution, measure",
          "<b>Topic 2</b><br>Words: possibility, conditioning, measures, independence, conditional",
          "<b>Topic 2</b><br>Words: ample, probability, belief, possibility, theory",
          "<b>Topic 2</b><br>Words: possibility, necessity, measures, belief, measure",
          "<b>Topic 2</b><br>Words: possibility, probability, conditional, theory, fusion",
          "<b>Topic 2</b><br>Words: probability, possibility, measures, belief, probabilities",
          "<b>Topic 2</b><br>Words: possibility, belief, negotiation, probability, sources",
          "<b>Topic 2</b><br>Words: possibility, probability, conditional, dempster, information",
          "<b>Topic 2</b><br>Words: agreement, quantity, conflict, belief, prioritized",
          "<b>Topic 2</b><br>Words: merge, coherence, coreferent, conditional, fusion",
          "<b>Topic 2</b><br>Words: probability, possibility, judgment, bayesian, measure",
          "<b>Topic 2</b><br>Words: conditional, possibility, implied, strike, volatility",
          "<b>Topic 2</b><br>Words: neo, conditional, measures, envelopes, possibility",
          "<b>Topic 2</b><br>Words: possibility, probability, conditioning, random, measures",
          "<b>Topic 2</b><br>Words: conflict, possibility, pyt, ev, consistency",
          "<b>Topic 2</b><br>Words: nl, models, probabilities, sure, possibility",
          "<b>Topic 2</b><br>Words: possibility, probability, belief, conditional, probabilities"
         ],
         "marker": {
          "color": "#009E73"
         },
         "mode": "lines",
         "name": "2_possibility_probability_measures_condi...",
         "x": [
          "1977-12-15T10:39:21.600000",
          "1979-07-06T20:48:00",
          "1981-01-08T17:36:00",
          "1982-07-14T14:24:00",
          "1984-01-17T11:12:00",
          "1985-07-22T08:00:00",
          "1987-01-25T04:48:00",
          "1988-07-30T01:36:00",
          "1990-02-01T22:24:00",
          "1991-08-07T19:12:00",
          "1993-02-09T16:00:00",
          "1994-08-15T12:48:00",
          "1996-02-18T09:36:00",
          "1997-08-23T06:24:00",
          "1999-02-26T03:12:00",
          "2000-08-31T00:00:00",
          "2002-03-05T20:48:00",
          "2003-09-08T17:36:00",
          "2005-03-13T14:24:00",
          "2006-09-16T11:12:00",
          "2008-03-21T08:00:00",
          "2009-09-24T04:48:00",
          "2011-03-30T01:36:00",
          "2012-10-01T22:24:00",
          "2014-04-06T19:12:00",
          "2015-10-10T16:00:00",
          "2017-04-14T12:48:00",
          "2018-10-18T09:36:00",
          "2020-04-22T06:24:00",
          "2021-10-26T03:12:00"
         ],
         "y": [
          6,
          3,
          3,
          9,
          1,
          4,
          13,
          10,
          12,
          12,
          5,
          10,
          6,
          11,
          9,
          4,
          6,
          7,
          13,
          8,
          9,
          1,
          3,
          5,
          3,
          3,
          3,
          2,
          2,
          10
         ],
         "type": "scatter"
        },
        {
         "hoverinfo": "text",
         "hovertext": [
          "<b>Topic 3</b><br>Words: semiprimality, ideals, semigroups, semigroup, bi",
          "<b>Topic 3</b><br>Words: ideals, operations, fundamental, ring, ideal",
          "<b>Topic 3</b><br>Words: ideals, basically, definition, deduced, triangular",
          "<b>Topic 3</b><br>Words: tnf, algebra, ideals, ring, rings",
          "<b>Topic 3</b><br>Words: convolution, semigroups, compact, algebras, structure",
          "<b>Topic 3</b><br>Words: prime, ideals, ideal, primary, completely",
          "<b>Topic 3</b><br>Words: ideals, ideal, ring, semiprimary, rings",
          "<b>Topic 3</b><br>Words: ring, ideal, ideals, prime, radical",
          "<b>Topic 3</b><br>Words: ideals, ring, prime, ideal, semiprime",
          "<b>Topic 3</b><br>Words: ideals, ring, prime, ideal, substructures",
          "<b>Topic 3</b><br>Words: ideals, lie, prime, ideal, ring",
          "<b>Topic 3</b><br>Words: ideals, ideal, ring, prime, subsemigroup",
          "<b>Topic 3</b><br>Words: ideals, semigroup, congruences, ideal, ring",
          "<b>Topic 3</b><br>Words: ideals, ring, semigroup, ideal, prime",
          "<b>Topic 3</b><br>Words: domains, subalgebras, star, ideals, invertibility",
          "<b>Topic 3</b><br>Words: pan, ideals, subalgebras, ring, ideal",
          "<b>Topic 3</b><br>Words: equalities, algebras, ideals, vychodil, publication",
          "<b>Topic 3</b><br>Words: sentences, matrixes, transferable, holding, algebra",
          "<b>Topic 3</b><br>Words: hyperrings, logics, hyperring, subfuzzy, allwein",
          "<b>Topic 3</b><br>Words: ideals, hemiring, prime, spectrum, algebras",
          "<b>Topic 3</b><br>Words: ideals, ring, noncommutative, classifiable, prime",
          "<b>Topic 3</b><br>Words: semistar, overring, domain, operation, fer",
          "<b>Topic 3</b><br>Words: reconstructibility, equalities, identities, countable, ideals",
          "<b>Topic 3</b><br>Words: ideals, semicomplete, lattice, semilattices, orders",
          "<b>Topic 3</b><br>Words: semistar, ideals, semigroups, semigroup, operation",
          "<b>Topic 3</b><br>Words: algebra, subsets, subuniverses, subalgebras, universal",
          "<b>Topic 3</b><br>Words: ckl, congruence, ideal, algebras, ideals"
         ],
         "marker": {
          "color": "#F0E442"
         },
         "mode": "lines",
         "name": "3_ideals_ring_ideal_prime",
         "x": [
          "1981-01-08T17:36:00",
          "1982-07-14T14:24:00",
          "1984-01-17T11:12:00",
          "1985-07-22T08:00:00",
          "1987-01-25T04:48:00",
          "1988-07-30T01:36:00",
          "1990-02-01T22:24:00",
          "1991-08-07T19:12:00",
          "1993-02-09T16:00:00",
          "1994-08-15T12:48:00",
          "1996-02-18T09:36:00",
          "1997-08-23T06:24:00",
          "1999-02-26T03:12:00",
          "2000-08-31T00:00:00",
          "2002-03-05T20:48:00",
          "2003-09-08T17:36:00",
          "2005-03-13T14:24:00",
          "2006-09-16T11:12:00",
          "2008-03-21T08:00:00",
          "2009-09-24T04:48:00",
          "2011-03-30T01:36:00",
          "2012-10-01T22:24:00",
          "2014-04-06T19:12:00",
          "2015-10-10T16:00:00",
          "2017-04-14T12:48:00",
          "2020-04-22T06:24:00",
          "2021-10-26T03:12:00"
         ],
         "y": [
          2,
          2,
          1,
          3,
          1,
          2,
          9,
          24,
          13,
          6,
          13,
          14,
          10,
          7,
          2,
          3,
          2,
          2,
          2,
          2,
          3,
          1,
          1,
          2,
          2,
          1,
          1
         ],
         "type": "scatter"
        },
        {
         "hoverinfo": "text",
         "hovertext": [
          "<b>Topic 4</b><br>Words: bz, poset, orthocomplementations, algebras, brouwer",
          "<b>Topic 4</b><br>Words: bzmvdm, algebra, algebras, mv, sharp",
          "<b>Topic 4</b><br>Words: valuation, faithful, effect, algebra, modular",
          "<b>Topic 4</b><br>Words: algebras, modular, bl, heyting, effect",
          "<b>Topic 4</b><br>Words: wpbl, algebras, negations, weak, algebra",
          "<b>Topic 4</b><br>Words: filters, effect, algebras, implicative, boolean",
          "<b>Topic 4</b><br>Words: algebras, bl, effect, mv, pseudo",
          "<b>Topic 4</b><br>Words: algebras, algebra, divisible, mv, residuated",
          "<b>Topic 4</b><br>Words: algebras, algebra, filter, filters, stone",
          "<b>Topic 4</b><br>Words: algebras, filters, mtl, mv, eq",
          "<b>Topic 4</b><br>Words: algebras, mv, algebra, bl, mtl",
          "<b>Topic 4</b><br>Words: algebras, mv, filters, algebra, bl",
          "<b>Topic 4</b><br>Words: algebras, mv, algebra, bl, derivations",
          "<b>Topic 4</b><br>Words: algebras, monadic, effect, hyper, algebra",
          "<b>Topic 4</b><br>Words: algebras, algebra, mv, emv, residuated",
          "<b>Topic 4</b><br>Words: algebras, mv, bl, algebra, lattice",
          "<b>Topic 4</b><br>Words: algebras, algebra, mv, perfect, eq"
         ],
         "marker": {
          "color": "#D55E00"
         },
         "mode": "lines",
         "name": "4_algebras_mv_algebra_bl",
         "x": [
          "1988-07-30T01:36:00",
          "1999-02-26T03:12:00",
          "2000-08-31T00:00:00",
          "2002-03-05T20:48:00",
          "2003-09-08T17:36:00",
          "2005-03-13T14:24:00",
          "2006-09-16T11:12:00",
          "2008-03-21T08:00:00",
          "2009-09-24T04:48:00",
          "2011-03-30T01:36:00",
          "2012-10-01T22:24:00",
          "2014-04-06T19:12:00",
          "2015-10-10T16:00:00",
          "2017-04-14T12:48:00",
          "2018-10-18T09:36:00",
          "2020-04-22T06:24:00",
          "2021-10-26T03:12:00"
         ],
         "y": [
          1,
          1,
          2,
          4,
          2,
          4,
          5,
          6,
          5,
          7,
          10,
          17,
          17,
          5,
          15,
          15,
          13
         ],
         "type": "scatter"
        },
        {
         "hoverinfo": "text",
         "hovertext": [
          "<b>Topic 5</b><br>Words: subgroup, subgroups, group, inequality, generated",
          "<b>Topic 5</b><br>Words: subgroups, subgroup, products, product, anthony",
          "<b>Topic 5</b><br>Words: semidirect, subgroups, subgroup, product, sherwood",
          "<b>Topic 5</b><br>Words: subgroups, product, group, analogously, interested",
          "<b>Topic 5</b><br>Words: subgroups, group, sessa, das, sherwood",
          "<b>Topic 5</b><br>Words: subgroups, subgroup, anti, group, level",
          "<b>Topic 5</b><br>Words: subgroups, subgroup, group, product, groups",
          "<b>Topic 5</b><br>Words: subgroup, subgroups, group, divisible, quasinormal",
          "<b>Topic 5</b><br>Words: subgroups, subgroup, group, groups, asaad",
          "<b>Topic 5</b><br>Words: subgroups, group, subgroup, gl, groups",
          "<b>Topic 5</b><br>Words: group, subgroups, subgroup, normal, px",
          "<b>Topic 5</b><br>Words: subgroup, subgroups, group, notion, tl",
          "<b>Topic 5</b><br>Words: subgroups, group, subgroup, subgroupoids, groups",
          "<b>Topic 5</b><br>Words: subgroups, keychain, subgroup, distinct, bhakat",
          "<b>Topic 5</b><br>Words: subgroups, subgroup, group, cartesian, zqm",
          "<b>Topic 5</b><br>Words: subgroups, equivalence, makamba, murali, discusses",
          "<b>Topic 5</b><br>Words: join, subgroups, group, hypergroupoid, hyperstructures",
          "<b>Topic 5</b><br>Words: ary, join, hypergroups, groupoid, canonical",
          "<b>Topic 5</b><br>Words: subgroups, operation, cartesian, chon, necessary",
          "<b>Topic 5</b><br>Words: skeleton, group, construction, groups, subgroups",
          "<b>Topic 5</b><br>Words: group, subgroups, subgroup, equivalence, groups",
          "<b>Topic 5</b><br>Words: mi, group, subgroups, groups, subgroup",
          "<b>Topic 5</b><br>Words: subgroups, group, subgroup, annihilator, equivalence",
          "<b>Topic 5</b><br>Words: subgroup, subgroups, aggregation, group, proven"
         ],
         "marker": {
          "color": "#0072B2"
         },
         "mode": "lines",
         "name": "5_subgroups_subgroup_group_groups",
         "x": [
          "1981-01-08T17:36:00",
          "1982-07-14T14:24:00",
          "1985-07-22T08:00:00",
          "1987-01-25T04:48:00",
          "1988-07-30T01:36:00",
          "1990-02-01T22:24:00",
          "1991-08-07T19:12:00",
          "1993-02-09T16:00:00",
          "1994-08-15T12:48:00",
          "1996-02-18T09:36:00",
          "1997-08-23T06:24:00",
          "1999-02-26T03:12:00",
          "2000-08-31T00:00:00",
          "2002-03-05T20:48:00",
          "2003-09-08T17:36:00",
          "2005-03-13T14:24:00",
          "2008-03-21T08:00:00",
          "2009-09-24T04:48:00",
          "2011-03-30T01:36:00",
          "2014-04-06T19:12:00",
          "2015-10-10T16:00:00",
          "2017-04-14T12:48:00",
          "2018-10-18T09:36:00",
          "2020-04-22T06:24:00"
         ],
         "y": [
          1,
          2,
          1,
          1,
          2,
          3,
          15,
          20,
          12,
          18,
          12,
          10,
          8,
          2,
          3,
          1,
          3,
          2,
          1,
          1,
          2,
          1,
          4,
          1
         ],
         "type": "scatter"
        },
        {
         "hoverinfo": "text",
         "hovertext": [
          "<b>Topic 6</b><br>Words: distributions, ply, gaussian, exact, approximations",
          "<b>Topic 6</b><br>Words: menger, copulas, copula, compact, imaoka",
          "<b>Topic 6</b><br>Words: copulas, semilinear, concavity, cuadras, aug",
          "<b>Topic 6</b><br>Words: copulas, copula, quasi, flipping, transformations",
          "<b>Topic 6</b><br>Words: copulas, conic, quasi, copula, irreducible",
          "<b>Topic 6</b><br>Words: copulas, aggregation, copula, submeasures, flipping",
          "<b>Topic 6</b><br>Words: copula, copulas, quasi, diagonal, trivariate",
          "<b>Topic 6</b><br>Words: copulas, copula, diagonal, aggregation, tail",
          "<b>Topic 6</b><br>Words: copulas, copula, diagonal, tail, dependence",
          "<b>Topic 6</b><br>Words: copulas, copula, diagonal, transformations, bivariate",
          "<b>Topic 6</b><br>Words: copulas, copula, capacity, bivariate, diagonal",
          "<b>Topic 6</b><br>Words: copulas, copula, quasi, rmm, bivariate",
          "<b>Topic 6</b><br>Words: copulas, copula, multivariate, bivariate, quasi"
         ],
         "marker": {
          "color": "#CC79A7"
         },
         "mode": "lines",
         "name": "6_copulas_copula_quasi_diagonal",
         "x": [
          "1985-07-22T08:00:00",
          "2003-09-08T17:36:00",
          "2006-09-16T11:12:00",
          "2008-03-21T08:00:00",
          "2009-09-24T04:48:00",
          "2011-03-30T01:36:00",
          "2012-10-01T22:24:00",
          "2014-04-06T19:12:00",
          "2015-10-10T16:00:00",
          "2017-04-14T12:48:00",
          "2018-10-18T09:36:00",
          "2020-04-22T06:24:00",
          "2021-10-26T03:12:00"
         ],
         "y": [
          1,
          2,
          2,
          8,
          4,
          8,
          13,
          12,
          10,
          9,
          13,
          17,
          19
         ],
         "type": "scatter"
        }
       ],
       "layout": {
        "template": {
         "data": {
          "barpolar": [
           {
            "marker": {
             "line": {
              "color": "white",
              "width": 0.5
             },
             "pattern": {
              "fillmode": "overlay",
              "size": 10,
              "solidity": 0.2
             }
            },
            "type": "barpolar"
           }
          ],
          "bar": [
           {
            "error_x": {
             "color": "rgb(36,36,36)"
            },
            "error_y": {
             "color": "rgb(36,36,36)"
            },
            "marker": {
             "line": {
              "color": "white",
              "width": 0.5
             },
             "pattern": {
              "fillmode": "overlay",
              "size": 10,
              "solidity": 0.2
             }
            },
            "type": "bar"
           }
          ],
          "carpet": [
           {
            "aaxis": {
             "endlinecolor": "rgb(36,36,36)",
             "gridcolor": "white",
             "linecolor": "white",
             "minorgridcolor": "white",
             "startlinecolor": "rgb(36,36,36)"
            },
            "baxis": {
             "endlinecolor": "rgb(36,36,36)",
             "gridcolor": "white",
             "linecolor": "white",
             "minorgridcolor": "white",
             "startlinecolor": "rgb(36,36,36)"
            },
            "type": "carpet"
           }
          ],
          "choropleth": [
           {
            "colorbar": {
             "outlinewidth": 1,
             "tickcolor": "rgb(36,36,36)",
             "ticks": "outside"
            },
            "type": "choropleth"
           }
          ],
          "contourcarpet": [
           {
            "colorbar": {
             "outlinewidth": 1,
             "tickcolor": "rgb(36,36,36)",
             "ticks": "outside"
            },
            "type": "contourcarpet"
           }
          ],
          "contour": [
           {
            "colorbar": {
             "outlinewidth": 1,
             "tickcolor": "rgb(36,36,36)",
             "ticks": "outside"
            },
            "colorscale": [
             [
              0.0,
              "#440154"
             ],
             [
              0.1111111111111111,
              "#482878"
             ],
             [
              0.2222222222222222,
              "#3e4989"
             ],
             [
              0.3333333333333333,
              "#31688e"
             ],
             [
              0.4444444444444444,
              "#26828e"
             ],
             [
              0.5555555555555556,
              "#1f9e89"
             ],
             [
              0.6666666666666666,
              "#35b779"
             ],
             [
              0.7777777777777778,
              "#6ece58"
             ],
             [
              0.8888888888888888,
              "#b5de2b"
             ],
             [
              1.0,
              "#fde725"
             ]
            ],
            "type": "contour"
           }
          ],
          "heatmapgl": [
           {
            "colorbar": {
             "outlinewidth": 1,
             "tickcolor": "rgb(36,36,36)",
             "ticks": "outside"
            },
            "colorscale": [
             [
              0.0,
              "#440154"
             ],
             [
              0.1111111111111111,
              "#482878"
             ],
             [
              0.2222222222222222,
              "#3e4989"
             ],
             [
              0.3333333333333333,
              "#31688e"
             ],
             [
              0.4444444444444444,
              "#26828e"
             ],
             [
              0.5555555555555556,
              "#1f9e89"
             ],
             [
              0.6666666666666666,
              "#35b779"
             ],
             [
              0.7777777777777778,
              "#6ece58"
             ],
             [
              0.8888888888888888,
              "#b5de2b"
             ],
             [
              1.0,
              "#fde725"
             ]
            ],
            "type": "heatmapgl"
           }
          ],
          "heatmap": [
           {
            "colorbar": {
             "outlinewidth": 1,
             "tickcolor": "rgb(36,36,36)",
             "ticks": "outside"
            },
            "colorscale": [
             [
              0.0,
              "#440154"
             ],
             [
              0.1111111111111111,
              "#482878"
             ],
             [
              0.2222222222222222,
              "#3e4989"
             ],
             [
              0.3333333333333333,
              "#31688e"
             ],
             [
              0.4444444444444444,
              "#26828e"
             ],
             [
              0.5555555555555556,
              "#1f9e89"
             ],
             [
              0.6666666666666666,
              "#35b779"
             ],
             [
              0.7777777777777778,
              "#6ece58"
             ],
             [
              0.8888888888888888,
              "#b5de2b"
             ],
             [
              1.0,
              "#fde725"
             ]
            ],
            "type": "heatmap"
           }
          ],
          "histogram2dcontour": [
           {
            "colorbar": {
             "outlinewidth": 1,
             "tickcolor": "rgb(36,36,36)",
             "ticks": "outside"
            },
            "colorscale": [
             [
              0.0,
              "#440154"
             ],
             [
              0.1111111111111111,
              "#482878"
             ],
             [
              0.2222222222222222,
              "#3e4989"
             ],
             [
              0.3333333333333333,
              "#31688e"
             ],
             [
              0.4444444444444444,
              "#26828e"
             ],
             [
              0.5555555555555556,
              "#1f9e89"
             ],
             [
              0.6666666666666666,
              "#35b779"
             ],
             [
              0.7777777777777778,
              "#6ece58"
             ],
             [
              0.8888888888888888,
              "#b5de2b"
             ],
             [
              1.0,
              "#fde725"
             ]
            ],
            "type": "histogram2dcontour"
           }
          ],
          "histogram2d": [
           {
            "colorbar": {
             "outlinewidth": 1,
             "tickcolor": "rgb(36,36,36)",
             "ticks": "outside"
            },
            "colorscale": [
             [
              0.0,
              "#440154"
             ],
             [
              0.1111111111111111,
              "#482878"
             ],
             [
              0.2222222222222222,
              "#3e4989"
             ],
             [
              0.3333333333333333,
              "#31688e"
             ],
             [
              0.4444444444444444,
              "#26828e"
             ],
             [
              0.5555555555555556,
              "#1f9e89"
             ],
             [
              0.6666666666666666,
              "#35b779"
             ],
             [
              0.7777777777777778,
              "#6ece58"
             ],
             [
              0.8888888888888888,
              "#b5de2b"
             ],
             [
              1.0,
              "#fde725"
             ]
            ],
            "type": "histogram2d"
           }
          ],
          "histogram": [
           {
            "marker": {
             "line": {
              "color": "white",
              "width": 0.6
             }
            },
            "type": "histogram"
           }
          ],
          "mesh3d": [
           {
            "colorbar": {
             "outlinewidth": 1,
             "tickcolor": "rgb(36,36,36)",
             "ticks": "outside"
            },
            "type": "mesh3d"
           }
          ],
          "parcoords": [
           {
            "line": {
             "colorbar": {
              "outlinewidth": 1,
              "tickcolor": "rgb(36,36,36)",
              "ticks": "outside"
             }
            },
            "type": "parcoords"
           }
          ],
          "pie": [
           {
            "automargin": true,
            "type": "pie"
           }
          ],
          "scatter3d": [
           {
            "line": {
             "colorbar": {
              "outlinewidth": 1,
              "tickcolor": "rgb(36,36,36)",
              "ticks": "outside"
             }
            },
            "marker": {
             "colorbar": {
              "outlinewidth": 1,
              "tickcolor": "rgb(36,36,36)",
              "ticks": "outside"
             }
            },
            "type": "scatter3d"
           }
          ],
          "scattercarpet": [
           {
            "marker": {
             "colorbar": {
              "outlinewidth": 1,
              "tickcolor": "rgb(36,36,36)",
              "ticks": "outside"
             }
            },
            "type": "scattercarpet"
           }
          ],
          "scattergeo": [
           {
            "marker": {
             "colorbar": {
              "outlinewidth": 1,
              "tickcolor": "rgb(36,36,36)",
              "ticks": "outside"
             }
            },
            "type": "scattergeo"
           }
          ],
          "scattergl": [
           {
            "marker": {
             "colorbar": {
              "outlinewidth": 1,
              "tickcolor": "rgb(36,36,36)",
              "ticks": "outside"
             }
            },
            "type": "scattergl"
           }
          ],
          "scattermapbox": [
           {
            "marker": {
             "colorbar": {
              "outlinewidth": 1,
              "tickcolor": "rgb(36,36,36)",
              "ticks": "outside"
             }
            },
            "type": "scattermapbox"
           }
          ],
          "scatterpolargl": [
           {
            "marker": {
             "colorbar": {
              "outlinewidth": 1,
              "tickcolor": "rgb(36,36,36)",
              "ticks": "outside"
             }
            },
            "type": "scatterpolargl"
           }
          ],
          "scatterpolar": [
           {
            "marker": {
             "colorbar": {
              "outlinewidth": 1,
              "tickcolor": "rgb(36,36,36)",
              "ticks": "outside"
             }
            },
            "type": "scatterpolar"
           }
          ],
          "scatter": [
           {
            "fillpattern": {
             "fillmode": "overlay",
             "size": 10,
             "solidity": 0.2
            },
            "type": "scatter"
           }
          ],
          "scatterternary": [
           {
            "marker": {
             "colorbar": {
              "outlinewidth": 1,
              "tickcolor": "rgb(36,36,36)",
              "ticks": "outside"
             }
            },
            "type": "scatterternary"
           }
          ],
          "surface": [
           {
            "colorbar": {
             "outlinewidth": 1,
             "tickcolor": "rgb(36,36,36)",
             "ticks": "outside"
            },
            "colorscale": [
             [
              0.0,
              "#440154"
             ],
             [
              0.1111111111111111,
              "#482878"
             ],
             [
              0.2222222222222222,
              "#3e4989"
             ],
             [
              0.3333333333333333,
              "#31688e"
             ],
             [
              0.4444444444444444,
              "#26828e"
             ],
             [
              0.5555555555555556,
              "#1f9e89"
             ],
             [
              0.6666666666666666,
              "#35b779"
             ],
             [
              0.7777777777777778,
              "#6ece58"
             ],
             [
              0.8888888888888888,
              "#b5de2b"
             ],
             [
              1.0,
              "#fde725"
             ]
            ],
            "type": "surface"
           }
          ],
          "table": [
           {
            "cells": {
             "fill": {
              "color": "rgb(237,237,237)"
             },
             "line": {
              "color": "white"
             }
            },
            "header": {
             "fill": {
              "color": "rgb(217,217,217)"
             },
             "line": {
              "color": "white"
             }
            },
            "type": "table"
           }
          ]
         },
         "layout": {
          "annotationdefaults": {
           "arrowhead": 0,
           "arrowwidth": 1
          },
          "autotypenumbers": "strict",
          "coloraxis": {
           "colorbar": {
            "outlinewidth": 1,
            "tickcolor": "rgb(36,36,36)",
            "ticks": "outside"
           }
          },
          "colorscale": {
           "diverging": [
            [
             0.0,
             "rgb(103,0,31)"
            ],
            [
             0.1,
             "rgb(178,24,43)"
            ],
            [
             0.2,
             "rgb(214,96,77)"
            ],
            [
             0.3,
             "rgb(244,165,130)"
            ],
            [
             0.4,
             "rgb(253,219,199)"
            ],
            [
             0.5,
             "rgb(247,247,247)"
            ],
            [
             0.6,
             "rgb(209,229,240)"
            ],
            [
             0.7,
             "rgb(146,197,222)"
            ],
            [
             0.8,
             "rgb(67,147,195)"
            ],
            [
             0.9,
             "rgb(33,102,172)"
            ],
            [
             1.0,
             "rgb(5,48,97)"
            ]
           ],
           "sequential": [
            [
             0.0,
             "#440154"
            ],
            [
             0.1111111111111111,
             "#482878"
            ],
            [
             0.2222222222222222,
             "#3e4989"
            ],
            [
             0.3333333333333333,
             "#31688e"
            ],
            [
             0.4444444444444444,
             "#26828e"
            ],
            [
             0.5555555555555556,
             "#1f9e89"
            ],
            [
             0.6666666666666666,
             "#35b779"
            ],
            [
             0.7777777777777778,
             "#6ece58"
            ],
            [
             0.8888888888888888,
             "#b5de2b"
            ],
            [
             1.0,
             "#fde725"
            ]
           ],
           "sequentialminus": [
            [
             0.0,
             "#440154"
            ],
            [
             0.1111111111111111,
             "#482878"
            ],
            [
             0.2222222222222222,
             "#3e4989"
            ],
            [
             0.3333333333333333,
             "#31688e"
            ],
            [
             0.4444444444444444,
             "#26828e"
            ],
            [
             0.5555555555555556,
             "#1f9e89"
            ],
            [
             0.6666666666666666,
             "#35b779"
            ],
            [
             0.7777777777777778,
             "#6ece58"
            ],
            [
             0.8888888888888888,
             "#b5de2b"
            ],
            [
             1.0,
             "#fde725"
            ]
           ]
          },
          "colorway": [
           "#1F77B4",
           "#FF7F0E",
           "#2CA02C",
           "#D62728",
           "#9467BD",
           "#8C564B",
           "#E377C2",
           "#7F7F7F",
           "#BCBD22",
           "#17BECF"
          ],
          "font": {
           "color": "rgb(36,36,36)"
          },
          "geo": {
           "bgcolor": "white",
           "lakecolor": "white",
           "landcolor": "white",
           "showlakes": true,
           "showland": true,
           "subunitcolor": "white"
          },
          "hoverlabel": {
           "align": "left"
          },
          "hovermode": "closest",
          "mapbox": {
           "style": "light"
          },
          "paper_bgcolor": "white",
          "plot_bgcolor": "white",
          "polar": {
           "angularaxis": {
            "gridcolor": "rgb(232,232,232)",
            "linecolor": "rgb(36,36,36)",
            "showgrid": false,
            "showline": true,
            "ticks": "outside"
           },
           "bgcolor": "white",
           "radialaxis": {
            "gridcolor": "rgb(232,232,232)",
            "linecolor": "rgb(36,36,36)",
            "showgrid": false,
            "showline": true,
            "ticks": "outside"
           }
          },
          "scene": {
           "xaxis": {
            "backgroundcolor": "white",
            "gridcolor": "rgb(232,232,232)",
            "gridwidth": 2,
            "linecolor": "rgb(36,36,36)",
            "showbackground": true,
            "showgrid": false,
            "showline": true,
            "ticks": "outside",
            "zeroline": false,
            "zerolinecolor": "rgb(36,36,36)"
           },
           "yaxis": {
            "backgroundcolor": "white",
            "gridcolor": "rgb(232,232,232)",
            "gridwidth": 2,
            "linecolor": "rgb(36,36,36)",
            "showbackground": true,
            "showgrid": false,
            "showline": true,
            "ticks": "outside",
            "zeroline": false,
            "zerolinecolor": "rgb(36,36,36)"
           },
           "zaxis": {
            "backgroundcolor": "white",
            "gridcolor": "rgb(232,232,232)",
            "gridwidth": 2,
            "linecolor": "rgb(36,36,36)",
            "showbackground": true,
            "showgrid": false,
            "showline": true,
            "ticks": "outside",
            "zeroline": false,
            "zerolinecolor": "rgb(36,36,36)"
           }
          },
          "shapedefaults": {
           "fillcolor": "black",
           "line": {
            "width": 0
           },
           "opacity": 0.3
          },
          "ternary": {
           "aaxis": {
            "gridcolor": "rgb(232,232,232)",
            "linecolor": "rgb(36,36,36)",
            "showgrid": false,
            "showline": true,
            "ticks": "outside"
           },
           "baxis": {
            "gridcolor": "rgb(232,232,232)",
            "linecolor": "rgb(36,36,36)",
            "showgrid": false,
            "showline": true,
            "ticks": "outside"
           },
           "bgcolor": "white",
           "caxis": {
            "gridcolor": "rgb(232,232,232)",
            "linecolor": "rgb(36,36,36)",
            "showgrid": false,
            "showline": true,
            "ticks": "outside"
           }
          },
          "title": {
           "x": 0.05
          },
          "xaxis": {
           "automargin": true,
           "gridcolor": "rgb(232,232,232)",
           "linecolor": "rgb(36,36,36)",
           "showgrid": false,
           "showline": true,
           "ticks": "outside",
           "title": {
            "standoff": 15
           },
           "zeroline": false,
           "zerolinecolor": "rgb(36,36,36)"
          },
          "yaxis": {
           "automargin": true,
           "gridcolor": "rgb(232,232,232)",
           "linecolor": "rgb(36,36,36)",
           "showgrid": false,
           "showline": true,
           "ticks": "outside",
           "title": {
            "standoff": 15
           },
           "zeroline": false,
           "zerolinecolor": "rgb(36,36,36)"
          }
         }
        },
        "xaxis": {
         "showgrid": true
        },
        "yaxis": {
         "showgrid": true,
         "title": {
          "text": "Frequency"
         }
        },
        "title": {
         "font": {
          "size": 22,
          "color": "Black"
         },
         "text": "<b>Topics over Time</b>",
         "y": 0.95,
         "x": 0.4,
         "xanchor": "center",
         "yanchor": "top"
        },
        "hoverlabel": {
         "font": {
          "size": 16,
          "family": "Rockwell"
         },
         "bgcolor": "white"
        },
        "width": 1250,
        "height": 450,
        "legend": {
         "title": {
          "text": "<b>Global Topic Representation"
         }
        }
       },
       "config": {
        "plotlyServerURL": "https://plot.ly"
       }
      },
      "text/html": "<div>                            <div id=\"1328b772-7770-49d3-a65d-86ce3097e8a2\" class=\"plotly-graph-div\" style=\"height:450px; width:1250px;\"></div>            <script type=\"text/javascript\">                require([\"plotly\"], function(Plotly) {                    window.PLOTLYENV=window.PLOTLYENV || {};                                    if (document.getElementById(\"1328b772-7770-49d3-a65d-86ce3097e8a2\")) {                    Plotly.newPlot(                        \"1328b772-7770-49d3-a65d-86ce3097e8a2\",                        [{\"hoverinfo\":\"text\",\"hovertext\":[\"<b>Topic 0</b><br>Words: decision, sets, team, alternatives, concept\",\"<b>Topic 0</b><br>Words: sets, fuzzy, decision, formal, implication\",\"<b>Topic 0</b><br>Words: fuzzy, relations, dynamical, metaphor, sets\",\"<b>Topic 0</b><br>Words: fuzzy, choice, criteria, sets, set\",\"<b>Topic 0</b><br>Words: fuzzy, relation, topological, vt, equations\",\"<b>Topic 0</b><br>Words: fuzzy, relation, decision, solution, topological\",\"<b>Topic 0</b><br>Words: fuzzy, decision, sets, set, utility\",\"<b>Topic 0</b><br>Words: dm, fuzzy, spaces, sets, topological\",\"<b>Topic 0</b><br>Words: fuzzy, set, sets, spaces, properties\",\"<b>Topic 0</b><br>Words: fuzzy, spaces, topological, space, sets\",\"<b>Topic 0</b><br>Words: fuzzy, spaces, topological, sets, properties\",\"<b>Topic 0</b><br>Words: fuzzy, preference, decision, properties, set\",\"<b>Topic 0</b><br>Words: fuzzy, sets, spaces, decision, preference\",\"<b>Topic 0</b><br>Words: fuzzy, numbers, spaces, sets, topological\",\"<b>Topic 0</b><br>Words: fuzzy, set, sets, paper, decision\",\"<b>Topic 0</b><br>Words: fuzzy, mappings, sets, decision, paper\",\"<b>Topic 0</b><br>Words: fuzzy, spaces, sets, uniform, mappings\",\"<b>Topic 0</b><br>Words: voter, spaces, fuzzy, aggregation, paper\",\"<b>Topic 0</b><br>Words: spaces, fuzzy, sets, logic, transitivity\",\"<b>Topic 0</b><br>Words: spaces, fuzzy, sets, connectedness, topological\",\"<b>Topic 0</b><br>Words: implications, fuzzy, spaces, interval, properties\",\"<b>Topic 0</b><br>Words: topological, spaces, metric, sets, fuzzy\",\"<b>Topic 0</b><br>Words: topological, spaces, fuzzy, solutions, relations\",\"<b>Topic 0</b><br>Words: aggregation, metric, fuzzy, reciprocal, implications\",\"<b>Topic 0</b><br>Words: preference, fuzzy, interval, decision, set\",\"<b>Topic 0</b><br>Words: fuzzy, aggregation, properties, metric, spaces\",\"<b>Topic 0</b><br>Words: aggregation, metric, fuzzy, functions, consistency\",\"<b>Topic 0</b><br>Words: implications, preference, fuzzy, set, type\",\"<b>Topic 0</b><br>Words: preference, numbers, fuzzy, functions, decision\",\"<b>Topic 0</b><br>Words: metric, choquet, fuzzy, aggregation, integral\"],\"marker\":{\"color\":\"#E69F00\"},\"mode\":\"lines\",\"name\":\"0_fuzzy_spaces_sets_set\",\"x\":[\"1977-12-15T10:39:21.600000\",\"1979-07-06T20:48:00\",\"1981-01-08T17:36:00\",\"1982-07-14T14:24:00\",\"1984-01-17T11:12:00\",\"1985-07-22T08:00:00\",\"1987-01-25T04:48:00\",\"1988-07-30T01:36:00\",\"1990-02-01T22:24:00\",\"1991-08-07T19:12:00\",\"1993-02-09T16:00:00\",\"1994-08-15T12:48:00\",\"1996-02-18T09:36:00\",\"1997-08-23T06:24:00\",\"1999-02-26T03:12:00\",\"2000-08-31T00:00:00\",\"2002-03-05T20:48:00\",\"2003-09-08T17:36:00\",\"2005-03-13T14:24:00\",\"2006-09-16T11:12:00\",\"2008-03-21T08:00:00\",\"2009-09-24T04:48:00\",\"2011-03-30T01:36:00\",\"2012-10-01T22:24:00\",\"2014-04-06T19:12:00\",\"2015-10-10T16:00:00\",\"2017-04-14T12:48:00\",\"2018-10-18T09:36:00\",\"2020-04-22T06:24:00\",\"2021-10-26T03:12:00\"],\"y\":[14,23,25,32,41,47,54,94,81,150,142,119,129,147,127,155,98,67,101,79,71,83,56,60,77,82,57,58,64,88],\"type\":\"scatter\"},{\"hoverinfo\":\"text\",\"hovertext\":[\"<b>Topic 1</b><br>Words: subsequent, adjustment, reviewed, explicitly, identified\",\"<b>Topic 1</b><br>Words: distinguish, classes, computationally, supervised, artificial\",\"<b>Topic 1</b><br>Words: vocal, emitted, tiredness, humour, speaker\",\"<b>Topic 1</b><br>Words: classifier, utilizing, diagnostics, experimentation, medicine\",\"<b>Topic 1</b><br>Words: subclassifiers, algorithm, possibility, classification, shown\",\"<b>Topic 1</b><br>Words: speech, parsing, controller, self, organizing\",\"<b>Topic 1</b><br>Words: recognition, speech, pattern, controller, pi\",\"<b>Topic 1</b><br>Words: pad, controller, control, recognition, simple\",\"<b>Topic 1</b><br>Words: control, controller, rules, controllers, design\",\"<b>Topic 1</b><br>Words: control, controller, output, rules, learning\",\"<b>Topic 1</b><br>Words: control, controller, learning, rules, rule\",\"<b>Topic 1</b><br>Words: rules, neural, control, controller, stability\",\"<b>Topic 1</b><br>Words: control, controllers, controller, rules, learning\",\"<b>Topic 1</b><br>Words: control, learning, controller, neural, controllers\",\"<b>Topic 1</b><br>Words: control, controller, sliding, stability, controllers\",\"<b>Topic 1</b><br>Words: control, controller, learning, adaptive, systems\",\"<b>Topic 1</b><br>Words: control, rule, adaptive, learning, proposed\",\"<b>Topic 1</b><br>Words: control, stability, feedback, delay, controller\",\"<b>Topic 1</b><br>Words: stability, delay, control, conditions, systems\",\"<b>Topic 1</b><br>Words: control, controller, delay, design, systems\",\"<b>Topic 1</b><br>Words: control, nonlinear, delay, design, systems\",\"<b>Topic 1</b><br>Words: control, som, adaptive, controller, stability\",\"<b>Topic 1</b><br>Words: controller, control, drowsiness, nonlinear, feedback\",\"<b>Topic 1</b><br>Words: control, design, nonlinear, systems, adaptive\",\"<b>Topic 1</b><br>Words: control, controller, design, tracking, adaptive\",\"<b>Topic 1</b><br>Words: control, controller, design, nonlinear, feedback\",\"<b>Topic 1</b><br>Words: control, controller, systems, design, nonlinear\",\"<b>Topic 1</b><br>Words: control, pde, tracking, lyapunov, error\",\"<b>Topic 1</b><br>Words: stability, descriptions, facial, controller, multirate\"],\"marker\":{\"color\":\"#56B4E9\"},\"mode\":\"lines\",\"name\":\"1_control_controller_stability_systems\",\"x\":[\"1977-12-15T10:39:21.600000\",\"1979-07-06T20:48:00\",\"1981-01-08T17:36:00\",\"1982-07-14T14:24:00\",\"1985-07-22T08:00:00\",\"1987-01-25T04:48:00\",\"1988-07-30T01:36:00\",\"1990-02-01T22:24:00\",\"1991-08-07T19:12:00\",\"1993-02-09T16:00:00\",\"1994-08-15T12:48:00\",\"1996-02-18T09:36:00\",\"1997-08-23T06:24:00\",\"1999-02-26T03:12:00\",\"2000-08-31T00:00:00\",\"2002-03-05T20:48:00\",\"2003-09-08T17:36:00\",\"2005-03-13T14:24:00\",\"2006-09-16T11:12:00\",\"2008-03-21T08:00:00\",\"2009-09-24T04:48:00\",\"2011-03-30T01:36:00\",\"2012-10-01T22:24:00\",\"2014-04-06T19:12:00\",\"2015-10-10T16:00:00\",\"2017-04-14T12:48:00\",\"2018-10-18T09:36:00\",\"2020-04-22T06:24:00\",\"2021-10-26T03:12:00\"],\"y\":[1,1,1,1,3,3,7,6,21,27,34,29,33,36,40,28,31,30,25,27,33,18,16,20,20,21,25,14,9],\"type\":\"scatter\"},{\"hoverinfo\":\"text\",\"hovertext\":[\"<b>Topic 2</b><br>Words: possibility, probability, distribution, conditional, theory\",\"<b>Topic 2</b><br>Words: probability, space, probabilistic, measurable, measurability\",\"<b>Topic 2</b><br>Words: postulate, complement, measure, subsets, event\",\"<b>Topic 2</b><br>Words: measures, possibility, probability, certainty, random\",\"<b>Topic 2</b><br>Words: subset, probability, representation, event, intersection\",\"<b>Topic 2</b><br>Words: probability, measure, events, possibility, certainty\",\"<b>Topic 2</b><br>Words: possibility, measures, evidence, measure, probability\",\"<b>Topic 2</b><br>Words: possibility, probability, events, labor, manufacturing\",\"<b>Topic 2</b><br>Words: measures, possibility, probability, measure, complement\",\"<b>Topic 2</b><br>Words: possibility, programme, probability, measure, events\",\"<b>Topic 2</b><br>Words: scale, probability, measure, measurable, possibility\",\"<b>Topic 2</b><br>Words: possibility, uncertainty, fcds, conditional, principles\",\"<b>Topic 2</b><br>Words: probability, probabilities, events, theory, possibility\",\"<b>Topic 2</b><br>Words: possibility, probability, measures, distribution, measure\",\"<b>Topic 2</b><br>Words: possibility, conditioning, measures, independence, conditional\",\"<b>Topic 2</b><br>Words: ample, probability, belief, possibility, theory\",\"<b>Topic 2</b><br>Words: possibility, necessity, measures, belief, measure\",\"<b>Topic 2</b><br>Words: possibility, probability, conditional, theory, fusion\",\"<b>Topic 2</b><br>Words: probability, possibility, measures, belief, probabilities\",\"<b>Topic 2</b><br>Words: possibility, belief, negotiation, probability, sources\",\"<b>Topic 2</b><br>Words: possibility, probability, conditional, dempster, information\",\"<b>Topic 2</b><br>Words: agreement, quantity, conflict, belief, prioritized\",\"<b>Topic 2</b><br>Words: merge, coherence, coreferent, conditional, fusion\",\"<b>Topic 2</b><br>Words: probability, possibility, judgment, bayesian, measure\",\"<b>Topic 2</b><br>Words: conditional, possibility, implied, strike, volatility\",\"<b>Topic 2</b><br>Words: neo, conditional, measures, envelopes, possibility\",\"<b>Topic 2</b><br>Words: possibility, probability, conditioning, random, measures\",\"<b>Topic 2</b><br>Words: conflict, possibility, pyt, ev, consistency\",\"<b>Topic 2</b><br>Words: nl, models, probabilities, sure, possibility\",\"<b>Topic 2</b><br>Words: possibility, probability, belief, conditional, probabilities\"],\"marker\":{\"color\":\"#009E73\"},\"mode\":\"lines\",\"name\":\"2_possibility_probability_measures_condi...\",\"x\":[\"1977-12-15T10:39:21.600000\",\"1979-07-06T20:48:00\",\"1981-01-08T17:36:00\",\"1982-07-14T14:24:00\",\"1984-01-17T11:12:00\",\"1985-07-22T08:00:00\",\"1987-01-25T04:48:00\",\"1988-07-30T01:36:00\",\"1990-02-01T22:24:00\",\"1991-08-07T19:12:00\",\"1993-02-09T16:00:00\",\"1994-08-15T12:48:00\",\"1996-02-18T09:36:00\",\"1997-08-23T06:24:00\",\"1999-02-26T03:12:00\",\"2000-08-31T00:00:00\",\"2002-03-05T20:48:00\",\"2003-09-08T17:36:00\",\"2005-03-13T14:24:00\",\"2006-09-16T11:12:00\",\"2008-03-21T08:00:00\",\"2009-09-24T04:48:00\",\"2011-03-30T01:36:00\",\"2012-10-01T22:24:00\",\"2014-04-06T19:12:00\",\"2015-10-10T16:00:00\",\"2017-04-14T12:48:00\",\"2018-10-18T09:36:00\",\"2020-04-22T06:24:00\",\"2021-10-26T03:12:00\"],\"y\":[6,3,3,9,1,4,13,10,12,12,5,10,6,11,9,4,6,7,13,8,9,1,3,5,3,3,3,2,2,10],\"type\":\"scatter\"},{\"hoverinfo\":\"text\",\"hovertext\":[\"<b>Topic 3</b><br>Words: semiprimality, ideals, semigroups, semigroup, bi\",\"<b>Topic 3</b><br>Words: ideals, operations, fundamental, ring, ideal\",\"<b>Topic 3</b><br>Words: ideals, basically, definition, deduced, triangular\",\"<b>Topic 3</b><br>Words: tnf, algebra, ideals, ring, rings\",\"<b>Topic 3</b><br>Words: convolution, semigroups, compact, algebras, structure\",\"<b>Topic 3</b><br>Words: prime, ideals, ideal, primary, completely\",\"<b>Topic 3</b><br>Words: ideals, ideal, ring, semiprimary, rings\",\"<b>Topic 3</b><br>Words: ring, ideal, ideals, prime, radical\",\"<b>Topic 3</b><br>Words: ideals, ring, prime, ideal, semiprime\",\"<b>Topic 3</b><br>Words: ideals, ring, prime, ideal, substructures\",\"<b>Topic 3</b><br>Words: ideals, lie, prime, ideal, ring\",\"<b>Topic 3</b><br>Words: ideals, ideal, ring, prime, subsemigroup\",\"<b>Topic 3</b><br>Words: ideals, semigroup, congruences, ideal, ring\",\"<b>Topic 3</b><br>Words: ideals, ring, semigroup, ideal, prime\",\"<b>Topic 3</b><br>Words: domains, subalgebras, star, ideals, invertibility\",\"<b>Topic 3</b><br>Words: pan, ideals, subalgebras, ring, ideal\",\"<b>Topic 3</b><br>Words: equalities, algebras, ideals, vychodil, publication\",\"<b>Topic 3</b><br>Words: sentences, matrixes, transferable, holding, algebra\",\"<b>Topic 3</b><br>Words: hyperrings, logics, hyperring, subfuzzy, allwein\",\"<b>Topic 3</b><br>Words: ideals, hemiring, prime, spectrum, algebras\",\"<b>Topic 3</b><br>Words: ideals, ring, noncommutative, classifiable, prime\",\"<b>Topic 3</b><br>Words: semistar, overring, domain, operation, fer\",\"<b>Topic 3</b><br>Words: reconstructibility, equalities, identities, countable, ideals\",\"<b>Topic 3</b><br>Words: ideals, semicomplete, lattice, semilattices, orders\",\"<b>Topic 3</b><br>Words: semistar, ideals, semigroups, semigroup, operation\",\"<b>Topic 3</b><br>Words: algebra, subsets, subuniverses, subalgebras, universal\",\"<b>Topic 3</b><br>Words: ckl, congruence, ideal, algebras, ideals\"],\"marker\":{\"color\":\"#F0E442\"},\"mode\":\"lines\",\"name\":\"3_ideals_ring_ideal_prime\",\"x\":[\"1981-01-08T17:36:00\",\"1982-07-14T14:24:00\",\"1984-01-17T11:12:00\",\"1985-07-22T08:00:00\",\"1987-01-25T04:48:00\",\"1988-07-30T01:36:00\",\"1990-02-01T22:24:00\",\"1991-08-07T19:12:00\",\"1993-02-09T16:00:00\",\"1994-08-15T12:48:00\",\"1996-02-18T09:36:00\",\"1997-08-23T06:24:00\",\"1999-02-26T03:12:00\",\"2000-08-31T00:00:00\",\"2002-03-05T20:48:00\",\"2003-09-08T17:36:00\",\"2005-03-13T14:24:00\",\"2006-09-16T11:12:00\",\"2008-03-21T08:00:00\",\"2009-09-24T04:48:00\",\"2011-03-30T01:36:00\",\"2012-10-01T22:24:00\",\"2014-04-06T19:12:00\",\"2015-10-10T16:00:00\",\"2017-04-14T12:48:00\",\"2020-04-22T06:24:00\",\"2021-10-26T03:12:00\"],\"y\":[2,2,1,3,1,2,9,24,13,6,13,14,10,7,2,3,2,2,2,2,3,1,1,2,2,1,1],\"type\":\"scatter\"},{\"hoverinfo\":\"text\",\"hovertext\":[\"<b>Topic 4</b><br>Words: bz, poset, orthocomplementations, algebras, brouwer\",\"<b>Topic 4</b><br>Words: bzmvdm, algebra, algebras, mv, sharp\",\"<b>Topic 4</b><br>Words: valuation, faithful, effect, algebra, modular\",\"<b>Topic 4</b><br>Words: algebras, modular, bl, heyting, effect\",\"<b>Topic 4</b><br>Words: wpbl, algebras, negations, weak, algebra\",\"<b>Topic 4</b><br>Words: filters, effect, algebras, implicative, boolean\",\"<b>Topic 4</b><br>Words: algebras, bl, effect, mv, pseudo\",\"<b>Topic 4</b><br>Words: algebras, algebra, divisible, mv, residuated\",\"<b>Topic 4</b><br>Words: algebras, algebra, filter, filters, stone\",\"<b>Topic 4</b><br>Words: algebras, filters, mtl, mv, eq\",\"<b>Topic 4</b><br>Words: algebras, mv, algebra, bl, mtl\",\"<b>Topic 4</b><br>Words: algebras, mv, filters, algebra, bl\",\"<b>Topic 4</b><br>Words: algebras, mv, algebra, bl, derivations\",\"<b>Topic 4</b><br>Words: algebras, monadic, effect, hyper, algebra\",\"<b>Topic 4</b><br>Words: algebras, algebra, mv, emv, residuated\",\"<b>Topic 4</b><br>Words: algebras, mv, bl, algebra, lattice\",\"<b>Topic 4</b><br>Words: algebras, algebra, mv, perfect, eq\"],\"marker\":{\"color\":\"#D55E00\"},\"mode\":\"lines\",\"name\":\"4_algebras_mv_algebra_bl\",\"x\":[\"1988-07-30T01:36:00\",\"1999-02-26T03:12:00\",\"2000-08-31T00:00:00\",\"2002-03-05T20:48:00\",\"2003-09-08T17:36:00\",\"2005-03-13T14:24:00\",\"2006-09-16T11:12:00\",\"2008-03-21T08:00:00\",\"2009-09-24T04:48:00\",\"2011-03-30T01:36:00\",\"2012-10-01T22:24:00\",\"2014-04-06T19:12:00\",\"2015-10-10T16:00:00\",\"2017-04-14T12:48:00\",\"2018-10-18T09:36:00\",\"2020-04-22T06:24:00\",\"2021-10-26T03:12:00\"],\"y\":[1,1,2,4,2,4,5,6,5,7,10,17,17,5,15,15,13],\"type\":\"scatter\"},{\"hoverinfo\":\"text\",\"hovertext\":[\"<b>Topic 5</b><br>Words: subgroup, subgroups, group, inequality, generated\",\"<b>Topic 5</b><br>Words: subgroups, subgroup, products, product, anthony\",\"<b>Topic 5</b><br>Words: semidirect, subgroups, subgroup, product, sherwood\",\"<b>Topic 5</b><br>Words: subgroups, product, group, analogously, interested\",\"<b>Topic 5</b><br>Words: subgroups, group, sessa, das, sherwood\",\"<b>Topic 5</b><br>Words: subgroups, subgroup, anti, group, level\",\"<b>Topic 5</b><br>Words: subgroups, subgroup, group, product, groups\",\"<b>Topic 5</b><br>Words: subgroup, subgroups, group, divisible, quasinormal\",\"<b>Topic 5</b><br>Words: subgroups, subgroup, group, groups, asaad\",\"<b>Topic 5</b><br>Words: subgroups, group, subgroup, gl, groups\",\"<b>Topic 5</b><br>Words: group, subgroups, subgroup, normal, px\",\"<b>Topic 5</b><br>Words: subgroup, subgroups, group, notion, tl\",\"<b>Topic 5</b><br>Words: subgroups, group, subgroup, subgroupoids, groups\",\"<b>Topic 5</b><br>Words: subgroups, keychain, subgroup, distinct, bhakat\",\"<b>Topic 5</b><br>Words: subgroups, subgroup, group, cartesian, zqm\",\"<b>Topic 5</b><br>Words: subgroups, equivalence, makamba, murali, discusses\",\"<b>Topic 5</b><br>Words: join, subgroups, group, hypergroupoid, hyperstructures\",\"<b>Topic 5</b><br>Words: ary, join, hypergroups, groupoid, canonical\",\"<b>Topic 5</b><br>Words: subgroups, operation, cartesian, chon, necessary\",\"<b>Topic 5</b><br>Words: skeleton, group, construction, groups, subgroups\",\"<b>Topic 5</b><br>Words: group, subgroups, subgroup, equivalence, groups\",\"<b>Topic 5</b><br>Words: mi, group, subgroups, groups, subgroup\",\"<b>Topic 5</b><br>Words: subgroups, group, subgroup, annihilator, equivalence\",\"<b>Topic 5</b><br>Words: subgroup, subgroups, aggregation, group, proven\"],\"marker\":{\"color\":\"#0072B2\"},\"mode\":\"lines\",\"name\":\"5_subgroups_subgroup_group_groups\",\"x\":[\"1981-01-08T17:36:00\",\"1982-07-14T14:24:00\",\"1985-07-22T08:00:00\",\"1987-01-25T04:48:00\",\"1988-07-30T01:36:00\",\"1990-02-01T22:24:00\",\"1991-08-07T19:12:00\",\"1993-02-09T16:00:00\",\"1994-08-15T12:48:00\",\"1996-02-18T09:36:00\",\"1997-08-23T06:24:00\",\"1999-02-26T03:12:00\",\"2000-08-31T00:00:00\",\"2002-03-05T20:48:00\",\"2003-09-08T17:36:00\",\"2005-03-13T14:24:00\",\"2008-03-21T08:00:00\",\"2009-09-24T04:48:00\",\"2011-03-30T01:36:00\",\"2014-04-06T19:12:00\",\"2015-10-10T16:00:00\",\"2017-04-14T12:48:00\",\"2018-10-18T09:36:00\",\"2020-04-22T06:24:00\"],\"y\":[1,2,1,1,2,3,15,20,12,18,12,10,8,2,3,1,3,2,1,1,2,1,4,1],\"type\":\"scatter\"},{\"hoverinfo\":\"text\",\"hovertext\":[\"<b>Topic 6</b><br>Words: distributions, ply, gaussian, exact, approximations\",\"<b>Topic 6</b><br>Words: menger, copulas, copula, compact, imaoka\",\"<b>Topic 6</b><br>Words: copulas, semilinear, concavity, cuadras, aug\",\"<b>Topic 6</b><br>Words: copulas, copula, quasi, flipping, transformations\",\"<b>Topic 6</b><br>Words: copulas, conic, quasi, copula, irreducible\",\"<b>Topic 6</b><br>Words: copulas, aggregation, copula, submeasures, flipping\",\"<b>Topic 6</b><br>Words: copula, copulas, quasi, diagonal, trivariate\",\"<b>Topic 6</b><br>Words: copulas, copula, diagonal, aggregation, tail\",\"<b>Topic 6</b><br>Words: copulas, copula, diagonal, tail, dependence\",\"<b>Topic 6</b><br>Words: copulas, copula, diagonal, transformations, bivariate\",\"<b>Topic 6</b><br>Words: copulas, copula, capacity, bivariate, diagonal\",\"<b>Topic 6</b><br>Words: copulas, copula, quasi, rmm, bivariate\",\"<b>Topic 6</b><br>Words: copulas, copula, multivariate, bivariate, quasi\"],\"marker\":{\"color\":\"#CC79A7\"},\"mode\":\"lines\",\"name\":\"6_copulas_copula_quasi_diagonal\",\"x\":[\"1985-07-22T08:00:00\",\"2003-09-08T17:36:00\",\"2006-09-16T11:12:00\",\"2008-03-21T08:00:00\",\"2009-09-24T04:48:00\",\"2011-03-30T01:36:00\",\"2012-10-01T22:24:00\",\"2014-04-06T19:12:00\",\"2015-10-10T16:00:00\",\"2017-04-14T12:48:00\",\"2018-10-18T09:36:00\",\"2020-04-22T06:24:00\",\"2021-10-26T03:12:00\"],\"y\":[1,2,2,8,4,8,13,12,10,9,13,17,19],\"type\":\"scatter\"}],                        {\"template\":{\"data\":{\"barpolar\":[{\"marker\":{\"line\":{\"color\":\"white\",\"width\":0.5},\"pattern\":{\"fillmode\":\"overlay\",\"size\":10,\"solidity\":0.2}},\"type\":\"barpolar\"}],\"bar\":[{\"error_x\":{\"color\":\"rgb(36,36,36)\"},\"error_y\":{\"color\":\"rgb(36,36,36)\"},\"marker\":{\"line\":{\"color\":\"white\",\"width\":0.5},\"pattern\":{\"fillmode\":\"overlay\",\"size\":10,\"solidity\":0.2}},\"type\":\"bar\"}],\"carpet\":[{\"aaxis\":{\"endlinecolor\":\"rgb(36,36,36)\",\"gridcolor\":\"white\",\"linecolor\":\"white\",\"minorgridcolor\":\"white\",\"startlinecolor\":\"rgb(36,36,36)\"},\"baxis\":{\"endlinecolor\":\"rgb(36,36,36)\",\"gridcolor\":\"white\",\"linecolor\":\"white\",\"minorgridcolor\":\"white\",\"startlinecolor\":\"rgb(36,36,36)\"},\"type\":\"carpet\"}],\"choropleth\":[{\"colorbar\":{\"outlinewidth\":1,\"tickcolor\":\"rgb(36,36,36)\",\"ticks\":\"outside\"},\"type\":\"choropleth\"}],\"contourcarpet\":[{\"colorbar\":{\"outlinewidth\":1,\"tickcolor\":\"rgb(36,36,36)\",\"ticks\":\"outside\"},\"type\":\"contourcarpet\"}],\"contour\":[{\"colorbar\":{\"outlinewidth\":1,\"tickcolor\":\"rgb(36,36,36)\",\"ticks\":\"outside\"},\"colorscale\":[[0.0,\"#440154\"],[0.1111111111111111,\"#482878\"],[0.2222222222222222,\"#3e4989\"],[0.3333333333333333,\"#31688e\"],[0.4444444444444444,\"#26828e\"],[0.5555555555555556,\"#1f9e89\"],[0.6666666666666666,\"#35b779\"],[0.7777777777777778,\"#6ece58\"],[0.8888888888888888,\"#b5de2b\"],[1.0,\"#fde725\"]],\"type\":\"contour\"}],\"heatmapgl\":[{\"colorbar\":{\"outlinewidth\":1,\"tickcolor\":\"rgb(36,36,36)\",\"ticks\":\"outside\"},\"colorscale\":[[0.0,\"#440154\"],[0.1111111111111111,\"#482878\"],[0.2222222222222222,\"#3e4989\"],[0.3333333333333333,\"#31688e\"],[0.4444444444444444,\"#26828e\"],[0.5555555555555556,\"#1f9e89\"],[0.6666666666666666,\"#35b779\"],[0.7777777777777778,\"#6ece58\"],[0.8888888888888888,\"#b5de2b\"],[1.0,\"#fde725\"]],\"type\":\"heatmapgl\"}],\"heatmap\":[{\"colorbar\":{\"outlinewidth\":1,\"tickcolor\":\"rgb(36,36,36)\",\"ticks\":\"outside\"},\"colorscale\":[[0.0,\"#440154\"],[0.1111111111111111,\"#482878\"],[0.2222222222222222,\"#3e4989\"],[0.3333333333333333,\"#31688e\"],[0.4444444444444444,\"#26828e\"],[0.5555555555555556,\"#1f9e89\"],[0.6666666666666666,\"#35b779\"],[0.7777777777777778,\"#6ece58\"],[0.8888888888888888,\"#b5de2b\"],[1.0,\"#fde725\"]],\"type\":\"heatmap\"}],\"histogram2dcontour\":[{\"colorbar\":{\"outlinewidth\":1,\"tickcolor\":\"rgb(36,36,36)\",\"ticks\":\"outside\"},\"colorscale\":[[0.0,\"#440154\"],[0.1111111111111111,\"#482878\"],[0.2222222222222222,\"#3e4989\"],[0.3333333333333333,\"#31688e\"],[0.4444444444444444,\"#26828e\"],[0.5555555555555556,\"#1f9e89\"],[0.6666666666666666,\"#35b779\"],[0.7777777777777778,\"#6ece58\"],[0.8888888888888888,\"#b5de2b\"],[1.0,\"#fde725\"]],\"type\":\"histogram2dcontour\"}],\"histogram2d\":[{\"colorbar\":{\"outlinewidth\":1,\"tickcolor\":\"rgb(36,36,36)\",\"ticks\":\"outside\"},\"colorscale\":[[0.0,\"#440154\"],[0.1111111111111111,\"#482878\"],[0.2222222222222222,\"#3e4989\"],[0.3333333333333333,\"#31688e\"],[0.4444444444444444,\"#26828e\"],[0.5555555555555556,\"#1f9e89\"],[0.6666666666666666,\"#35b779\"],[0.7777777777777778,\"#6ece58\"],[0.8888888888888888,\"#b5de2b\"],[1.0,\"#fde725\"]],\"type\":\"histogram2d\"}],\"histogram\":[{\"marker\":{\"line\":{\"color\":\"white\",\"width\":0.6}},\"type\":\"histogram\"}],\"mesh3d\":[{\"colorbar\":{\"outlinewidth\":1,\"tickcolor\":\"rgb(36,36,36)\",\"ticks\":\"outside\"},\"type\":\"mesh3d\"}],\"parcoords\":[{\"line\":{\"colorbar\":{\"outlinewidth\":1,\"tickcolor\":\"rgb(36,36,36)\",\"ticks\":\"outside\"}},\"type\":\"parcoords\"}],\"pie\":[{\"automargin\":true,\"type\":\"pie\"}],\"scatter3d\":[{\"line\":{\"colorbar\":{\"outlinewidth\":1,\"tickcolor\":\"rgb(36,36,36)\",\"ticks\":\"outside\"}},\"marker\":{\"colorbar\":{\"outlinewidth\":1,\"tickcolor\":\"rgb(36,36,36)\",\"ticks\":\"outside\"}},\"type\":\"scatter3d\"}],\"scattercarpet\":[{\"marker\":{\"colorbar\":{\"outlinewidth\":1,\"tickcolor\":\"rgb(36,36,36)\",\"ticks\":\"outside\"}},\"type\":\"scattercarpet\"}],\"scattergeo\":[{\"marker\":{\"colorbar\":{\"outlinewidth\":1,\"tickcolor\":\"rgb(36,36,36)\",\"ticks\":\"outside\"}},\"type\":\"scattergeo\"}],\"scattergl\":[{\"marker\":{\"colorbar\":{\"outlinewidth\":1,\"tickcolor\":\"rgb(36,36,36)\",\"ticks\":\"outside\"}},\"type\":\"scattergl\"}],\"scattermapbox\":[{\"marker\":{\"colorbar\":{\"outlinewidth\":1,\"tickcolor\":\"rgb(36,36,36)\",\"ticks\":\"outside\"}},\"type\":\"scattermapbox\"}],\"scatterpolargl\":[{\"marker\":{\"colorbar\":{\"outlinewidth\":1,\"tickcolor\":\"rgb(36,36,36)\",\"ticks\":\"outside\"}},\"type\":\"scatterpolargl\"}],\"scatterpolar\":[{\"marker\":{\"colorbar\":{\"outlinewidth\":1,\"tickcolor\":\"rgb(36,36,36)\",\"ticks\":\"outside\"}},\"type\":\"scatterpolar\"}],\"scatter\":[{\"fillpattern\":{\"fillmode\":\"overlay\",\"size\":10,\"solidity\":0.2},\"type\":\"scatter\"}],\"scatterternary\":[{\"marker\":{\"colorbar\":{\"outlinewidth\":1,\"tickcolor\":\"rgb(36,36,36)\",\"ticks\":\"outside\"}},\"type\":\"scatterternary\"}],\"surface\":[{\"colorbar\":{\"outlinewidth\":1,\"tickcolor\":\"rgb(36,36,36)\",\"ticks\":\"outside\"},\"colorscale\":[[0.0,\"#440154\"],[0.1111111111111111,\"#482878\"],[0.2222222222222222,\"#3e4989\"],[0.3333333333333333,\"#31688e\"],[0.4444444444444444,\"#26828e\"],[0.5555555555555556,\"#1f9e89\"],[0.6666666666666666,\"#35b779\"],[0.7777777777777778,\"#6ece58\"],[0.8888888888888888,\"#b5de2b\"],[1.0,\"#fde725\"]],\"type\":\"surface\"}],\"table\":[{\"cells\":{\"fill\":{\"color\":\"rgb(237,237,237)\"},\"line\":{\"color\":\"white\"}},\"header\":{\"fill\":{\"color\":\"rgb(217,217,217)\"},\"line\":{\"color\":\"white\"}},\"type\":\"table\"}]},\"layout\":{\"annotationdefaults\":{\"arrowhead\":0,\"arrowwidth\":1},\"autotypenumbers\":\"strict\",\"coloraxis\":{\"colorbar\":{\"outlinewidth\":1,\"tickcolor\":\"rgb(36,36,36)\",\"ticks\":\"outside\"}},\"colorscale\":{\"diverging\":[[0.0,\"rgb(103,0,31)\"],[0.1,\"rgb(178,24,43)\"],[0.2,\"rgb(214,96,77)\"],[0.3,\"rgb(244,165,130)\"],[0.4,\"rgb(253,219,199)\"],[0.5,\"rgb(247,247,247)\"],[0.6,\"rgb(209,229,240)\"],[0.7,\"rgb(146,197,222)\"],[0.8,\"rgb(67,147,195)\"],[0.9,\"rgb(33,102,172)\"],[1.0,\"rgb(5,48,97)\"]],\"sequential\":[[0.0,\"#440154\"],[0.1111111111111111,\"#482878\"],[0.2222222222222222,\"#3e4989\"],[0.3333333333333333,\"#31688e\"],[0.4444444444444444,\"#26828e\"],[0.5555555555555556,\"#1f9e89\"],[0.6666666666666666,\"#35b779\"],[0.7777777777777778,\"#6ece58\"],[0.8888888888888888,\"#b5de2b\"],[1.0,\"#fde725\"]],\"sequentialminus\":[[0.0,\"#440154\"],[0.1111111111111111,\"#482878\"],[0.2222222222222222,\"#3e4989\"],[0.3333333333333333,\"#31688e\"],[0.4444444444444444,\"#26828e\"],[0.5555555555555556,\"#1f9e89\"],[0.6666666666666666,\"#35b779\"],[0.7777777777777778,\"#6ece58\"],[0.8888888888888888,\"#b5de2b\"],[1.0,\"#fde725\"]]},\"colorway\":[\"#1F77B4\",\"#FF7F0E\",\"#2CA02C\",\"#D62728\",\"#9467BD\",\"#8C564B\",\"#E377C2\",\"#7F7F7F\",\"#BCBD22\",\"#17BECF\"],\"font\":{\"color\":\"rgb(36,36,36)\"},\"geo\":{\"bgcolor\":\"white\",\"lakecolor\":\"white\",\"landcolor\":\"white\",\"showlakes\":true,\"showland\":true,\"subunitcolor\":\"white\"},\"hoverlabel\":{\"align\":\"left\"},\"hovermode\":\"closest\",\"mapbox\":{\"style\":\"light\"},\"paper_bgcolor\":\"white\",\"plot_bgcolor\":\"white\",\"polar\":{\"angularaxis\":{\"gridcolor\":\"rgb(232,232,232)\",\"linecolor\":\"rgb(36,36,36)\",\"showgrid\":false,\"showline\":true,\"ticks\":\"outside\"},\"bgcolor\":\"white\",\"radialaxis\":{\"gridcolor\":\"rgb(232,232,232)\",\"linecolor\":\"rgb(36,36,36)\",\"showgrid\":false,\"showline\":true,\"ticks\":\"outside\"}},\"scene\":{\"xaxis\":{\"backgroundcolor\":\"white\",\"gridcolor\":\"rgb(232,232,232)\",\"gridwidth\":2,\"linecolor\":\"rgb(36,36,36)\",\"showbackground\":true,\"showgrid\":false,\"showline\":true,\"ticks\":\"outside\",\"zeroline\":false,\"zerolinecolor\":\"rgb(36,36,36)\"},\"yaxis\":{\"backgroundcolor\":\"white\",\"gridcolor\":\"rgb(232,232,232)\",\"gridwidth\":2,\"linecolor\":\"rgb(36,36,36)\",\"showbackground\":true,\"showgrid\":false,\"showline\":true,\"ticks\":\"outside\",\"zeroline\":false,\"zerolinecolor\":\"rgb(36,36,36)\"},\"zaxis\":{\"backgroundcolor\":\"white\",\"gridcolor\":\"rgb(232,232,232)\",\"gridwidth\":2,\"linecolor\":\"rgb(36,36,36)\",\"showbackground\":true,\"showgrid\":false,\"showline\":true,\"ticks\":\"outside\",\"zeroline\":false,\"zerolinecolor\":\"rgb(36,36,36)\"}},\"shapedefaults\":{\"fillcolor\":\"black\",\"line\":{\"width\":0},\"opacity\":0.3},\"ternary\":{\"aaxis\":{\"gridcolor\":\"rgb(232,232,232)\",\"linecolor\":\"rgb(36,36,36)\",\"showgrid\":false,\"showline\":true,\"ticks\":\"outside\"},\"baxis\":{\"gridcolor\":\"rgb(232,232,232)\",\"linecolor\":\"rgb(36,36,36)\",\"showgrid\":false,\"showline\":true,\"ticks\":\"outside\"},\"bgcolor\":\"white\",\"caxis\":{\"gridcolor\":\"rgb(232,232,232)\",\"linecolor\":\"rgb(36,36,36)\",\"showgrid\":false,\"showline\":true,\"ticks\":\"outside\"}},\"title\":{\"x\":0.05},\"xaxis\":{\"automargin\":true,\"gridcolor\":\"rgb(232,232,232)\",\"linecolor\":\"rgb(36,36,36)\",\"showgrid\":false,\"showline\":true,\"ticks\":\"outside\",\"title\":{\"standoff\":15},\"zeroline\":false,\"zerolinecolor\":\"rgb(36,36,36)\"},\"yaxis\":{\"automargin\":true,\"gridcolor\":\"rgb(232,232,232)\",\"linecolor\":\"rgb(36,36,36)\",\"showgrid\":false,\"showline\":true,\"ticks\":\"outside\",\"title\":{\"standoff\":15},\"zeroline\":false,\"zerolinecolor\":\"rgb(36,36,36)\"}}},\"xaxis\":{\"showgrid\":true},\"yaxis\":{\"showgrid\":true,\"title\":{\"text\":\"Frequency\"}},\"title\":{\"font\":{\"size\":22,\"color\":\"Black\"},\"text\":\"<b>Topics over Time</b>\",\"y\":0.95,\"x\":0.4,\"xanchor\":\"center\",\"yanchor\":\"top\"},\"hoverlabel\":{\"font\":{\"size\":16,\"family\":\"Rockwell\"},\"bgcolor\":\"white\"},\"width\":1250,\"height\":450,\"legend\":{\"title\":{\"text\":\"<b>Global Topic Representation\"}}},                        {\"responsive\": true}                    ).then(function(){\n                            \nvar gd = document.getElementById('1328b772-7770-49d3-a65d-86ce3097e8a2');\nvar x = new MutationObserver(function (mutations, observer) {{\n        var display = window.getComputedStyle(gd).display;\n        if (!display || display === 'none') {{\n            console.log([gd, 'removed!']);\n            Plotly.purge(gd);\n            observer.disconnect();\n        }}\n}});\n\n// Listen for the removal of the full notebook cells\nvar notebookContainer = gd.closest('#notebook-container');\nif (notebookContainer) {{\n    x.observe(notebookContainer, {childList: true});\n}}\n\n// Listen for the clearing of the current output cell\nvar outputEl = gd.closest('.output');\nif (outputEl) {{\n    x.observe(outputEl, {childList: true});\n}}\n\n                        })                };                });            </script>        </div>"
     },
     "metadata": {},
     "output_type": "display_data"
    }
   ],
   "source": [
    "top_n_topics = 7\n",
    "img = topic_model.visualize_topics_over_time(topics_over_time, top_n_topics=top_n_topics)\n",
    "img.show()\n",
    "\n",
    "file_name = \"plt\\\\plt_b_\" +  str(nr_bins) + \"_t_\" + str(top_n_topics) + \".html\"\n",
    "# img.write_image(\"test.png\")\n",
    "img.write_html(file_name)"
   ],
   "metadata": {
    "collapsed": false,
    "ExecuteTime": {
     "end_time": "2023-06-26T09:51:10.810227Z",
     "start_time": "2023-06-26T09:51:10.754728Z"
    }
   }
  },
  {
   "cell_type": "code",
   "execution_count": 24,
   "outputs": [
    {
     "data": {
      "application/vnd.plotly.v1+json": {
       "data": [
        {
         "hoverinfo": "text",
         "hovertext": [
          "<b>Topic 2</b><br>Words: possibility, probability, distribution, conditional, theory",
          "<b>Topic 2</b><br>Words: probability, space, probabilistic, measurable, measurability",
          "<b>Topic 2</b><br>Words: postulate, complement, measure, subsets, event",
          "<b>Topic 2</b><br>Words: measures, possibility, probability, certainty, random",
          "<b>Topic 2</b><br>Words: subset, probability, representation, event, intersection",
          "<b>Topic 2</b><br>Words: probability, measure, events, possibility, certainty",
          "<b>Topic 2</b><br>Words: possibility, measures, evidence, measure, probability",
          "<b>Topic 2</b><br>Words: possibility, probability, events, labor, manufacturing",
          "<b>Topic 2</b><br>Words: measures, possibility, probability, measure, complement",
          "<b>Topic 2</b><br>Words: possibility, programme, probability, measure, events",
          "<b>Topic 2</b><br>Words: scale, probability, measure, measurable, possibility",
          "<b>Topic 2</b><br>Words: possibility, uncertainty, fcds, conditional, principles",
          "<b>Topic 2</b><br>Words: probability, probabilities, events, theory, possibility",
          "<b>Topic 2</b><br>Words: possibility, probability, measures, distribution, measure",
          "<b>Topic 2</b><br>Words: possibility, conditioning, measures, independence, conditional",
          "<b>Topic 2</b><br>Words: ample, probability, belief, possibility, theory",
          "<b>Topic 2</b><br>Words: possibility, necessity, measures, belief, measure",
          "<b>Topic 2</b><br>Words: possibility, probability, conditional, theory, fusion",
          "<b>Topic 2</b><br>Words: probability, possibility, measures, belief, probabilities",
          "<b>Topic 2</b><br>Words: possibility, belief, negotiation, probability, sources",
          "<b>Topic 2</b><br>Words: possibility, probability, conditional, dempster, information",
          "<b>Topic 2</b><br>Words: agreement, quantity, conflict, belief, prioritized",
          "<b>Topic 2</b><br>Words: merge, coherence, coreferent, conditional, fusion",
          "<b>Topic 2</b><br>Words: probability, possibility, judgment, bayesian, measure",
          "<b>Topic 2</b><br>Words: conditional, possibility, implied, strike, volatility",
          "<b>Topic 2</b><br>Words: neo, conditional, measures, envelopes, possibility",
          "<b>Topic 2</b><br>Words: possibility, probability, conditioning, random, measures",
          "<b>Topic 2</b><br>Words: conflict, possibility, pyt, ev, consistency",
          "<b>Topic 2</b><br>Words: nl, models, probabilities, sure, possibility",
          "<b>Topic 2</b><br>Words: possibility, probability, belief, conditional, probabilities"
         ],
         "marker": {
          "color": "#E69F00"
         },
         "mode": "lines",
         "name": "2_possibility_probability_measures_condi...",
         "x": [
          "1977-12-15T10:39:21.600000",
          "1979-07-06T20:48:00",
          "1981-01-08T17:36:00",
          "1982-07-14T14:24:00",
          "1984-01-17T11:12:00",
          "1985-07-22T08:00:00",
          "1987-01-25T04:48:00",
          "1988-07-30T01:36:00",
          "1990-02-01T22:24:00",
          "1991-08-07T19:12:00",
          "1993-02-09T16:00:00",
          "1994-08-15T12:48:00",
          "1996-02-18T09:36:00",
          "1997-08-23T06:24:00",
          "1999-02-26T03:12:00",
          "2000-08-31T00:00:00",
          "2002-03-05T20:48:00",
          "2003-09-08T17:36:00",
          "2005-03-13T14:24:00",
          "2006-09-16T11:12:00",
          "2008-03-21T08:00:00",
          "2009-09-24T04:48:00",
          "2011-03-30T01:36:00",
          "2012-10-01T22:24:00",
          "2014-04-06T19:12:00",
          "2015-10-10T16:00:00",
          "2017-04-14T12:48:00",
          "2018-10-18T09:36:00",
          "2020-04-22T06:24:00",
          "2021-10-26T03:12:00"
         ],
         "y": [
          6,
          3,
          3,
          9,
          1,
          4,
          13,
          10,
          12,
          12,
          5,
          10,
          6,
          11,
          9,
          4,
          6,
          7,
          13,
          8,
          9,
          1,
          3,
          5,
          3,
          3,
          3,
          2,
          2,
          10
         ],
         "type": "scatter"
        },
        {
         "hoverinfo": "text",
         "hovertext": [
          "<b>Topic 3</b><br>Words: semiprimality, ideals, semigroups, semigroup, bi",
          "<b>Topic 3</b><br>Words: ideals, operations, fundamental, ring, ideal",
          "<b>Topic 3</b><br>Words: ideals, basically, definition, deduced, triangular",
          "<b>Topic 3</b><br>Words: tnf, algebra, ideals, ring, rings",
          "<b>Topic 3</b><br>Words: convolution, semigroups, compact, algebras, structure",
          "<b>Topic 3</b><br>Words: prime, ideals, ideal, primary, completely",
          "<b>Topic 3</b><br>Words: ideals, ideal, ring, semiprimary, rings",
          "<b>Topic 3</b><br>Words: ring, ideal, ideals, prime, radical",
          "<b>Topic 3</b><br>Words: ideals, ring, prime, ideal, semiprime",
          "<b>Topic 3</b><br>Words: ideals, ring, prime, ideal, substructures",
          "<b>Topic 3</b><br>Words: ideals, lie, prime, ideal, ring",
          "<b>Topic 3</b><br>Words: ideals, ideal, ring, prime, subsemigroup",
          "<b>Topic 3</b><br>Words: ideals, semigroup, congruences, ideal, ring",
          "<b>Topic 3</b><br>Words: ideals, ring, semigroup, ideal, prime",
          "<b>Topic 3</b><br>Words: domains, subalgebras, star, ideals, invertibility",
          "<b>Topic 3</b><br>Words: pan, ideals, subalgebras, ring, ideal",
          "<b>Topic 3</b><br>Words: equalities, algebras, ideals, vychodil, publication",
          "<b>Topic 3</b><br>Words: sentences, matrixes, transferable, holding, algebra",
          "<b>Topic 3</b><br>Words: hyperrings, logics, hyperring, subfuzzy, allwein",
          "<b>Topic 3</b><br>Words: ideals, hemiring, prime, spectrum, algebras",
          "<b>Topic 3</b><br>Words: ideals, ring, noncommutative, classifiable, prime",
          "<b>Topic 3</b><br>Words: semistar, overring, domain, operation, fer",
          "<b>Topic 3</b><br>Words: reconstructibility, equalities, identities, countable, ideals",
          "<b>Topic 3</b><br>Words: ideals, semicomplete, lattice, semilattices, orders",
          "<b>Topic 3</b><br>Words: semistar, ideals, semigroups, semigroup, operation",
          "<b>Topic 3</b><br>Words: algebra, subsets, subuniverses, subalgebras, universal",
          "<b>Topic 3</b><br>Words: ckl, congruence, ideal, algebras, ideals"
         ],
         "marker": {
          "color": "#56B4E9"
         },
         "mode": "lines",
         "name": "3_ideals_ring_ideal_prime",
         "x": [
          "1981-01-08T17:36:00",
          "1982-07-14T14:24:00",
          "1984-01-17T11:12:00",
          "1985-07-22T08:00:00",
          "1987-01-25T04:48:00",
          "1988-07-30T01:36:00",
          "1990-02-01T22:24:00",
          "1991-08-07T19:12:00",
          "1993-02-09T16:00:00",
          "1994-08-15T12:48:00",
          "1996-02-18T09:36:00",
          "1997-08-23T06:24:00",
          "1999-02-26T03:12:00",
          "2000-08-31T00:00:00",
          "2002-03-05T20:48:00",
          "2003-09-08T17:36:00",
          "2005-03-13T14:24:00",
          "2006-09-16T11:12:00",
          "2008-03-21T08:00:00",
          "2009-09-24T04:48:00",
          "2011-03-30T01:36:00",
          "2012-10-01T22:24:00",
          "2014-04-06T19:12:00",
          "2015-10-10T16:00:00",
          "2017-04-14T12:48:00",
          "2020-04-22T06:24:00",
          "2021-10-26T03:12:00"
         ],
         "y": [
          2,
          2,
          1,
          3,
          1,
          2,
          9,
          24,
          13,
          6,
          13,
          14,
          10,
          7,
          2,
          3,
          2,
          2,
          2,
          2,
          3,
          1,
          1,
          2,
          2,
          1,
          1
         ],
         "type": "scatter"
        },
        {
         "hoverinfo": "text",
         "hovertext": [
          "<b>Topic 4</b><br>Words: bz, poset, orthocomplementations, algebras, brouwer",
          "<b>Topic 4</b><br>Words: bzmvdm, algebra, algebras, mv, sharp",
          "<b>Topic 4</b><br>Words: valuation, faithful, effect, algebra, modular",
          "<b>Topic 4</b><br>Words: algebras, modular, bl, heyting, effect",
          "<b>Topic 4</b><br>Words: wpbl, algebras, negations, weak, algebra",
          "<b>Topic 4</b><br>Words: filters, effect, algebras, implicative, boolean",
          "<b>Topic 4</b><br>Words: algebras, bl, effect, mv, pseudo",
          "<b>Topic 4</b><br>Words: algebras, algebra, divisible, mv, residuated",
          "<b>Topic 4</b><br>Words: algebras, algebra, filter, filters, stone",
          "<b>Topic 4</b><br>Words: algebras, filters, mtl, mv, eq",
          "<b>Topic 4</b><br>Words: algebras, mv, algebra, bl, mtl",
          "<b>Topic 4</b><br>Words: algebras, mv, filters, algebra, bl",
          "<b>Topic 4</b><br>Words: algebras, mv, algebra, bl, derivations",
          "<b>Topic 4</b><br>Words: algebras, monadic, effect, hyper, algebra",
          "<b>Topic 4</b><br>Words: algebras, algebra, mv, emv, residuated",
          "<b>Topic 4</b><br>Words: algebras, mv, bl, algebra, lattice",
          "<b>Topic 4</b><br>Words: algebras, algebra, mv, perfect, eq"
         ],
         "marker": {
          "color": "#009E73"
         },
         "mode": "lines",
         "name": "4_algebras_mv_algebra_bl",
         "x": [
          "1988-07-30T01:36:00",
          "1999-02-26T03:12:00",
          "2000-08-31T00:00:00",
          "2002-03-05T20:48:00",
          "2003-09-08T17:36:00",
          "2005-03-13T14:24:00",
          "2006-09-16T11:12:00",
          "2008-03-21T08:00:00",
          "2009-09-24T04:48:00",
          "2011-03-30T01:36:00",
          "2012-10-01T22:24:00",
          "2014-04-06T19:12:00",
          "2015-10-10T16:00:00",
          "2017-04-14T12:48:00",
          "2018-10-18T09:36:00",
          "2020-04-22T06:24:00",
          "2021-10-26T03:12:00"
         ],
         "y": [
          1,
          1,
          2,
          4,
          2,
          4,
          5,
          6,
          5,
          7,
          10,
          17,
          17,
          5,
          15,
          15,
          13
         ],
         "type": "scatter"
        },
        {
         "hoverinfo": "text",
         "hovertext": [
          "<b>Topic 5</b><br>Words: subgroup, subgroups, group, inequality, generated",
          "<b>Topic 5</b><br>Words: subgroups, subgroup, products, product, anthony",
          "<b>Topic 5</b><br>Words: semidirect, subgroups, subgroup, product, sherwood",
          "<b>Topic 5</b><br>Words: subgroups, product, group, analogously, interested",
          "<b>Topic 5</b><br>Words: subgroups, group, sessa, das, sherwood",
          "<b>Topic 5</b><br>Words: subgroups, subgroup, anti, group, level",
          "<b>Topic 5</b><br>Words: subgroups, subgroup, group, product, groups",
          "<b>Topic 5</b><br>Words: subgroup, subgroups, group, divisible, quasinormal",
          "<b>Topic 5</b><br>Words: subgroups, subgroup, group, groups, asaad",
          "<b>Topic 5</b><br>Words: subgroups, group, subgroup, gl, groups",
          "<b>Topic 5</b><br>Words: group, subgroups, subgroup, normal, px",
          "<b>Topic 5</b><br>Words: subgroup, subgroups, group, notion, tl",
          "<b>Topic 5</b><br>Words: subgroups, group, subgroup, subgroupoids, groups",
          "<b>Topic 5</b><br>Words: subgroups, keychain, subgroup, distinct, bhakat",
          "<b>Topic 5</b><br>Words: subgroups, subgroup, group, cartesian, zqm",
          "<b>Topic 5</b><br>Words: subgroups, equivalence, makamba, murali, discusses",
          "<b>Topic 5</b><br>Words: join, subgroups, group, hypergroupoid, hyperstructures",
          "<b>Topic 5</b><br>Words: ary, join, hypergroups, groupoid, canonical",
          "<b>Topic 5</b><br>Words: subgroups, operation, cartesian, chon, necessary",
          "<b>Topic 5</b><br>Words: skeleton, group, construction, groups, subgroups",
          "<b>Topic 5</b><br>Words: group, subgroups, subgroup, equivalence, groups",
          "<b>Topic 5</b><br>Words: mi, group, subgroups, groups, subgroup",
          "<b>Topic 5</b><br>Words: subgroups, group, subgroup, annihilator, equivalence",
          "<b>Topic 5</b><br>Words: subgroup, subgroups, aggregation, group, proven"
         ],
         "marker": {
          "color": "#F0E442"
         },
         "mode": "lines",
         "name": "5_subgroups_subgroup_group_groups",
         "x": [
          "1981-01-08T17:36:00",
          "1982-07-14T14:24:00",
          "1985-07-22T08:00:00",
          "1987-01-25T04:48:00",
          "1988-07-30T01:36:00",
          "1990-02-01T22:24:00",
          "1991-08-07T19:12:00",
          "1993-02-09T16:00:00",
          "1994-08-15T12:48:00",
          "1996-02-18T09:36:00",
          "1997-08-23T06:24:00",
          "1999-02-26T03:12:00",
          "2000-08-31T00:00:00",
          "2002-03-05T20:48:00",
          "2003-09-08T17:36:00",
          "2005-03-13T14:24:00",
          "2008-03-21T08:00:00",
          "2009-09-24T04:48:00",
          "2011-03-30T01:36:00",
          "2014-04-06T19:12:00",
          "2015-10-10T16:00:00",
          "2017-04-14T12:48:00",
          "2018-10-18T09:36:00",
          "2020-04-22T06:24:00"
         ],
         "y": [
          1,
          2,
          1,
          1,
          2,
          3,
          15,
          20,
          12,
          18,
          12,
          10,
          8,
          2,
          3,
          1,
          3,
          2,
          1,
          1,
          2,
          1,
          4,
          1
         ],
         "type": "scatter"
        },
        {
         "hoverinfo": "text",
         "hovertext": [
          "<b>Topic 6</b><br>Words: distributions, ply, gaussian, exact, approximations",
          "<b>Topic 6</b><br>Words: menger, copulas, copula, compact, imaoka",
          "<b>Topic 6</b><br>Words: copulas, semilinear, concavity, cuadras, aug",
          "<b>Topic 6</b><br>Words: copulas, copula, quasi, flipping, transformations",
          "<b>Topic 6</b><br>Words: copulas, conic, quasi, copula, irreducible",
          "<b>Topic 6</b><br>Words: copulas, aggregation, copula, submeasures, flipping",
          "<b>Topic 6</b><br>Words: copula, copulas, quasi, diagonal, trivariate",
          "<b>Topic 6</b><br>Words: copulas, copula, diagonal, aggregation, tail",
          "<b>Topic 6</b><br>Words: copulas, copula, diagonal, tail, dependence",
          "<b>Topic 6</b><br>Words: copulas, copula, diagonal, transformations, bivariate",
          "<b>Topic 6</b><br>Words: copulas, copula, capacity, bivariate, diagonal",
          "<b>Topic 6</b><br>Words: copulas, copula, quasi, rmm, bivariate",
          "<b>Topic 6</b><br>Words: copulas, copula, multivariate, bivariate, quasi"
         ],
         "marker": {
          "color": "#D55E00"
         },
         "mode": "lines",
         "name": "6_copulas_copula_quasi_diagonal",
         "x": [
          "1985-07-22T08:00:00",
          "2003-09-08T17:36:00",
          "2006-09-16T11:12:00",
          "2008-03-21T08:00:00",
          "2009-09-24T04:48:00",
          "2011-03-30T01:36:00",
          "2012-10-01T22:24:00",
          "2014-04-06T19:12:00",
          "2015-10-10T16:00:00",
          "2017-04-14T12:48:00",
          "2018-10-18T09:36:00",
          "2020-04-22T06:24:00",
          "2021-10-26T03:12:00"
         ],
         "y": [
          1,
          2,
          2,
          8,
          4,
          8,
          13,
          12,
          10,
          9,
          13,
          17,
          19
         ],
         "type": "scatter"
        }
       ],
       "layout": {
        "template": {
         "data": {
          "barpolar": [
           {
            "marker": {
             "line": {
              "color": "white",
              "width": 0.5
             },
             "pattern": {
              "fillmode": "overlay",
              "size": 10,
              "solidity": 0.2
             }
            },
            "type": "barpolar"
           }
          ],
          "bar": [
           {
            "error_x": {
             "color": "rgb(36,36,36)"
            },
            "error_y": {
             "color": "rgb(36,36,36)"
            },
            "marker": {
             "line": {
              "color": "white",
              "width": 0.5
             },
             "pattern": {
              "fillmode": "overlay",
              "size": 10,
              "solidity": 0.2
             }
            },
            "type": "bar"
           }
          ],
          "carpet": [
           {
            "aaxis": {
             "endlinecolor": "rgb(36,36,36)",
             "gridcolor": "white",
             "linecolor": "white",
             "minorgridcolor": "white",
             "startlinecolor": "rgb(36,36,36)"
            },
            "baxis": {
             "endlinecolor": "rgb(36,36,36)",
             "gridcolor": "white",
             "linecolor": "white",
             "minorgridcolor": "white",
             "startlinecolor": "rgb(36,36,36)"
            },
            "type": "carpet"
           }
          ],
          "choropleth": [
           {
            "colorbar": {
             "outlinewidth": 1,
             "tickcolor": "rgb(36,36,36)",
             "ticks": "outside"
            },
            "type": "choropleth"
           }
          ],
          "contourcarpet": [
           {
            "colorbar": {
             "outlinewidth": 1,
             "tickcolor": "rgb(36,36,36)",
             "ticks": "outside"
            },
            "type": "contourcarpet"
           }
          ],
          "contour": [
           {
            "colorbar": {
             "outlinewidth": 1,
             "tickcolor": "rgb(36,36,36)",
             "ticks": "outside"
            },
            "colorscale": [
             [
              0.0,
              "#440154"
             ],
             [
              0.1111111111111111,
              "#482878"
             ],
             [
              0.2222222222222222,
              "#3e4989"
             ],
             [
              0.3333333333333333,
              "#31688e"
             ],
             [
              0.4444444444444444,
              "#26828e"
             ],
             [
              0.5555555555555556,
              "#1f9e89"
             ],
             [
              0.6666666666666666,
              "#35b779"
             ],
             [
              0.7777777777777778,
              "#6ece58"
             ],
             [
              0.8888888888888888,
              "#b5de2b"
             ],
             [
              1.0,
              "#fde725"
             ]
            ],
            "type": "contour"
           }
          ],
          "heatmapgl": [
           {
            "colorbar": {
             "outlinewidth": 1,
             "tickcolor": "rgb(36,36,36)",
             "ticks": "outside"
            },
            "colorscale": [
             [
              0.0,
              "#440154"
             ],
             [
              0.1111111111111111,
              "#482878"
             ],
             [
              0.2222222222222222,
              "#3e4989"
             ],
             [
              0.3333333333333333,
              "#31688e"
             ],
             [
              0.4444444444444444,
              "#26828e"
             ],
             [
              0.5555555555555556,
              "#1f9e89"
             ],
             [
              0.6666666666666666,
              "#35b779"
             ],
             [
              0.7777777777777778,
              "#6ece58"
             ],
             [
              0.8888888888888888,
              "#b5de2b"
             ],
             [
              1.0,
              "#fde725"
             ]
            ],
            "type": "heatmapgl"
           }
          ],
          "heatmap": [
           {
            "colorbar": {
             "outlinewidth": 1,
             "tickcolor": "rgb(36,36,36)",
             "ticks": "outside"
            },
            "colorscale": [
             [
              0.0,
              "#440154"
             ],
             [
              0.1111111111111111,
              "#482878"
             ],
             [
              0.2222222222222222,
              "#3e4989"
             ],
             [
              0.3333333333333333,
              "#31688e"
             ],
             [
              0.4444444444444444,
              "#26828e"
             ],
             [
              0.5555555555555556,
              "#1f9e89"
             ],
             [
              0.6666666666666666,
              "#35b779"
             ],
             [
              0.7777777777777778,
              "#6ece58"
             ],
             [
              0.8888888888888888,
              "#b5de2b"
             ],
             [
              1.0,
              "#fde725"
             ]
            ],
            "type": "heatmap"
           }
          ],
          "histogram2dcontour": [
           {
            "colorbar": {
             "outlinewidth": 1,
             "tickcolor": "rgb(36,36,36)",
             "ticks": "outside"
            },
            "colorscale": [
             [
              0.0,
              "#440154"
             ],
             [
              0.1111111111111111,
              "#482878"
             ],
             [
              0.2222222222222222,
              "#3e4989"
             ],
             [
              0.3333333333333333,
              "#31688e"
             ],
             [
              0.4444444444444444,
              "#26828e"
             ],
             [
              0.5555555555555556,
              "#1f9e89"
             ],
             [
              0.6666666666666666,
              "#35b779"
             ],
             [
              0.7777777777777778,
              "#6ece58"
             ],
             [
              0.8888888888888888,
              "#b5de2b"
             ],
             [
              1.0,
              "#fde725"
             ]
            ],
            "type": "histogram2dcontour"
           }
          ],
          "histogram2d": [
           {
            "colorbar": {
             "outlinewidth": 1,
             "tickcolor": "rgb(36,36,36)",
             "ticks": "outside"
            },
            "colorscale": [
             [
              0.0,
              "#440154"
             ],
             [
              0.1111111111111111,
              "#482878"
             ],
             [
              0.2222222222222222,
              "#3e4989"
             ],
             [
              0.3333333333333333,
              "#31688e"
             ],
             [
              0.4444444444444444,
              "#26828e"
             ],
             [
              0.5555555555555556,
              "#1f9e89"
             ],
             [
              0.6666666666666666,
              "#35b779"
             ],
             [
              0.7777777777777778,
              "#6ece58"
             ],
             [
              0.8888888888888888,
              "#b5de2b"
             ],
             [
              1.0,
              "#fde725"
             ]
            ],
            "type": "histogram2d"
           }
          ],
          "histogram": [
           {
            "marker": {
             "line": {
              "color": "white",
              "width": 0.6
             }
            },
            "type": "histogram"
           }
          ],
          "mesh3d": [
           {
            "colorbar": {
             "outlinewidth": 1,
             "tickcolor": "rgb(36,36,36)",
             "ticks": "outside"
            },
            "type": "mesh3d"
           }
          ],
          "parcoords": [
           {
            "line": {
             "colorbar": {
              "outlinewidth": 1,
              "tickcolor": "rgb(36,36,36)",
              "ticks": "outside"
             }
            },
            "type": "parcoords"
           }
          ],
          "pie": [
           {
            "automargin": true,
            "type": "pie"
           }
          ],
          "scatter3d": [
           {
            "line": {
             "colorbar": {
              "outlinewidth": 1,
              "tickcolor": "rgb(36,36,36)",
              "ticks": "outside"
             }
            },
            "marker": {
             "colorbar": {
              "outlinewidth": 1,
              "tickcolor": "rgb(36,36,36)",
              "ticks": "outside"
             }
            },
            "type": "scatter3d"
           }
          ],
          "scattercarpet": [
           {
            "marker": {
             "colorbar": {
              "outlinewidth": 1,
              "tickcolor": "rgb(36,36,36)",
              "ticks": "outside"
             }
            },
            "type": "scattercarpet"
           }
          ],
          "scattergeo": [
           {
            "marker": {
             "colorbar": {
              "outlinewidth": 1,
              "tickcolor": "rgb(36,36,36)",
              "ticks": "outside"
             }
            },
            "type": "scattergeo"
           }
          ],
          "scattergl": [
           {
            "marker": {
             "colorbar": {
              "outlinewidth": 1,
              "tickcolor": "rgb(36,36,36)",
              "ticks": "outside"
             }
            },
            "type": "scattergl"
           }
          ],
          "scattermapbox": [
           {
            "marker": {
             "colorbar": {
              "outlinewidth": 1,
              "tickcolor": "rgb(36,36,36)",
              "ticks": "outside"
             }
            },
            "type": "scattermapbox"
           }
          ],
          "scatterpolargl": [
           {
            "marker": {
             "colorbar": {
              "outlinewidth": 1,
              "tickcolor": "rgb(36,36,36)",
              "ticks": "outside"
             }
            },
            "type": "scatterpolargl"
           }
          ],
          "scatterpolar": [
           {
            "marker": {
             "colorbar": {
              "outlinewidth": 1,
              "tickcolor": "rgb(36,36,36)",
              "ticks": "outside"
             }
            },
            "type": "scatterpolar"
           }
          ],
          "scatter": [
           {
            "fillpattern": {
             "fillmode": "overlay",
             "size": 10,
             "solidity": 0.2
            },
            "type": "scatter"
           }
          ],
          "scatterternary": [
           {
            "marker": {
             "colorbar": {
              "outlinewidth": 1,
              "tickcolor": "rgb(36,36,36)",
              "ticks": "outside"
             }
            },
            "type": "scatterternary"
           }
          ],
          "surface": [
           {
            "colorbar": {
             "outlinewidth": 1,
             "tickcolor": "rgb(36,36,36)",
             "ticks": "outside"
            },
            "colorscale": [
             [
              0.0,
              "#440154"
             ],
             [
              0.1111111111111111,
              "#482878"
             ],
             [
              0.2222222222222222,
              "#3e4989"
             ],
             [
              0.3333333333333333,
              "#31688e"
             ],
             [
              0.4444444444444444,
              "#26828e"
             ],
             [
              0.5555555555555556,
              "#1f9e89"
             ],
             [
              0.6666666666666666,
              "#35b779"
             ],
             [
              0.7777777777777778,
              "#6ece58"
             ],
             [
              0.8888888888888888,
              "#b5de2b"
             ],
             [
              1.0,
              "#fde725"
             ]
            ],
            "type": "surface"
           }
          ],
          "table": [
           {
            "cells": {
             "fill": {
              "color": "rgb(237,237,237)"
             },
             "line": {
              "color": "white"
             }
            },
            "header": {
             "fill": {
              "color": "rgb(217,217,217)"
             },
             "line": {
              "color": "white"
             }
            },
            "type": "table"
           }
          ]
         },
         "layout": {
          "annotationdefaults": {
           "arrowhead": 0,
           "arrowwidth": 1
          },
          "autotypenumbers": "strict",
          "coloraxis": {
           "colorbar": {
            "outlinewidth": 1,
            "tickcolor": "rgb(36,36,36)",
            "ticks": "outside"
           }
          },
          "colorscale": {
           "diverging": [
            [
             0.0,
             "rgb(103,0,31)"
            ],
            [
             0.1,
             "rgb(178,24,43)"
            ],
            [
             0.2,
             "rgb(214,96,77)"
            ],
            [
             0.3,
             "rgb(244,165,130)"
            ],
            [
             0.4,
             "rgb(253,219,199)"
            ],
            [
             0.5,
             "rgb(247,247,247)"
            ],
            [
             0.6,
             "rgb(209,229,240)"
            ],
            [
             0.7,
             "rgb(146,197,222)"
            ],
            [
             0.8,
             "rgb(67,147,195)"
            ],
            [
             0.9,
             "rgb(33,102,172)"
            ],
            [
             1.0,
             "rgb(5,48,97)"
            ]
           ],
           "sequential": [
            [
             0.0,
             "#440154"
            ],
            [
             0.1111111111111111,
             "#482878"
            ],
            [
             0.2222222222222222,
             "#3e4989"
            ],
            [
             0.3333333333333333,
             "#31688e"
            ],
            [
             0.4444444444444444,
             "#26828e"
            ],
            [
             0.5555555555555556,
             "#1f9e89"
            ],
            [
             0.6666666666666666,
             "#35b779"
            ],
            [
             0.7777777777777778,
             "#6ece58"
            ],
            [
             0.8888888888888888,
             "#b5de2b"
            ],
            [
             1.0,
             "#fde725"
            ]
           ],
           "sequentialminus": [
            [
             0.0,
             "#440154"
            ],
            [
             0.1111111111111111,
             "#482878"
            ],
            [
             0.2222222222222222,
             "#3e4989"
            ],
            [
             0.3333333333333333,
             "#31688e"
            ],
            [
             0.4444444444444444,
             "#26828e"
            ],
            [
             0.5555555555555556,
             "#1f9e89"
            ],
            [
             0.6666666666666666,
             "#35b779"
            ],
            [
             0.7777777777777778,
             "#6ece58"
            ],
            [
             0.8888888888888888,
             "#b5de2b"
            ],
            [
             1.0,
             "#fde725"
            ]
           ]
          },
          "colorway": [
           "#1F77B4",
           "#FF7F0E",
           "#2CA02C",
           "#D62728",
           "#9467BD",
           "#8C564B",
           "#E377C2",
           "#7F7F7F",
           "#BCBD22",
           "#17BECF"
          ],
          "font": {
           "color": "rgb(36,36,36)"
          },
          "geo": {
           "bgcolor": "white",
           "lakecolor": "white",
           "landcolor": "white",
           "showlakes": true,
           "showland": true,
           "subunitcolor": "white"
          },
          "hoverlabel": {
           "align": "left"
          },
          "hovermode": "closest",
          "mapbox": {
           "style": "light"
          },
          "paper_bgcolor": "white",
          "plot_bgcolor": "white",
          "polar": {
           "angularaxis": {
            "gridcolor": "rgb(232,232,232)",
            "linecolor": "rgb(36,36,36)",
            "showgrid": false,
            "showline": true,
            "ticks": "outside"
           },
           "bgcolor": "white",
           "radialaxis": {
            "gridcolor": "rgb(232,232,232)",
            "linecolor": "rgb(36,36,36)",
            "showgrid": false,
            "showline": true,
            "ticks": "outside"
           }
          },
          "scene": {
           "xaxis": {
            "backgroundcolor": "white",
            "gridcolor": "rgb(232,232,232)",
            "gridwidth": 2,
            "linecolor": "rgb(36,36,36)",
            "showbackground": true,
            "showgrid": false,
            "showline": true,
            "ticks": "outside",
            "zeroline": false,
            "zerolinecolor": "rgb(36,36,36)"
           },
           "yaxis": {
            "backgroundcolor": "white",
            "gridcolor": "rgb(232,232,232)",
            "gridwidth": 2,
            "linecolor": "rgb(36,36,36)",
            "showbackground": true,
            "showgrid": false,
            "showline": true,
            "ticks": "outside",
            "zeroline": false,
            "zerolinecolor": "rgb(36,36,36)"
           },
           "zaxis": {
            "backgroundcolor": "white",
            "gridcolor": "rgb(232,232,232)",
            "gridwidth": 2,
            "linecolor": "rgb(36,36,36)",
            "showbackground": true,
            "showgrid": false,
            "showline": true,
            "ticks": "outside",
            "zeroline": false,
            "zerolinecolor": "rgb(36,36,36)"
           }
          },
          "shapedefaults": {
           "fillcolor": "black",
           "line": {
            "width": 0
           },
           "opacity": 0.3
          },
          "ternary": {
           "aaxis": {
            "gridcolor": "rgb(232,232,232)",
            "linecolor": "rgb(36,36,36)",
            "showgrid": false,
            "showline": true,
            "ticks": "outside"
           },
           "baxis": {
            "gridcolor": "rgb(232,232,232)",
            "linecolor": "rgb(36,36,36)",
            "showgrid": false,
            "showline": true,
            "ticks": "outside"
           },
           "bgcolor": "white",
           "caxis": {
            "gridcolor": "rgb(232,232,232)",
            "linecolor": "rgb(36,36,36)",
            "showgrid": false,
            "showline": true,
            "ticks": "outside"
           }
          },
          "title": {
           "x": 0.05
          },
          "xaxis": {
           "automargin": true,
           "gridcolor": "rgb(232,232,232)",
           "linecolor": "rgb(36,36,36)",
           "showgrid": false,
           "showline": true,
           "ticks": "outside",
           "title": {
            "standoff": 15
           },
           "zeroline": false,
           "zerolinecolor": "rgb(36,36,36)"
          },
          "yaxis": {
           "automargin": true,
           "gridcolor": "rgb(232,232,232)",
           "linecolor": "rgb(36,36,36)",
           "showgrid": false,
           "showline": true,
           "ticks": "outside",
           "title": {
            "standoff": 15
           },
           "zeroline": false,
           "zerolinecolor": "rgb(36,36,36)"
          }
         }
        },
        "xaxis": {
         "showgrid": true
        },
        "yaxis": {
         "showgrid": true,
         "title": {
          "text": "Frequency"
         }
        },
        "title": {
         "font": {
          "size": 22,
          "color": "Black"
         },
         "text": "<b>Topics over Time</b>",
         "y": 0.95,
         "x": 0.4,
         "xanchor": "center",
         "yanchor": "top"
        },
        "hoverlabel": {
         "font": {
          "size": 16,
          "family": "Rockwell"
         },
         "bgcolor": "white"
        },
        "width": 1250,
        "height": 450,
        "legend": {
         "title": {
          "text": "<b>Global Topic Representation"
         }
        }
       },
       "config": {
        "plotlyServerURL": "https://plot.ly"
       }
      },
      "text/html": "<div>                            <div id=\"afcde1f4-55cc-49d9-a7cb-86111fe743de\" class=\"plotly-graph-div\" style=\"height:450px; width:1250px;\"></div>            <script type=\"text/javascript\">                require([\"plotly\"], function(Plotly) {                    window.PLOTLYENV=window.PLOTLYENV || {};                                    if (document.getElementById(\"afcde1f4-55cc-49d9-a7cb-86111fe743de\")) {                    Plotly.newPlot(                        \"afcde1f4-55cc-49d9-a7cb-86111fe743de\",                        [{\"hoverinfo\":\"text\",\"hovertext\":[\"<b>Topic 2</b><br>Words: possibility, probability, distribution, conditional, theory\",\"<b>Topic 2</b><br>Words: probability, space, probabilistic, measurable, measurability\",\"<b>Topic 2</b><br>Words: postulate, complement, measure, subsets, event\",\"<b>Topic 2</b><br>Words: measures, possibility, probability, certainty, random\",\"<b>Topic 2</b><br>Words: subset, probability, representation, event, intersection\",\"<b>Topic 2</b><br>Words: probability, measure, events, possibility, certainty\",\"<b>Topic 2</b><br>Words: possibility, measures, evidence, measure, probability\",\"<b>Topic 2</b><br>Words: possibility, probability, events, labor, manufacturing\",\"<b>Topic 2</b><br>Words: measures, possibility, probability, measure, complement\",\"<b>Topic 2</b><br>Words: possibility, programme, probability, measure, events\",\"<b>Topic 2</b><br>Words: scale, probability, measure, measurable, possibility\",\"<b>Topic 2</b><br>Words: possibility, uncertainty, fcds, conditional, principles\",\"<b>Topic 2</b><br>Words: probability, probabilities, events, theory, possibility\",\"<b>Topic 2</b><br>Words: possibility, probability, measures, distribution, measure\",\"<b>Topic 2</b><br>Words: possibility, conditioning, measures, independence, conditional\",\"<b>Topic 2</b><br>Words: ample, probability, belief, possibility, theory\",\"<b>Topic 2</b><br>Words: possibility, necessity, measures, belief, measure\",\"<b>Topic 2</b><br>Words: possibility, probability, conditional, theory, fusion\",\"<b>Topic 2</b><br>Words: probability, possibility, measures, belief, probabilities\",\"<b>Topic 2</b><br>Words: possibility, belief, negotiation, probability, sources\",\"<b>Topic 2</b><br>Words: possibility, probability, conditional, dempster, information\",\"<b>Topic 2</b><br>Words: agreement, quantity, conflict, belief, prioritized\",\"<b>Topic 2</b><br>Words: merge, coherence, coreferent, conditional, fusion\",\"<b>Topic 2</b><br>Words: probability, possibility, judgment, bayesian, measure\",\"<b>Topic 2</b><br>Words: conditional, possibility, implied, strike, volatility\",\"<b>Topic 2</b><br>Words: neo, conditional, measures, envelopes, possibility\",\"<b>Topic 2</b><br>Words: possibility, probability, conditioning, random, measures\",\"<b>Topic 2</b><br>Words: conflict, possibility, pyt, ev, consistency\",\"<b>Topic 2</b><br>Words: nl, models, probabilities, sure, possibility\",\"<b>Topic 2</b><br>Words: possibility, probability, belief, conditional, probabilities\"],\"marker\":{\"color\":\"#E69F00\"},\"mode\":\"lines\",\"name\":\"2_possibility_probability_measures_condi...\",\"x\":[\"1977-12-15T10:39:21.600000\",\"1979-07-06T20:48:00\",\"1981-01-08T17:36:00\",\"1982-07-14T14:24:00\",\"1984-01-17T11:12:00\",\"1985-07-22T08:00:00\",\"1987-01-25T04:48:00\",\"1988-07-30T01:36:00\",\"1990-02-01T22:24:00\",\"1991-08-07T19:12:00\",\"1993-02-09T16:00:00\",\"1994-08-15T12:48:00\",\"1996-02-18T09:36:00\",\"1997-08-23T06:24:00\",\"1999-02-26T03:12:00\",\"2000-08-31T00:00:00\",\"2002-03-05T20:48:00\",\"2003-09-08T17:36:00\",\"2005-03-13T14:24:00\",\"2006-09-16T11:12:00\",\"2008-03-21T08:00:00\",\"2009-09-24T04:48:00\",\"2011-03-30T01:36:00\",\"2012-10-01T22:24:00\",\"2014-04-06T19:12:00\",\"2015-10-10T16:00:00\",\"2017-04-14T12:48:00\",\"2018-10-18T09:36:00\",\"2020-04-22T06:24:00\",\"2021-10-26T03:12:00\"],\"y\":[6,3,3,9,1,4,13,10,12,12,5,10,6,11,9,4,6,7,13,8,9,1,3,5,3,3,3,2,2,10],\"type\":\"scatter\"},{\"hoverinfo\":\"text\",\"hovertext\":[\"<b>Topic 3</b><br>Words: semiprimality, ideals, semigroups, semigroup, bi\",\"<b>Topic 3</b><br>Words: ideals, operations, fundamental, ring, ideal\",\"<b>Topic 3</b><br>Words: ideals, basically, definition, deduced, triangular\",\"<b>Topic 3</b><br>Words: tnf, algebra, ideals, ring, rings\",\"<b>Topic 3</b><br>Words: convolution, semigroups, compact, algebras, structure\",\"<b>Topic 3</b><br>Words: prime, ideals, ideal, primary, completely\",\"<b>Topic 3</b><br>Words: ideals, ideal, ring, semiprimary, rings\",\"<b>Topic 3</b><br>Words: ring, ideal, ideals, prime, radical\",\"<b>Topic 3</b><br>Words: ideals, ring, prime, ideal, semiprime\",\"<b>Topic 3</b><br>Words: ideals, ring, prime, ideal, substructures\",\"<b>Topic 3</b><br>Words: ideals, lie, prime, ideal, ring\",\"<b>Topic 3</b><br>Words: ideals, ideal, ring, prime, subsemigroup\",\"<b>Topic 3</b><br>Words: ideals, semigroup, congruences, ideal, ring\",\"<b>Topic 3</b><br>Words: ideals, ring, semigroup, ideal, prime\",\"<b>Topic 3</b><br>Words: domains, subalgebras, star, ideals, invertibility\",\"<b>Topic 3</b><br>Words: pan, ideals, subalgebras, ring, ideal\",\"<b>Topic 3</b><br>Words: equalities, algebras, ideals, vychodil, publication\",\"<b>Topic 3</b><br>Words: sentences, matrixes, transferable, holding, algebra\",\"<b>Topic 3</b><br>Words: hyperrings, logics, hyperring, subfuzzy, allwein\",\"<b>Topic 3</b><br>Words: ideals, hemiring, prime, spectrum, algebras\",\"<b>Topic 3</b><br>Words: ideals, ring, noncommutative, classifiable, prime\",\"<b>Topic 3</b><br>Words: semistar, overring, domain, operation, fer\",\"<b>Topic 3</b><br>Words: reconstructibility, equalities, identities, countable, ideals\",\"<b>Topic 3</b><br>Words: ideals, semicomplete, lattice, semilattices, orders\",\"<b>Topic 3</b><br>Words: semistar, ideals, semigroups, semigroup, operation\",\"<b>Topic 3</b><br>Words: algebra, subsets, subuniverses, subalgebras, universal\",\"<b>Topic 3</b><br>Words: ckl, congruence, ideal, algebras, ideals\"],\"marker\":{\"color\":\"#56B4E9\"},\"mode\":\"lines\",\"name\":\"3_ideals_ring_ideal_prime\",\"x\":[\"1981-01-08T17:36:00\",\"1982-07-14T14:24:00\",\"1984-01-17T11:12:00\",\"1985-07-22T08:00:00\",\"1987-01-25T04:48:00\",\"1988-07-30T01:36:00\",\"1990-02-01T22:24:00\",\"1991-08-07T19:12:00\",\"1993-02-09T16:00:00\",\"1994-08-15T12:48:00\",\"1996-02-18T09:36:00\",\"1997-08-23T06:24:00\",\"1999-02-26T03:12:00\",\"2000-08-31T00:00:00\",\"2002-03-05T20:48:00\",\"2003-09-08T17:36:00\",\"2005-03-13T14:24:00\",\"2006-09-16T11:12:00\",\"2008-03-21T08:00:00\",\"2009-09-24T04:48:00\",\"2011-03-30T01:36:00\",\"2012-10-01T22:24:00\",\"2014-04-06T19:12:00\",\"2015-10-10T16:00:00\",\"2017-04-14T12:48:00\",\"2020-04-22T06:24:00\",\"2021-10-26T03:12:00\"],\"y\":[2,2,1,3,1,2,9,24,13,6,13,14,10,7,2,3,2,2,2,2,3,1,1,2,2,1,1],\"type\":\"scatter\"},{\"hoverinfo\":\"text\",\"hovertext\":[\"<b>Topic 4</b><br>Words: bz, poset, orthocomplementations, algebras, brouwer\",\"<b>Topic 4</b><br>Words: bzmvdm, algebra, algebras, mv, sharp\",\"<b>Topic 4</b><br>Words: valuation, faithful, effect, algebra, modular\",\"<b>Topic 4</b><br>Words: algebras, modular, bl, heyting, effect\",\"<b>Topic 4</b><br>Words: wpbl, algebras, negations, weak, algebra\",\"<b>Topic 4</b><br>Words: filters, effect, algebras, implicative, boolean\",\"<b>Topic 4</b><br>Words: algebras, bl, effect, mv, pseudo\",\"<b>Topic 4</b><br>Words: algebras, algebra, divisible, mv, residuated\",\"<b>Topic 4</b><br>Words: algebras, algebra, filter, filters, stone\",\"<b>Topic 4</b><br>Words: algebras, filters, mtl, mv, eq\",\"<b>Topic 4</b><br>Words: algebras, mv, algebra, bl, mtl\",\"<b>Topic 4</b><br>Words: algebras, mv, filters, algebra, bl\",\"<b>Topic 4</b><br>Words: algebras, mv, algebra, bl, derivations\",\"<b>Topic 4</b><br>Words: algebras, monadic, effect, hyper, algebra\",\"<b>Topic 4</b><br>Words: algebras, algebra, mv, emv, residuated\",\"<b>Topic 4</b><br>Words: algebras, mv, bl, algebra, lattice\",\"<b>Topic 4</b><br>Words: algebras, algebra, mv, perfect, eq\"],\"marker\":{\"color\":\"#009E73\"},\"mode\":\"lines\",\"name\":\"4_algebras_mv_algebra_bl\",\"x\":[\"1988-07-30T01:36:00\",\"1999-02-26T03:12:00\",\"2000-08-31T00:00:00\",\"2002-03-05T20:48:00\",\"2003-09-08T17:36:00\",\"2005-03-13T14:24:00\",\"2006-09-16T11:12:00\",\"2008-03-21T08:00:00\",\"2009-09-24T04:48:00\",\"2011-03-30T01:36:00\",\"2012-10-01T22:24:00\",\"2014-04-06T19:12:00\",\"2015-10-10T16:00:00\",\"2017-04-14T12:48:00\",\"2018-10-18T09:36:00\",\"2020-04-22T06:24:00\",\"2021-10-26T03:12:00\"],\"y\":[1,1,2,4,2,4,5,6,5,7,10,17,17,5,15,15,13],\"type\":\"scatter\"},{\"hoverinfo\":\"text\",\"hovertext\":[\"<b>Topic 5</b><br>Words: subgroup, subgroups, group, inequality, generated\",\"<b>Topic 5</b><br>Words: subgroups, subgroup, products, product, anthony\",\"<b>Topic 5</b><br>Words: semidirect, subgroups, subgroup, product, sherwood\",\"<b>Topic 5</b><br>Words: subgroups, product, group, analogously, interested\",\"<b>Topic 5</b><br>Words: subgroups, group, sessa, das, sherwood\",\"<b>Topic 5</b><br>Words: subgroups, subgroup, anti, group, level\",\"<b>Topic 5</b><br>Words: subgroups, subgroup, group, product, groups\",\"<b>Topic 5</b><br>Words: subgroup, subgroups, group, divisible, quasinormal\",\"<b>Topic 5</b><br>Words: subgroups, subgroup, group, groups, asaad\",\"<b>Topic 5</b><br>Words: subgroups, group, subgroup, gl, groups\",\"<b>Topic 5</b><br>Words: group, subgroups, subgroup, normal, px\",\"<b>Topic 5</b><br>Words: subgroup, subgroups, group, notion, tl\",\"<b>Topic 5</b><br>Words: subgroups, group, subgroup, subgroupoids, groups\",\"<b>Topic 5</b><br>Words: subgroups, keychain, subgroup, distinct, bhakat\",\"<b>Topic 5</b><br>Words: subgroups, subgroup, group, cartesian, zqm\",\"<b>Topic 5</b><br>Words: subgroups, equivalence, makamba, murali, discusses\",\"<b>Topic 5</b><br>Words: join, subgroups, group, hypergroupoid, hyperstructures\",\"<b>Topic 5</b><br>Words: ary, join, hypergroups, groupoid, canonical\",\"<b>Topic 5</b><br>Words: subgroups, operation, cartesian, chon, necessary\",\"<b>Topic 5</b><br>Words: skeleton, group, construction, groups, subgroups\",\"<b>Topic 5</b><br>Words: group, subgroups, subgroup, equivalence, groups\",\"<b>Topic 5</b><br>Words: mi, group, subgroups, groups, subgroup\",\"<b>Topic 5</b><br>Words: subgroups, group, subgroup, annihilator, equivalence\",\"<b>Topic 5</b><br>Words: subgroup, subgroups, aggregation, group, proven\"],\"marker\":{\"color\":\"#F0E442\"},\"mode\":\"lines\",\"name\":\"5_subgroups_subgroup_group_groups\",\"x\":[\"1981-01-08T17:36:00\",\"1982-07-14T14:24:00\",\"1985-07-22T08:00:00\",\"1987-01-25T04:48:00\",\"1988-07-30T01:36:00\",\"1990-02-01T22:24:00\",\"1991-08-07T19:12:00\",\"1993-02-09T16:00:00\",\"1994-08-15T12:48:00\",\"1996-02-18T09:36:00\",\"1997-08-23T06:24:00\",\"1999-02-26T03:12:00\",\"2000-08-31T00:00:00\",\"2002-03-05T20:48:00\",\"2003-09-08T17:36:00\",\"2005-03-13T14:24:00\",\"2008-03-21T08:00:00\",\"2009-09-24T04:48:00\",\"2011-03-30T01:36:00\",\"2014-04-06T19:12:00\",\"2015-10-10T16:00:00\",\"2017-04-14T12:48:00\",\"2018-10-18T09:36:00\",\"2020-04-22T06:24:00\"],\"y\":[1,2,1,1,2,3,15,20,12,18,12,10,8,2,3,1,3,2,1,1,2,1,4,1],\"type\":\"scatter\"},{\"hoverinfo\":\"text\",\"hovertext\":[\"<b>Topic 6</b><br>Words: distributions, ply, gaussian, exact, approximations\",\"<b>Topic 6</b><br>Words: menger, copulas, copula, compact, imaoka\",\"<b>Topic 6</b><br>Words: copulas, semilinear, concavity, cuadras, aug\",\"<b>Topic 6</b><br>Words: copulas, copula, quasi, flipping, transformations\",\"<b>Topic 6</b><br>Words: copulas, conic, quasi, copula, irreducible\",\"<b>Topic 6</b><br>Words: copulas, aggregation, copula, submeasures, flipping\",\"<b>Topic 6</b><br>Words: copula, copulas, quasi, diagonal, trivariate\",\"<b>Topic 6</b><br>Words: copulas, copula, diagonal, aggregation, tail\",\"<b>Topic 6</b><br>Words: copulas, copula, diagonal, tail, dependence\",\"<b>Topic 6</b><br>Words: copulas, copula, diagonal, transformations, bivariate\",\"<b>Topic 6</b><br>Words: copulas, copula, capacity, bivariate, diagonal\",\"<b>Topic 6</b><br>Words: copulas, copula, quasi, rmm, bivariate\",\"<b>Topic 6</b><br>Words: copulas, copula, multivariate, bivariate, quasi\"],\"marker\":{\"color\":\"#D55E00\"},\"mode\":\"lines\",\"name\":\"6_copulas_copula_quasi_diagonal\",\"x\":[\"1985-07-22T08:00:00\",\"2003-09-08T17:36:00\",\"2006-09-16T11:12:00\",\"2008-03-21T08:00:00\",\"2009-09-24T04:48:00\",\"2011-03-30T01:36:00\",\"2012-10-01T22:24:00\",\"2014-04-06T19:12:00\",\"2015-10-10T16:00:00\",\"2017-04-14T12:48:00\",\"2018-10-18T09:36:00\",\"2020-04-22T06:24:00\",\"2021-10-26T03:12:00\"],\"y\":[1,2,2,8,4,8,13,12,10,9,13,17,19],\"type\":\"scatter\"}],                        {\"template\":{\"data\":{\"barpolar\":[{\"marker\":{\"line\":{\"color\":\"white\",\"width\":0.5},\"pattern\":{\"fillmode\":\"overlay\",\"size\":10,\"solidity\":0.2}},\"type\":\"barpolar\"}],\"bar\":[{\"error_x\":{\"color\":\"rgb(36,36,36)\"},\"error_y\":{\"color\":\"rgb(36,36,36)\"},\"marker\":{\"line\":{\"color\":\"white\",\"width\":0.5},\"pattern\":{\"fillmode\":\"overlay\",\"size\":10,\"solidity\":0.2}},\"type\":\"bar\"}],\"carpet\":[{\"aaxis\":{\"endlinecolor\":\"rgb(36,36,36)\",\"gridcolor\":\"white\",\"linecolor\":\"white\",\"minorgridcolor\":\"white\",\"startlinecolor\":\"rgb(36,36,36)\"},\"baxis\":{\"endlinecolor\":\"rgb(36,36,36)\",\"gridcolor\":\"white\",\"linecolor\":\"white\",\"minorgridcolor\":\"white\",\"startlinecolor\":\"rgb(36,36,36)\"},\"type\":\"carpet\"}],\"choropleth\":[{\"colorbar\":{\"outlinewidth\":1,\"tickcolor\":\"rgb(36,36,36)\",\"ticks\":\"outside\"},\"type\":\"choropleth\"}],\"contourcarpet\":[{\"colorbar\":{\"outlinewidth\":1,\"tickcolor\":\"rgb(36,36,36)\",\"ticks\":\"outside\"},\"type\":\"contourcarpet\"}],\"contour\":[{\"colorbar\":{\"outlinewidth\":1,\"tickcolor\":\"rgb(36,36,36)\",\"ticks\":\"outside\"},\"colorscale\":[[0.0,\"#440154\"],[0.1111111111111111,\"#482878\"],[0.2222222222222222,\"#3e4989\"],[0.3333333333333333,\"#31688e\"],[0.4444444444444444,\"#26828e\"],[0.5555555555555556,\"#1f9e89\"],[0.6666666666666666,\"#35b779\"],[0.7777777777777778,\"#6ece58\"],[0.8888888888888888,\"#b5de2b\"],[1.0,\"#fde725\"]],\"type\":\"contour\"}],\"heatmapgl\":[{\"colorbar\":{\"outlinewidth\":1,\"tickcolor\":\"rgb(36,36,36)\",\"ticks\":\"outside\"},\"colorscale\":[[0.0,\"#440154\"],[0.1111111111111111,\"#482878\"],[0.2222222222222222,\"#3e4989\"],[0.3333333333333333,\"#31688e\"],[0.4444444444444444,\"#26828e\"],[0.5555555555555556,\"#1f9e89\"],[0.6666666666666666,\"#35b779\"],[0.7777777777777778,\"#6ece58\"],[0.8888888888888888,\"#b5de2b\"],[1.0,\"#fde725\"]],\"type\":\"heatmapgl\"}],\"heatmap\":[{\"colorbar\":{\"outlinewidth\":1,\"tickcolor\":\"rgb(36,36,36)\",\"ticks\":\"outside\"},\"colorscale\":[[0.0,\"#440154\"],[0.1111111111111111,\"#482878\"],[0.2222222222222222,\"#3e4989\"],[0.3333333333333333,\"#31688e\"],[0.4444444444444444,\"#26828e\"],[0.5555555555555556,\"#1f9e89\"],[0.6666666666666666,\"#35b779\"],[0.7777777777777778,\"#6ece58\"],[0.8888888888888888,\"#b5de2b\"],[1.0,\"#fde725\"]],\"type\":\"heatmap\"}],\"histogram2dcontour\":[{\"colorbar\":{\"outlinewidth\":1,\"tickcolor\":\"rgb(36,36,36)\",\"ticks\":\"outside\"},\"colorscale\":[[0.0,\"#440154\"],[0.1111111111111111,\"#482878\"],[0.2222222222222222,\"#3e4989\"],[0.3333333333333333,\"#31688e\"],[0.4444444444444444,\"#26828e\"],[0.5555555555555556,\"#1f9e89\"],[0.6666666666666666,\"#35b779\"],[0.7777777777777778,\"#6ece58\"],[0.8888888888888888,\"#b5de2b\"],[1.0,\"#fde725\"]],\"type\":\"histogram2dcontour\"}],\"histogram2d\":[{\"colorbar\":{\"outlinewidth\":1,\"tickcolor\":\"rgb(36,36,36)\",\"ticks\":\"outside\"},\"colorscale\":[[0.0,\"#440154\"],[0.1111111111111111,\"#482878\"],[0.2222222222222222,\"#3e4989\"],[0.3333333333333333,\"#31688e\"],[0.4444444444444444,\"#26828e\"],[0.5555555555555556,\"#1f9e89\"],[0.6666666666666666,\"#35b779\"],[0.7777777777777778,\"#6ece58\"],[0.8888888888888888,\"#b5de2b\"],[1.0,\"#fde725\"]],\"type\":\"histogram2d\"}],\"histogram\":[{\"marker\":{\"line\":{\"color\":\"white\",\"width\":0.6}},\"type\":\"histogram\"}],\"mesh3d\":[{\"colorbar\":{\"outlinewidth\":1,\"tickcolor\":\"rgb(36,36,36)\",\"ticks\":\"outside\"},\"type\":\"mesh3d\"}],\"parcoords\":[{\"line\":{\"colorbar\":{\"outlinewidth\":1,\"tickcolor\":\"rgb(36,36,36)\",\"ticks\":\"outside\"}},\"type\":\"parcoords\"}],\"pie\":[{\"automargin\":true,\"type\":\"pie\"}],\"scatter3d\":[{\"line\":{\"colorbar\":{\"outlinewidth\":1,\"tickcolor\":\"rgb(36,36,36)\",\"ticks\":\"outside\"}},\"marker\":{\"colorbar\":{\"outlinewidth\":1,\"tickcolor\":\"rgb(36,36,36)\",\"ticks\":\"outside\"}},\"type\":\"scatter3d\"}],\"scattercarpet\":[{\"marker\":{\"colorbar\":{\"outlinewidth\":1,\"tickcolor\":\"rgb(36,36,36)\",\"ticks\":\"outside\"}},\"type\":\"scattercarpet\"}],\"scattergeo\":[{\"marker\":{\"colorbar\":{\"outlinewidth\":1,\"tickcolor\":\"rgb(36,36,36)\",\"ticks\":\"outside\"}},\"type\":\"scattergeo\"}],\"scattergl\":[{\"marker\":{\"colorbar\":{\"outlinewidth\":1,\"tickcolor\":\"rgb(36,36,36)\",\"ticks\":\"outside\"}},\"type\":\"scattergl\"}],\"scattermapbox\":[{\"marker\":{\"colorbar\":{\"outlinewidth\":1,\"tickcolor\":\"rgb(36,36,36)\",\"ticks\":\"outside\"}},\"type\":\"scattermapbox\"}],\"scatterpolargl\":[{\"marker\":{\"colorbar\":{\"outlinewidth\":1,\"tickcolor\":\"rgb(36,36,36)\",\"ticks\":\"outside\"}},\"type\":\"scatterpolargl\"}],\"scatterpolar\":[{\"marker\":{\"colorbar\":{\"outlinewidth\":1,\"tickcolor\":\"rgb(36,36,36)\",\"ticks\":\"outside\"}},\"type\":\"scatterpolar\"}],\"scatter\":[{\"fillpattern\":{\"fillmode\":\"overlay\",\"size\":10,\"solidity\":0.2},\"type\":\"scatter\"}],\"scatterternary\":[{\"marker\":{\"colorbar\":{\"outlinewidth\":1,\"tickcolor\":\"rgb(36,36,36)\",\"ticks\":\"outside\"}},\"type\":\"scatterternary\"}],\"surface\":[{\"colorbar\":{\"outlinewidth\":1,\"tickcolor\":\"rgb(36,36,36)\",\"ticks\":\"outside\"},\"colorscale\":[[0.0,\"#440154\"],[0.1111111111111111,\"#482878\"],[0.2222222222222222,\"#3e4989\"],[0.3333333333333333,\"#31688e\"],[0.4444444444444444,\"#26828e\"],[0.5555555555555556,\"#1f9e89\"],[0.6666666666666666,\"#35b779\"],[0.7777777777777778,\"#6ece58\"],[0.8888888888888888,\"#b5de2b\"],[1.0,\"#fde725\"]],\"type\":\"surface\"}],\"table\":[{\"cells\":{\"fill\":{\"color\":\"rgb(237,237,237)\"},\"line\":{\"color\":\"white\"}},\"header\":{\"fill\":{\"color\":\"rgb(217,217,217)\"},\"line\":{\"color\":\"white\"}},\"type\":\"table\"}]},\"layout\":{\"annotationdefaults\":{\"arrowhead\":0,\"arrowwidth\":1},\"autotypenumbers\":\"strict\",\"coloraxis\":{\"colorbar\":{\"outlinewidth\":1,\"tickcolor\":\"rgb(36,36,36)\",\"ticks\":\"outside\"}},\"colorscale\":{\"diverging\":[[0.0,\"rgb(103,0,31)\"],[0.1,\"rgb(178,24,43)\"],[0.2,\"rgb(214,96,77)\"],[0.3,\"rgb(244,165,130)\"],[0.4,\"rgb(253,219,199)\"],[0.5,\"rgb(247,247,247)\"],[0.6,\"rgb(209,229,240)\"],[0.7,\"rgb(146,197,222)\"],[0.8,\"rgb(67,147,195)\"],[0.9,\"rgb(33,102,172)\"],[1.0,\"rgb(5,48,97)\"]],\"sequential\":[[0.0,\"#440154\"],[0.1111111111111111,\"#482878\"],[0.2222222222222222,\"#3e4989\"],[0.3333333333333333,\"#31688e\"],[0.4444444444444444,\"#26828e\"],[0.5555555555555556,\"#1f9e89\"],[0.6666666666666666,\"#35b779\"],[0.7777777777777778,\"#6ece58\"],[0.8888888888888888,\"#b5de2b\"],[1.0,\"#fde725\"]],\"sequentialminus\":[[0.0,\"#440154\"],[0.1111111111111111,\"#482878\"],[0.2222222222222222,\"#3e4989\"],[0.3333333333333333,\"#31688e\"],[0.4444444444444444,\"#26828e\"],[0.5555555555555556,\"#1f9e89\"],[0.6666666666666666,\"#35b779\"],[0.7777777777777778,\"#6ece58\"],[0.8888888888888888,\"#b5de2b\"],[1.0,\"#fde725\"]]},\"colorway\":[\"#1F77B4\",\"#FF7F0E\",\"#2CA02C\",\"#D62728\",\"#9467BD\",\"#8C564B\",\"#E377C2\",\"#7F7F7F\",\"#BCBD22\",\"#17BECF\"],\"font\":{\"color\":\"rgb(36,36,36)\"},\"geo\":{\"bgcolor\":\"white\",\"lakecolor\":\"white\",\"landcolor\":\"white\",\"showlakes\":true,\"showland\":true,\"subunitcolor\":\"white\"},\"hoverlabel\":{\"align\":\"left\"},\"hovermode\":\"closest\",\"mapbox\":{\"style\":\"light\"},\"paper_bgcolor\":\"white\",\"plot_bgcolor\":\"white\",\"polar\":{\"angularaxis\":{\"gridcolor\":\"rgb(232,232,232)\",\"linecolor\":\"rgb(36,36,36)\",\"showgrid\":false,\"showline\":true,\"ticks\":\"outside\"},\"bgcolor\":\"white\",\"radialaxis\":{\"gridcolor\":\"rgb(232,232,232)\",\"linecolor\":\"rgb(36,36,36)\",\"showgrid\":false,\"showline\":true,\"ticks\":\"outside\"}},\"scene\":{\"xaxis\":{\"backgroundcolor\":\"white\",\"gridcolor\":\"rgb(232,232,232)\",\"gridwidth\":2,\"linecolor\":\"rgb(36,36,36)\",\"showbackground\":true,\"showgrid\":false,\"showline\":true,\"ticks\":\"outside\",\"zeroline\":false,\"zerolinecolor\":\"rgb(36,36,36)\"},\"yaxis\":{\"backgroundcolor\":\"white\",\"gridcolor\":\"rgb(232,232,232)\",\"gridwidth\":2,\"linecolor\":\"rgb(36,36,36)\",\"showbackground\":true,\"showgrid\":false,\"showline\":true,\"ticks\":\"outside\",\"zeroline\":false,\"zerolinecolor\":\"rgb(36,36,36)\"},\"zaxis\":{\"backgroundcolor\":\"white\",\"gridcolor\":\"rgb(232,232,232)\",\"gridwidth\":2,\"linecolor\":\"rgb(36,36,36)\",\"showbackground\":true,\"showgrid\":false,\"showline\":true,\"ticks\":\"outside\",\"zeroline\":false,\"zerolinecolor\":\"rgb(36,36,36)\"}},\"shapedefaults\":{\"fillcolor\":\"black\",\"line\":{\"width\":0},\"opacity\":0.3},\"ternary\":{\"aaxis\":{\"gridcolor\":\"rgb(232,232,232)\",\"linecolor\":\"rgb(36,36,36)\",\"showgrid\":false,\"showline\":true,\"ticks\":\"outside\"},\"baxis\":{\"gridcolor\":\"rgb(232,232,232)\",\"linecolor\":\"rgb(36,36,36)\",\"showgrid\":false,\"showline\":true,\"ticks\":\"outside\"},\"bgcolor\":\"white\",\"caxis\":{\"gridcolor\":\"rgb(232,232,232)\",\"linecolor\":\"rgb(36,36,36)\",\"showgrid\":false,\"showline\":true,\"ticks\":\"outside\"}},\"title\":{\"x\":0.05},\"xaxis\":{\"automargin\":true,\"gridcolor\":\"rgb(232,232,232)\",\"linecolor\":\"rgb(36,36,36)\",\"showgrid\":false,\"showline\":true,\"ticks\":\"outside\",\"title\":{\"standoff\":15},\"zeroline\":false,\"zerolinecolor\":\"rgb(36,36,36)\"},\"yaxis\":{\"automargin\":true,\"gridcolor\":\"rgb(232,232,232)\",\"linecolor\":\"rgb(36,36,36)\",\"showgrid\":false,\"showline\":true,\"ticks\":\"outside\",\"title\":{\"standoff\":15},\"zeroline\":false,\"zerolinecolor\":\"rgb(36,36,36)\"}}},\"xaxis\":{\"showgrid\":true},\"yaxis\":{\"showgrid\":true,\"title\":{\"text\":\"Frequency\"}},\"title\":{\"font\":{\"size\":22,\"color\":\"Black\"},\"text\":\"<b>Topics over Time</b>\",\"y\":0.95,\"x\":0.4,\"xanchor\":\"center\",\"yanchor\":\"top\"},\"hoverlabel\":{\"font\":{\"size\":16,\"family\":\"Rockwell\"},\"bgcolor\":\"white\"},\"width\":1250,\"height\":450,\"legend\":{\"title\":{\"text\":\"<b>Global Topic Representation\"}}},                        {\"responsive\": true}                    ).then(function(){\n                            \nvar gd = document.getElementById('afcde1f4-55cc-49d9-a7cb-86111fe743de');\nvar x = new MutationObserver(function (mutations, observer) {{\n        var display = window.getComputedStyle(gd).display;\n        if (!display || display === 'none') {{\n            console.log([gd, 'removed!']);\n            Plotly.purge(gd);\n            observer.disconnect();\n        }}\n}});\n\n// Listen for the removal of the full notebook cells\nvar notebookContainer = gd.closest('#notebook-container');\nif (notebookContainer) {{\n    x.observe(notebookContainer, {childList: true});\n}}\n\n// Listen for the clearing of the current output cell\nvar outputEl = gd.closest('.output');\nif (outputEl) {{\n    x.observe(outputEl, {childList: true});\n}}\n\n                        })                };                });            </script>        </div>"
     },
     "metadata": {},
     "output_type": "display_data"
    }
   ],
   "source": [
    "img1 = topic_model.visualize_topics_over_time(topics_over_time, topics=[n+2 for n in range (5)])\n",
    "img1.show()\n",
    "\n",
    "file_html_name = \"plt\\\\plt_b_\" +  str(nr_bins) + \"_t_\" + str(top_n_topics) + \".html\"\n",
    "file_png_name = \"plt\\\\plt_b_\" +  str(nr_bins) + \"_t_\" + str(top_n_topics) + \".png\"\n",
    "# img.write_image(\"test.png\")\n",
    "img1.write_html(file_html_name)\n",
    "img1.write_image(file_png_name)"
   ],
   "metadata": {
    "collapsed": false,
    "ExecuteTime": {
     "end_time": "2023-06-26T09:56:07.924276200Z",
     "start_time": "2023-06-26T09:56:06.086776400Z"
    }
   }
  },
  {
   "cell_type": "code",
   "execution_count": 25,
   "outputs": [
    {
     "data": {
      "text/plain": "    Topic  Count                                               Name   \n0      -1   2714                       -1_fuzzy_paper_control_based  \\\n1       0   2421                            0_fuzzy_spaces_sets_set   \n2       1    560             1_control_controller_stability_systems   \n3       2    193     2_possibility_probability_measures_conditional   \n4       3    131                          3_ideals_ring_ideal_prime   \n..    ...    ...                                                ...   \n76     75     11  75_syntopogenous_structures_neighbourhood_topo...   \n77     76     11               76_control_refuse_process_controller   \n78     77     11                       77_points_planes_lines_point   \n79     78     11                   78_stopping_optimal_times_reward   \n80     79     11                      79_incorrect_buckley_note_pap   \n\n                                       Representation   \n0   [fuzzy, paper, control, based, proposed, model...  \\\n1   [fuzzy, spaces, sets, set, topological, paper,...   \n2   [control, controller, stability, systems, desi...   \n3   [possibility, probability, measures, condition...   \n4   [ideals, ring, ideal, prime, algebra, semigrou...   \n..                                                ...   \n76  [syntopogenous, structures, neighbourhood, top...   \n77  [control, refuse, process, controller, inciner...   \n78  [points, planes, lines, point, distance, space...   \n79  [stopping, optimal, times, reward, perceptive,...   \n80  [incorrect, buckley, note, pap, correct, syste...   \n\n                                  Representative_Docs  \n0   [data driven fuzzy modeling has been used in a...  \n1   [in this paper we establish a coincidence theo...  \n2   [in this paper the design problems of h output...  \n3   [the theory of possibility described in this p...  \n4   [the aim of this paper is to study fuzzy ideal...  \n..                                                ...  \n76  [initial fuzzy syntopogenous structures produc...  \n77  [this paper introduces a new fuzzy control tec...  \n78  [this paper provides a detailed analysis of fu...  \n79  [we formulate a stopping problem for dynamic f...  \n80  [this note points out that some results in the...  \n\n[81 rows x 5 columns]",
      "text/html": "<div>\n<style scoped>\n    .dataframe tbody tr th:only-of-type {\n        vertical-align: middle;\n    }\n\n    .dataframe tbody tr th {\n        vertical-align: top;\n    }\n\n    .dataframe thead th {\n        text-align: right;\n    }\n</style>\n<table border=\"1\" class=\"dataframe\">\n  <thead>\n    <tr style=\"text-align: right;\">\n      <th></th>\n      <th>Topic</th>\n      <th>Count</th>\n      <th>Name</th>\n      <th>Representation</th>\n      <th>Representative_Docs</th>\n    </tr>\n  </thead>\n  <tbody>\n    <tr>\n      <th>0</th>\n      <td>-1</td>\n      <td>2714</td>\n      <td>-1_fuzzy_paper_control_based</td>\n      <td>[fuzzy, paper, control, based, proposed, model...</td>\n      <td>[data driven fuzzy modeling has been used in a...</td>\n    </tr>\n    <tr>\n      <th>1</th>\n      <td>0</td>\n      <td>2421</td>\n      <td>0_fuzzy_spaces_sets_set</td>\n      <td>[fuzzy, spaces, sets, set, topological, paper,...</td>\n      <td>[in this paper we establish a coincidence theo...</td>\n    </tr>\n    <tr>\n      <th>2</th>\n      <td>1</td>\n      <td>560</td>\n      <td>1_control_controller_stability_systems</td>\n      <td>[control, controller, stability, systems, desi...</td>\n      <td>[in this paper the design problems of h output...</td>\n    </tr>\n    <tr>\n      <th>3</th>\n      <td>2</td>\n      <td>193</td>\n      <td>2_possibility_probability_measures_conditional</td>\n      <td>[possibility, probability, measures, condition...</td>\n      <td>[the theory of possibility described in this p...</td>\n    </tr>\n    <tr>\n      <th>4</th>\n      <td>3</td>\n      <td>131</td>\n      <td>3_ideals_ring_ideal_prime</td>\n      <td>[ideals, ring, ideal, prime, algebra, semigrou...</td>\n      <td>[the aim of this paper is to study fuzzy ideal...</td>\n    </tr>\n    <tr>\n      <th>...</th>\n      <td>...</td>\n      <td>...</td>\n      <td>...</td>\n      <td>...</td>\n      <td>...</td>\n    </tr>\n    <tr>\n      <th>76</th>\n      <td>75</td>\n      <td>11</td>\n      <td>75_syntopogenous_structures_neighbourhood_topo...</td>\n      <td>[syntopogenous, structures, neighbourhood, top...</td>\n      <td>[initial fuzzy syntopogenous structures produc...</td>\n    </tr>\n    <tr>\n      <th>77</th>\n      <td>76</td>\n      <td>11</td>\n      <td>76_control_refuse_process_controller</td>\n      <td>[control, refuse, process, controller, inciner...</td>\n      <td>[this paper introduces a new fuzzy control tec...</td>\n    </tr>\n    <tr>\n      <th>78</th>\n      <td>77</td>\n      <td>11</td>\n      <td>77_points_planes_lines_point</td>\n      <td>[points, planes, lines, point, distance, space...</td>\n      <td>[this paper provides a detailed analysis of fu...</td>\n    </tr>\n    <tr>\n      <th>79</th>\n      <td>78</td>\n      <td>11</td>\n      <td>78_stopping_optimal_times_reward</td>\n      <td>[stopping, optimal, times, reward, perceptive,...</td>\n      <td>[we formulate a stopping problem for dynamic f...</td>\n    </tr>\n    <tr>\n      <th>80</th>\n      <td>79</td>\n      <td>11</td>\n      <td>79_incorrect_buckley_note_pap</td>\n      <td>[incorrect, buckley, note, pap, correct, syste...</td>\n      <td>[this note points out that some results in the...</td>\n    </tr>\n  </tbody>\n</table>\n<p>81 rows × 5 columns</p>\n</div>"
     },
     "execution_count": 25,
     "metadata": {},
     "output_type": "execute_result"
    }
   ],
   "source": [
    "topic_model.get_topic_info()"
   ],
   "metadata": {
    "collapsed": false,
    "ExecuteTime": {
     "end_time": "2023-06-26T09:59:05.098361400Z",
     "start_time": "2023-06-26T09:59:05.053864400Z"
    }
   }
  },
  {
   "cell_type": "code",
   "execution_count": 10,
   "outputs": [
    {
     "data": {
      "text/plain": "<Figure size 640x480 with 1 Axes>",
      "image/png": "[encoded data removed]"
     },
     "metadata": {},
     "output_type": "display_data"
    }
   ],
   "source": [
    "from wordcloud import WordCloud\n",
    "import matplotlib.pyplot as plt\n",
    "\n",
    "def create_wordcloud(model, topic):\n",
    "    text = {word: value for word, value in model.get_topic(topic)}\n",
    "    wc = WordCloud(background_color=\"white\", max_words=1000)\n",
    "    wc.generate_from_frequencies(text)\n",
    "    plt.imshow(wc, interpolation=\"bilinear\")\n",
    "    plt.axis(\"off\")\n",
    "    plt.show()\n",
    "\n",
    "# Show wordcloud\n",
    "create_wordcloud(topic_model, topic=2)"
   ],
   "metadata": {
    "collapsed": false,
    "ExecuteTime": {
     "end_time": "2023-06-26T09:45:52.434727500Z",
     "start_time": "2023-06-26T09:45:52.277227100Z"
    }
   }
  },
  {
   "cell_type": "code",
   "execution_count": null,
   "outputs": [],
   "source": [],
   "metadata": {
    "collapsed": false
   }
  }
 ],
 "metadata": {
  "kernelspec": {
   "display_name": "Python 3",
   "language": "python",
   "name": "python3"
  },
  "language_info": {
   "codemirror_mode": {
    "name": "ipython",
    "version": 2
   },
   "file_extension": ".py",
   "mimetype": "text/x-python",
   "name": "python",
   "nbconvert_exporter": "python",
   "pygments_lexer": "ipython2",
   "version": "2.7.6"
  }
 },
 "nbformat": 4,
 "nbformat_minor": 0
}
