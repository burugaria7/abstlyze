{
 "cells": [
  {
   "cell_type": "code",
   "execution_count": 1,
   "metadata": {
    "collapsed": true,
    "ExecuteTime": {
     "end_time": "2023-10-02T16:30:46.106674900Z",
     "start_time": "2023-10-02T16:30:41.039175600Z"
    }
   },
   "outputs": [
    {
     "name": "stderr",
     "output_type": "stream",
     "text": [
      "C:\\Users\\Re\\Documents\\GitHub\\abstlyze\\venv\\lib\\site-packages\\umap\\distances.py:1063: NumbaDeprecationWarning: \u001B[1mThe 'nopython' keyword argument was not supplied to the 'numba.jit' decorator. The implicit default value for this argument is currently False, but it will be changed to True in Numba 0.59.0. See https://numba.readthedocs.io/en/stable/reference/deprecation.html#deprecation-of-object-mode-fall-back-behaviour-when-using-jit for details.\u001B[0m\n",
      "  @numba.jit()\n",
      "C:\\Users\\Re\\Documents\\GitHub\\abstlyze\\venv\\lib\\site-packages\\umap\\distances.py:1071: NumbaDeprecationWarning: \u001B[1mThe 'nopython' keyword argument was not supplied to the 'numba.jit' decorator. The implicit default value for this argument is currently False, but it will be changed to True in Numba 0.59.0. See https://numba.readthedocs.io/en/stable/reference/deprecation.html#deprecation-of-object-mode-fall-back-behaviour-when-using-jit for details.\u001B[0m\n",
      "  @numba.jit()\n",
      "C:\\Users\\Re\\Documents\\GitHub\\abstlyze\\venv\\lib\\site-packages\\umap\\distances.py:1086: NumbaDeprecationWarning: \u001B[1mThe 'nopython' keyword argument was not supplied to the 'numba.jit' decorator. The implicit default value for this argument is currently False, but it will be changed to True in Numba 0.59.0. See https://numba.readthedocs.io/en/stable/reference/deprecation.html#deprecation-of-object-mode-fall-back-behaviour-when-using-jit for details.\u001B[0m\n",
      "  @numba.jit()\n",
      "C:\\Users\\Re\\Documents\\GitHub\\abstlyze\\venv\\lib\\site-packages\\umap\\umap_.py:660: NumbaDeprecationWarning: \u001B[1mThe 'nopython' keyword argument was not supplied to the 'numba.jit' decorator. The implicit default value for this argument is currently False, but it will be changed to True in Numba 0.59.0. See https://numba.readthedocs.io/en/stable/reference/deprecation.html#deprecation-of-object-mode-fall-back-behaviour-when-using-jit for details.\u001B[0m\n",
      "  @numba.jit()\n"
     ]
    }
   ],
   "source": [
    "import re\n",
    "import pandas as pd\n",
    "import numpy as np\n",
    "\n",
    "from bertopic import BERTopic\n",
    "from sklearn.feature_extraction.text import CountVectorizer\n",
    "from sentence_transformers import SentenceTransformer\n",
    "from bertopic import BERTopic\n",
    "from umap import UMAP\n",
    "from bertopic.representation import MaximalMarginalRelevance\n",
    "\n",
    "import pathlib\n",
    "\n",
    "import plotly"
   ]
  },
  {
   "cell_type": "code",
   "execution_count": 3,
   "outputs": [
    {
     "name": "stdout",
     "output_type": "stream",
     "text": [
      "['a concept of multi valued cognitive maps is introduced in this paper the concept expands the fuzzy one however all variables and weights are not linearly ordered in the concept but are only partially ordered such an approach allows us to operate in cognitive maps with partially ordered linguistic variables directly without vague fuzzification defuzzification methods hence we may consider more subtle differences in degrees of experts uncertainty than in the fuzzy case we prove the convergence of such cognitive maps and give two simple computational examples which demonstrate using such a partially ordered uncertainty degree scale compared to the fuzzy case'\n",
      " 'in this paper we investigate the fixed time synchronization for fuzzy inertial neural networks with time varying coefficients and time delays the fuzzy inertial neural networks are transformed into two forms of first order differential systems and then two kinds of different controllers of time variable are designed in these schemes a series of novel criteria are proposed to ensure the fixed time synchronization for the drive response fuzzy inertial neural networks via state feedback control methods sufficient conditions of delay dependent and delay independent are obtained in terms of algebraic inequalities not the matrix inequalities moreover these new criteria allow the derivative of the lyapunov function can be positive but not negative definite as the earlier work and the algebraic conditions become easy to be tested under the new criteria finally two examples are added to illustrate effectiveness of the results we obtained meanwhile a new image encryption algorithm is proposed based on the synchronization of drive response networks and the effectiveness of this algorithm is also demonstrated'\n",
      " 'for most bayesian inference problems that are of interest solving for the model parameter posterior probability distribution remains to be the main challenge a typical technique entails using markov chain monte carlo mcmc in order to obtain an approximation of the posterior distribution however one drawback of mcmc is that it usually requires solving the forward problem multiple times which could be infeasible if the forward model is computationally expensive in this paper a computationally cheap surrogate model is developed using the adaptive neuro fuzzy inference system with a fuzzy c means initialization anfis fcm the optimal number of fuzzy rules is chosen via a proposed algorithm based on the pairing frequency clustering validity index the effectiveness of the anfis fcm model is tested on inferring reaction rate parameters in a node network toy problem which mimics idealized combustion reaction networks using multiple error measures it is shown that the developed anfis fcm model is capable of constructing accurate surrogate models at a minimal computational cost'\n",
      " ...\n",
      " 'in the recent past numerous models and methods have been suggested to solve the vectormaximum problem most of these approaches center their attention on linear programming problems with several objective functions apart from these approaches the theory of fuzzy sets has been employed to formulate and solve fuzzy linear programming problems this paper presents the application of fuzzy linear programming approaches to the linear vectormaximum problem it shows that solutions obtained by fuzzy linear programming are always efficient solutions it also shows the consequences of using different ways of combining individual objective functions in order to determine an optimal compromise solution'\n",
      " 'the complexity of experience acquired through our senses and as interpreted by our mind is fuzzy and must remain so as long as the meaning of things change as they are embedded in larger or different contexts to relate them to new ideas and new experiences here we give a method for measuring the relativity of fuzziness by structuring the functions of a system hierarchically in a multiple objective framework the method is based on computing the principal eigenvector of a positive matrix with reciprocal entries i e aji aij the eigenvector provides an estimate for an assumed underlying ratio scale for a single property the scale provides a measure of the grade of membership of elements in a fuzzy set according to that property and the departure of the eigenvalue from the dimension of the matrix serves as a measure of departure from consistency for a number of properties the principle of hierarchical composition enables us to compose the eigenvectors into a priority vector which measures the fuzziness of the elements in the lowest level of the hierarchy with respect to the relative dominance of the purposes or properties represented in the hierarchy'\n",
      " 'when r is a fuzzy relation between the elements of a finite set x the fuzzy subsets a of x such that r a a max min composition are called eigen fuzzy sets in this paper we describe algorithms for the determination of the greatest eigen fuzzy set associated with a given fuzzy relation thinking of medical diagnosis applications']\n"
     ]
    }
   ],
   "source": [
    "# Prepare data\n",
    "data_set_path = pathlib.Path(\"dataset/fsas/fsas_full_utf8_dated.csv\")\n",
    "trump = pd.read_csv(str(data_set_path))\n",
    "trump.abstract = trump.apply(lambda row: re.sub(r\"http\\S+\", \"\", row.abstract).lower(), 1)\n",
    "trump.abstract = trump.apply(lambda row: \" \".join(filter(lambda x: x[0] != \"@\", row.abstract.split())), 1)\n",
    "trump.abstract = trump.apply(lambda row: \" \".join(re.sub(\"[^a-zA-Z]+\", \" \", row.abstract).split()), 1)\n",
    "# trump = trump.loc[(trump.isRetweet == \"f\") & (trump.abstract != \"\"), :]\n",
    "timestamps = trump.date.to_list()\n",
    "abstracts = trump.abstract.to_list()\n",
    "\n",
    "data = abstracts\n",
    "\n",
    "arr_multi = np.array(abstracts)\n",
    "print(arr_multi)"
   ],
   "metadata": {
    "collapsed": false,
    "ExecuteTime": {
     "end_time": "2023-10-02T16:32:21.194372900Z",
     "start_time": "2023-10-02T16:32:20.616373400Z"
    }
   }
  },
  {
   "cell_type": "code",
   "execution_count": 8,
   "outputs": [],
   "source": [
    "from bertopic.representation import KeyBERTInspired\n",
    "from bertopic.vectorizers import ClassTfidfTransformer\n",
    "from hdbscan import HDBSCAN\n",
    "\n",
    "# Step 1 - Extract embeddings\n",
    "embedding_model = SentenceTransformer(\"all-MiniLM-L6-v2\")\n",
    "\n",
    "# Step 2 - Reduce dimensionality\n",
    "umap_model = UMAP(n_neighbors=15, n_components=5, min_dist=0.0, metric='cosine',\n",
    "                  # random_state=42,\n",
    "                  )\n",
    "\n",
    "# Step 3 - Cluster reduced embeddings\n",
    "hdbscan_model = HDBSCAN(min_cluster_size=15, metric='euclidean', cluster_selection_method='eom', prediction_data=True,\n",
    "                        min_samples=5)\n",
    "\n",
    "# Step 4 - Tokenize topics\n",
    "vectorizer_model = CountVectorizer(stop_words=\"english\")\n",
    "\n",
    "# Step 5 - Create topic representation\n",
    "ctfidf_model = ClassTfidfTransformer()\n",
    "\n",
    "# Step 6 - (Optional) Fine-tune topic representations with\n",
    "# a `bertopic.representation` model\n",
    "representation_model = KeyBERTInspired()\n",
    "\n",
    "topic_model = BERTopic(\n",
    "    embedding_model=embedding_model,  # Step 1 - Extract embeddings\n",
    "    umap_model=umap_model,  # Step 2 - Reduce dimensionality\n",
    "    hdbscan_model=hdbscan_model,  # Step 3 - Cluster reduced embeddings\n",
    "    vectorizer_model=vectorizer_model,  # Step 4 - Tokenize topics\n",
    "    ctfidf_model=ctfidf_model,  # Step 5 - Extract topic words\n",
    "    representation_model=representation_model,  # Step 6 - (Optional) Fine-tune topic represenations\n",
    "    min_topic_size=7  # Create more topics\n",
    ")\n",
    "\n",
    "topics, probs = topic_model.fit_transform(data)\n",
    "\n",
    "# Use the \"c-TF-IDF\" strategy with a threshold\n",
    "new_topics = topic_model.reduce_outliers(abstracts, topics, strategy=\"c-tf-idf\", threshold=0.1)\n",
    "\n",
    "# Reduce all outliers that are left with the \"distributions\" strategy\n",
    "new_topics = topic_model.reduce_outliers(abstracts, new_topics, strategy=\"distributions\")\n",
    "\n",
    "topic_model.update_topics(abstracts, topics=new_topics)"
   ],
   "metadata": {
    "collapsed": false,
    "ExecuteTime": {
     "end_time": "2023-10-02T17:03:44.393818100Z",
     "start_time": "2023-10-02T17:01:24.488317100Z"
    }
   }
  },
  {
   "cell_type": "code",
   "execution_count": 9,
   "outputs": [],
   "source": [
    "topic_model.update_topics(data, topics=new_topics)"
   ],
   "metadata": {
    "collapsed": false,
    "ExecuteTime": {
     "end_time": "2023-10-02T17:03:45.691816400Z",
     "start_time": "2023-10-02T17:03:44.394317600Z"
    }
   }
  },
  {
   "cell_type": "code",
   "execution_count": 10,
   "outputs": [
    {
     "data": {
      "text/plain": "     Topic  Count                                               Name   \n0        0    390          0_preference_decision_alternatives_making  \\\n1        1    459                    1_learning_neural_rules_network   \n2        2    183  2_differential_equations_solutions_differentia...   \n3        3    216  3_possibility_probability_conditional_possibil...   \n4        4    178                 4_clustering_cluster_clusters_data   \n..     ...    ...                                                ...   \n128    128     30     128_uncertainty_analysis_uncertain_engineering   \n129    129     24   129_quantum_measurements_observables_measurement   \n130    130     20          130_process_control_production_controller   \n131    131     25                 131_interpolation_spline_kh_points   \n132    132     22               132_risk_safety_incident_engineering   \n\n                                        Representation   \n0    [preference, decision, alternatives, making, c...  \\\n1    [learning, neural, rules, network, algorithm, ...   \n2    [differential, equations, solutions, different...   \n3    [possibility, probability, conditional, possib...   \n4    [clustering, cluster, clusters, data, algorith...   \n..                                                 ...   \n128  [uncertainty, analysis, uncertain, engineering...   \n129  [quantum, measurements, observables, measureme...   \n130  [process, control, production, controller, inc...   \n131  [interpolation, spline, kh, points, approximat...   \n132  [risk, safety, incident, engineering, civil, t...   \n\n                                   Representative_Docs  \n0    [the aim of this paper is to study the integra...  \n1    [this paper proposes various methods for const...  \n2    [the present paper is concerned with the solut...  \n3    [the theory of possibility described in this p...  \n4    [fuzzy clustering helps to find natural vague ...  \n..                                                 ...  \n128  [in many engineering practices with uncertaint...  \n129  [quantum structures are algebraic structures l...  \n130  [the objective of this paper is to study the r...  \n131  [in this paper we present an algorithm for rep...  \n132  [civil engineering projects and designs are co...  \n\n[133 rows x 5 columns]",
      "text/html": "<div>\n<style scoped>\n    .dataframe tbody tr th:only-of-type {\n        vertical-align: middle;\n    }\n\n    .dataframe tbody tr th {\n        vertical-align: top;\n    }\n\n    .dataframe thead th {\n        text-align: right;\n    }\n</style>\n<table border=\"1\" class=\"dataframe\">\n  <thead>\n    <tr style=\"text-align: right;\">\n      <th></th>\n      <th>Topic</th>\n      <th>Count</th>\n      <th>Name</th>\n      <th>Representation</th>\n      <th>Representative_Docs</th>\n    </tr>\n  </thead>\n  <tbody>\n    <tr>\n      <th>0</th>\n      <td>0</td>\n      <td>390</td>\n      <td>0_preference_decision_alternatives_making</td>\n      <td>[preference, decision, alternatives, making, c...</td>\n      <td>[the aim of this paper is to study the integra...</td>\n    </tr>\n    <tr>\n      <th>1</th>\n      <td>1</td>\n      <td>459</td>\n      <td>1_learning_neural_rules_network</td>\n      <td>[learning, neural, rules, network, algorithm, ...</td>\n      <td>[this paper proposes various methods for const...</td>\n    </tr>\n    <tr>\n      <th>2</th>\n      <td>2</td>\n      <td>183</td>\n      <td>2_differential_equations_solutions_differentia...</td>\n      <td>[differential, equations, solutions, different...</td>\n      <td>[the present paper is concerned with the solut...</td>\n    </tr>\n    <tr>\n      <th>3</th>\n      <td>3</td>\n      <td>216</td>\n      <td>3_possibility_probability_conditional_possibil...</td>\n      <td>[possibility, probability, conditional, possib...</td>\n      <td>[the theory of possibility described in this p...</td>\n    </tr>\n    <tr>\n      <th>4</th>\n      <td>4</td>\n      <td>178</td>\n      <td>4_clustering_cluster_clusters_data</td>\n      <td>[clustering, cluster, clusters, data, algorith...</td>\n      <td>[fuzzy clustering helps to find natural vague ...</td>\n    </tr>\n    <tr>\n      <th>...</th>\n      <td>...</td>\n      <td>...</td>\n      <td>...</td>\n      <td>...</td>\n      <td>...</td>\n    </tr>\n    <tr>\n      <th>128</th>\n      <td>128</td>\n      <td>30</td>\n      <td>128_uncertainty_analysis_uncertain_engineering</td>\n      <td>[uncertainty, analysis, uncertain, engineering...</td>\n      <td>[in many engineering practices with uncertaint...</td>\n    </tr>\n    <tr>\n      <th>129</th>\n      <td>129</td>\n      <td>24</td>\n      <td>129_quantum_measurements_observables_measurement</td>\n      <td>[quantum, measurements, observables, measureme...</td>\n      <td>[quantum structures are algebraic structures l...</td>\n    </tr>\n    <tr>\n      <th>130</th>\n      <td>130</td>\n      <td>20</td>\n      <td>130_process_control_production_controller</td>\n      <td>[process, control, production, controller, inc...</td>\n      <td>[the objective of this paper is to study the r...</td>\n    </tr>\n    <tr>\n      <th>131</th>\n      <td>131</td>\n      <td>25</td>\n      <td>131_interpolation_spline_kh_points</td>\n      <td>[interpolation, spline, kh, points, approximat...</td>\n      <td>[in this paper we present an algorithm for rep...</td>\n    </tr>\n    <tr>\n      <th>132</th>\n      <td>132</td>\n      <td>22</td>\n      <td>132_risk_safety_incident_engineering</td>\n      <td>[risk, safety, incident, engineering, civil, t...</td>\n      <td>[civil engineering projects and designs are co...</td>\n    </tr>\n  </tbody>\n</table>\n<p>133 rows × 5 columns</p>\n</div>"
     },
     "execution_count": 10,
     "metadata": {},
     "output_type": "execute_result"
    }
   ],
   "source": [
    "topic_model.get_topic_info()"
   ],
   "metadata": {
    "collapsed": false,
    "ExecuteTime": {
     "end_time": "2023-10-02T17:03:45.716815900Z",
     "start_time": "2023-10-02T17:03:45.692317Z"
    }
   }
  },
  {
   "cell_type": "code",
   "execution_count": null,
   "outputs": [],
   "source": [
    "doc_img = topic_model.visualize_documents(abstracts, hide_annotations=True, width=910,\n",
    "                                          height=585)\n",
    "doc_img.show()"
   ],
   "metadata": {
    "collapsed": false,
    "is_executing": true,
    "ExecuteTime": {
     "start_time": "2023-10-02T17:06:10.099664400Z"
    }
   }
  },
  {
   "cell_type": "code",
   "execution_count": null,
   "outputs": [],
   "source": [
    "sentence_model = SentenceTransformer(\"all-MiniLM-L6-v2\")\n",
    "embeddings = sentence_model.encode(abstracts, show_progress_bar=True)\n",
    "# We reduce our embeddings to 2D as it will allows us to quickly iterate later on\n",
    "reduced_embeddings = UMAP(n_neighbors=15, n_components=5, min_dist=0.0, metric='cosine',\n",
    "                          # random_state=42,\n",
    "                          ).fit_transform(embeddings)\n",
    "doc_plt = topic_model.visualize_documents(abstracts, reduced_embeddings=reduced_embeddings,\n",
    "                                          hide_document_hover=True, hide_annotations=True)\n",
    "doc_plt.show()"
   ],
   "metadata": {
    "collapsed": false
   }
  },
  {
   "cell_type": "code",
   "execution_count": null,
   "outputs": [],
   "source": [
    "distance_map = topic_model.visualize_topics()\n",
    "distance_map.show()"
   ],
   "metadata": {
    "collapsed": false
   }
  },
  {
   "cell_type": "code",
   "execution_count": null,
   "outputs": [],
   "source": [],
   "metadata": {
    "collapsed": false
   }
  }
 ],
 "metadata": {
  "kernelspec": {
   "display_name": "Python 3",
   "language": "python",
   "name": "python3"
  },
  "language_info": {
   "codemirror_mode": {
    "name": "ipython",
    "version": 2
   },
   "file_extension": ".py",
   "mimetype": "text/x-python",
   "name": "python",
   "nbconvert_exporter": "python",
   "pygments_lexer": "ipython2",
   "version": "2.7.6"
  }
 },
 "nbformat": 4,
 "nbformat_minor": 0
}
